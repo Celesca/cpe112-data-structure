{
 "cells": [
  {
   "cell_type": "code",
   "execution_count": 28,
   "metadata": {},
   "outputs": [],
   "source": [
    "#Module Practice Examination\n",
    "from CPE112_Module import Array2D\n",
    "\n",
    "class Exam_Module(Array2D):\n",
    "    # shape for isntance variable\n",
    "\n",
    "    '''\n",
    "    ในตัวแม่ (Array2D) มันรับมาสองตัว แต่เราอยากเพิ่มเติมเลยเขียนทับ แล้ว super เรียกตัวแม่ \n",
    "    แล้วเขียนเพิ่ม instant variables เพิ่ม\n",
    "        \n",
    "        def __init__(self,numRows,numCols):\n",
    "        self._theRows = Array(numRows)\n",
    "        for i in range(numRows):\n",
    "            self._theRows[i] = Array(numCols)\n",
    "    '''\n",
    "\n",
    "    def __init__(self,numRows,numCols):\n",
    "        super().__init__(numRows,numCols)\n",
    "        self._shape = numRows,numCols # instance Variables\n",
    "\n",
    "    '''\n",
    "    A = Array2D(2,3)\n",
    "    a_list = [ \n",
    "        [1,2,3] , \n",
    "        [4,5,6] ]\n",
    "    A.load(a_list)\n",
    "    '''\n",
    "\n",
    "    def load(self,a_list):\n",
    "        # Check Size of Array2D\n",
    "        list_row = len(a_list) # แถว \n",
    "        list_col = len(a_list[0]) # คอลัมน์\n",
    "        assert (list_row == self.numRows()) and (list_col == self.numCols()) , \"Size couldn't fit in the Array2D\"\n",
    "        \n",
    "        # ใส่เข้าไปในทุกช่อง\n",
    "        for i in range(list_row):\n",
    "            for j in range(list_col):\n",
    "                self[i,j] = a_list[i][j]\n",
    "        print(self)\n",
    "\n",
    "    def reshape(self,row,col):\n",
    "        # เช็คว่าขนาดในการ Reshape เท่ากันไหม\n",
    "        assert (row * col == self.numRows() * self.numCols()) , \"Size couldn't fit in the Array2D\"\n",
    "        \n",
    "        '''\n",
    "        Example : 2 x 3 -> 3 x 2\n",
    "        [ [1,2,3] , [4,5,6]] -> \n",
    "\n",
    "        [ [1,2] , [3,4] , [5,6]]\n",
    "\n",
    "        Keyword : เราจะยุบตัวต้นแบบให้มาเป็น list เดียว จากนั้นค่อยไล่ไปใน\n",
    "        Matrix ใหม่ตามตำแหน่ง แล้วค่อย Assign ค่ามันผ่าน Index ใน List เดี่ยว\n",
    "        \n",
    "        '''\n",
    "        \n",
    "        # 1 Solution - เข้าถึง matrix ก่อน แล้วดึงเข้า list เปล่า\n",
    "        number_list = []\n",
    "        for i in range(self.numRows()):\n",
    "            for j in range(self.numCols()):\n",
    "                number_list.append(self[i,j])\n",
    "\n",
    "        # 2 Solution - เข้าถึง Matrix รูปร่างใหม่ แล้ว Assign ค่าลงไปผ่าน list เดี่ยว (ใช้ index บวกไปเรื่อยๆ)\n",
    "        \n",
    "        newMatrix = Array2D(row,col)\n",
    "        ndx = 0\n",
    "\n",
    "        for i in range(row):\n",
    "            for j in range(col):\n",
    "                newMatrix[i,j] = number_list[ndx]\n",
    "                ndx += 1\n",
    "\n",
    "        return newMatrix"
   ]
  },
  {
   "cell_type": "code",
   "execution_count": 29,
   "metadata": {},
   "outputs": [
    {
     "name": "stdout",
     "output_type": "stream",
     "text": [
      "(2, 3)\n"
     ]
    }
   ],
   "source": [
    "myTest = Exam_Module(2,3)\n",
    "\n",
    "print(myTest._shape)"
   ]
  },
  {
   "cell_type": "code",
   "execution_count": 30,
   "metadata": {},
   "outputs": [
    {
     "name": "stdout",
     "output_type": "stream",
     "text": [
      "[ 1, 2, 3 ]\n",
      "[ 4, 5, 6 ]\n"
     ]
    }
   ],
   "source": [
    "a_list = [ [1,2,3] , [4,5,6] ]\n",
    "myTest.load(a_list)"
   ]
  },
  {
   "cell_type": "code",
   "execution_count": 31,
   "metadata": {},
   "outputs": [
    {
     "data": {
      "text/plain": [
       "[ 1, 2, 3 ]\n",
       "[ 4, 5, 6 ]"
      ]
     },
     "execution_count": 31,
     "metadata": {},
     "output_type": "execute_result"
    }
   ],
   "source": [
    "myTest"
   ]
  },
  {
   "cell_type": "code",
   "execution_count": 32,
   "metadata": {},
   "outputs": [
    {
     "data": {
      "text/plain": [
       "[ 1, 2 ]\n",
       "[ 3, 4 ]\n",
       "[ 5, 6 ]"
      ]
     },
     "execution_count": 32,
     "metadata": {},
     "output_type": "execute_result"
    }
   ],
   "source": [
    "myTest.reshape(3,2)"
   ]
  }
 ],
 "metadata": {
  "kernelspec": {
   "display_name": "Python 3",
   "language": "python",
   "name": "python3"
  },
  "language_info": {
   "codemirror_mode": {
    "name": "ipython",
    "version": 3
   },
   "file_extension": ".py",
   "mimetype": "text/x-python",
   "name": "python",
   "nbconvert_exporter": "python",
   "pygments_lexer": "ipython3",
   "version": "3.11.4"
  }
 },
 "nbformat": 4,
 "nbformat_minor": 2
}
