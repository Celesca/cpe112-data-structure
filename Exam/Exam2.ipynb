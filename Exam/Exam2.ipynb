{
 "cells": [
  {
   "cell_type": "code",
   "execution_count": null,
   "metadata": {},
   "outputs": [],
   "source": [
    "from CPE112_Module import Matrix\n",
    "\n",
    "class Exam2(Matrix):\n",
    "    # ผลรวมตามแนวทแยงมุม บนซ้ายไปล่างขวา คือ (0,0) + (1,1) + ...\n",
    "    def trace(self):\n",
    "        total = 0\n",
    "        for i in range(self.numRows()):\n",
    "            total += self[i,j]\n",
    "        return total\n",
    "    \n",
    "    def det(self):\n",
    "        # เช็คก่อนว่า 2x2 หรือ 3x3 ถ้าไม่ใช่ให้แจ้ง error\n",
    "        assert (self.numRows() == self.numCols() and self.numRows() == 2 or self.numRows() == 3) , \"Can't calculate\"\n",
    "        \n",
    "        # 2x2 Matrix Case\n",
    "        if (self.numRows() == 2 and self.numCols() == 2):\n",
    "            det_total = (self[0,0] * self[1,1]) - (self[0,1] * self[1,0])\n",
    "            return det_total\n",
    "        # 3x3 Matrix Case\n",
    "        else:\n",
    "            # เขียนตรงๆ ทึกตายเลย เอาแนวทแยงมุมเอา เริ่มจากด้านบวก คูณลง\n",
    "            plus_total = 0\n",
    "            for i in range(3):\n",
    "                plus_total += self[i,i] * self[(i+1)%3, (i+1)%3 ] * self[(i+2)%3 , (i+2)%3]\n",
    "            minus_total = 0\n",
    "            \n",
    "            for i in range(3):\n",
    "                "
   ]
  }
 ],
 "metadata": {
  "language_info": {
   "name": "python"
  }
 },
 "nbformat": 4,
 "nbformat_minor": 2
}
