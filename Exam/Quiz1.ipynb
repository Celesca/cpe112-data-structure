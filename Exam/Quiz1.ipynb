{
 "cells": [
  {
   "cell_type": "code",
   "execution_count": 1,
   "metadata": {},
   "outputs": [],
   "source": [
    "class shape():\n",
    "    def __init__(self):\n",
    "        self.perimeter = None\n",
    "        self.area = None\n",
    "        self.color = \"black\"\n",
    "\n",
    "    def detail(self):\n",
    "        print(self.perimeter,self.area,self.color)\n",
    "\n",
    "class circle(shape):\n",
    "    def __init__(self,radius):\n",
    "        super().__init__()\n",
    "        self.perimeter = 2* 3.14 * radius\n",
    "        self.area = 3.14*radius**2\n",
    "\n",
    "class square(shape):\n",
    "    def __init__(self,Lenside):\n",
    "        super().__init__()\n",
    "        self.perimeter = 4 * Lenside\n",
    "        self.area = Lenside**2\n",
    "\n",
    "class line(shape):\n",
    "    def __init__(self,length):\n",
    "        super().__init__()\n",
    "        self.length = length\n",
    "\n",
    "    def detail(self):\n",
    "        print(self.length,self.color)"
   ]
  },
  {
   "cell_type": "code",
   "execution_count": 2,
   "metadata": {},
   "outputs": [
    {
     "name": "stdout",
     "output_type": "stream",
     "text": [
      "18.84 28.26 black\n"
     ]
    }
   ],
   "source": [
    "a = circle(3)\n",
    "a.detail()"
   ]
  },
  {
   "cell_type": "code",
   "execution_count": 3,
   "metadata": {},
   "outputs": [
    {
     "name": "stdout",
     "output_type": "stream",
     "text": [
      "16 16 black\n"
     ]
    }
   ],
   "source": [
    "b = square(4)\n",
    "b.detail()"
   ]
  },
  {
   "cell_type": "code",
   "execution_count": 4,
   "metadata": {},
   "outputs": [
    {
     "name": "stdout",
     "output_type": "stream",
     "text": [
      "7 black\n"
     ]
    }
   ],
   "source": [
    "c = line(7)\n",
    "c.detail()"
   ]
  },
  {
   "cell_type": "code",
   "execution_count": 5,
   "metadata": {},
   "outputs": [
    {
     "name": "stdout",
     "output_type": "stream",
     "text": [
      "5 red\n"
     ]
    }
   ],
   "source": [
    "d = line(5)\n",
    "d.color = \"red\"\n",
    "d.detail()"
   ]
  },
  {
   "cell_type": "code",
   "execution_count": null,
   "metadata": {},
   "outputs": [],
   "source": []
  }
 ],
 "metadata": {
  "kernelspec": {
   "display_name": "Python 3",
   "language": "python",
   "name": "python3"
  },
  "language_info": {
   "codemirror_mode": {
    "name": "ipython",
    "version": 3
   },
   "file_extension": ".py",
   "mimetype": "text/x-python",
   "name": "python",
   "nbconvert_exporter": "python",
   "pygments_lexer": "ipython3",
   "version": "3.11.4"
  },
  "orig_nbformat": 4
 },
 "nbformat": 4,
 "nbformat_minor": 2
}
