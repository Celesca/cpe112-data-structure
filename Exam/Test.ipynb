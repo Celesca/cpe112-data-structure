{
 "cells": [
  {
   "cell_type": "code",
   "execution_count": 8,
   "metadata": {},
   "outputs": [],
   "source": [
    "class Animal():\n",
    "    all_animal = []\n",
    "    def __init__(self,x,y):\n",
    "        self.name = x\n",
    "        self.height = y\n",
    "\n",
    "    def showname(self):\n",
    "        print(self.name , self.height)\n",
    "\n",
    "\n",
    "\n",
    "Folk = Animal(\"Folk\" , \"150\")\n",
    "Elephant = Animal(\"Kankluay\",\"160\")\n",
    "Cat = Animal(\"Seepane\" , \"150m\")"
   ]
  },
  {
   "cell_type": "code",
   "execution_count": 9,
   "metadata": {},
   "outputs": [
    {
     "name": "stdout",
     "output_type": "stream",
     "text": [
      "Folk 150\n"
     ]
    }
   ],
   "source": [
    "Folk.showname();"
   ]
  },
  {
   "cell_type": "code",
   "execution_count": 4,
   "metadata": {},
   "outputs": [],
   "source": [
    "class Girl:\n",
    "    def __init__(self, x , y):\n",
    "        self.bf_name = x\n",
    "        self.boob_size = y"
   ]
  },
  {
   "cell_type": "markdown",
   "metadata": {},
   "source": [
    "นี้คือคลาสผู้หญิง"
   ]
  },
  {
   "cell_type": "code",
   "execution_count": 5,
   "metadata": {},
   "outputs": [],
   "source": [
    "Kaew = Girl(\"Folk\", 56)"
   ]
  },
  {
   "cell_type": "code",
   "execution_count": 6,
   "metadata": {},
   "outputs": [
    {
     "data": {
      "text/plain": [
       "56"
      ]
     },
     "execution_count": 6,
     "metadata": {},
     "output_type": "execute_result"
    }
   ],
   "source": []
  },
  {
   "cell_type": "markdown",
   "metadata": {},
   "source": [
    "Inheritance (การสืบทอด)"
   ]
  },
  {
   "cell_type": "code",
   "execution_count": 10,
   "metadata": {},
   "outputs": [],
   "source": [
    "class Father:\n",
    "    def __init__(self, name):\n",
    "        self.Fathername = name"
   ]
  },
  {
   "cell_type": "code",
   "execution_count": 11,
   "metadata": {},
   "outputs": [],
   "source": []
  },
  {
   "cell_type": "code",
   "execution_count": 23,
   "metadata": {},
   "outputs": [],
   "source": [
    "class Student:\n",
    "    def __init__(self , username , password):\n",
    "        self.username = username\n",
    "        self.password = password\n",
    "    def showData(self):\n",
    "        print(self.username , self.password)"
   ]
  },
  {
   "cell_type": "code",
   "execution_count": 24,
   "metadata": {},
   "outputs": [],
   "source": [
    "Punchaya = Student(\"pi\",1234)"
   ]
  },
  {
   "cell_type": "code",
   "execution_count": 26,
   "metadata": {},
   "outputs": [
    {
     "name": "stdout",
     "output_type": "stream",
     "text": [
      "pi 1234\n"
     ]
    }
   ],
   "source": [
    "Punchaya.showData()"
   ]
  },
  {
   "cell_type": "code",
   "execution_count": 32,
   "metadata": {},
   "outputs": [],
   "source": [
    "class Teacher(Student):\n",
    "    def showData(self): # Overriding\n",
    "        print(\"อันนี้เปลี่ยนเรียบร้อย\")\n",
    "    def hello(self):\n",
    "        print(\"Hello World\")"
   ]
  },
  {
   "cell_type": "code",
   "execution_count": 33,
   "metadata": {},
   "outputs": [],
   "source": [
    "Pim = Teacher(\"pimlada\", 2564)"
   ]
  },
  {
   "cell_type": "code",
   "execution_count": 34,
   "metadata": {},
   "outputs": [
    {
     "name": "stdout",
     "output_type": "stream",
     "text": [
      "อันนี้เปลี่ยนเรียบร้อย\n"
     ]
    }
   ],
   "source": [
    "Pim.showData()"
   ]
  },
  {
   "cell_type": "code",
   "execution_count": 35,
   "metadata": {},
   "outputs": [
    {
     "name": "stdout",
     "output_type": "stream",
     "text": [
      "Hello World\n"
     ]
    }
   ],
   "source": [
    "Pim.hello()"
   ]
  },
  {
   "cell_type": "code",
   "execution_count": null,
   "metadata": {},
   "outputs": [],
   "source": [
    "Multiple Inheritance\n",
    "class Nong(Teacher,Student):"
   ]
  },
  {
   "cell_type": "code",
   "execution_count": 46,
   "metadata": {},
   "outputs": [],
   "source": [
    "class Knight(): # Protected (_) => เข้าถึงได้ ทั้งคลาสแม่ คลาสลูก\n",
    "    def __init__(self ,name):\n",
    "        self._name = name\n",
    "    def showData(self):\n",
    "        print(self._name)"
   ]
  },
  {
   "cell_type": "code",
   "execution_count": 47,
   "metadata": {},
   "outputs": [],
   "source": [
    "Object1 = Knight(\"John Wick\")"
   ]
  },
  {
   "cell_type": "code",
   "execution_count": 48,
   "metadata": {},
   "outputs": [
    {
     "name": "stdout",
     "output_type": "stream",
     "text": [
      "John Wick\n"
     ]
    }
   ],
   "source": [
    "Object1.showData()"
   ]
  }
 ],
 "metadata": {
  "kernelspec": {
   "display_name": "Python 3",
   "language": "python",
   "name": "python3"
  },
  "language_info": {
   "codemirror_mode": {
    "name": "ipython",
    "version": 3
   },
   "file_extension": ".py",
   "mimetype": "text/x-python",
   "name": "python",
   "nbconvert_exporter": "python",
   "pygments_lexer": "ipython3",
   "version": "3.11.4"
  },
  "orig_nbformat": 4
 },
 "nbformat": 4,
 "nbformat_minor": 2
}
