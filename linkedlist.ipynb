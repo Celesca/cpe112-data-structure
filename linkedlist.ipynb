{
 "cells": [
  {
   "cell_type": "markdown",
   "metadata": {},
   "source": [
    "### Implementation of the Singly linked lists.\n",
    "**Singly Linked-List ADT** <br>\n",
    "Singly Linked List is linked list that are a collection of Nodes. By each nodes contain the data part and the pointer part. The nodes can be accessed in a sequential way, a single link to next node with the next pointer to create a sequential data structure.\n",
    "\n",
    "| properties/methods    | description    |\n",
    "| --- | --- | \n",
    "| Single_Linked_list() | create a new single linked list without any node |\n",
    "| prepend(item) | add a new node to the head of linked list |\n",
    "| append(item) | add a new node to the tail of linked list |\n",
    "| traverse() | print all contained data in linked list |\n",
    "| search(target) | return True if target item was found in linked list, return False if target item was not in linked list | \n",
    "| remove(target | remove the first found target from linked list |\n",
    "| isEmpty() | return True if the linked list has no node and return False if not\n",
    "| length() | return the number of node contained in Linked list\n"
   ]
  },
  {
   "cell_type": "code",
   "execution_count": 10,
   "metadata": {},
   "outputs": [],
   "source": [
    "class _SlinkNode:\n",
    "    def __init__(self,item):\n",
    "        self._item = item\n",
    "        self._next = None\n",
    "#-------------------------------\n",
    "class SLinkedlist:\n",
    "    def __init__(self):\n",
    "        self._head = None\n",
    "        self._tail = None\n",
    "        self._size = 0\n",
    "\n",
    "    def __len__(self):\n",
    "        return self._size\n",
    "\n",
    "    def prepend(self,item):\n",
    "        newNode = _SlinkNode(item) #1\n",
    "        if self.isEmpty():\n",
    "            self._tail = newNode\n",
    "        else:\n",
    "            newNode._next = self._head #2\n",
    "        self._head = newNode #3\n",
    "        self._size += 1\n",
    "\n",
    "    def append(self,item):\n",
    "        newNode = _SlinkNode(item)\n",
    "        if self.isEmpty():\n",
    "            self._head = newNode\n",
    "        else:\n",
    "            self._tail._next = newNode\n",
    "        self._tail = newNode\n",
    "        self._size += 1\n",
    "\n",
    "    def __contains__(self, target):\n",
    "        curNode = self._head\n",
    "        while curNode is not None and curNode._item != target:\n",
    "            curNode = curNode._next\n",
    "        return curNode is not None\n",
    "    \n",
    "    def isEmpty(self):\n",
    "        return len(self) == 0\n",
    "\n",
    "    def remove(self,item):\n",
    "        predNode = None\n",
    "        curNode = self._head\n",
    "        while curNode is not None and curNode._item != item:\n",
    "            predNode = curNode\n",
    "            curNode = curNode._next\n",
    "            #print(\"Now predNode is {0} and curNode is {1}\".format(predNode._item,curNode._item))\n",
    "        assert curNode is not None, \"The item must be in this linked list\"\n",
    "        self._size -= 1\n",
    "\n",
    "        if curNode is self._head:\n",
    "            self._head = curNode._next\n",
    "        # do not remember if curNode = self._tail\n",
    "        # shift tail to predNode\n",
    "        elif curNode is self._tail:\n",
    "            self._tail = predNode\n",
    "            self._tail._next = None\n",
    "        else:\n",
    "            predNode._next = curNode._next\n",
    "        return curNode._item\n",
    "\n",
    "    def __iter__(self):\n",
    "        self._curNode = self._head\n",
    "        return self\n",
    "\n",
    "    def __next__(self):\n",
    "        if self._curNode is None:\n",
    "            raise StopIteration\n",
    "        else:\n",
    "            item = self._curNode._item\n",
    "            self._curNode = self._curNode._next\n",
    "            return item\n",
    "    \n",
    "    def __repr__(self):\n",
    "        curNode = self._head\n",
    "        s = \"[\"\n",
    "        while curNode is not None:\n",
    "            s = s + str(curNode._item)+ \"->\"\n",
    "            curNode = curNode._next\n",
    "        s = s[:-2] + \"]\"\n",
    "        return s\n"
   ]
  },
  {
   "cell_type": "code",
   "execution_count": 11,
   "metadata": {},
   "outputs": [],
   "source": [
    "A = SLinkedlist()"
   ]
  },
  {
   "cell_type": "code",
   "execution_count": 12,
   "metadata": {},
   "outputs": [
    {
     "data": {
      "text/plain": [
       "[10->30->20]"
      ]
     },
     "execution_count": 12,
     "metadata": {},
     "output_type": "execute_result"
    }
   ],
   "source": [
    "A.prepend(20)\n",
    "A.prepend(30)\n",
    "A.prepend(10)\n",
    "A"
   ]
  },
  {
   "cell_type": "code",
   "execution_count": 13,
   "metadata": {},
   "outputs": [
    {
     "data": {
      "text/plain": [
       "[10->30->20->100]"
      ]
     },
     "execution_count": 13,
     "metadata": {},
     "output_type": "execute_result"
    }
   ],
   "source": [
    "A.append(100)\n",
    "A"
   ]
  },
  {
   "cell_type": "code",
   "execution_count": 14,
   "metadata": {},
   "outputs": [
    {
     "data": {
      "text/plain": [
       "[10->30->20->100->200->300->500]"
      ]
     },
     "execution_count": 14,
     "metadata": {},
     "output_type": "execute_result"
    }
   ],
   "source": [
    "A.append(200)\n",
    "A.append(300)\n",
    "A.append(500)\n",
    "A"
   ]
  },
  {
   "cell_type": "code",
   "execution_count": 15,
   "metadata": {},
   "outputs": [
    {
     "data": {
      "text/plain": [
       "[10->30->100->200->300->500]"
      ]
     },
     "execution_count": 15,
     "metadata": {},
     "output_type": "execute_result"
    }
   ],
   "source": [
    "A.remove(20)\n",
    "A"
   ]
  },
  {
   "cell_type": "code",
   "execution_count": 16,
   "metadata": {},
   "outputs": [
    {
     "data": {
      "text/plain": [
       "10"
      ]
     },
     "execution_count": 16,
     "metadata": {},
     "output_type": "execute_result"
    }
   ],
   "source": [
    "A.remove(10)"
   ]
  },
  {
   "cell_type": "code",
   "execution_count": 17,
   "metadata": {},
   "outputs": [
    {
     "data": {
      "text/plain": [
       "[30->100->200->300->500]"
      ]
     },
     "execution_count": 17,
     "metadata": {},
     "output_type": "execute_result"
    }
   ],
   "source": [
    "A"
   ]
  },
  {
   "cell_type": "code",
   "execution_count": 18,
   "metadata": {},
   "outputs": [
    {
     "data": {
      "text/plain": [
       "[30->100->200->300]"
      ]
     },
     "execution_count": 18,
     "metadata": {},
     "output_type": "execute_result"
    }
   ],
   "source": [
    "A.remove(500)\n",
    "A"
   ]
  },
  {
   "cell_type": "code",
   "execution_count": 19,
   "metadata": {},
   "outputs": [
    {
     "data": {
      "text/plain": [
       "[30->100->200->300->200]"
      ]
     },
     "execution_count": 19,
     "metadata": {},
     "output_type": "execute_result"
    }
   ],
   "source": [
    "A.append(200)\n",
    "A"
   ]
  },
  {
   "cell_type": "code",
   "execution_count": 20,
   "metadata": {},
   "outputs": [
    {
     "data": {
      "text/plain": [
       "[50->30->100->200->300->200]"
      ]
     },
     "execution_count": 20,
     "metadata": {},
     "output_type": "execute_result"
    }
   ],
   "source": [
    "A.prepend(50)\n",
    "A"
   ]
  },
  {
   "cell_type": "code",
   "execution_count": 21,
   "metadata": {},
   "outputs": [
    {
     "data": {
      "text/plain": [
       "[20->50->30->100->200->300->200]"
      ]
     },
     "execution_count": 21,
     "metadata": {},
     "output_type": "execute_result"
    }
   ],
   "source": [
    "A.prepend(20)\n",
    "A"
   ]
  },
  {
   "cell_type": "code",
   "execution_count": 22,
   "metadata": {},
   "outputs": [
    {
     "data": {
      "text/plain": [
       "7"
      ]
     },
     "execution_count": 22,
     "metadata": {},
     "output_type": "execute_result"
    }
   ],
   "source": [
    "len(A)"
   ]
  },
  {
   "cell_type": "code",
   "execution_count": 23,
   "metadata": {},
   "outputs": [
    {
     "data": {
      "text/plain": [
       "True"
      ]
     },
     "execution_count": 23,
     "metadata": {},
     "output_type": "execute_result"
    }
   ],
   "source": [
    "200 in A"
   ]
  },
  {
   "cell_type": "code",
   "execution_count": 24,
   "metadata": {},
   "outputs": [
    {
     "data": {
      "text/plain": [
       "False"
      ]
     },
     "execution_count": 24,
     "metadata": {},
     "output_type": "execute_result"
    }
   ],
   "source": [
    "10 in A"
   ]
  },
  {
   "cell_type": "code",
   "execution_count": 25,
   "metadata": {},
   "outputs": [
    {
     "data": {
      "text/plain": [
       "[20->50->30->100->200->300->200]"
      ]
     },
     "execution_count": 25,
     "metadata": {},
     "output_type": "execute_result"
    }
   ],
   "source": [
    "A"
   ]
  },
  {
   "cell_type": "code",
   "execution_count": 26,
   "metadata": {},
   "outputs": [
    {
     "name": "stdout",
     "output_type": "stream",
     "text": [
      "20\n",
      "50\n",
      "30\n",
      "100\n",
      "200\n",
      "300\n",
      "200\n"
     ]
    }
   ],
   "source": [
    "for a in A:\n",
    "    print(a)"
   ]
  },
  {
   "cell_type": "markdown",
   "metadata": {},
   "source": [
    "### Implementation of Doubly Linked List"
   ]
  },
  {
   "cell_type": "code",
   "execution_count": null,
   "metadata": {},
   "outputs": [],
   "source": [
    "class _DLinkNode(object):\n",
    "    def __init__(self,item,prev,next):\n",
    "        self._item = item\n",
    "        self._prev = prev\n",
    "        self._next = next\n",
    "\n",
    "class DLinkedList:\n",
    "    # Construct an empty Deque.\n",
    "    def __init__(self):\n",
    "        self._header = _DLinkNode(None,None,None)\n",
    "        self._trailer = _DLinkNode(None,None,None)\n",
    "        self._header._next = self._trailer\n",
    "        self._trailer._prev = self._header\n",
    "        self._size = 0\n",
    "    \n",
    "    def insert_between(self,item,predecessor,successor):\n",
    "        newNode = _DLinkNode(item,predecessor,successor)\n",
    "        predecessor._next = newNode\n",
    "        successor._prev = newNode\n",
    "        self._size += 1\n",
    "    \n",
    "    def delete_node(self,node):\n",
    "        predecessor = node._prev\n",
    "        successor = node._next\n",
    "        predecessor._next = successor\n",
    "        successor._prev = predecessor\n",
    "        self._size -= 1\n",
    "        item = node._item\n",
    "        node._prev = node._next = node._item = None\n",
    "        return item"
   ]
  },
  {
   "cell_type": "code",
   "execution_count": null,
   "metadata": {},
   "outputs": [],
   "source": []
  }
 ],
 "metadata": {
  "kernelspec": {
   "display_name": "Python 3.10.2 64-bit",
   "language": "python",
   "name": "python3"
  },
  "language_info": {
   "codemirror_mode": {
    "name": "ipython",
    "version": 3
   },
   "file_extension": ".py",
   "mimetype": "text/x-python",
   "name": "python",
   "nbconvert_exporter": "python",
   "pygments_lexer": "ipython3",
   "version": "3.10.2"
  },
  "orig_nbformat": 4,
  "vscode": {
   "interpreter": {
    "hash": "aee8b7b246df8f9039afb4144a1f6fd8d2ca17a180786b69acc140d282b71a49"
   }
  }
 },
 "nbformat": 4,
 "nbformat_minor": 2
}
