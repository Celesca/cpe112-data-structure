{
 "cells": [
  {
   "cell_type": "markdown",
   "metadata": {},
   "source": [
    "![AlternativeLogo-eng.png](data:image/png;base64,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)"
   ]
  },
  {
   "attachments": {},
   "cell_type": "markdown",
   "metadata": {},
   "source": [
    "# CPE112: Programming with Data Structures\n",
    "# Assignment1 Array 2D-Array and Matrix"
   ]
  },
  {
   "cell_type": "markdown",
   "metadata": {},
   "source": [
    "<h1 style=\"background:white; text-align:center; padding: 10px; color: blue; border-radius: 10px;\">สิ่งที่ได้เรียนจากในคาบ</h1>"
   ]
  },
  {
   "cell_type": "markdown",
   "metadata": {},
   "source": [
    "* Array ADT คืออะไร <br><br>\n",
    "  <span>- </span>Array ADT คือ อาร์เรย์ หรือชุดข้อมูลที่มีความต่อเนื่องของข้อมูลโดยเก็บเป็นแพ็คต่อกัน ซึ่งเราจะเรียกว่า Sequential data type หรือลำดับที่ต่อเนื่องกัน เข้าถึงข้อมูลโดยอ้างอิงตัวเลขอินเด็กซ์ (Subscript) ที่เริ่มจาก 0 <br>\n",
    "  <span>- </span>หลักการเก็บข้อมูล ภายใน Memory Address คือจำเป็นต้อง <span style=\"font-weight:bold; color:red;\">กำหนดขนาดของ Array</span> ก่อนการใช้งานเพื่อจองเนื้อที่\n",
    "  <br> <span>- </span>พบในภาษา C, C++ หรือ Java\n",
    "  \n",
    "* Dynamic Array คืออะไร <br><br>\n",
    "  <span>- </span>Dynamic Array คือ อาร์เรย์ที่มีความยืดหยุ่น ไม่จำเป็นต้องจองเนื้อที่ตอนเริ่มต้น โดยจะกำหนดขนาดอัตโนมัติตามจำนวนข้อมูลที่ใส่เข้ามา<br>\n",
    "  <span>- </span>Dynamic Array <span style=\"font-weight:bold; color:red;\">มีการจอง Memory มากกว่า Array ถึง 4-5 เท่า </span>เนื่องจากหลักการของมันคือ เมื่อพบว่าขนาดของ Array เต็มมันจะสร้าง Array ใหม่ที่มีพื้นที่เป็น 2 เท่าของอันเก่า แล้วย้ายข้อมูลมา Array ใหม่เพื่อที่จะมีเนื้อที่ว่างสำหรับการใส่ข้อมูลเพิ่มมาอีก\n",
    "  <br> <span>- </span>พบเป็น built-in Data structure ในภาษา Dynamic Language เช่น Python , JavaScript\n",
    "  \n",
    "* การเลือกใช้งานและความแตกต่างระหว่าง Array กับ Dynamic Array<br><br>\n",
    "  <span>- </span> Array นั้นควรเลือกใช้งานเมื่อเรารู้ขนาดของ Array อย่างชัดเจน เนื่องจาก Dynamic Array มีการใช้ Memory มากกว่า 4-5 เท่า แต่ Array นั้นมี Method หรือ Operation ที่น้อยกว่า Dynamic Array<br>\n",
    "  <span>- </span> Dynamic Array ควรเลือกใช้งานเมื่อขนาดของ Array ไม่แน่นอนหรือมีการเปลี่ยนแปลง\n",
    "\n",
    "* เบื้องหลังของการทำงาน Method ของ Python's List<br><br>\n",
    "  <span>- </span> Extend the list - หรือการนำ List มาต่อ List โดยเบื้องหลังการทำงาน มันจะเช็คพื้นที่ของ List ที่ต้องการจะต่อก่อน แล้วจึงจองเนื้อที่เพิ่มถ้าหากมันไม่พอ<br>\n",
    "  <span>- </span> Insert an element to the list - หรือการนำข้อมูลไปใส่ในตำแหน่งที่กำหนด เบื้องหลังการทำงานคือมันจะไล่มาจากด้านหลังของ List ก่อน แล้วเลื่อนข้อมูลให้ไปอยู่ในตำแหน่งที่มากขึ้นทุกตัว จากนั้นเมื่อถึงตำแหน่งก็ใส่ข้อมูลใหม่เข้าไป\n"
   ]
  },
  {
   "cell_type": "markdown",
   "metadata": {},
   "source": [
    "***"
   ]
  },
  {
   "cell_type": "markdown",
   "metadata": {},
   "source": [
    "### Implements the Array ADT using array capabilities of the ctypes module."
   ]
  },
  {
   "cell_type": "markdown",
   "metadata": {},
   "source": [
    "**Array ADT**  \n",
    "A one-dimensional array is a collection of contiguous elements in which individual elements are identified by a unique integer subscript starting with zero. Once an array is created, its size cannot be changed.  \n",
    "| properties/methods    | description    |\n",
    "| --- | --- |  \n",
    "| __Array(size)__ : | Creates a one-dimensional array consisting of size elements with each element initially set to None. Size must be greater than zero |  \n",
    "| __`__`len( )`__`__: | Returns the length of number of elements in the array |   \n",
    "| __`__`getitem`__`(index)__: | Returns the value stored in the array at element position index. The index argument must be with in the valid range. Accessed using the subscript operator |  \n",
    "| __`__`setitem`__`(index, value)__: | Modifies the contents of the array element at position index to contain value. The index must be within the valid range. Accessed using the subscript operator |    \n",
    "| __clear(value)__: | Clears the array by setting every element to value  |  \n",
    "| __`__`iter( )`__`__: | Creates and returns an iterator that can be used to traverse the elements of the array |\n",
    "| __`__`next( )`__`__: |Return the next item for next iteration |\n",
    "| __`__`repr( )`__`__: |Return all value in stored in the array as a string to represent this object |"
   ]
  },
  {
   "cell_type": "markdown",
   "metadata": {},
   "source": [
    "## <span style=\"color:red\"> Practice1: Complete Array class </span>\n"
   ]
  },
  {
   "cell_type": "code",
   "execution_count": 29,
   "metadata": {},
   "outputs": [],
   "source": [
    "import ctypes\n",
    "\n",
    "class Array :\n",
    "\n",
    "    # Creates an array with size elements.\n",
    "    def __init__ (self , size) :\n",
    "        assert size > 0 , \"Array size must be > 0\"\n",
    "        self._size = size # Instant Variables\n",
    "        \n",
    "        # Create the array structure using the ctypes module.\n",
    "        PyArrayType = ctypes.py_object * size\n",
    "        # elements = [ , , , ,]\n",
    "        self._elements = PyArrayType()\n",
    "        # Initialize each element กำหนดค่าให้ทุกตัวเป็น None\n",
    "        self.clear ( None )\n",
    "    \n",
    "    # length of list\n",
    "    def __len__(self):\n",
    "        return self._size\n",
    "    \n",
    "    # (Getter) Gets the contents of the index element. \n",
    "    def __getitem__ ( self , index) :\n",
    "        assert index >= 0 and index < len(self) , \"Array subscript out of range\"\n",
    "        return self._elements[ index ]\n",
    "    \n",
    "    # (Setter) Puts the value in the array element at index position\n",
    "    def __setitem__ ( self , index , value):\n",
    "        assert index >= 0 and index < len(self) , \"Array subscript out of range\"\n",
    "        self._elements[ index ] = value\n",
    "\n",
    "    # Clears the array by setting each element to the given value\n",
    "    def clear(self , value):\n",
    "        for i in range(len(self)):\n",
    "            self._elements[i] = value\n",
    "\n",
    "    # Represent value (string)\n",
    "    def __repr__(self):\n",
    "        s = '[ '\n",
    "        for x in self._elements:\n",
    "            s = s + str(x) + \", \"\n",
    "        s = s[:-2] + \" ]\"# เอาทั้งชุดจนถึงตำแหน่ง -2\n",
    "        return s\n",
    "    \n",
    "    # เมื่อมีการเรียก Iteration มันจะเหมือนกับ init เหมือนกับของตัวคลาสนี้\n",
    "    def __iter__(self):\n",
    "        self._curIndex = 0\n",
    "        return self\n",
    "    \n",
    "    def __next__(self):\n",
    "        # Index ตัวปัจจุบัน ยังไม่ถึง Maximum\n",
    "        if self._curIndex < len(self._elements): \n",
    "            entry = self._elements[self._curIndex]\n",
    "            self._curIndex += 1\n",
    "            return entry\n",
    "        else:\n",
    "            raise StopIteration"
   ]
  },
  {
   "cell_type": "markdown",
   "metadata": {},
   "source": [
    "<div style=\"color: aqua; font-weight:italic\">Test Array ADT</div>"
   ]
  },
  {
   "cell_type": "code",
   "execution_count": 30,
   "metadata": {},
   "outputs": [],
   "source": [
    "myArray = Array(10)"
   ]
  },
  {
   "cell_type": "code",
   "execution_count": 31,
   "metadata": {},
   "outputs": [
    {
     "data": {
      "text/plain": [
       "10"
      ]
     },
     "execution_count": 31,
     "metadata": {},
     "output_type": "execute_result"
    }
   ],
   "source": [
    "len(myArray)"
   ]
  },
  {
   "cell_type": "code",
   "execution_count": 32,
   "metadata": {},
   "outputs": [
    {
     "data": {
      "text/plain": [
       "[ None, None, None, None, None, None, None, None, None, None ]"
      ]
     },
     "execution_count": 32,
     "metadata": {},
     "output_type": "execute_result"
    }
   ],
   "source": [
    "# Represent Method\n",
    "myArray"
   ]
  },
  {
   "cell_type": "code",
   "execution_count": 33,
   "metadata": {},
   "outputs": [],
   "source": [
    "myArray.clear(5)"
   ]
  },
  {
   "cell_type": "code",
   "execution_count": 34,
   "metadata": {},
   "outputs": [],
   "source": [
    "myArray[0] = 2566\n",
    "myArray[1] = 2567"
   ]
  },
  {
   "cell_type": "code",
   "execution_count": 35,
   "metadata": {},
   "outputs": [
    {
     "data": {
      "text/plain": [
       "[ 2566, 2567, 5, 5, 5, 5, 5, 5, 5, 5 ]"
      ]
     },
     "execution_count": 35,
     "metadata": {},
     "output_type": "execute_result"
    }
   ],
   "source": [
    "iter(myArray)"
   ]
  },
  {
   "cell_type": "code",
   "execution_count": 36,
   "metadata": {},
   "outputs": [
    {
     "data": {
      "text/plain": [
       "2566"
      ]
     },
     "execution_count": 36,
     "metadata": {},
     "output_type": "execute_result"
    }
   ],
   "source": [
    "next(myArray)"
   ]
  },
  {
   "cell_type": "code",
   "execution_count": 37,
   "metadata": {},
   "outputs": [
    {
     "name": "stdout",
     "output_type": "stream",
     "text": [
      "2566 2567\n"
     ]
    }
   ],
   "source": [
    "print(myArray[0] , myArray[1])"
   ]
  },
  {
   "cell_type": "code",
   "execution_count": 38,
   "metadata": {},
   "outputs": [
    {
     "name": "stdout",
     "output_type": "stream",
     "text": [
      "2566\n",
      "2567\n",
      "5\n",
      "5\n",
      "5\n",
      "5\n",
      "5\n",
      "5\n",
      "5\n",
      "5\n"
     ]
    }
   ],
   "source": [
    "for i in range(len(myArray)):\n",
    "    print(myArray[i])"
   ]
  },
  {
   "cell_type": "markdown",
   "metadata": {},
   "source": [
    "***"
   ]
  },
  {
   "cell_type": "markdown",
   "metadata": {},
   "source": [
    "### Implementation of the Array2D ADT using an array of arrays."
   ]
  },
  {
   "cell_type": "markdown",
   "metadata": {},
   "source": [
    "**Array2D ADT**   \n",
    "A two-dimensional array consists of a collection of elements organized into rows and columns. Individual elements are referenced by specifying the specific row and column indices (r, c), both of which start at 0.\n",
    "| properties/methods  | description  |\n",
    "|---|---|\n",
    "| __Array2D(nrows,ncols)__: | Creates a two-dimensional array organized into rows and columns. The nrows and ncols arguments indicate the size of the table. The individual elements of the table are initialized to None|\n",
    "|__numRows()__: | Returns the number of rows in the 2-D array|\n",
    "| __numCols()__:| Returns the number of columns in the 2-D array|\n",
    "| __clear(value)__: | Clears the array by setting each element to the given value|\n",
    "| __`__`getitem`__`(i1,i2)__: | Returns the value stored in the 2-D array element at the position indicated by the 2-tuple (i1; i2), both of which must be within the valid range. Accessed using the subscript operator: y = x[1,2]|\n",
    "|__`__`setitem`__`(i1,i2,value)__: | Modifies the contents of the 2-D array element indicated by the 2-tuple (i1; i2) with the new value. Both indices must be within the valid range. Accessed using the subscript operator: x[0,3] = y|\n",
    "| __`__`repr( )`__`__: |Return all value in stored in the 2-D array as a string to represent this object |"
   ]
  },
  {
   "cell_type": "markdown",
   "metadata": {},
   "source": [
    "## <span style=\"color:red\"> Practice2: Complete Array2D Class </span>  "
   ]
  },
  {
   "cell_type": "code",
   "execution_count": 39,
   "metadata": {},
   "outputs": [],
   "source": [
    "class Array2D(Array):\n",
    "    def __init__(self,numRows,numCols):\n",
    "        self._theRows = Array(numRows)\n",
    "        for i in range(numRows):\n",
    "            self._theRows[i] = Array(numCols)\n",
    "\n",
    "    # Getter (receive tuple)\n",
    "    def __getitem__(self,indexTuple):\n",
    "        assert len(indexTuple) == 2, \"Invalid number of array subscripts.\"\n",
    "        row = indexTuple[0]\n",
    "        col = indexTuple[1]\n",
    "        assert (row >= 0) and (row < self.numRows()) and (col >= 0) and (col < self.numCols()) , \\\n",
    "                \"Array subscript out of range.\"\n",
    "        return self._theRows[row][col]\n",
    "        \n",
    "    def __setitem__(self , indexTuple, value):\n",
    "        assert len(indexTuple) == 2, \"Invalid number of array subscripts.\"\n",
    "        row = indexTuple[0]\n",
    "        col = indexTuple[1]\n",
    "        assert (row >= 0) and (row < self.numRows()) and (col >= 0) and (col < self.numCols()) \\\n",
    "            , \"Array subscript out of range.\"\n",
    "        self._theRows[row][col] = value\n",
    "\n",
    "    def numRows(self):\n",
    "        return len(self._theRows)\n",
    "    \n",
    "    def numCols(self):\n",
    "        return len(self._theRows[0])\n",
    "    \n",
    "    # Assign value to Every Index\n",
    "    def clear(self,value):\n",
    "        # ใช้ของ Class Array มาช่วย\n",
    "        for row in self._theRows:\n",
    "            row.clear(value)\n",
    "\n",
    "    def __repr__(self):\n",
    "        '''\n",
    "        Output\n",
    "        [1,2,3,4]\n",
    "        [5,6,7,8]\n",
    "        '''\n",
    "        \n",
    "        s = ''\n",
    "        for row in self._theRows:\n",
    "            s += str(row) + '\\n'\n",
    "        return s[:-1] # เพราะตัวสุดท้ายเป็น \\n ให้ลบออก"
   ]
  },
  {
   "cell_type": "markdown",
   "metadata": {},
   "source": [
    "<div style=\"color: aqua; font-weight:italic\">Test 2D Array ADT</div>"
   ]
  },
  {
   "cell_type": "code",
   "execution_count": 40,
   "metadata": {},
   "outputs": [],
   "source": [
    "myArray2D = Array2D(2,3)"
   ]
  },
  {
   "cell_type": "code",
   "execution_count": 41,
   "metadata": {},
   "outputs": [
    {
     "data": {
      "text/plain": [
       "[ None, None, None ]\n",
       "[ None, None, None ]"
      ]
     },
     "execution_count": 41,
     "metadata": {},
     "output_type": "execute_result"
    }
   ],
   "source": [
    "myArray2D"
   ]
  },
  {
   "cell_type": "code",
   "execution_count": 42,
   "metadata": {},
   "outputs": [],
   "source": [
    "myArray2D.clear(20)\n",
    "myArray2D[0,0] = 2566\n",
    "myArray2D[0,1] = 2567"
   ]
  },
  {
   "cell_type": "code",
   "execution_count": 43,
   "metadata": {},
   "outputs": [
    {
     "data": {
      "text/plain": [
       "[ 2566, 2567, 20 ]\n",
       "[ 20, 20, 20 ]"
      ]
     },
     "execution_count": 43,
     "metadata": {},
     "output_type": "execute_result"
    }
   ],
   "source": [
    "# Test represent method\n",
    "myArray2D"
   ]
  },
  {
   "cell_type": "code",
   "execution_count": 44,
   "metadata": {},
   "outputs": [
    {
     "ename": "AssertionError",
     "evalue": "Array subscript out of range.",
     "output_type": "error",
     "traceback": [
      "\u001b[1;31m---------------------------------------------------------------------------\u001b[0m",
      "\u001b[1;31mAssertionError\u001b[0m                            Traceback (most recent call last)",
      "Cell \u001b[1;32mIn[44], line 2\u001b[0m\n\u001b[0;32m      1\u001b[0m \u001b[39m# Test Error (Array subscript out of range)\u001b[39;00m\n\u001b[1;32m----> 2\u001b[0m myArray2D[\u001b[39m2\u001b[39;49m,\u001b[39m2\u001b[39;49m]\n",
      "Cell \u001b[1;32mIn[39], line 12\u001b[0m, in \u001b[0;36mArray2D.__getitem__\u001b[1;34m(self, indexTuple)\u001b[0m\n\u001b[0;32m     10\u001b[0m row \u001b[39m=\u001b[39m indexTuple[\u001b[39m0\u001b[39m]\n\u001b[0;32m     11\u001b[0m col \u001b[39m=\u001b[39m indexTuple[\u001b[39m1\u001b[39m]\n\u001b[1;32m---> 12\u001b[0m \u001b[39massert\u001b[39;00m (row \u001b[39m>\u001b[39m\u001b[39m=\u001b[39m \u001b[39m0\u001b[39m) \u001b[39mand\u001b[39;00m (row \u001b[39m<\u001b[39m \u001b[39mself\u001b[39m\u001b[39m.\u001b[39mnumRows()) \u001b[39mand\u001b[39;00m (col \u001b[39m>\u001b[39m\u001b[39m=\u001b[39m \u001b[39m0\u001b[39m) \u001b[39mand\u001b[39;00m (col \u001b[39m<\u001b[39m \u001b[39mself\u001b[39m\u001b[39m.\u001b[39mnumCols()) , \\\n\u001b[0;32m     13\u001b[0m         \u001b[39m\"\u001b[39m\u001b[39mArray subscript out of range.\u001b[39m\u001b[39m\"\u001b[39m\n\u001b[0;32m     14\u001b[0m \u001b[39mreturn\u001b[39;00m \u001b[39mself\u001b[39m\u001b[39m.\u001b[39m_theRows[row][col]\n",
      "\u001b[1;31mAssertionError\u001b[0m: Array subscript out of range."
     ]
    }
   ],
   "source": [
    "# Test Error (Array subscript out of range)\n",
    "myArray2D[2,2]"
   ]
  },
  {
   "cell_type": "code",
   "execution_count": null,
   "metadata": {},
   "outputs": [
    {
     "name": "stdout",
     "output_type": "stream",
     "text": [
      "2\n",
      "3\n"
     ]
    }
   ],
   "source": [
    "# Test numCols() and numRows()\n",
    "print(myArray2D.numRows())\n",
    "print(myArray2D.numCols())"
   ]
  },
  {
   "cell_type": "markdown",
   "metadata": {},
   "source": [
    "***"
   ]
  },
  {
   "cell_type": "markdown",
   "metadata": {},
   "source": [
    "### Implemention of the Matrix ADT"
   ]
  },
  {
   "cell_type": "markdown",
   "metadata": {},
   "source": [
    "**Matrix ADT**\n",
    "A matrix is a collection of scalar values arranged in rows and columns as a rectangular grid of a fixed size. The elements of the matrix can be accessed by specifying a given row and column index with indices starting at 0.\n",
    "| properties/methods  | description  |\n",
    "|---|---|\n",
    "| __Matrix(rows,ncols)__: | Creates a new matrix containing nrows and ncols with each element initialized to 0 |\n",
    "| __numRows()__: | Returns the number of rows in the matrix |\n",
    "| __numCols()__: | Returns the number of columns in the matrix |\n",
    "| __clear(value)__: | Clears the matrix by setting each element to the given value|\n",
    "| __`__`getitem(row,col)`__`__: | Returns the value stored in the given matrix element. Both row and col must be within the valid range |\n",
    "| __`__`setitem(row,col,scalar)`__`__: | Sets the matrix element at the given row and col to scalar. The element indices must be within the valid range |\n",
    "| __`__`repr( )`__`__: |Return all value in stored in the matrix as a string to represent this object |\n",
    "| __scaleBy(scalar)__: | Multiplies each element of the matrix by the given scalar value. The matrix is modified by this operation |\n",
    "| __transpose()__: | Returns a new matrix that is the transpose of this matrix |\n",
    "| __add(rhsMatrix)__: | Creates and returns a new matrix that is the result of adding this matrix to the given rhsMatrix. The size of the two matrices must be the same |\n",
    "| __subtract(rhsMatrix)__: | The same as the add() operation but subtracts the two matrices |\n",
    "| __multiply(rhsMatrix)__: | Creates and returns a new matrix that is the result of multiplying this matrix to the given rhsMatrix. The two matrices must be of appropriate sizes as defined for matrix multiplication |"
   ]
  },
  {
   "cell_type": "markdown",
   "metadata": {},
   "source": [
    "## <span style=\"color:red\"> Practice3: Complete Matrix Class </span>"
   ]
  },
  {
   "cell_type": "code",
   "execution_count": null,
   "metadata": {},
   "outputs": [],
   "source": [
    "class Matrix(Array2D):\n",
    "    # Multiply all value in matrix with scalar number\n",
    "    def scaleBy(self,scalar):\n",
    "        for i in range( self.numRows()):\n",
    "            for j in range( self.numCols()):\n",
    "                self[i,j] *= scalar\n",
    "\n",
    "    # Transpose สลับแถวกับหลัก\n",
    "    def transpose(self):\n",
    "        # สร้างเมทริกซ์ที่สลับจำนวนขนาด แถวกับหลัก\n",
    "        newMatrix = Matrix(self.numCols() , self.numRows())\n",
    "        for i in range( self.numRows()):\n",
    "            for j in range( self.numCols()):\n",
    "                # Assign ค่าที่สลับกันลงไป\n",
    "                newMatrix[j,i] = self[i,j]\n",
    "        return newMatrix\n",
    "\n",
    "    # Addition 2 Matrices\n",
    "    def __add__ ( self , rhsMatrix ) :\n",
    "        assert rhsMatrix.numRows() == self.numRows() and rhsMatrix.numCols() == self.numCols() ,\\\n",
    "            \"Matrix size not compatible for the add operation.\"\n",
    "        # Create the new matrix.\n",
    "        newMatrix = Matrix( self.numRows() , self.numCols() )\n",
    "        # Add the corresponding elements in the two matrices.\n",
    "        for i in range( self.numRows() ):\n",
    "            for j in range( self.numCols() ) :\n",
    "                newMatrix[i,j] = self[i,j] + rhsMatrix[i,j]\n",
    "        return newMatrix\n",
    "        \n",
    "    # Subtraction 2 Matrices\n",
    "    def __sub__ ( self , rhsMatrix ) :\n",
    "        assert rhsMatrix.numRows() == self.numRows() and rhsMatrix.numCols() == self.numCols() ,\\\n",
    "            \"Matrix size not compatible for the add operation.\"\n",
    "        # Create the new matrix.\n",
    "        newMatrix = Matrix( self.numRows() , self.numCols() )\n",
    "        for i in range( self.numRows() ):\n",
    "            for j in range( self.numCols() ) :\n",
    "                newMatrix[i,j] = self[i,j] - rhsMatrix[i,j]\n",
    "        return newMatrix\n",
    "    \n",
    "    # Multiply 2 Matrices (คูณระหว่างสองเมทริกซ์)\n",
    "    def __mul__(self,rhsMatrix):\n",
    "        assert self.numCols() == rhsMatrix.numRows() , \"Cannot multiply these matrices.\"\n",
    "        newMatrix = Matrix( self.numRows() , rhsMatrix.numCols())\n",
    "        # i แทนจำนวนแถวที่ไล่ในเมทริกซ์ตัวที่หนึ่ง\n",
    "        for i in range(self.numRows()):\n",
    "            # j แทนจำนวนหลักที่ไล่ในเมทริกซ์ตัวที่สอง แต่ในขณะเดียวกันก็จะไล่แทนหลักในเมทริกซ์ตัวที่หนึ่งด้วย\n",
    "            for j in range(rhsMatrix.numCols()):\n",
    "                # k แทนจำนวนแถวที่ไล่ในเมทริกซ์ตัวที่สอง\n",
    "                total = 0 # ตัวแปรเก็บค่าเอาไว้เป็นผลรวมของหลักที่อยู่ หรือ Counter\n",
    "                for k in range(rhsMatrix.numRows()):\n",
    "                     total += self[i,k] * rhsMatrix[k,j]\n",
    "                newMatrix[i,j] = total # เมื่อผลรวมในคอลัมน์เสร็จให้ Assign ค่าลงไป\n",
    "        return newMatrix"
   ]
  },
  {
   "cell_type": "markdown",
   "metadata": {},
   "source": [
    "***"
   ]
  },
  {
   "cell_type": "markdown",
   "metadata": {},
   "source": [
    "<div style=\"color: aqua; font-weight:italic;\"> Test Matrix ADT </div>"
   ]
  },
  {
   "cell_type": "code",
   "execution_count": null,
   "metadata": {},
   "outputs": [],
   "source": [
    "myMatrix = Matrix(2,3)\n",
    "myMatrix.clear(10)"
   ]
  },
  {
   "cell_type": "code",
   "execution_count": null,
   "metadata": {},
   "outputs": [
    {
     "data": {
      "text/plain": [
       "[ 32, 24, 10 ]\n",
       "[ 15, 47, 10 ]"
      ]
     },
     "execution_count": 25,
     "metadata": {},
     "output_type": "execute_result"
    }
   ],
   "source": [
    "myMatrix[0,0] = 32\n",
    "myMatrix[0,1] = 24\n",
    "myMatrix[1,0] = 15\n",
    "myMatrix[1,1] = 47\n",
    "myMatrix"
   ]
  },
  {
   "cell_type": "code",
   "execution_count": null,
   "metadata": {},
   "outputs": [
    {
     "data": {
      "text/plain": [
       "[ 64, 48, 20 ]\n",
       "[ 30, 94, 20 ]"
      ]
     },
     "execution_count": 26,
     "metadata": {},
     "output_type": "execute_result"
    }
   ],
   "source": [
    "# Scaleby\n",
    "myMatrix.scaleBy(2)\n",
    "myMatrix"
   ]
  },
  {
   "cell_type": "code",
   "execution_count": null,
   "metadata": {},
   "outputs": [
    {
     "name": "stdout",
     "output_type": "stream",
     "text": [
      "[ 64, 30 ]\n",
      "[ 48, 94 ]\n",
      "[ 20, 20 ]\n"
     ]
    }
   ],
   "source": [
    "# Transpose\n",
    "print(myMatrix.transpose())"
   ]
  },
  {
   "cell_type": "code",
   "execution_count": null,
   "metadata": {},
   "outputs": [
    {
     "name": "stdout",
     "output_type": "stream",
     "text": [
      "[ 4, 4, 4 ]\n",
      "[ 4, 4, 4 ]\n"
     ]
    }
   ],
   "source": [
    "# Addition 2 Matrices\n",
    "\n",
    "Matrix_1 = Matrix(2,3)\n",
    "Matrix_2 = Matrix(2,3)\n",
    "\n",
    "Matrix_1.clear(2)\n",
    "Matrix_2.clear(2)\n",
    "\n",
    "print(Matrix_1 + Matrix_2)"
   ]
  },
  {
   "cell_type": "code",
   "execution_count": null,
   "metadata": {},
   "outputs": [
    {
     "ename": "AssertionError",
     "evalue": "Matrix size not compatible for the add operation.",
     "output_type": "error",
     "traceback": [
      "\u001b[1;31m---------------------------------------------------------------------------\u001b[0m",
      "\u001b[1;31mAssertionError\u001b[0m                            Traceback (most recent call last)",
      "Cell \u001b[1;32mIn[64], line 9\u001b[0m\n\u001b[0;32m      6\u001b[0m Matrix_3\u001b[39m.\u001b[39mclear(\u001b[39m3\u001b[39m)\n\u001b[0;32m      7\u001b[0m Matrix_4\u001b[39m.\u001b[39mclear(\u001b[39m5\u001b[39m)\n\u001b[1;32m----> 9\u001b[0m \u001b[39mprint\u001b[39m(Matrix_3 \u001b[39m+\u001b[39;49m Matrix_4)\n",
      "Cell \u001b[1;32mIn[58], line 18\u001b[0m, in \u001b[0;36mMatrix.__add__\u001b[1;34m(self, rhsMatrix)\u001b[0m\n\u001b[0;32m     17\u001b[0m \u001b[39mdef\u001b[39;00m \u001b[39m__add__\u001b[39m ( \u001b[39mself\u001b[39m , rhsMatrix ) :\n\u001b[1;32m---> 18\u001b[0m     \u001b[39massert\u001b[39;00m rhsMatrix\u001b[39m.\u001b[39mnumRows() \u001b[39m==\u001b[39m \u001b[39mself\u001b[39m\u001b[39m.\u001b[39mnumRows() \u001b[39mand\u001b[39;00m rhsMatrix\u001b[39m.\u001b[39mnumCols() \u001b[39m==\u001b[39m \u001b[39mself\u001b[39m\u001b[39m.\u001b[39mnumCols() ,\\\n\u001b[0;32m     19\u001b[0m         \u001b[39m\"\u001b[39m\u001b[39mMatrix size not compatible for the add operation.\u001b[39m\u001b[39m\"\u001b[39m\n\u001b[0;32m     20\u001b[0m     \u001b[39m# Create the new matrix.\u001b[39;00m\n\u001b[0;32m     21\u001b[0m     newMatrix \u001b[39m=\u001b[39m Matrix( \u001b[39mself\u001b[39m\u001b[39m.\u001b[39mnumRows() , \u001b[39mself\u001b[39m\u001b[39m.\u001b[39mnumCols() )\n",
      "\u001b[1;31mAssertionError\u001b[0m: Matrix size not compatible for the add operation."
     ]
    }
   ],
   "source": [
    "# Addition Error Test (When The size of Matrix doesn't equal)\n",
    "\n",
    "Matrix_3 = Matrix(2,3)\n",
    "Matrix_4 = Matrix(3,4)\n",
    "\n",
    "Matrix_3.clear(3)\n",
    "Matrix_4.clear(5)\n",
    "print(Matrix_3 + Matrix_4)"
   ]
  },
  {
   "cell_type": "code",
   "execution_count": null,
   "metadata": {},
   "outputs": [
    {
     "name": "stdout",
     "output_type": "stream",
     "text": [
      "[ 3, 3 ]\n",
      "[ 3, 3 ]\n"
     ]
    }
   ],
   "source": [
    "# Substraction of 2 matrices\n",
    "Matrix_new1 = Matrix(2,2)\n",
    "Matrix_new2 = Matrix(2,2)\n",
    "Matrix_new1.clear(5)\n",
    "Matrix_new2.clear(2)\n",
    "print(Matrix_new1 - Matrix_new2)"
   ]
  },
  {
   "cell_type": "code",
   "execution_count": null,
   "metadata": {},
   "outputs": [
    {
     "name": "stdout",
     "output_type": "stream",
     "text": [
      "Matrix A is\n",
      "[ 1, 2 ]\n",
      "[ 3, 4 ]\n",
      "[ 5, 6 ] \n",
      "\n",
      "Matrix B is\n",
      "[ 1, 2, 3 ]\n",
      "[ 4, 5, 6 ] \n",
      "\n",
      "Result of multiplication is\n",
      "[ 9, 12, 15 ]\n",
      "[ 19, 26, 33 ]\n",
      "[ 29, 40, 51 ]\n"
     ]
    }
   ],
   "source": [
    "# Multiply of 2 matrices\n",
    "Matrix_A = Matrix(3,2)\n",
    "Matrix_B = Matrix(2,3)\n",
    "\n",
    "# Insert the Matrix_A value\n",
    "for i in range(3):\n",
    "    for j in range(2):\n",
    "        Matrix_A[i,j] = 2*i+(j+1)\n",
    "\n",
    "# Check the Matrix A\n",
    "print(\"Matrix A is\")\n",
    "print(Matrix_A , '\\n') \n",
    "\n",
    "# Insert the Matrix_B value\n",
    "\n",
    "for i in range(2):\n",
    "    for j in range(3):\n",
    "        Matrix_B[i,j] = 3*i+(j+1)\n",
    "\n",
    "# Check the Matrix B\n",
    "print(\"Matrix B is\")\n",
    "print(Matrix_B , '\\n')\n",
    "\n",
    "# Check the multiply between 2 matrices.\n",
    "print(\"Result of multiplication is\")\n",
    "print(Matrix_A * Matrix_B)"
   ]
  },
  {
   "cell_type": "markdown",
   "metadata": {},
   "source": [
    "***"
   ]
  },
  {
   "cell_type": "markdown",
   "metadata": {},
   "source": [
    "<div style=\"color: greenyellow\">65070506026 - ศวิษฐ์ โกสียอัมพร </div>\n",
    "<div style=\"color: pink\">65070506039 - ปุญชญา จันทร์เจริญ </div>"
   ]
  }
 ],
 "metadata": {
  "kernelspec": {
   "display_name": "Python 3.10.2 64-bit",
   "language": "python",
   "name": "python3"
  },
  "language_info": {
   "codemirror_mode": {
    "name": "ipython",
    "version": 3
   },
   "file_extension": ".py",
   "mimetype": "text/x-python",
   "name": "python",
   "nbconvert_exporter": "python",
   "pygments_lexer": "ipython3",
   "version": "3.11.4"
  },
  "vscode": {
   "interpreter": {
    "hash": "aee8b7b246df8f9039afb4144a1f6fd8d2ca17a180786b69acc140d282b71a49"
   }
  }
 },
 "nbformat": 4,
 "nbformat_minor": 4
}
