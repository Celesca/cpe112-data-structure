{
 "cells": [
  {
   "cell_type": "markdown",
   "metadata": {},
   "source": [
    "![AlternativeLogo-eng.png](data:image/png;base64,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)"
   ]
  },
  {
   "attachments": {},
   "cell_type": "markdown",
   "metadata": {},
   "source": [
    "# Assignment8 Binary Search Tree"
   ]
  },
  {
   "cell_type": "markdown",
   "metadata": {},
   "source": [
    "## Binary Search Tree"
   ]
  },
  {
   "cell_type": "markdown",
   "metadata": {},
   "source": [
    "## สรุปสิ่งที่ได้เรียนรู้จากวันนี้\n",
    "\n",
    "* Binary Search Tree (BST) - \n"
   ]
  },
  {
   "cell_type": "markdown",
   "metadata": {},
   "source": [
    "### Implement of TreeNode"
   ]
  },
  {
   "cell_type": "code",
   "execution_count": 28,
   "metadata": {},
   "outputs": [],
   "source": [
    "class TreeNode:\n",
    "    def __init__(self, key, value, leftChild=None, rightChild=None, parent=None):\n",
    "        self.key = key\n",
    "        self.payload = value\n",
    "        self.leftChild = leftChild\n",
    "        self.rightChild = rightChild\n",
    "        self.parent = parent\n",
    "        self.balanceFactor = 0\n",
    "#### Additional method ####\n",
    "    def hasLeftChild(self):\n",
    "        return self.leftChild is not None\n",
    "\n",
    "    def hasRightChild(self):\n",
    "        return self.rightChild is not None\n",
    "\n",
    "    def isLeftChild(self):\n",
    "        return (self.parent and self.parent.leftChild) == self\n",
    "\n",
    "    def isRightChild(self):\n",
    "        return (self.parent and self.parent.rightChild) == self\n",
    "\n",
    "    def isRoot(self):\n",
    "        return self.parent is None\n",
    "\n",
    "    def isLeaf(self):\n",
    "        return not (self.rightChild or self.leftChild)\n",
    "\n",
    "    def hasAnyChildren(self):\n",
    "        return (self.rightChild is not None) or (self.leftChild is not None)\n",
    "\n",
    "    def hasBothChildren(self):\n",
    "        return (self.rightChild is not None) and (self.leftChild is not None)\n",
    "\n",
    "    def replaceNodeData(self, key, value, leftChild, rightChild):\n",
    "        self.key = key\n",
    "        self.payload = value\n",
    "        self.leftChild = leftChild\n",
    "        self.rightChild = rightChild\n",
    "        if self.hasLeftChild():\n",
    "            self.leftChild.parent = self\n",
    "        if self.hasRightChild():\n",
    "            self.rightChild.parent = self\n",
    "\n",
    "    def __repr__(self):\n",
    "        return str((self.key,self.payload))"
   ]
  },
  {
   "cell_type": "markdown",
   "metadata": {},
   "source": [
    "---"
   ]
  },
  {
   "cell_type": "markdown",
   "metadata": {},
   "source": [
    "### Implement of Binary Search Tree"
   ]
  },
  {
   "cell_type": "code",
   "execution_count": 29,
   "metadata": {},
   "outputs": [],
   "source": [
    "class BinarySearchTree():\n",
    "    def __init__(self):\n",
    "        self.root = None\n",
    "        self.size = 0\n",
    "\n",
    "    def __len__(self):\n",
    "        return self.size\n",
    "#----------------------------------#    \n",
    "    def __setitem__(self, k, v):\n",
    "        self.put(k, v)\n",
    "\n",
    "    def put(self, key, val):\n",
    "        if self.root: # There is already root then add it as child node.\n",
    "            self._put(key, val, self.root)\n",
    "        else:\n",
    "            self.root = TreeNode(key, val) # if no root then promote it as root\n",
    "            self.size += 1\n",
    "\n",
    "    def _put(self, key, val, currentNode):\n",
    "        if key == currentNode.key:  # Check the position\n",
    "            currentNode.replaceNodeData(key,val,currentNode.leftChild,currentNode.rightChild) # if the same key then update new value\n",
    "        else:\n",
    "            if key < currentNode.key: # if the (new)key is less than the currentNode.key then add it as left child\n",
    "                if currentNode.hasLeftChild(): # if there is already left child then add it as another left child\n",
    "                    self._put(key, val, currentNode.leftChild)\n",
    "                else:\n",
    "                    currentNode.leftChild = TreeNode(key, val, parent=currentNode) #if there is no left child then add a new left child\n",
    "                    self.size += 1\n",
    "            else:\n",
    "                if currentNode.hasRightChild():\n",
    "                    self._put(key, val, currentNode.rightChild)\n",
    "                else:\n",
    "                    currentNode.rightChild = TreeNode(key, val, parent=currentNode)\n",
    "                    self.size += 1\n",
    "#----------------------------------#    \n",
    "    def __getitem__(self, key):\n",
    "        return self.get(key)\n",
    "\n",
    "    def get(self, key):\n",
    "        if self.root:\n",
    "            res = self._get(key, self.root)\n",
    "            if res:\n",
    "                return res.payload\n",
    "            else:\n",
    "                return None\n",
    "        else:\n",
    "            return None\n",
    "\n",
    "    def _get(self, key, currentNode):\n",
    "        if not currentNode:\n",
    "            return None\n",
    "        elif currentNode.key == key:\n",
    "            return currentNode\n",
    "        elif key < currentNode.key:\n",
    "            return self._get(key, currentNode.leftChild)\n",
    "        else:\n",
    "            return self._get(key, currentNode.rightChild)\n",
    "#----------------------------------#    \n",
    "    def __contains__(self, key):\n",
    "        if self._get(key, self.root):\n",
    "            return True\n",
    "        else:\n",
    "            return False\n",
    "#----------------------------------#    \n",
    "    def delete(self, key):\n",
    "        if self.size > 1:\n",
    "            nodeToRemove = self._get(key, self.root)\n",
    "            if nodeToRemove:\n",
    "                self.remove(nodeToRemove)\n",
    "                self.size = self.size-1\n",
    "            else:\n",
    "                raise KeyError('Error, key not in tree')\n",
    "        elif self.size == 1 and self.root.key == key:\n",
    "            self.root = None\n",
    "            self.size = self.size - 1\n",
    "        else:\n",
    "            raise KeyError('Error, key not in tree')\n",
    "\n",
    "    def __delitem__(self, key):\n",
    "        self.delete(key)\n",
    "\n",
    "    def findSuccessor(self):\n",
    "        succ = None\n",
    "        if self.hasRightChild():\n",
    "            succ = self.findMin()\n",
    "        else:\n",
    "            if self.parent:\n",
    "                if self.isLeftChild():\n",
    "                    succ = self.parent\n",
    "                else:\n",
    "                    self.parent.rightChild = None\n",
    "                    succ = self.parent.findSuccessor()\n",
    "                    self.parent.rightChild = self\n",
    "        return succ\n",
    "\n",
    "    def findMin(self):\n",
    "        current = self.root\n",
    "        while current.hasLeftChild():\n",
    "            current = current.leftChild\n",
    "        return current\n",
    "    \n",
    "    def spliceOut(self):\n",
    "        if self.isLeaf():\n",
    "            if self.isLeftChild():\n",
    "                self.parent.leftChild = None\n",
    "            else:\n",
    "                self.parent.rightChild = None\n",
    "        elif self.hasAnyChildren():\n",
    "            if self.hasLeftChild():\n",
    "                if self.isLeftChild():\n",
    "                    self.parent.leftChild = self.leftChild\n",
    "                else:\n",
    "                    self.parent.rightChild = self.leftChild\n",
    "                self.leftChild.parent = self.parent\n",
    "            else:\n",
    "                if self.isLeftChild():\n",
    "                    self.parent.leftChild = self.rightChild\n",
    "                else:\n",
    "                    self.parent.rightChild = self.rightChild\n",
    "                self.rightChild.parent = self.parent\n",
    "\n",
    "    def remove(self, currentNode):\n",
    "        if currentNode.isLeaf():  # leaf\n",
    "            if currentNode == currentNode.parent.leftChild:\n",
    "                currentNode.parent.leftChild = None\n",
    "            else:\n",
    "                currentNode.parent.rightChild = None\n",
    "        elif currentNode.hasBothChildren():  # interior\n",
    "            succ = currentNode.findSuccessor()\n",
    "            succ.spliceOut()\n",
    "            currentNode.key = succ.key\n",
    "            currentNode.payload = succ.payload\n",
    "\n",
    "        else:  # this node has one child\n",
    "            if currentNode.hasLeftChild():\n",
    "                if currentNode.isLeftChild():\n",
    "                    currentNode.leftChild.parent = currentNode.parent\n",
    "                    currentNode.parent.leftChild = currentNode.leftChild\n",
    "                elif currentNode.isRightChild():\n",
    "                    currentNode.leftChild.parent = currentNode.parent\n",
    "                    currentNode.parent.rightChild = currentNode.leftChild\n",
    "                else:\n",
    "                    currentNode.replaceNodeData(currentNode.leftChild.key,\n",
    "                                                currentNode.leftChild.payload,\n",
    "                                                currentNode.leftChild.leftChild,\n",
    "                                                currentNode.leftChild.rightChild)\n",
    "            else:\n",
    "                if currentNode.isLeftChild():\n",
    "                    currentNode.rightChild.parent = currentNode.parent\n",
    "                    currentNode.parent.leftChild = currentNode.rightChild\n",
    "                elif currentNode.isRightChild():\n",
    "                    currentNode.rightChild.parent = currentNode.parent\n",
    "                    currentNode.parent.rightChild = currentNode.rightChild\n",
    "                else:\n",
    "                    currentNode.replaceNodeData(currentNode.rightChild.key,\n",
    "                                                currentNode.rightChild.payload,\n",
    "                                                currentNode.rightChild.leftChild,\n",
    "                                                currentNode.rightChild.rightChild)\n",
    "    def inorder(self):\n",
    "        result = []\n",
    "        self._inorder_traversal(self.root, result)\n",
    "        return result\n",
    "\n",
    "    def _inorder_traversal(self, node, result):\n",
    "        if node:\n",
    "            self._inorder_traversal(node.leftChild, result)\n",
    "            result.append((node.key, node.payload))\n",
    "            self._inorder_traversal(node.rightChild, result)\n"
   ]
  },
  {
   "cell_type": "markdown",
   "metadata": {},
   "source": [
    "Create a Binary Search Tree"
   ]
  },
  {
   "cell_type": "code",
   "execution_count": 30,
   "metadata": {},
   "outputs": [],
   "source": [
    "BST = BinarySearchTree()"
   ]
  },
  {
   "cell_type": "markdown",
   "metadata": {},
   "source": [
    "Add and Tree nodes (key and value are required) <br>\n",
    "e.g. <br>\n",
    "BST[0] = \"red\" <br>\n",
    "50 is key <br>\n",
    "\"A\" is value <br>"
   ]
  },
  {
   "cell_type": "code",
   "execution_count": 31,
   "metadata": {},
   "outputs": [],
   "source": [
    "BST[50] = \"A\"\n",
    "BST[17] = \"blue\"\n",
    "BST[9] = \"green\"\n",
    "BST[23] = \"yellow\"\n",
    "BST[70] = \"ball\"\n",
    "BST[72] = \"is\"\n",
    "BST[14] = \"in\"\n",
    "BST[12] = \"the\"\n",
    "BST[19] = \"jar\""
   ]
  },
  {
   "cell_type": "markdown",
   "metadata": {},
   "source": [
    "Use inorder traveral to display the order of key in BST"
   ]
  },
  {
   "cell_type": "code",
   "execution_count": 32,
   "metadata": {},
   "outputs": [
    {
     "data": {
      "text/plain": [
       "[(9, 'green'),\n",
       " (12, 'the'),\n",
       " (14, 'in'),\n",
       " (17, 'blue'),\n",
       " (19, 'jar'),\n",
       " (23, 'yellow'),\n",
       " (50, 'A'),\n",
       " (70, 'ball'),\n",
       " (72, 'is')]"
      ]
     },
     "execution_count": 32,
     "metadata": {},
     "output_type": "execute_result"
    }
   ],
   "source": [
    "BST.inorder()"
   ]
  },
  {
   "cell_type": "markdown",
   "metadata": {},
   "source": [
    "check the length(number of node) in BST"
   ]
  },
  {
   "cell_type": "code",
   "execution_count": 33,
   "metadata": {},
   "outputs": [
    {
     "data": {
      "text/plain": [
       "9"
      ]
     },
     "execution_count": 33,
     "metadata": {},
     "output_type": "execute_result"
    }
   ],
   "source": [
    "len(BST)"
   ]
  },
  {
   "cell_type": "markdown",
   "metadata": {},
   "source": [
    "Check if key is exists"
   ]
  },
  {
   "cell_type": "code",
   "execution_count": 34,
   "metadata": {},
   "outputs": [
    {
     "data": {
      "text/plain": [
       "True"
      ]
     },
     "execution_count": 34,
     "metadata": {},
     "output_type": "execute_result"
    }
   ],
   "source": [
    "17 in BST"
   ]
  },
  {
   "cell_type": "markdown",
   "metadata": {},
   "source": [
    "Get the value from key"
   ]
  },
  {
   "cell_type": "code",
   "execution_count": 35,
   "metadata": {},
   "outputs": [
    {
     "data": {
      "text/plain": [
       "'blue'"
      ]
     },
     "execution_count": 35,
     "metadata": {},
     "output_type": "execute_result"
    }
   ],
   "source": [
    "BST[17]"
   ]
  },
  {
   "cell_type": "markdown",
   "metadata": {},
   "source": [
    "Update new value in same key"
   ]
  },
  {
   "cell_type": "code",
   "execution_count": 36,
   "metadata": {},
   "outputs": [],
   "source": [
    "BST[17] = \"purple\""
   ]
  },
  {
   "cell_type": "code",
   "execution_count": 37,
   "metadata": {},
   "outputs": [
    {
     "data": {
      "text/plain": [
       "'purple'"
      ]
     },
     "execution_count": 37,
     "metadata": {},
     "output_type": "execute_result"
    }
   ],
   "source": [
    "BST[17]"
   ]
  },
  {
   "cell_type": "markdown",
   "metadata": {},
   "source": [
    "Add a new node"
   ]
  },
  {
   "cell_type": "code",
   "execution_count": 38,
   "metadata": {},
   "outputs": [],
   "source": [
    "BST[4] = \"brown\""
   ]
  },
  {
   "cell_type": "code",
   "execution_count": 39,
   "metadata": {},
   "outputs": [
    {
     "data": {
      "text/plain": [
       "10"
      ]
     },
     "execution_count": 39,
     "metadata": {},
     "output_type": "execute_result"
    }
   ],
   "source": [
    "len(BST)"
   ]
  },
  {
   "cell_type": "code",
   "execution_count": 40,
   "metadata": {},
   "outputs": [
    {
     "data": {
      "text/plain": [
       "(4, 'brown')"
      ]
     },
     "execution_count": 40,
     "metadata": {},
     "output_type": "execute_result"
    }
   ],
   "source": [
    "BST.findMin()"
   ]
  },
  {
   "cell_type": "code",
   "execution_count": 41,
   "metadata": {},
   "outputs": [
    {
     "data": {
      "text/plain": [
       "[(4, 'brown'),\n",
       " (9, 'green'),\n",
       " (12, 'the'),\n",
       " (14, 'in'),\n",
       " (17, 'purple'),\n",
       " (19, 'jar'),\n",
       " (23, 'yellow'),\n",
       " (50, 'A'),\n",
       " (70, 'ball'),\n",
       " (72, 'is')]"
      ]
     },
     "execution_count": 41,
     "metadata": {},
     "output_type": "execute_result"
    }
   ],
   "source": [
    "BST.inorder()"
   ]
  },
  {
   "cell_type": "code",
   "execution_count": 42,
   "metadata": {},
   "outputs": [],
   "source": [
    "BST.delete(70)"
   ]
  },
  {
   "cell_type": "code",
   "execution_count": 43,
   "metadata": {},
   "outputs": [
    {
     "data": {
      "text/plain": [
       "[(4, 'brown'),\n",
       " (9, 'green'),\n",
       " (12, 'the'),\n",
       " (14, 'in'),\n",
       " (17, 'purple'),\n",
       " (19, 'jar'),\n",
       " (23, 'yellow'),\n",
       " (50, 'A'),\n",
       " (72, 'is')]"
      ]
     },
     "execution_count": 43,
     "metadata": {},
     "output_type": "execute_result"
    }
   ],
   "source": [
    "BST.inorder()"
   ]
  },
  {
   "cell_type": "markdown",
   "metadata": {},
   "source": [
    "---"
   ]
  },
  {
   "cell_type": "markdown",
   "metadata": {},
   "source": [
    "## Implement the AVL Tree by inherit from BST Class"
   ]
  },
  {
   "cell_type": "code",
   "execution_count": 44,
   "metadata": {},
   "outputs": [],
   "source": [
    "class AVL(BinarySearchTree):\n",
    "    def __init__(self):\n",
    "        super().__init__()\n",
    "\n",
    "    def _put(self, key, val, currentNode):\n",
    "        if key == currentNode.key:\n",
    "            currentNode.replaceNodeData(key,val,currentNode.leftChild,currentNode.rightChild)\n",
    "        else:\n",
    "            if key < currentNode.key:\n",
    "                if currentNode.hasLeftChild():\n",
    "                    self._put(key, val, currentNode.leftChild)\n",
    "                else:\n",
    "                    currentNode.leftChild = TreeNode(key, val, parent=currentNode)\n",
    "                    self.size += 1\n",
    "                    self.updateBalance(currentNode.leftChild)\n",
    "            else:\n",
    "                if currentNode.hasRightChild():\n",
    "                    self._put(key, val, currentNode.rightChild)\n",
    "                else:\n",
    "                    currentNode.rightChild = TreeNode(key, val, parent=currentNode)\n",
    "                    self.size += 1\n",
    "                    self.updateBalance(currentNode.rightChild)\n",
    "\n",
    "    def updateBalance(self, node):\n",
    "        if node.balanceFactor > 1 or node.balanceFactor < -1:\n",
    "            self.rebalance(node)\n",
    "            return\n",
    "        if node.parent is not None:\n",
    "            if node.isLeftChild():\n",
    "                node.parent.balanceFactor += 1\n",
    "            elif node.isRightChild():\n",
    "                node.parent.balanceFactor -= 1\n",
    "            if node.parent.balanceFactor != 0:\n",
    "                self.updateBalance(node.parent)\n",
    "\n",
    "    def rebalance(self, node):\n",
    "        if node.balanceFactor < 0:\n",
    "            if node.rightChild.balanceFactor > 0:\n",
    "                self.rotateRight(node.rightChild)\n",
    "                self.rotateLeft(node)\n",
    "            else:\n",
    "                self.rotateLeft(node)\n",
    "        elif node.balanceFactor > 0:\n",
    "            if node.leftChild.balanceFactor < 0:\n",
    "                self.rotateLeft(node.leftChild)\n",
    "                self.rotateRight(node)\n",
    "            else:\n",
    "                self.rotateRight(node)\n",
    "    # RotateLeft\n",
    "    def rotateLeft(self, rotRoot):\n",
    "        newRoot = rotRoot.rightChild\n",
    "        rotRoot.rightChild = newRoot.leftChild\n",
    "        if newRoot.leftChild is not None:\n",
    "            newRoot.leftChild.parent = rotRoot\n",
    "        newRoot.parent = rotRoot.parent\n",
    "        if rotRoot.isRoot():\n",
    "            self.root = newRoot\n",
    "        else:\n",
    "            if rotRoot.isLeftChild():\n",
    "                rotRoot.parent.leftChild = newRoot\n",
    "            else:\n",
    "                rotRoot.parent.rightChild = newRoot\n",
    "        newRoot.leftChild = rotRoot\n",
    "        rotRoot.parent = newRoot\n",
    "        rotRoot.balanceFactor = rotRoot.balanceFactor + 1 - min(newRoot.balanceFactor, 0)\n",
    "        newRoot.balanceFactor = newRoot.balanceFactor + 1 + max(rotRoot.balanceFactor, 0)\n",
    "    # RotateRight\n",
    "    def rotateRight(self, rotRoot):\n",
    "        newRoot = rotRoot.leftChild\n",
    "        rotRoot.leftChild = newRoot.rightChild\n",
    "        if newRoot.rightChild is not None:\n",
    "            newRoot.rightChild.parent = rotRoot\n",
    "        newRoot.parent = rotRoot.parent\n",
    "        if rotRoot.isRoot():\n",
    "            self.root = newRoot\n",
    "        else:\n",
    "            if rotRoot.isRightChild():\n",
    "                rotRoot.parent.rightChild = newRoot\n",
    "            else:\n",
    "                rotRoot.parent.leftChild = newRoot\n",
    "        newRoot.rightChild = rotRoot\n",
    "        rotRoot.parent = newRoot\n",
    "        rotRoot.balanceFactor = rotRoot.balanceFactor + 1 - min(newRoot.balanceFactor, 0)\n",
    "        newRoot.balanceFactor = newRoot.balanceFactor + 1 + max(rotRoot.balanceFactor, 0)\n"
   ]
  },
  {
   "cell_type": "code",
   "execution_count": 45,
   "metadata": {},
   "outputs": [],
   "source": [
    "AVL_Tree = AVL()"
   ]
  },
  {
   "cell_type": "code",
   "execution_count": 46,
   "metadata": {},
   "outputs": [],
   "source": [
    "AVL_Tree[9] = \"magenta\"\n",
    "AVL_Tree[8] = \"gold\"\n",
    "AVL_Tree[5] = \"silver\""
   ]
  },
  {
   "cell_type": "code",
   "execution_count": 47,
   "metadata": {},
   "outputs": [
    {
     "data": {
      "text/plain": [
       "[(5, 'silver'), (8, 'gold'), (9, 'magenta')]"
      ]
     },
     "execution_count": 47,
     "metadata": {},
     "output_type": "execute_result"
    }
   ],
   "source": [
    "AVL_Tree.inorder()"
   ]
  },
  {
   "cell_type": "markdown",
   "metadata": {},
   "source": [
    "---"
   ]
  },
  {
   "cell_type": "markdown",
   "metadata": {},
   "source": [
    "# `Assignment` <br>\n",
    "\n",
    "Most of the BST operations (e.g.; search, max, min, insert, delete.. etc) use O(h) complexity time. <br>\n",
    "\n",
    "* The cost of these operations may become O(n) for a unbalanced Binary tree. \n",
    "* To Keep the height of the tree (h) remains O(log n) after every insertion and deletion, is the key concept to optain\n",
    " __O(log n)__ for all these operations \n"
   ]
  },
  {
   "cell_type": "markdown",
   "metadata": {},
   "source": [
    "---"
   ]
  },
  {
   "cell_type": "markdown",
   "metadata": {},
   "source": [
    "## The other type of the balanced BST:"
   ]
  },
  {
   "cell_type": "markdown",
   "metadata": {},
   "source": [
    "## The <span style=\"color:red\">Red</span> Black <span style=\"color:green\">Tree</span>"
   ]
  },
  {
   "cell_type": "markdown",
   "metadata": {},
   "source": [
    "a Red-Black tree is one kind of balanced tree structure for BST that take O(log n) time where n is the number of nodes in the tree. "
   ]
  },
  {
   "cell_type": "markdown",
   "metadata": {},
   "source": [
    "`Question`: <br>\n",
    "1. What does the Red-Black Tree look like? <br>\n",
    "2. How does it balance the BST <br>\n",
    "3. How to implement them in Python"
   ]
  },
  {
   "cell_type": "markdown",
   "metadata": {},
   "source": [
    "Red-Black Tree คือ การทำให้ BST อยู่ในรูปแบบที่สมดุลในอีกรูปแบบนึง นอกจาก AVL Tree โดยมีเงื่อนไขคือ<br>\n",
    "1. Node จะเป็นสีแดงหรือสีดำ\n",
    "2. ราก (Root) จะต้องเป็นสีดำ\n",
    "3. ใบ (Leaf) ทุกใบจะต้องเป็นสีดำ\n",
    "4. ลูกของ Node ที่เป็นสีแดงจะต้องเป็นสีดำ\n",
    "5. ทุก ๆ Path ทางเดินที่ผ่านแต่ละ Node เพียงครั้งเดียวจากรากไปยังใบจะผ่านจำนวน Node สีดำเท่ากัน <br>\n",
    "\n",
    "โดยเราจะใช้หลักการที่เวลาเราเพิ่มโหนดใหม่เข้าไป มันจะมีสีโหนดเป็น\n"
   ]
  },
  {
   "cell_type": "code",
   "execution_count": 194,
   "metadata": {},
   "outputs": [],
   "source": [
    "class RedBlackNode(TreeNode):\n",
    "    def __init__(self, key, value,color, leftChild=None, rightChild=None, parent=None):\n",
    "        self.key = key\n",
    "        self.payload = value\n",
    "        self.color = color\n",
    "        self.leftChild = leftChild\n",
    "        self.rightChild = rightChild\n",
    "        self.parent = parent"
   ]
  },
  {
   "cell_type": "code",
   "execution_count": 203,
   "metadata": {},
   "outputs": [],
   "source": [
    "class RedBlackTree(AVL):\n",
    "    def __init__(self):\n",
    "        super().__init__()\n",
    "\n",
    "    def put(self, key, val):\n",
    "        if self.root: # There is already root then add it as child node.\n",
    "            self._put(key, val, self.root)\n",
    "        else:\n",
    "            # ในกรณีที่เราเพิ่มไปแล้วมันเป็น Root ให้เรากำหนดมันเป็นสีดำ\n",
    "            self.root = RedBlackNode(key, val, \"black\") # if no root then promote it as root\n",
    "            self.size += 1\n",
    "\n",
    "    # ขออนุญาตเขียน _put จากแบบ Recursive เป็น While Loop แทนนะครับ\n",
    "    def _put(self, key, val, currentNode):\n",
    "        if key == currentNode.key:\n",
    "            color = currentNode.color\n",
    "            currentNode.replaceNodeData(key,val,color,currentNode.leftChild,currentNode.rightChild)\n",
    "        else:\n",
    "            if key < currentNode.key:\n",
    "                if currentNode.hasLeftChild():\n",
    "                    self._put(key, val, currentNode.leftChild)\n",
    "                else: # ในกรณีที่มันไม่มีแล้ว\n",
    "                    currentNode.leftChild = RedBlackNode(key, val, \"red\" , parent=currentNode)\n",
    "                    self.size += 1\n",
    "\n",
    "                    # เช็คว่าจำเป็นที่จะต้องเรียกใช้ fixInsert Method หรือไม่\n",
    "\n",
    "                    # ดัก root อีกรอบ\n",
    "                    if currentNode.leftChild.parent == None :                       \n",
    "                        currentNode.color = \"black\"\n",
    "                        return\n",
    "                    if currentNode.leftChild.parent.parent == None:\n",
    "                        return\n",
    "                    self.fixInsert(currentNode.leftChild)\n",
    "\n",
    "            else:\n",
    "                if currentNode.hasRightChild():\n",
    "                    self._put(key, val, currentNode.rightChild)\n",
    "\n",
    "                else:\n",
    "                    currentNode.rightChild = RedBlackNode(key, val, \"red\" , parent=currentNode)\n",
    "                    self.size += 1\n",
    "                    # ดัก root ไว้อีกรอบหนึ่ง\n",
    "                    if currentNode.rightChild.parent == None :                       \n",
    "                        currentNode.color = \"black\"\n",
    "                        return\n",
    "                    \n",
    "                    # เช็คอีกรอบว่าจำเป็นต้อง fixInsert หรือไม่\n",
    "                    if currentNode.rightChild.parent.parent == None:\n",
    "                        return\n",
    "                    \n",
    "                    self.fixInsert(currentNode.rightChild)\n",
    "\n",
    "\n",
    "    def fixInsert(self, node):\n",
    "\n",
    "        # ในขณะที่ยังมี Parent และ Parent ยังเป็นสีแดงอยู่ให้ทำต่อไปเรื่อย ๆ \n",
    "        while node.parent and node.parent.color == \"red\":\n",
    "                # หา Uncle ของ Node ว่าเป็น Uncle ที่อยู่ซ้ายหรือขวาจาก Grandparent\n",
    "                if (node.parent == node.parent.parent.leftChild):\n",
    "                    uncle = node.parent.parent.rightChild\n",
    "                    \n",
    "                    # กรณีที่ 1 - Uncle ของ Node เป็น สีแดง และอยู่ทางขวาของ Grandparent\n",
    "                    if uncle and uncle.color == \"red\":\n",
    "                        node.parent.parent.color = \"red\"\n",
    "                        node.parent.color = \"black\"\n",
    "                        uncle.color = \"black\"\n",
    "                        node = node.parent.parent # ขยับขึ้นไปต่อ\n",
    "\n",
    "                    # กรณีที่ 2 - Uncle ของ Node เป็นสีดำ และอยู่ทางขวาของ Grandparent\n",
    "\n",
    "                    else:\n",
    "                        ''' \n",
    "                        ต่อมาเราจะเช็คด้วยว่าในกรณีที่ Uncle เป็นสีดำนั้น มันอยู่เป็น Triangle หรือ Line \n",
    "\n",
    "                            Grandparent\n",
    "                            /         \\\n",
    "                        Parent         Uncle          Triangle (Parent เป็น Left และ Node เป็น Right) (case 2.1)\n",
    "                        \\                          มันจะหักมุมเป็นสามเหลี่ยมพอดี\n",
    "                            Node\n",
    "\n",
    "                            \n",
    "                            Grandparent\n",
    "                            /          \\ \n",
    "                        Parent          Uncle           Line (Parent เป็น Left และ Node เป็น Left) (case 2.2)\n",
    "                        /                              มันจะคล้ายกับเส้นตรง\n",
    "                    Node\n",
    "\n",
    "\n",
    "\n",
    "                        '''\n",
    "                        if (node == node.parent.rightChild): #เช็คในกรณีที่เป็น Triangle (case 2.1)\n",
    "                            node = node.parent\n",
    "                            self.rotateLeft(node)\n",
    "                        node.parent.color = \"black\" # ที่เหลือคือกรณีที่เป็น Line (case 2.2)\n",
    "                        node.parent.parent.color = \"red\"\n",
    "                        self.rotateRight(node.parent.parent)\n",
    "\n",
    "\n",
    "                elif (node.parent == node.parent.parent.rightChild) :\n",
    "                    uncle = node.parent.parent.leftChild\n",
    "                    \n",
    "                    # กรณีที่ 3 - Uncle ของ Node เป็น สีแดง และอยู่ทางซ้ายของ Grandparent\n",
    "                    if uncle and uncle.color == \"red\":\n",
    "                        node.parent.parent.color = \"red\"\n",
    "                        node.parent.color = \"black\"\n",
    "                        uncle.color = \"black\"\n",
    "                        node = node.parent.parent # ขยับขึ้นไปต่อ\n",
    "\n",
    "                    # กรณีที่ 4 - Uncle ของ Node เป็นสีดำ และอยู่ทางซ้ายของ Grandparent\n",
    "\n",
    "                    else:\n",
    "                        ''' \n",
    "                        ต่อมาเราจะเช็คด้วยว่าในกรณีที่ Uncle เป็นสีดำนั้น มันอยู่เป็น Triangle หรือ Line \n",
    "\n",
    "                            Grandparent\n",
    "                            /         \\\n",
    "                        Uncle         Parent         Triangle (Parent เป็น Right และ Node เป็น Left) \n",
    "                                    /             \n",
    "                                    Node\n",
    "\n",
    "                            \n",
    "                            Grandparent\n",
    "                            /          \\ \n",
    "                        Uncle          Parent           Line (Parent เป็น Right และ Node เป็น Right)\n",
    "                                        \\                          \n",
    "                                        Node\n",
    "\n",
    "                        '''\n",
    "                        if (node == node.parent.leftChild): #เช็คในกรณีที่เป็น Triangle (case 4.1)\n",
    "                            node = node.parent\n",
    "                            self.rotateRight(node)\n",
    "                        node.parent.color = \"black\" # ที่เหลือคือกรณีที่เป็น Line (case 4.2)\n",
    "                        node.parent.parent.color = \"red\"\n",
    "                        self.rotateLeft(node.parent.parent)\n",
    "\n",
    "                if node == self.root:\n",
    "                    break\n",
    "\n",
    "        self.root.color = \"black\"\n",
    "\n",
    "            # หมายเหตุ : เคสที่ต้องดัก ถ้าหากเรา Insert แล้วมันเป็น Root เขียนอยู่ใน put method เรียบร้อยแล้ว แต่ดักอีกรอบก็ไม่เป็นไร\n",
    "\n",
    "    # RotateLeft\n",
    "    def rotateLeft(self, rotRoot):\n",
    "        newRoot = rotRoot.rightChild\n",
    "        rotRoot.rightChild = newRoot.leftChild\n",
    "        if newRoot.leftChild is not None:\n",
    "            newRoot.leftChild.parent = rotRoot\n",
    "        newRoot.parent = rotRoot.parent\n",
    "        if rotRoot.isRoot():\n",
    "            self.root = newRoot\n",
    "        else:\n",
    "            if rotRoot.isLeftChild():\n",
    "                rotRoot.parent.leftChild = newRoot\n",
    "            else:\n",
    "                rotRoot.parent.rightChild = newRoot\n",
    "        newRoot.leftChild = rotRoot\n",
    "        rotRoot.parent = newRoot\n",
    "\n",
    "\n",
    "    # RotateRight\n",
    "    def rotateRight(self, rotRoot):\n",
    "        newRoot = rotRoot.leftChild\n",
    "        rotRoot.leftChild = newRoot.rightChild\n",
    "        if newRoot.rightChild is not None:\n",
    "            newRoot.rightChild.parent = rotRoot\n",
    "        newRoot.parent = rotRoot.parent\n",
    "        if rotRoot.isRoot():\n",
    "            self.root = newRoot\n",
    "        else:\n",
    "            if rotRoot.isRightChild():\n",
    "                rotRoot.parent.rightChild = newRoot\n",
    "            else:\n",
    "                rotRoot.parent.leftChild = newRoot\n",
    "        newRoot.rightChild = rotRoot\n",
    "        rotRoot.parent = newRoot\n",
    "\n",
    "\n",
    "    # Overriding the Delete Method\n",
    "    def delete(self, key):\n",
    "        if self.size > 1:\n",
    "            nodeToRemove = self._get(key, self.root)\n",
    "            if nodeToRemove:\n",
    "                self.BlackRedRemove(nodeToRemove)\n",
    "                self.size = self.size-1\n",
    "            else:\n",
    "                raise KeyError('Error, key not in tree')\n",
    "        elif self.size == 1 and self.root.key == key:\n",
    "            self.root = None\n",
    "            self.size = self.size - 1\n",
    "        else:\n",
    "            raise KeyError('Error, key not in tree')\n",
    "        \n",
    "    # เป็น Method ที่สร้างมาเพื่อตัดเส้นเชื่อม (ความสัมพันธ์) ให้หายไปจาก Tree\n",
    "    # วิธีการก็คือ มันจะเชื่อมระหว่าง u.parent กับ v ที่เป็นตัวเชื่อมต่อจาก u อีกที สรุปคือ u จะหายไปจากความสัมพันธ์\n",
    "    def transplant(self, u, v):\n",
    "        if u.parent == None: # กรณีตัวที่จะลบเป็น Root\n",
    "            self.root = v\n",
    "        elif u == u.parent.leftChild: # กรณีตัวที่จะลบเป็น Left Child\n",
    "            u.parent.leftChild = v # \n",
    "        else: # กรณีตัวที่จะลบเป็น Right Child \n",
    "            u.parent.rightChild = v\n",
    "        if v and u.parent:\n",
    "            v.parent = u.parent\n",
    "\n",
    "\n",
    "    def BlackRedRemove(self, node):\n",
    "        \n",
    "        y = node\n",
    "        y_original_color = y.color\n",
    "\n",
    "        # Case 1 - LeftChild ไม่มี node อยู่ แต่ RightChild มี\n",
    "        if node.leftChild == None:\n",
    "            x = node.rightChild\n",
    "            self.transplant(node, node.rightChild)\n",
    "\n",
    "        # Case 2 - RightChild ไม่มี แต่ LeftChild มี Node\n",
    "        elif node.rightChild == None:\n",
    "            x = node.leftChild\n",
    "            self.transplant(node, node.leftChild)\n",
    "        \n",
    "        # Case 3 - Right and Left Child ไม่มีตัวที่ว่างอยู่เลย\n",
    "\n",
    "        else:\n",
    "            y = self.minimum(node.rightChild)\n",
    "            y_original_color = y.color\n",
    "            x = y.rightChild\n",
    "\n",
    "            if y.parent == node:\n",
    "                x.parent = y\n",
    "            else:\n",
    "                self.transplant(y, y.rightChild)\n",
    "                y.rightChild = node.rightChild\n",
    "                y.rightChild.parent = y\n",
    "\n",
    "            self.transplant(node, y)\n",
    "            y.leftChild = node.leftChild\n",
    "            y.leftChild.parent = y\n",
    "            y.color = node.color\n",
    "\n",
    "        if y_original_color == \"black\":\n",
    "            self.fixDelete(x)\n",
    "\n",
    "    def minimum(self, node):\n",
    "        while node.left != None:\n",
    "            node = node.left\n",
    "        return node\n",
    "\n",
    "    # เป็น Method ที่อยู่ในซีรี่ย์ของการ Delete เรียกใช้เพื่อที่จะสลับสีกลับคืนให้อยู่ใน Balance นั่นเอง\n",
    "    # ใน BlackRedRebalance Method เราจะสนใจ node ที่เราส่งมาเพื่อ Rebalance ให้เป็น x\n",
    "    # จากนั้นตัว Siblings หรือพี่น้องของเราจะให้เป็น w ดังภาพ\n",
    "\n",
    "    #     x Parent\n",
    "    #    /        \\\n",
    "    #   x          w\n",
    "    \n",
    "    def fixDelete(self, x):\n",
    "        while x != self.root and x != None and x.color == \"black\":\n",
    "\n",
    "            # กรณีที่ x เราเป็น Node ฝั่งซ้ายของ Parent\n",
    "            if x == x.parent.leftChild:\n",
    "                w = x.parent.rightChild\n",
    "            \n",
    "                # Case 1 - กรณีที่ w เป็นสีแดง\n",
    "                if w.color == \"red\":\n",
    "                    w.color = \"black\"\n",
    "                    x.parent.color = \"red\"\n",
    "                    self.rotateLeft(x.parent)\n",
    "                    w = x.parent.rightChild\n",
    "\n",
    "                # Case 2 - w , w.leftChild , w.rightChild เป็นสีดำทั้งหมด\n",
    "                if w.leftChild.color == \"black\" and w.rightChild.color == \"black\":\n",
    "                    w.color = \"red\"\n",
    "                    x = x.parent\n",
    "\n",
    "                # Case 3 - w ดำ , w.leftChild เป็นสีแดง , w.rightChild เป็นสีดำ\n",
    "                else:\n",
    "                    if w.rightChild.color == \"black\":\n",
    "                        w.leftChild.color = \"black\"\n",
    "                        w.color = \"red\"\n",
    "                        self.rotateRight(w)\n",
    "                        w = x.parent.rightChild\n",
    "\n",
    "                    # Case 4 - w ดำ แต่ w rightChild แดง\n",
    "                    w.color = x.parent.color\n",
    "                    x.parent.color = \"black\"\n",
    "                    w.rightChild.color = \"black\"\n",
    "                    self.rotateLeft(x.parent)\n",
    "                    x = self.root\n",
    "\n",
    "            # กรณีที่ x ของเราเป็น Node ฝั่งขวาของ Parent\n",
    "            else:\n",
    "                w = x.parent.leftChild\n",
    "                # Case 1\n",
    "                if w.color == \"red\":\n",
    "                    w.color = \"black\"\n",
    "                    x.parent.color = \"red\"\n",
    "                    self.rotateRight(x.parent)\n",
    "                    w = x.parent.leftChild\n",
    "\n",
    "                # Case 2\n",
    "                if w.rightChild.color == \"black\" and w.leftChild.color == \"black\" :\n",
    "                    w.color = \"red\"\n",
    "                    x = x.parent\n",
    "\n",
    "                else:\n",
    "                    # Case 3\n",
    "                    if w.leftChild.color == \"black\":\n",
    "                        w.rightChild.color = \"black\"\n",
    "                        w.color = \"red\"\n",
    "                        self.rotateLeft(w)\n",
    "                        w = x.parent.leftChild\n",
    "                    # Case 4\n",
    "                    w.color = x.parent.color\n",
    "                    x.parent.color = \"black\"\n",
    "                    w.leftChild.color = \"black\"\n",
    "                    self.rotateRight(x.parent)\n",
    "                    x = self.root\n",
    "        if x != None:\n",
    "            x.color = \"black\"\n",
    "\n",
    "\n",
    "    # Overwrite the _inorder_traversal method to let the list append the color of the node too.\n",
    "    def _inorder_traversal(self, node, result):\n",
    "        if node:\n",
    "            self._inorder_traversal(node.leftChild, result)\n",
    "            result.append((node.key, node.payload, node.color))\n",
    "            self._inorder_traversal(node.rightChild, result)\n",
    "\n",
    "    # To Print Tree\n",
    "    def print_tree ( self ) :\n",
    "        self.__printCall ( self.root , \"\" , True )\n",
    "    \n",
    "    def __printCall ( self , node , indent , last ) :\n",
    "        if node != None :\n",
    "            print(indent, end=' ')\n",
    "            if last :\n",
    "                print (\"R----\",end= ' ')\n",
    "                indent += \"     \"\n",
    "            else :\n",
    "                print(\"L----\",end=' ')\n",
    "                indent += \"|    \"\n",
    "\n",
    "            s_color = \"RED\" if node.color == \"red\" else \"BLACK\"\n",
    "            print ( str(node.key) + \" \" + str ( node.payload ) + \"(\" + s_color + \")\" )\n",
    "            self.__printCall ( node.leftChild , indent , False )\n",
    "            self.__printCall ( node.rightChild , indent , True )"
   ]
  },
  {
   "cell_type": "code",
   "execution_count": 204,
   "metadata": {},
   "outputs": [],
   "source": [
    "RBT = RedBlackTree()\n",
    "RBT[50] = \"A\"\n",
    "RBT[17] = \"blue\"\n",
    "RBT[60] = \"Akai\"\n",
    "RBT[19] = \"Ocean\"\n",
    "RBT[25] = \"Apache\"\n",
    "RBT[75] = \"Nginx\"\n",
    "RBT[28] = \"Docker\""
   ]
  },
  {
   "cell_type": "code",
   "execution_count": 205,
   "metadata": {},
   "outputs": [
    {
     "data": {
      "text/plain": [
       "[(17, 'blue', 'black'),\n",
       " (19, 'Ocean', 'red'),\n",
       " (25, 'Apache', 'black'),\n",
       " (28, 'Docker', 'red'),\n",
       " (50, 'A', 'black'),\n",
       " (60, 'Akai', 'black'),\n",
       " (75, 'Nginx', 'red')]"
      ]
     },
     "execution_count": 205,
     "metadata": {},
     "output_type": "execute_result"
    }
   ],
   "source": [
    "RBT.inorder()"
   ]
  },
  {
   "cell_type": "code",
   "execution_count": 206,
   "metadata": {},
   "outputs": [],
   "source": [
    "RBT.delete(17)"
   ]
  },
  {
   "cell_type": "code",
   "execution_count": 207,
   "metadata": {},
   "outputs": [
    {
     "data": {
      "text/plain": [
       "[(19, 'Ocean', 'red'),\n",
       " (25, 'Apache', 'black'),\n",
       " (28, 'Docker', 'red'),\n",
       " (50, 'A', 'black'),\n",
       " (60, 'Akai', 'black'),\n",
       " (75, 'Nginx', 'red')]"
      ]
     },
     "execution_count": 207,
     "metadata": {},
     "output_type": "execute_result"
    }
   ],
   "source": [
    "RBT.inorder()"
   ]
  },
  {
   "cell_type": "code",
   "execution_count": 208,
   "metadata": {},
   "outputs": [],
   "source": [
    "RBT = RedBlackTree()\n",
    "RBT[5] = 5\n",
    "RBT[8] = 8\n",
    "RBT[9] = 9\n",
    "RBT[10] = 10\n",
    "RBT[15] = 15\n",
    "RBT[13] = 13\n",
    "RBT[12] = 12\n",
    "RBT[19] = 19\n",
    "RBT[23] = 23"
   ]
  },
  {
   "cell_type": "code",
   "execution_count": 142,
   "metadata": {},
   "outputs": [
    {
     "data": {
      "text/plain": [
       "[(5, 5, 'black'),\n",
       " (8, 8, 'red'),\n",
       " (9, 9, 'black'),\n",
       " (10, 10, 'red'),\n",
       " (12, 12, 'red'),\n",
       " (13, 13, 'black'),\n",
       " (15, 15, 'red')]"
      ]
     },
     "execution_count": 142,
     "metadata": {},
     "output_type": "execute_result"
    }
   ],
   "source": [
    "RBT = RedBlackTree()\n",
    "RBT[5] = 5\n",
    "RBT[8] = 8\n",
    "RBT[9] = 9\n",
    "RBT[10] = 10\n",
    "RBT[15] = 15\n",
    "RBT[13] = 13\n",
    "RBT[12] = 12\n",
    "\n",
    "RBT.inorder()"
   ]
  },
  {
   "cell_type": "code",
   "execution_count": 209,
   "metadata": {},
   "outputs": [],
   "source": [
    "RBT = RedBlackTree()\n",
    "RBT[10] = \"HTML\"\n",
    "RBT[20] = \"CSS\"\n",
    "RBT[30] = \"JavaScript\"\n",
    "RBT[5] = \"React\"\n",
    "RBT[4] = \"Nodejs\"\n",
    "RBT[2] = \"PHP\""
   ]
  },
  {
   "cell_type": "code",
   "execution_count": 210,
   "metadata": {},
   "outputs": [
    {
     "name": "stdout",
     "output_type": "stream",
     "text": [
      " R---- 20 CSS(BLACK)\n",
      "      L---- 5 React(RED)\n",
      "     |     L---- 4 Nodejs(BLACK)\n",
      "     |    |     L---- 2 PHP(RED)\n",
      "     |     R---- 10 HTML(BLACK)\n",
      "      R---- 30 JavaScript(BLACK)\n"
     ]
    }
   ],
   "source": [
    "RBT.print_tree()"
   ]
  },
  {
   "cell_type": "code",
   "execution_count": 211,
   "metadata": {},
   "outputs": [],
   "source": [
    "RBT.delete(2)"
   ]
  },
  {
   "cell_type": "code",
   "execution_count": 212,
   "metadata": {},
   "outputs": [
    {
     "name": "stdout",
     "output_type": "stream",
     "text": [
      " R---- 20 CSS(BLACK)\n",
      "      L---- 5 React(RED)\n",
      "     |     L---- 4 Nodejs(BLACK)\n",
      "     |     R---- 10 HTML(BLACK)\n",
      "      R---- 30 JavaScript(BLACK)\n"
     ]
    }
   ],
   "source": [
    "RBT.print_tree()"
   ]
  },
  {
   "cell_type": "markdown",
   "metadata": {},
   "source": [
    "---"
   ]
  },
  {
   "cell_type": "markdown",
   "metadata": {},
   "source": [
    "<div style=\"color:greenyellow;\">นายศวิษฐ์ โกสียอัมพร 65070506026</div>\n",
    "<div style=\"color:hotpink;\">นางสาวปุญชญา จันทร์เจริญ 65070506039</div>"
   ]
  }
 ],
 "metadata": {
  "kernelspec": {
   "display_name": "Python 3",
   "language": "python",
   "name": "python3"
  },
  "language_info": {
   "codemirror_mode": {
    "name": "ipython",
    "version": 3
   },
   "file_extension": ".py",
   "mimetype": "text/x-python",
   "name": "python",
   "nbconvert_exporter": "python",
   "pygments_lexer": "ipython3",
   "version": "3.11.4"
  }
 },
 "nbformat": 4,
 "nbformat_minor": 4
}
