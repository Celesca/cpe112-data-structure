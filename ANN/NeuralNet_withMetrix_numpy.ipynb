{
 "cells": [
  {
   "cell_type": "markdown",
   "id": "1ad6ffd4-4aa4-407c-a1e1-50d864846cf0",
   "metadata": {
    "tags": []
   },
   "source": [
    "![AlternativeLogo-eng.png](data:image/png;base64,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)"
   ]
  },
  {
   "cell_type": "markdown",
   "id": "a02346a9-ef61-4339-b276-b82a8a9a57d4",
   "metadata": {},
   "source": [
    "## Artificial Neural Network Implementation with Matrix Data structure (using numpy module)  "
   ]
  },
  {
   "cell_type": "markdown",
   "metadata": {},
   "source": [
    "---"
   ]
  },
  {
   "cell_type": "markdown",
   "id": "772ff317-a845-41fb-8501-3dc2a2d2edf6",
   "metadata": {},
   "source": [
    "### ขั้นตอนที่ 1: รู้จักข้อมูล Data set  \n",
    "ในขั้นตอนนี้คือ กระบวนการโหลด data set เข้าสู่โปรแกรมของเรา โดยมาก data set จะอยู่ในไฟล์ .csv ดังนั้นเราต้องเปิดไฟล์ .csv แล้วทำการ โหลดข้อมูลมาเก็บไว้ก่อน\n",
    "เราสามารถเรียกใช้ moduleอื่นๆ  เข้ามาช่วยจัดการได้เช่น csv  หรือ pandas  \n",
    "**import csv** หรือ **import pandas as pd**  \n",
    "ในที่นี่จะใช้ csv module เพื่อดึงข้อมูลเข้ามาใส่ใน array ของ numpy module"
   ]
  },
  {
   "cell_type": "code",
   "execution_count": 26,
   "id": "3f7adef1-817e-4430-a670-8527a4fd93b7",
   "metadata": {},
   "outputs": [],
   "source": [
    "import csv\n",
    "import numpy as np\n"
   ]
  },
  {
   "cell_type": "code",
   "execution_count": 27,
   "metadata": {},
   "outputs": [
    {
     "name": "stdout",
     "output_type": "stream",
     "text": [
      "[['0.5', '0.8', '0.5', '0.2', 'Scissors'], ['0.5', '0.7', '0.7', '0.5', 'Scissors'], ['0.6', '0.9', '0.3', '0.2', 'Scissors'], ['0.3', '0.8', '0.3', '0.5', 'Scissors'], ['0.4', '0.9', '0.6', '0.5', 'Scissors'], ['0.6', '0.8', '0.8', '0.2', 'Scissors'], ['0.3', '0.8', '0.2', '0.2', 'Scissors'], ['0.4', '0.8', '0.4', '0.4', 'Scissors'], ['0.5', '0.7', '0.8', '0.5', 'Scissors'], ['0.3', '0.8', '0.6', '0.5', 'Scissors'], ['0.4', '0.7', '0.6', '0.3', 'Scissors'], ['0.6', '0.9', '0.4', '0.2', 'Scissors'], ['0.4', '0.9', '0.5', '0.5', 'Scissors'], ['0.5', '0.8', '0.6', '0.2', 'Scissors'], ['0.6', '0.7', '0.2', '0.4', 'Scissors'], ['0.3', '0.8', '0.5', '0.3', 'Scissors'], ['0.4', '0.7', '0.3', '0.5', 'Scissors'], ['0.3', '0.9', '0.7', '0.3', 'Scissors'], ['0.5', '0.9', '0.9', '0.5', 'Scissors'], ['0.5', '0.9', '0.6', '0.4', 'Scissors'], ['0.3', '0.8', '0.8', '0.2', 'Scissors'], ['0.5', '0.9', '0.4', '0.5', 'Scissors'], ['0.4', '0.8', '0.5', '0.5', 'Scissors'], ['0.5', '0.7', '0.5', '0.3', 'Scissors'], ['0.4', '0.8', '0.5', '0.5', 'Scissors'], ['0.4', '0.8', '0.3', '0.5', 'Scissors'], ['0.4', '0.9', '0.3', '0.5', 'Scissors'], ['0.3', '0.9', '0.7', '0.2', 'Scissors'], ['0.4', '0.9', '0.8', '0.2', 'Scissors'], ['0.4', '0.9', '0.7', '0.2', 'Scissors'], ['0.3', '0.7', '0.2', '0.3', 'Scissors'], ['0.6', '0.9', '0.7', '0.5', 'Scissors'], ['0.6', '0.9', '0.8', '0.4', 'Scissors'], ['0.3', '0.8', '0.1', '0.3', 'Scissors'], ['0.5', '0.7', '0.5', '0.5', 'Scissors'], ['0.3', '0.8', '0.4', '0.3', 'Scissors'], ['0.6', '0.8', '0.8', '0.3', 'Scissors'], ['0.3', '0.9', '0.9', '0.2', 'Scissors'], ['0.3', '0.7', '0.2', '0.5', 'Scissors'], ['0.4', '0.7', '0.1', '0.5', 'Scissors'], ['0.4', '0.8', '0.5', '0.2', 'Scissors'], ['0.5', '0.7', '0.5', '0.4', 'Scissors'], ['0.3', '0.9', '0.7', '0.4', 'Scissors'], ['0.6', '0.9', '0.5', '0.2', 'Scissors'], ['0.6', '0.7', '0.9', '0.5', 'Scissors'], ['0.3', '0.9', '0.1', '0.5', 'Scissors'], ['0.6', '0.9', '0.5', '0.4', 'Scissors'], ['0.3', '0.8', '0.2', '0.5', 'Scissors'], ['0.5', '0.7', '0.9', '0.4', 'Scissors'], ['0.5', '0.7', '0.9', '0.4', 'Scissors'], ['0.2', '0.8', '0.6', '0.3', 'Hammer'], ['0.1', '0.8', '0.5', '0.6', 'Hammer'], ['0.1', '0.7', '0.7', '0.8', 'Hammer'], ['0.1', '0.9', '0.6', '0.8', 'Hammer'], ['0.2', '0.9', '0.2', '0.3', 'Hammer'], ['0.1', '0.8', '0.6', '0.7', 'Hammer'], ['0.3', '0.9', '0.8', '0.5', 'Hammer'], ['0.2', '0.7', '0.9', '0.4', 'Hammer'], ['0.2', '0.7', '0.9', '0.3', 'Hammer'], ['0.2', '0.7', '0.6', '0.9', 'Hammer'], ['0.1', '0.8', '0.5', '0.5', 'Hammer'], ['0.3', '0.7', '0.8', '0.2', 'Hammer'], ['0.2', '0.7', '0.5', '0.6', 'Hammer'], ['0.1', '0.7', '0.9', '0.3', 'Hammer'], ['0.1', '0.8', '0.1', '0.6', 'Hammer'], ['0.1', '0.8', '0.2', '0.8', 'Hammer'], ['0.2', '0.7', '0.5', '0.5', 'Hammer'], ['0.1', '0.7', '0.6', '0.6', 'Hammer'], ['0.2', '0.8', '0.8', '0.8', 'Hammer'], ['0.2', '0.7', '0.6', '1', 'Hammer'], ['0.3', '0.7', '0.3', '0.7', 'Hammer'], ['0.3', '0.7', '0.1', '0.7', 'Hammer'], ['0.2', '0.8', '0.9', '0.7', 'Hammer'], ['0.1', '0.8', '0.9', '0.9', 'Hammer'], ['0.1', '0.8', '0.1', '0.4', 'Hammer'], ['0.3', '0.7', '0.1', '0.7', 'Hammer'], ['0.2', '0.7', '0.8', '0.2', 'Hammer'], ['0.3', '0.7', '0.2', '0.5', 'Hammer'], ['0.2', '0.7', '0.2', '0.5', 'Hammer'], ['0.3', '0.8', '0.3', '0.3', 'Hammer'], ['0.2', '0.7', '0.5', '0.7', 'Hammer'], ['0.3', '0.9', '0.1', '0.5', 'Hammer'], ['0.3', '0.7', '0.8', '0.3', 'Hammer'], ['0.2', '0.9', '0.3', '0.5', 'Hammer'], ['0.2', '0.9', '0.6', '0.4', 'Hammer'], ['0.1', '0.7', '0.9', '0.4', 'Hammer'], ['0.2', '0.8', '0.1', '0.6', 'Hammer'], ['0.1', '0.9', '0.5', '0.2', 'Hammer'], ['0.2', '0.8', '0.7', '1', 'Hammer'], ['0.3', '0.9', '0.9', '0.3', 'Hammer'], ['0.3', '0.9', '0.7', '0.9', 'Hammer'], ['0.2', '0.7', '0.2', '0.2', 'Hammer'], ['0.3', '0.9', '0.2', '0.9', 'Hammer'], ['0.3', '0.9', '0.5', '1', 'Hammer'], ['0.2', '0.7', '0.7', '0.4', 'Hammer'], ['0.2', '0.9', '0.3', '0.7', 'Hammer'], ['0.2', '0.8', '0.6', '0.9', 'Hammer'], ['0.3', '0.7', '0.6', '0.8', 'Hammer'], ['0.2', '0.9', '0.6', '0.1', 'Hammer'], ['0.9', '0.9', '0.5', '0.3', 'Hammer'], ['0.8', '0.3', '0.8', '0.2', 'Paper'], ['0.9', '0.3', '0.3', '0.1', 'Paper'], ['0.9', '0.6', '0.9', '0.1', 'Paper'], ['1', '0.4', '0.7', '0.2', 'Paper'], ['0.8', '0.6', '0.9', '0.2', 'Paper'], ['0.7', '0.5', '0.8', '0.1', 'Paper'], ['0.6', '0.5', '0.1', '0.1', 'Paper'], ['0.7', '0.3', '0.3', '0.2', 'Paper'], ['1', '0.3', '0.5', '0.1', 'Paper'], ['0.6', '0.1', '0.9', '0.2', 'Paper'], ['0.9', '0.4', '0.5', '0.1', 'Paper'], ['0.6', '0.6', '0.3', '0.2', 'Paper'], ['0.7', '0.5', '0.9', '0.2', 'Paper'], ['1', '0.4', '0.8', '0.2', 'Paper'], ['0.6', '0.1', '0.3', '0.1', 'Paper'], ['0.7', '0.1', '0.5', '0.1', 'Paper'], ['0.9', '0.1', '0.7', '0.2', 'Paper'], ['0.8', '0.2', '0.3', '0.1', 'Paper'], ['0.8', '0.6', '0.5', '0.1', 'Paper'], ['1', '0.4', '0.9', '0.2', 'Paper'], ['0.8', '0.2', '0.1', '0.1', 'Paper'], ['0.7', '0.2', '0.6', '0.1', 'Paper'], ['0.7', '0.1', '0.3', '0.2', 'Paper'], ['0.9', '0.2', '0.8', '0.2', 'Paper'], ['0.7', '0.1', '0.3', '0.2', 'Paper'], ['0.8', '0.6', '0.4', '0.1', 'Paper'], ['0.6', '0.1', '0.9', '0.2', 'Paper'], ['1', '0.1', '0.6', '0.1', 'Paper'], ['0.8', '0.1', '0.4', '0.1', 'Paper'], ['1', '0.5', '0.7', '0.2', 'Paper'], ['0.6', '0.3', '0.4', '0.2', 'Paper'], ['0.7', '0.3', '0.1', '0.1', 'Paper'], ['0.7', '0.4', '0.4', '0.2', 'Paper'], ['0.7', '0.4', '0.1', '0.1', 'Paper'], ['0.7', '0.5', '0.2', '0.2', 'Paper'], ['0.7', '0.1', '0.9', '0.2', 'Paper'], ['0.6', '0.1', '0.1', '0.2', 'Paper'], ['0.6', '0.5', '0.5', '0.1', 'Paper'], ['1', '0.4', '0.7', '0.2', 'Paper'], ['0.8', '0.6', '0.5', '0.1', 'Paper'], ['0.9', '0.4', '0.2', '0.2', 'Paper'], ['0.6', '0.5', '0.2', '0.1', 'Paper'], ['1', '0.1', '0.5', '0.2', 'Paper'], ['0.6', '0.5', '0.9', '0.1', 'Paper'], ['1', '0.2', '0.9', '0.1', 'Paper'], ['0.8', '0.4', '0.3', '0.1', 'Paper'], ['1', '0.5', '0.3', '0.2', 'Paper'], ['0.8', '0.4', '0.5', '0.2', 'Paper'], ['0.7', '0.2', '0.7', '0.2', 'Paper'], ['0.8', '0.2', '0.9', '0.1', 'Paper']]\n",
      "Example of rawdata[  0]: ['0.5' '0.8' '0.5' '0.2' 'Scissors']\n",
      "Example of rawdata[  1]: ['0.5' '0.7' '0.7' '0.5' 'Scissors']\n",
      "         :           :                    :  \n",
      "Example of rawdata[148]: ['0.7' '0.2' '0.7' '0.2' 'Paper']\n",
      "Example of rawdata[149]: ['0.8' '0.2' '0.9' '0.1' 'Paper']\n",
      "Number of rawdata: 150\n"
     ]
    }
   ],
   "source": [
    "# Load Data Set\n",
    "with open('example_dataset.csv') as Data_file:\n",
    "    Data_list = csv.reader(Data_file)\n",
    "    Data = [Data for Data in Data_list]\n",
    "    print(Data)\n",
    "Rawdata_array = np.asarray(Data) # Load Data จาก List ให้กลายเป็น Array\n",
    "\n",
    "#ลองพิมพ์ตัวอย่างของข้อมูลที่โหลดเข้ามาเพื่อการตรวจสอบ\n",
    "print(\"Example of rawdata[{0:3d}]: {1}\".format(0,Rawdata_array[0]))\n",
    "print(\"Example of rawdata[{0:3d}]: {1}\".format(1,Rawdata_array[1]))\n",
    "print(\"         :           :                    :  \")\n",
    "print(\"Example of rawdata[{0:3d}]: {1}\".format(len(Rawdata_array)-2,Rawdata_array[-2]))\n",
    "print(\"Example of rawdata[{0:3d}]: {1}\".format(len(Rawdata_array)-1,Rawdata_array[-1]))\n",
    "print(\"Number of rawdata:\", len(Rawdata_array))"
   ]
  },
  {
   "cell_type": "markdown",
   "id": "7a9d6db8-53d3-4c6b-ac8d-6507db985914",
   "metadata": {},
   "source": [
    "ในตอนแรกข้อมูลที่เป็น feature และ target จะถูกโหลดมารวมกันอยู่ใน array เดียวกัน จึงต้องแยกข้อมูลออกเป็นส่วนที่เป็น input's feature และ เป็น output's target"
   ]
  },
  {
   "cell_type": "code",
   "execution_count": 28,
   "id": "9face3e0-ebde-4e5b-a5d0-6b80e0bd2733",
   "metadata": {},
   "outputs": [
    {
     "name": "stdout",
     "output_type": "stream",
     "text": [
      "Example of Input[  0]: [0.5 0.8 0.5 0.2]\n",
      "Example of Input[  1]: [0.5 0.7 0.7 0.5]\n",
      "         :         :              :  \n",
      "Example of Input[148]: [0.7 0.2 0.7 0.2]\n",
      "Example of Input[149]: [0.8 0.2 0.9 0.1]\n",
      "Shape of Input:  (150, 4)\n",
      "\n",
      "Example of Target[  0]: Scissors\n",
      "Example of Target[  1]: Scissors\n",
      "         :      :           :  \n",
      "Example of Target[148]: Paper\n",
      "Example of Target[149]: Paper\n",
      "Number of Target: 150\n"
     ]
    }
   ],
   "source": [
    "Input_array = np.zeros((len(Rawdata_array),len(Rawdata_array[0])-1),dtype = 'f')\n",
    "Target_list = list()\n",
    "for i in range(len(Rawdata_array)):\n",
    "        # แยกระหว่าง Input และ Output\n",
    "        Input_array[i] = np.array(Rawdata_array[i][0:len(Rawdata_array[i])-1],dtype = 'f')\n",
    "        Target_list.append(Rawdata_array[i][-1]) # แยก target ออกมา\n",
    "        \n",
    "#ลองพิมพ์ทั้งส่วนที่เป็น feature และ target เพื่อการตรวจสอบ\n",
    "print(\"Example of Input[{0:3d}]: {1}\".format(0,Input_array[0]))\n",
    "print(\"Example of Input[{0:3d}]: {1}\".format(1,Input_array[1]))\n",
    "print(\"         :         :              :  \")\n",
    "print(\"Example of Input[{0:3d}]: {1}\".format(len(Input_array)-2,Input_array[-2]))\n",
    "print(\"Example of Input[{0:3d}]: {1}\".format(len(Input_array)-1,Input_array[-1]))\n",
    "print(\"Shape of Input: \",Input_array.shape)\n",
    "\n",
    "print(\"\\nExample of Target[{0:3d}]: {1}\".format(0,Target_list[0]))\n",
    "print(\"Example of Target[{0:3d}]: {1}\".format(1,Target_list[1]))\n",
    "print(\"         :      :           :  \")\n",
    "print(\"Example of Target[{0:3d}]: {1}\".format(len(Target_list)-2,Target_list[-2]))\n",
    "print(\"Example of Target[{0:3d}]: {1}\".format(len(Target_list)-1,Target_list[-1]))\n",
    "print(\"Number of Target:\", len(Target_list))"
   ]
  },
  {
   "cell_type": "markdown",
   "id": "c649ee28-e1a6-40db-b524-874ea2a9845b",
   "metadata": {},
   "source": [
    "___\n",
    "### ขั้นตอนที่2: clean Data  \n",
    "ในขั้นตอนนี้ เมื่อเราไม่แน่ใจว่าข้อมูลที่โหลดเข้ามา มีข้อมูลที่ผิดพลาดหรือไม่ ให้ ทำการ clean data ก่อน โดยในบางครั้ง ข้อมูลอาจจะมีค่าที่ผิดพลาดได้เช่น ค่าเกินกว่าช่วงที่กำหนด หรือ ค่าขาดหายไป (อาจจะถูกบันทึกเป็น 0 หรือ N/A หรือ None) เราสามารถแก้ไขได้โดยวิธีต่าง ๆ เช่น ปรับช่วงให้ใหม่ หรือ เติมข้อมูลที่ขาดหายไป ถ้าหากข้อมูลมีจำนวน observation มาเพียงพอ เราอาจจะตัดข้อมูลใน observation หรือ record นั้นทิ้งไปเลยก็ได้  \n",
    "* สำหรับข้อมูลในส่วนที่เป็น input นอกจากทำการ clean data แล้วยังต้องปรับ data type ให้ถูกต้องก่อน เนื่องจากในการ load มาอาจจะเป็นอยู่ในรูปของ text อยู่\n",
    "* ลองเข็คค่าทางสถิติสำหรับแต่ละ feature ดูว่ามีความเหมาะสมหรือไม่ เช่น ไม่มี feature ใด feature หนึ่งที่มีค่าสูงมากเกินไป และ อาจจะทำการ normalize หรือ standardize แต่ละ feature ให้มีช่วงของค่าและการกระจายตัวที่สมดุลกัน เราเรียกกระบวนการเหล่านี้ว่า Pre-Processing\n",
    "* สำหรับข้อมูลในส่วนที่เป็น output ถ้าหากได้รับข้อมูลที่ label มาเป็น character เช่น Y/N หรือ True/False ให้เปลี่ยนเป็น integer เช่น 0/1   \n",
    "\n",
    "* ถ้าข้อมูลเป็นแบบ multiclass (มีการแบ่งคราสมากกว่า 2 class ขึ้นไป) อาจจะเปลี่ยนจำนวน output ให้เท่ากับจำนวนclass เช่น ปรับให้อยู่ในรูปนี้ class1 = 0 0 1, class2 = 0 1 0, class3 = 1 0 0"
   ]
  },
  {
   "cell_type": "code",
   "execution_count": 29,
   "id": "a57b96ef-57fb-4bef-9a96-22ff62581638",
   "metadata": {},
   "outputs": [
    {
     "name": "stdout",
     "output_type": "stream",
     "text": [
      "Shape of Cleaned Input: (150, 4)\n",
      "150\n",
      "4\n"
     ]
    }
   ],
   "source": [
    "# หากพบว่ามีข้อมูลที่ว่างเปล่าอยู่จึงทำการลบทิ้ง เช่น\n",
    "# Input_array = np.delete(Input_array,150,0)\n",
    "print(\"Shape of Cleaned Input:\", Input_array.shape)\n",
    "NumData, NumInput = Input_array.shape\n",
    "print(NumData)\n",
    "print(NumInput)"
   ]
  },
  {
   "cell_type": "code",
   "execution_count": 30,
   "id": "ae488127-99b0-468b-bbb5-eea556f0313e",
   "metadata": {},
   "outputs": [
    {
     "name": "stdout",
     "output_type": "stream",
     "text": [
      "3\n"
     ]
    }
   ],
   "source": [
    "#targetอาจจะมาในรูปของ text เลยต้องแปลงให้กลายเป็นตัวเลข หรือ เข็คจำนวนของ class\n",
    "# แปลงตัวคลาสให้อยู่ในรูป 001 010 100\n",
    "Class = list(set(Target_list))\n",
    "NumOutput = len(Class)\n",
    "print(NumOutput)"
   ]
  },
  {
   "cell_type": "code",
   "execution_count": 31,
   "id": "e792c532-018f-4c90-bbf4-0c4970119c23",
   "metadata": {},
   "outputs": [],
   "source": [
    "#ปรับให้อยู่ในรูปนี้ class1 = 0 0 1, class2 = 0 1 0, class3 = 1 0 0\n",
    "Target_array = np.zeros((NumData,NumOutput), dtype='i') # ให้ทุกตัวเป็น 0 0 0\n",
    "for i in range(NumData):\n",
    "    Target_array[i][Class.index(Target_list[i])] = 1"
   ]
  },
  {
   "cell_type": "code",
   "execution_count": 32,
   "metadata": {},
   "outputs": [
    {
     "data": {
      "text/plain": [
       "array([[1, 0, 0],\n",
       "       [1, 0, 0],\n",
       "       [1, 0, 0],\n",
       "       [1, 0, 0],\n",
       "       [1, 0, 0],\n",
       "       [1, 0, 0],\n",
       "       [1, 0, 0],\n",
       "       [1, 0, 0],\n",
       "       [1, 0, 0],\n",
       "       [1, 0, 0],\n",
       "       [1, 0, 0],\n",
       "       [1, 0, 0],\n",
       "       [1, 0, 0],\n",
       "       [1, 0, 0],\n",
       "       [1, 0, 0],\n",
       "       [1, 0, 0],\n",
       "       [1, 0, 0],\n",
       "       [1, 0, 0],\n",
       "       [1, 0, 0],\n",
       "       [1, 0, 0],\n",
       "       [1, 0, 0],\n",
       "       [1, 0, 0],\n",
       "       [1, 0, 0],\n",
       "       [1, 0, 0],\n",
       "       [1, 0, 0],\n",
       "       [1, 0, 0],\n",
       "       [1, 0, 0],\n",
       "       [1, 0, 0],\n",
       "       [1, 0, 0],\n",
       "       [1, 0, 0],\n",
       "       [1, 0, 0],\n",
       "       [1, 0, 0],\n",
       "       [1, 0, 0],\n",
       "       [1, 0, 0],\n",
       "       [1, 0, 0],\n",
       "       [1, 0, 0],\n",
       "       [1, 0, 0],\n",
       "       [1, 0, 0],\n",
       "       [1, 0, 0],\n",
       "       [1, 0, 0],\n",
       "       [1, 0, 0],\n",
       "       [1, 0, 0],\n",
       "       [1, 0, 0],\n",
       "       [1, 0, 0],\n",
       "       [1, 0, 0],\n",
       "       [1, 0, 0],\n",
       "       [1, 0, 0],\n",
       "       [1, 0, 0],\n",
       "       [1, 0, 0],\n",
       "       [1, 0, 0],\n",
       "       [0, 0, 1],\n",
       "       [0, 0, 1],\n",
       "       [0, 0, 1],\n",
       "       [0, 0, 1],\n",
       "       [0, 0, 1],\n",
       "       [0, 0, 1],\n",
       "       [0, 0, 1],\n",
       "       [0, 0, 1],\n",
       "       [0, 0, 1],\n",
       "       [0, 0, 1],\n",
       "       [0, 0, 1],\n",
       "       [0, 0, 1],\n",
       "       [0, 0, 1],\n",
       "       [0, 0, 1],\n",
       "       [0, 0, 1],\n",
       "       [0, 0, 1],\n",
       "       [0, 0, 1],\n",
       "       [0, 0, 1],\n",
       "       [0, 0, 1],\n",
       "       [0, 0, 1],\n",
       "       [0, 0, 1],\n",
       "       [0, 0, 1],\n",
       "       [0, 0, 1],\n",
       "       [0, 0, 1],\n",
       "       [0, 0, 1],\n",
       "       [0, 0, 1],\n",
       "       [0, 0, 1],\n",
       "       [0, 0, 1],\n",
       "       [0, 0, 1],\n",
       "       [0, 0, 1],\n",
       "       [0, 0, 1],\n",
       "       [0, 0, 1],\n",
       "       [0, 0, 1],\n",
       "       [0, 0, 1],\n",
       "       [0, 0, 1],\n",
       "       [0, 0, 1],\n",
       "       [0, 0, 1],\n",
       "       [0, 0, 1],\n",
       "       [0, 0, 1],\n",
       "       [0, 0, 1],\n",
       "       [0, 0, 1],\n",
       "       [0, 0, 1],\n",
       "       [0, 0, 1],\n",
       "       [0, 0, 1],\n",
       "       [0, 0, 1],\n",
       "       [0, 0, 1],\n",
       "       [0, 0, 1],\n",
       "       [0, 0, 1],\n",
       "       [0, 0, 1],\n",
       "       [0, 0, 1],\n",
       "       [0, 1, 0],\n",
       "       [0, 1, 0],\n",
       "       [0, 1, 0],\n",
       "       [0, 1, 0],\n",
       "       [0, 1, 0],\n",
       "       [0, 1, 0],\n",
       "       [0, 1, 0],\n",
       "       [0, 1, 0],\n",
       "       [0, 1, 0],\n",
       "       [0, 1, 0],\n",
       "       [0, 1, 0],\n",
       "       [0, 1, 0],\n",
       "       [0, 1, 0],\n",
       "       [0, 1, 0],\n",
       "       [0, 1, 0],\n",
       "       [0, 1, 0],\n",
       "       [0, 1, 0],\n",
       "       [0, 1, 0],\n",
       "       [0, 1, 0],\n",
       "       [0, 1, 0],\n",
       "       [0, 1, 0],\n",
       "       [0, 1, 0],\n",
       "       [0, 1, 0],\n",
       "       [0, 1, 0],\n",
       "       [0, 1, 0],\n",
       "       [0, 1, 0],\n",
       "       [0, 1, 0],\n",
       "       [0, 1, 0],\n",
       "       [0, 1, 0],\n",
       "       [0, 1, 0],\n",
       "       [0, 1, 0],\n",
       "       [0, 1, 0],\n",
       "       [0, 1, 0],\n",
       "       [0, 1, 0],\n",
       "       [0, 1, 0],\n",
       "       [0, 1, 0],\n",
       "       [0, 1, 0],\n",
       "       [0, 1, 0],\n",
       "       [0, 1, 0],\n",
       "       [0, 1, 0],\n",
       "       [0, 1, 0],\n",
       "       [0, 1, 0],\n",
       "       [0, 1, 0],\n",
       "       [0, 1, 0],\n",
       "       [0, 1, 0],\n",
       "       [0, 1, 0],\n",
       "       [0, 1, 0],\n",
       "       [0, 1, 0],\n",
       "       [0, 1, 0],\n",
       "       [0, 1, 0]], dtype=int32)"
      ]
     },
     "execution_count": 32,
     "metadata": {},
     "output_type": "execute_result"
    }
   ],
   "source": [
    "Target_array"
   ]
  },
  {
   "cell_type": "markdown",
   "id": "aa1283de-30f9-45dc-bfdf-516914e04223",
   "metadata": {},
   "source": [
    "---\n",
    "### ขั้นตอนที่3: แบ่งข้อมูลออกเป็น trian set และ test set   \n",
    "เรามีความจำเป็นต้องแบ่งข้อมูลออกเป็น2 ส่วนคือ train set คือ ข้อมูลที่เอาไว้สำหรับ train model ANN และ test set สำหรับทดสอบหาความแม่นยำของ model   \n",
    "ในขั้นนี้ สามารถใช้ เทคนิค k-fold cross validation ได้ โดยแบ่งข้อมูลออกเป็น k ชุด ให้ k-1 ชุดแรก เป็น train set และทีเหลืออีกหนึ่งเป็น test set   \n",
    "และสลับการทดลอง train และ test ทดสอบความแม่นยำ กันทั้งหมด k รอบ โดยให้ข้อมูลทุกชุดได้เป็น train set และ ได้เป็น test set อย่างน้อย 1 ครั้ง   \n",
    "\n",
    "ในทางโปรแกรม เราสามารถใช้ slicing เพื่อช่วยให้ง่ายขึ้นได้\n",
    "\n",
    "โดยพยายามแบ่งจำนวน class ใน train set ให้เท่า ๆ กันทุก class เพื่อไม่ให้ model ของเราเกิดการ bias ไปยัง class ใด class หนึ่งขึ้น  "
   ]
  },
  {
   "cell_type": "code",
   "execution_count": 33,
   "id": "a7c08e48-5c04-4f52-86d9-c88fd0dd442f",
   "metadata": {},
   "outputs": [
    {
     "name": "stdout",
     "output_type": "stream",
     "text": [
      "Number of Train data:  120\n",
      "Number of Test data:  30\n"
     ]
    }
   ],
   "source": [
    "#ตัวอย่างเช่น มีข้อมูลที่ถูกเรียงลำดับแล้ว มีอยู่ 3 class classละ 50 ตัวอย่าง แบ่งเป็น 5 fold-crossvalidation\n",
    "#เพราะฉะนั้น train set = 120 ตัว  และ test set = 30 ตัว\n",
    "#เราจะทำการ train และ test ทั้งหมด 5 รอบ แล้วหาค่าเฉลี่ยความแม่นยำ\n",
    "# รอบแรก (round 1) จะใช้ข้อมูล fold 1, 2, 3, 4 เป็น train set และ ใช้ fold 5 เป็น test set\n",
    "# จำนวนของ train data  = 4*Numdata/5 (80%)\n",
    "# จำนวน test data = Numdata/5 (20%)\n",
    "Input_Train = np.zeros((120,4),dtype='f') # zeros คือใส่ แถว และหลัก\n",
    "Input_Test = np.zeros((30,4),dtype='f')\n",
    "Target_Train = np.zeros((120,3),dtype='i')\n",
    "Target_Test = np.zeros((30,3),dtype='i')\n",
    "\n",
    "NumTest = 0\n",
    "NumTrain = 0\n",
    "for i in range(NumData):\n",
    "    #round 1 fold 1,2,3,4 เป็น train set และ fold5 เป็น test set\n",
    "    if (i%5) == 4: # ชุดไหน Mod 4 จะเก็บไว้เป็น Test Set\n",
    "        Input_Test[NumTest] = Input_array[i]\n",
    "        Target_Test[NumTest] = Target_array[i]\n",
    "        NumTest += 1\n",
    "    else:\n",
    "        Input_Train[NumTrain] = Input_array[i]\n",
    "        Target_Train[NumTrain] = Target_array[i]\n",
    "        NumTrain += 1\n",
    "print('Number of Train data: ',NumTrain)\n",
    "print('Number of Test data: ',NumTest)"
   ]
  },
  {
   "cell_type": "code",
   "execution_count": 34,
   "id": "27db3518-6ad9-4d95-8026-74f921963151",
   "metadata": {},
   "outputs": [],
   "source": [
    "np.random.seed(14)"
   ]
  },
  {
   "cell_type": "code",
   "execution_count": 35,
   "id": "59449ff3-427f-4722-9963-34eedb8715b4",
   "metadata": {},
   "outputs": [
    {
     "name": "stdout",
     "output_type": "stream",
     "text": [
      "Input in matrix form:\n",
      " [[0.5 0.5 0.6 0.3 0.6 0.3 0.4 0.5 0.4 0.6 0.4 0.5 0.3 0.4 0.3 0.5 0.3 0.5\n",
      "  0.4 0.5 0.4 0.4 0.3 0.4 0.3 0.6 0.6 0.3 0.3 0.6 0.3 0.3 0.4 0.5 0.3 0.6\n",
      "  0.3 0.6 0.3 0.5 0.2 0.1 0.1 0.1 0.1 0.3 0.2 0.2 0.1 0.3 0.2 0.1 0.1 0.2\n",
      "  0.1 0.2 0.3 0.3 0.2 0.1 0.3 0.2 0.3 0.2 0.2 0.3 0.3 0.2 0.1 0.2 0.1 0.2\n",
      "  0.3 0.2 0.3 0.3 0.2 0.2 0.3 0.2 0.8 0.9 0.9 1.  0.7 0.6 0.7 1.  0.9 0.6\n",
      "  0.7 1.  0.7 0.9 0.8 0.8 0.8 0.7 0.7 0.9 0.8 0.6 1.  0.8 0.6 0.7 0.7 0.7\n",
      "  0.7 0.6 0.6 1.  0.9 0.6 1.  0.6 0.8 1.  0.8 0.7]\n",
      " [0.8 0.7 0.9 0.8 0.8 0.8 0.8 0.7 0.7 0.9 0.9 0.8 0.8 0.7 0.9 0.9 0.8 0.9\n",
      "  0.8 0.7 0.8 0.9 0.9 0.9 0.7 0.9 0.9 0.8 0.8 0.8 0.9 0.7 0.8 0.7 0.9 0.9\n",
      "  0.9 0.9 0.8 0.7 0.8 0.8 0.7 0.9 0.8 0.9 0.7 0.7 0.8 0.7 0.7 0.7 0.8 0.7\n",
      "  0.7 0.8 0.7 0.7 0.8 0.8 0.7 0.7 0.7 0.7 0.7 0.9 0.7 0.9 0.7 0.8 0.9 0.8\n",
      "  0.9 0.7 0.9 0.9 0.9 0.8 0.7 0.9 0.3 0.3 0.6 0.4 0.5 0.5 0.3 0.3 0.4 0.6\n",
      "  0.5 0.4 0.1 0.1 0.2 0.6 0.2 0.2 0.1 0.2 0.6 0.1 0.1 0.1 0.3 0.3 0.4 0.4\n",
      "  0.1 0.1 0.5 0.4 0.4 0.5 0.1 0.5 0.4 0.5 0.4 0.2]\n",
      " [0.5 0.7 0.3 0.3 0.8 0.2 0.4 0.8 0.6 0.4 0.5 0.6 0.5 0.3 0.7 0.9 0.8 0.4\n",
      "  0.5 0.5 0.3 0.3 0.7 0.8 0.2 0.7 0.8 0.1 0.4 0.8 0.9 0.2 0.5 0.5 0.7 0.5\n",
      "  0.1 0.5 0.2 0.9 0.6 0.5 0.7 0.6 0.6 0.8 0.9 0.9 0.5 0.8 0.5 0.9 0.2 0.5\n",
      "  0.6 0.8 0.3 0.1 0.9 0.9 0.1 0.8 0.2 0.2 0.5 0.1 0.8 0.3 0.9 0.1 0.5 0.7\n",
      "  0.7 0.2 0.2 0.5 0.3 0.6 0.6 0.6 0.8 0.3 0.9 0.7 0.8 0.1 0.3 0.5 0.5 0.3\n",
      "  0.9 0.8 0.5 0.7 0.3 0.5 0.1 0.6 0.3 0.8 0.4 0.9 0.6 0.4 0.4 0.1 0.4 0.1\n",
      "  0.9 0.1 0.5 0.7 0.2 0.2 0.5 0.9 0.3 0.3 0.5 0.7]\n",
      " [0.2 0.5 0.2 0.5 0.2 0.2 0.4 0.5 0.3 0.2 0.5 0.2 0.3 0.5 0.3 0.5 0.2 0.5\n",
      "  0.5 0.3 0.5 0.5 0.2 0.2 0.3 0.5 0.4 0.3 0.3 0.3 0.2 0.5 0.2 0.4 0.4 0.2\n",
      "  0.5 0.4 0.5 0.4 0.3 0.6 0.8 0.8 0.7 0.5 0.4 0.3 0.5 0.2 0.6 0.3 0.8 0.5\n",
      "  0.6 0.8 0.7 0.7 0.7 0.9 0.7 0.2 0.5 0.5 0.7 0.5 0.3 0.5 0.4 0.6 0.2 1.\n",
      "  0.9 0.2 0.9 1.  0.7 0.9 0.8 0.1 0.2 0.1 0.1 0.2 0.1 0.1 0.2 0.1 0.1 0.2\n",
      "  0.2 0.2 0.1 0.2 0.1 0.1 0.1 0.1 0.2 0.2 0.1 0.2 0.1 0.1 0.2 0.1 0.2 0.1\n",
      "  0.2 0.2 0.1 0.2 0.2 0.1 0.2 0.1 0.1 0.2 0.2 0.2]]\n",
      "\n",
      "Shape of Input Matrix: (4, 120)\n"
     ]
    }
   ],
   "source": [
    "# converting the input in matrix form\n",
    "Input = Input_Train.T\n",
    "print(\"Input in matrix form:\\n\", Input)\n",
    "\n",
    "# shape of input matrix\n",
    "print(\"\\nShape of Input Matrix:\", Input.shape)"
   ]
  },
  {
   "cell_type": "code",
   "execution_count": 36,
   "id": "19962d0e-2f66-44c2-9107-045a18bbef7b",
   "metadata": {},
   "outputs": [
    {
     "name": "stdout",
     "output_type": "stream",
     "text": [
      "\n",
      "Target in matrix form:\n",
      " [[1 1 1 1 1 1 1 1 1 1 1 1 1 1 1 1 1 1 1 1 1 1 1 1 1 1 1 1 1 1 1 1 1 1 1 1\n",
      "  1 1 1 1 0 0 0 0 0 0 0 0 0 0 0 0 0 0 0 0 0 0 0 0 0 0 0 0 0 0 0 0 0 0 0 0\n",
      "  0 0 0 0 0 0 0 0 0 0 0 0 0 0 0 0 0 0 0 0 0 0 0 0 0 0 0 0 0 0 0 0 0 0 0 0\n",
      "  0 0 0 0 0 0 0 0 0 0 0 0]\n",
      " [0 0 0 0 0 0 0 0 0 0 0 0 0 0 0 0 0 0 0 0 0 0 0 0 0 0 0 0 0 0 0 0 0 0 0 0\n",
      "  0 0 0 0 0 0 0 0 0 0 0 0 0 0 0 0 0 0 0 0 0 0 0 0 0 0 0 0 0 0 0 0 0 0 0 0\n",
      "  0 0 0 0 0 0 0 0 1 1 1 1 1 1 1 1 1 1 1 1 1 1 1 1 1 1 1 1 1 1 1 1 1 1 1 1\n",
      "  1 1 1 1 1 1 1 1 1 1 1 1]\n",
      " [0 0 0 0 0 0 0 0 0 0 0 0 0 0 0 0 0 0 0 0 0 0 0 0 0 0 0 0 0 0 0 0 0 0 0 0\n",
      "  0 0 0 0 1 1 1 1 1 1 1 1 1 1 1 1 1 1 1 1 1 1 1 1 1 1 1 1 1 1 1 1 1 1 1 1\n",
      "  1 1 1 1 1 1 1 1 0 0 0 0 0 0 0 0 0 0 0 0 0 0 0 0 0 0 0 0 0 0 0 0 0 0 0 0\n",
      "  0 0 0 0 0 0 0 0 0 0 0 0]]\n",
      "\n",
      "Shape of Target: (3, 120)\n"
     ]
    }
   ],
   "source": [
    "# output in matrix form\n",
    "Target = Target_Train.T\n",
    "\n",
    "print(\"\\nTarget in matrix form:\\n\", Target)\n",
    "\n",
    "# shape of input array\n",
    "print(\"\\nShape of Target:\", Target.shape)"
   ]
  },
  {
   "cell_type": "markdown",
   "id": "14e68c9e-2437-4dbb-b96b-0d1d8122a3d4",
   "metadata": {},
   "source": [
    "----\n",
    "### ขั้นตอนที่ 4 กำหนด Hyperparameter ต่าง ๆ ของ Model  \n",
    "กำหนดขนาดของ ANN, Learning rate, Activate function เช่น\n",
    "* จำนวน Input Unit = จำนวน feature \n",
    "* จำนวน Hidden Layer = 1 ขึ้นไป (เริ่มต้นด้วย 1 หรือ 2) \n",
    "* จำนวน Hidden Unit = ประมาณครึ่งหนี่ง หรือ 2/3 ของจำนวน Input Unit  + จำนวน Output Unit (ตาม Rule of Thumbs)\n",
    "* จำนวน Output Unit = จำนวน class (ในกรณีที่เป็น 2 class สามารถลดลงเหลือ 1 unit ได้)  \n",
    "* Learning Rate = ค่าน้อย ๆ เช่น 0.01 หรือ 0.005 \n",
    "* Activate Function เช่น Sigmoid หรือ ReLu  \n",
    "\n",
    "จากขนาดของ ANN และ Input data จะทำให้เกิด\n",
    "1. Input Matrix เป็น Matrix ที่เกิดจากเอา Input Unit vector มาประกอบกัน ทำให้มีขนาดเป็น จำนวนแถวเป็น จำนวน feature และจำนวนคอลัมภ์เป็น จำนวน observation = No.Input unit x No.Observation  \n",
    "2. Hidden Unit vector = No.Hidden unit x 1  ขึ้นกับว่า มี Hidden Layer กี่ layer ถ้ามีมากกว่า 1 ก็จะมี Hidden vector มากกว่า 1 ตัว\n",
    "3. Output Unit vector = No.Output unit x 1\n",
    "4. Weight Matirx เช่น No.Input Unit x  No.Output Unit หรือใน layer ถัด ๆไป"
   ]
  },
  {
   "cell_type": "code",
   "execution_count": 37,
   "id": "19038039-1bdc-42c2-b2f4-02be0f85d374",
   "metadata": {},
   "outputs": [
    {
     "name": "stdout",
     "output_type": "stream",
     "text": [
      "No.Input Unit:  4\n",
      "No.Hidden Layer:  1\n",
      "No.Hidden Unit:  6\n",
      "No.Output Unit:  3\n"
     ]
    }
   ],
   "source": [
    "#Number of Input Unit = 4\n",
    "#Number of Output Unit = 3\n",
    "#Number of Hidden Layer is 1\n",
    "#Number of Hidden Unit = 2/3 * NumInput + NumOutput (Rule of Thumbs จะต้องเป็น 2/3 ของ Input + Output)\n",
    "NumHidden = 6\n",
    "print(\"No.Input Unit: \",NumInput)\n",
    "print(\"No.Hidden Layer: \", 1)\n",
    "print(\"No.Hidden Unit: \",NumHidden)\n",
    "print(\"No.Output Unit: \",NumOutput)"
   ]
  },
  {
   "cell_type": "markdown",
   "id": "bbe5a4ae-9f5f-4791-bb5d-cf1d76bfdda4",
   "metadata": {},
   "source": [
    "----\n",
    "### ขั้นตอนที่ 5 เริ่มกระบวนการ Train  \n",
    "1. กำหนดค่า weight ใน Weight Matrix เร่ิมต้น โดยการ Random ค่าระหว่าง -0.1 ~ 0.1  \n",
    "2. นำ Input vector จาก Input Matrix เข้าสู่กระบวนการ train ทีละ vector โดยทำการเรียงลำดับด้วยการ random หมายความว่า แต่ละรอบใช้ Label ที่ต่าง ๆกัน\n",
    "3. นำ Input vector มา dot กับ Weight Matrix แล้ว มาผ่าน Activate function เพื่อเป็น Output vector (หรือ Hidden unit vector)\n",
    "   e.g. output = sigmoid(dot(w,input + b)  \n",
    "4. ทำทีละ Layer จนกระทั้งถึง Output layer\n",
    "5. เมื่อได้ Output แล้วนำมาคำนวณ Error เพื่อนำมาเข้าสู่กระบวนการปรับ weight ด้วย Back propragation algorithm"
   ]
  },
  {
   "cell_type": "code",
   "execution_count": 38,
   "id": "edc5435c-72fc-4187-b746-01bd4bbbc32d",
   "metadata": {},
   "outputs": [
    {
     "data": {
      "text/plain": [
       "((4, 6), (6, 3))"
      ]
     },
     "execution_count": 38,
     "metadata": {},
     "output_type": "execute_result"
    }
   ],
   "source": [
    "# กำหนดค่าเริ่มต้นของ weight ในแต่ละส่วน \n",
    "# ชุดที่อยู่ระหว่าง Input กับ Hidden และ Hidden กับ Output\n",
    "weights_input_hidden = np.random.uniform(low= -0.1, high = 0.1, size=(NumInput, NumHidden))\n",
    "weights_hidden_output = np.random.uniform(low = -0.1, high = 0.1, size=(NumHidden, NumOutput))\n",
    "# shape of weight matrix\n",
    "weights_input_hidden.shape, weights_hidden_output.shape"
   ]
  },
  {
   "cell_type": "code",
   "execution_count": 39,
   "metadata": {},
   "outputs": [
    {
     "data": {
      "text/plain": [
       "array([[ 0.00278867,  0.05463301,  0.07408554, -0.09839061, -0.03805281,\n",
       "         0.09152075],\n",
       "       [ 0.00262334, -0.03634312,  0.00783999, -0.05574901,  0.06129627,\n",
       "        -0.03154907],\n",
       "       [ 0.00777777, -0.09882524,  0.0346305 , -0.05799515,  0.08651152,\n",
       "        -0.02515105],\n",
       "       [ 0.05048378,  0.0526278 ,  0.07409989, -0.07797776, -0.0399816 ,\n",
       "        -0.00501885]])"
      ]
     },
     "execution_count": 39,
     "metadata": {},
     "output_type": "execute_result"
    }
   ],
   "source": [
    "weights_input_hidden"
   ]
  },
  {
   "cell_type": "code",
   "execution_count": 40,
   "id": "f6150f58-a721-4803-9c18-9bc3c1f14cbe",
   "metadata": {},
   "outputs": [],
   "source": [
    "# กำหนด Acitvate function ที่จะนำมาใช้\n",
    "def sigmoid(x): # หรือ Logistic Function\n",
    "    return 1 / (1 + np.exp(-x))"
   ]
  },
  {
   "cell_type": "code",
   "execution_count": 41,
   "id": "03b3db6f-5d86-4b42-94a5-e949b98c0885",
   "metadata": {},
   "outputs": [
    {
     "name": "stdout",
     "output_type": "stream",
     "text": [
      "[ 15  24  73  84 109  20 108  41  54  47  66  25   6 107  51  79  45   5\n",
      " 111  13  74 105  57  31  86  44  98  93 112  23  77  80  61   2  18  21\n",
      "  69  70  58  30 116  22  37  39   7  36  53  68  90  42  29  46  40  96\n",
      "  95  71  14  64 117  82  19 106 115  43  27  88   0  34  65  87   8  38\n",
      " 103  49  26 119  75 114  63  33  55  76  59 113 104  89  91  72  99  56\n",
      "  67  94 102  62 118  10  81  32  35  48  83  17  85  28  12  97   3 100\n",
      "  11   1  52 101  16  50   4  78   9  60 110  92]\n"
     ]
    }
   ],
   "source": [
    "# random ลำดับของ input ที่จะถูกป้อนเข้า nerual net เพื่อใช้ในการ train\n",
    "''' Technique เวลาเราป้อน Patterns เข้าไป ควรจะ Random patterns หรือ Order อีกครั้ง\n",
    " เพราะถ้ามันเจอ ค้อนๆๆๆๆ กรรไกรๆๆๆ ค่า weight ที่ปรับ มันจะปรับทางค้อน, กระดาษ วนไป 500 รอบ , สรุปคือมันปรับกลับมาที่เดิม ไม่มีประสิทธิภาพ\n",
    " ค่า weight มันจะไปกองที่ Dataset ส่วนสุดท้าย\n",
    " '''\n",
    "Train_seq = np.random.permutation(NumTrain)\n",
    "print(Train_seq)"
   ]
  },
  {
   "cell_type": "code",
   "execution_count": 42,
   "metadata": {},
   "outputs": [
    {
     "name": "stdout",
     "output_type": "stream",
     "text": [
      "(4, 120)\n",
      "[[0.5 0.5 0.6 0.3 0.6 0.3 0.4 0.5 0.4 0.6 0.4 0.5 0.3 0.4 0.3 0.5 0.3 0.5\n",
      "  0.4 0.5 0.4 0.4 0.3 0.4 0.3 0.6 0.6 0.3 0.3 0.6 0.3 0.3 0.4 0.5 0.3 0.6\n",
      "  0.3 0.6 0.3 0.5 0.2 0.1 0.1 0.1 0.1 0.3 0.2 0.2 0.1 0.3 0.2 0.1 0.1 0.2\n",
      "  0.1 0.2 0.3 0.3 0.2 0.1 0.3 0.2 0.3 0.2 0.2 0.3 0.3 0.2 0.1 0.2 0.1 0.2\n",
      "  0.3 0.2 0.3 0.3 0.2 0.2 0.3 0.2 0.8 0.9 0.9 1.  0.7 0.6 0.7 1.  0.9 0.6\n",
      "  0.7 1.  0.7 0.9 0.8 0.8 0.8 0.7 0.7 0.9 0.8 0.6 1.  0.8 0.6 0.7 0.7 0.7\n",
      "  0.7 0.6 0.6 1.  0.9 0.6 1.  0.6 0.8 1.  0.8 0.7]\n",
      " [0.8 0.7 0.9 0.8 0.8 0.8 0.8 0.7 0.7 0.9 0.9 0.8 0.8 0.7 0.9 0.9 0.8 0.9\n",
      "  0.8 0.7 0.8 0.9 0.9 0.9 0.7 0.9 0.9 0.8 0.8 0.8 0.9 0.7 0.8 0.7 0.9 0.9\n",
      "  0.9 0.9 0.8 0.7 0.8 0.8 0.7 0.9 0.8 0.9 0.7 0.7 0.8 0.7 0.7 0.7 0.8 0.7\n",
      "  0.7 0.8 0.7 0.7 0.8 0.8 0.7 0.7 0.7 0.7 0.7 0.9 0.7 0.9 0.7 0.8 0.9 0.8\n",
      "  0.9 0.7 0.9 0.9 0.9 0.8 0.7 0.9 0.3 0.3 0.6 0.4 0.5 0.5 0.3 0.3 0.4 0.6\n",
      "  0.5 0.4 0.1 0.1 0.2 0.6 0.2 0.2 0.1 0.2 0.6 0.1 0.1 0.1 0.3 0.3 0.4 0.4\n",
      "  0.1 0.1 0.5 0.4 0.4 0.5 0.1 0.5 0.4 0.5 0.4 0.2]\n",
      " [0.5 0.7 0.3 0.3 0.8 0.2 0.4 0.8 0.6 0.4 0.5 0.6 0.5 0.3 0.7 0.9 0.8 0.4\n",
      "  0.5 0.5 0.3 0.3 0.7 0.8 0.2 0.7 0.8 0.1 0.4 0.8 0.9 0.2 0.5 0.5 0.7 0.5\n",
      "  0.1 0.5 0.2 0.9 0.6 0.5 0.7 0.6 0.6 0.8 0.9 0.9 0.5 0.8 0.5 0.9 0.2 0.5\n",
      "  0.6 0.8 0.3 0.1 0.9 0.9 0.1 0.8 0.2 0.2 0.5 0.1 0.8 0.3 0.9 0.1 0.5 0.7\n",
      "  0.7 0.2 0.2 0.5 0.3 0.6 0.6 0.6 0.8 0.3 0.9 0.7 0.8 0.1 0.3 0.5 0.5 0.3\n",
      "  0.9 0.8 0.5 0.7 0.3 0.5 0.1 0.6 0.3 0.8 0.4 0.9 0.6 0.4 0.4 0.1 0.4 0.1\n",
      "  0.9 0.1 0.5 0.7 0.2 0.2 0.5 0.9 0.3 0.3 0.5 0.7]\n",
      " [0.2 0.5 0.2 0.5 0.2 0.2 0.4 0.5 0.3 0.2 0.5 0.2 0.3 0.5 0.3 0.5 0.2 0.5\n",
      "  0.5 0.3 0.5 0.5 0.2 0.2 0.3 0.5 0.4 0.3 0.3 0.3 0.2 0.5 0.2 0.4 0.4 0.2\n",
      "  0.5 0.4 0.5 0.4 0.3 0.6 0.8 0.8 0.7 0.5 0.4 0.3 0.5 0.2 0.6 0.3 0.8 0.5\n",
      "  0.6 0.8 0.7 0.7 0.7 0.9 0.7 0.2 0.5 0.5 0.7 0.5 0.3 0.5 0.4 0.6 0.2 1.\n",
      "  0.9 0.2 0.9 1.  0.7 0.9 0.8 0.1 0.2 0.1 0.1 0.2 0.1 0.1 0.2 0.1 0.1 0.2\n",
      "  0.2 0.2 0.1 0.2 0.1 0.1 0.1 0.1 0.2 0.2 0.1 0.2 0.1 0.1 0.2 0.1 0.2 0.1\n",
      "  0.2 0.2 0.1 0.2 0.2 0.1 0.2 0.1 0.1 0.2 0.2 0.2]]\n"
     ]
    }
   ],
   "source": [
    "print(Input.shape)\n",
    "print(Input)"
   ]
  },
  {
   "cell_type": "code",
   "execution_count": 43,
   "id": "ab8149b4-233d-4810-a890-07917595e861",
   "metadata": {},
   "outputs": [
    {
     "name": "stdout",
     "output_type": "stream",
     "text": [
      "[0.6 0.9 0.7 0.5]\n",
      "[[0.6]\n",
      " [0.9]\n",
      " [0.7]\n",
      " [0.5]]\n",
      "(4, 1)\n"
     ]
    }
   ],
   "source": [
    "# เพื่อให้ยังคงเป็น dim = 1 จึงต้อง reshape อีกครั้งแต่ข้อมูลไม่ได้เปลี่ยน\n",
    "print(Input[:,Train_seq[11]])\n",
    "print(Input[:,Train_seq[11]].reshape(NumInput,1))\n",
    "print(Input[:,Train_seq[11]].reshape(NumInput,1).shape)"
   ]
  },
  {
   "cell_type": "markdown",
   "id": "af014c82-7509-474a-888d-9143d7c068af",
   "metadata": {},
   "source": [
    "## FeedForward  \n",
    "คือกระบวนการส่ง Information ที่เกิดจากการคำนวณจาก Input Layer ไปยัง Hidden Layer และ ไปยัง Output Layer โดยที่แต่ละ Layer ที่ Neural Node นั้น ๆ ต้องผ่าน Activate function ด้วย   \n",
    "ซึ่งในตัวอย่างนี้จะใช้ sigmoid  เป็น activate function"
   ]
  },
  {
   "cell_type": "markdown",
   "id": "8a618c08-1a13-4be2-9a2f-594ac1bfc920",
   "metadata": {},
   "source": [
    "#### ให้ X  --> input vector และ Y --> target vector\n",
    "#### hidden_layer_input= matrix_dot_product(X,w<sub>h</sub>) + b<sub>h</sub>\n",
    "#### hiddenlayer_activations = sigmoid(hidden_layer_input)"
   ]
  },
  {
   "cell_type": "code",
   "execution_count": 44,
   "id": "6f95b460-e4bb-4861-8c7e-89e797996dff",
   "metadata": {},
   "outputs": [
    {
     "name": "stdout",
     "output_type": "stream",
     "text": [
      "[[ 0.03599723]\n",
      " [-0.06802111]\n",
      " [ 0.11231615]\n",
      " [-0.19055393]\n",
      " [ 0.0940098 ]\n",
      " [-0.00777916]]\n"
     ]
    }
   ],
   "source": [
    "# at hidden layer\n",
    "# calculate hidden units and activated hidden units\n",
    "Hidden = np.dot(weights_input_hidden.T,Input[:,Train_seq[0]].reshape(NumInput,1))\n",
    "print(Hidden)\n",
    "Hidden = sigmoid(Hidden)"
   ]
  },
  {
   "cell_type": "code",
   "execution_count": 45,
   "id": "324c979a-cbc5-4052-8585-7fe85fbd58eb",
   "metadata": {},
   "outputs": [
    {
     "name": "stdout",
     "output_type": "stream",
     "text": [
      "[[0.50899834]\n",
      " [0.48300128]\n",
      " [0.52804956]\n",
      " [0.45250515]\n",
      " [0.52348516]\n",
      " [0.49805522]]\n",
      "(6, 1)\n"
     ]
    }
   ],
   "source": [
    "print(Hidden)\n",
    "print(Hidden.shape)"
   ]
  },
  {
   "cell_type": "code",
   "execution_count": 46,
   "metadata": {},
   "outputs": [
    {
     "name": "stdout",
     "output_type": "stream",
     "text": [
      "0.5089983358502589\n"
     ]
    }
   ],
   "source": [
    "print(sigmoid(0.03599723))"
   ]
  },
  {
   "cell_type": "markdown",
   "id": "2a1579f8-5bd9-4697-9895-c16a08d2e838",
   "metadata": {},
   "source": [
    "#### output_layer_input = matrix_dot_product (hiddenlayer_activations, w<sub>out</sub> ) + b<sub>out</sub>\n",
    "#### output = sigmoid(output_layer_input)"
   ]
  },
  {
   "cell_type": "code",
   "execution_count": 47,
   "id": "9180a5b1-ac0f-4902-a84c-2f81327b12af",
   "metadata": {},
   "outputs": [],
   "source": [
    "# at output layer\n",
    "# calculate output units and activated output units\n",
    "Output = np.dot(weights_hidden_output.T,Hidden)\n",
    "Output = sigmoid(Output)"
   ]
  },
  {
   "cell_type": "code",
   "execution_count": 48,
   "id": "38ff951e-92d0-4056-8aa8-4a0e0f68e258",
   "metadata": {},
   "outputs": [
    {
     "name": "stdout",
     "output_type": "stream",
     "text": [
      "[[0.49838968]\n",
      " [0.48955611]\n",
      " [0.51690906]]\n",
      "(3, 1)\n"
     ]
    }
   ],
   "source": [
    "print(Output)\n",
    "print(Output.shape)"
   ]
  },
  {
   "cell_type": "code",
   "execution_count": 49,
   "metadata": {},
   "outputs": [
    {
     "name": "stdout",
     "output_type": "stream",
     "text": [
      "[[1 1 1 1 1 1 1 1 1 1 1 1 1 1 1 1 1 1 1 1 1 1 1 1 1 1 1 1 1 1 1 1 1 1 1 1\n",
      "  1 1 1 1 0 0 0 0 0 0 0 0 0 0 0 0 0 0 0 0 0 0 0 0 0 0 0 0 0 0 0 0 0 0 0 0\n",
      "  0 0 0 0 0 0 0 0 0 0 0 0 0 0 0 0 0 0 0 0 0 0 0 0 0 0 0 0 0 0 0 0 0 0 0 0\n",
      "  0 0 0 0 0 0 0 0 0 0 0 0]\n",
      " [0 0 0 0 0 0 0 0 0 0 0 0 0 0 0 0 0 0 0 0 0 0 0 0 0 0 0 0 0 0 0 0 0 0 0 0\n",
      "  0 0 0 0 0 0 0 0 0 0 0 0 0 0 0 0 0 0 0 0 0 0 0 0 0 0 0 0 0 0 0 0 0 0 0 0\n",
      "  0 0 0 0 0 0 0 0 1 1 1 1 1 1 1 1 1 1 1 1 1 1 1 1 1 1 1 1 1 1 1 1 1 1 1 1\n",
      "  1 1 1 1 1 1 1 1 1 1 1 1]\n",
      " [0 0 0 0 0 0 0 0 0 0 0 0 0 0 0 0 0 0 0 0 0 0 0 0 0 0 0 0 0 0 0 0 0 0 0 0\n",
      "  0 0 0 0 1 1 1 1 1 1 1 1 1 1 1 1 1 1 1 1 1 1 1 1 1 1 1 1 1 1 1 1 1 1 1 1\n",
      "  1 1 1 1 1 1 1 1 0 0 0 0 0 0 0 0 0 0 0 0 0 0 0 0 0 0 0 0 0 0 0 0 0 0 0 0\n",
      "  0 0 0 0 0 0 0 0 0 0 0 0]]\n"
     ]
    }
   ],
   "source": [
    "print(Target)"
   ]
  },
  {
   "cell_type": "markdown",
   "id": "d68a5735-1bab-41a6-a3dd-9a1c5afe939b",
   "metadata": {},
   "source": [
    "### ในขั้นตอนถัดไป คือ Backpropagation alogrithm เพื่อเป้าหมายคือการ การปรับค่า weight ให้ ได้ค่า weight ที่เหมาะสมทำให้ได้ค่า output ใกล้เคียงกับ ค่า Target มากที่สุด\n",
    "โดยจะทำงานย้อนกลับไปที่ละ layer จาก output ย้อนกลับไปหา input"
   ]
  },
  {
   "cell_type": "markdown",
   "id": "c891634e-4c5d-4f1f-9184-aed56fb9bacc",
   "metadata": {},
   "source": [
    "#### ตามปรกติ Error = Y – Output\n",
    "#### หรือคิดเป็น Mean Square Error (MSE) --> Error = ((Y - Output)<sup>2</sup>) /2"
   ]
  },
  {
   "cell_type": "code",
   "execution_count": 50,
   "metadata": {},
   "outputs": [
    {
     "name": "stdout",
     "output_type": "stream",
     "text": [
      "[1 0 0]\n"
     ]
    }
   ],
   "source": [
    "print(Target[:,Train_seq[0]])"
   ]
  },
  {
   "cell_type": "code",
   "execution_count": 51,
   "id": "44db769a-11b2-49d3-9739-9952d41aeffa",
   "metadata": {},
   "outputs": [
    {
     "name": "stdout",
     "output_type": "stream",
     "text": [
      "[[0.12580646]\n",
      " [0.11983259]\n",
      " [0.13359749]]\n",
      "(3, 1)\n"
     ]
    }
   ],
   "source": [
    "# at output layer \n",
    "# calculating error\n",
    "Error = (np.square(Target[:,Train_seq[0]].reshape(NumOutput,1) - Output) / 2)\n",
    "print(Error)\n",
    "print(Error.shape)"
   ]
  },
  {
   "cell_type": "code",
   "execution_count": 52,
   "id": "598f568b-73a9-4d1c-9e81-dd45c656bbc1",
   "metadata": {},
   "outputs": [
    {
     "name": "stdout",
     "output_type": "stream",
     "text": [
      "[[-0.50161032]\n",
      " [ 0.48955611]\n",
      " [ 0.51690906]]\n",
      "(3, 1)\n"
     ]
    }
   ],
   "source": [
    "# rate of change of error w.r.t. output\n",
    "# dE/dO\n",
    "Error_wrt_output = -(Target[:,Train_seq[0]].reshape(NumOutput,1) - Output)\n",
    "print(Error_wrt_output)\n",
    "print(Error_wrt_output.shape)"
   ]
  },
  {
   "cell_type": "markdown",
   "id": "a279ae0f-b931-4460-82e4-a5bf3a57525a",
   "metadata": {},
   "source": [
    "![image](asset/back_Output_Hidden_pic.png)"
   ]
  },
  {
   "cell_type": "markdown",
   "id": "5faaf4b1-04ed-42d9-ad23-0838848d7dbc",
   "metadata": {},
   "source": [
    "![image](asset/back_Output_Hidden_equ.png)"
   ]
  },
  {
   "cell_type": "code",
   "execution_count": 53,
   "id": "2a1127f3-cf64-45d7-a1e4-f02d609ca493",
   "metadata": {},
   "outputs": [
    {
     "name": "stdout",
     "output_type": "stream",
     "text": [
      "[[0.49838968]\n",
      " [0.48955611]\n",
      " [0.51690906]]\n",
      "[[0.50161032]\n",
      " [0.51044389]\n",
      " [0.48309094]]\n",
      "[[0.24999741]\n",
      " [0.24989093]\n",
      " [0.24971408]]\n",
      "(3, 1)\n"
     ]
    }
   ],
   "source": [
    "# rate of change of output w.r.t. Z2\n",
    "# dO/dZ2\n",
    "Output_wrt_outputLayer_LinearTransform = np.multiply(Output, (1 - Output))\n",
    "print(Output)\n",
    "print(1 - Output)\n",
    "print(Output_wrt_outputLayer_LinearTransform)\n",
    "print(Output_wrt_outputLayer_LinearTransform.shape)"
   ]
  },
  {
   "cell_type": "code",
   "execution_count": 54,
   "id": "97789aa8-f0c3-440b-97bd-cc1613fa9d08",
   "metadata": {},
   "outputs": [
    {
     "name": "stdout",
     "output_type": "stream",
     "text": [
      "[[0.50899834]\n",
      " [0.48300128]\n",
      " [0.52804956]\n",
      " [0.45250515]\n",
      " [0.52348516]\n",
      " [0.49805522]]\n",
      "(6, 1)\n"
     ]
    }
   ],
   "source": [
    "# rate of change of Z2 w.r.t. weights between hidden and output layer\n",
    "# dZ2/dWho\n",
    "OutputLayer_LinearTransform_wrt_weights_hidden_output = Hidden\n",
    "print(OutputLayer_LinearTransform_wrt_weights_hidden_output)\n",
    "print(OutputLayer_LinearTransform_wrt_weights_hidden_output.shape)"
   ]
  },
  {
   "cell_type": "code",
   "execution_count": 55,
   "id": "7df5181d-ebd9-4355-aa59-18d4de9a60b5",
   "metadata": {},
   "outputs": [
    {
     "name": "stdout",
     "output_type": "stream",
     "text": [
      "[[-0.50161032]\n",
      " [ 0.48955611]\n",
      " [ 0.51690906]]\n",
      "[[0.24999741]\n",
      " [0.24989093]\n",
      " [0.24971408]]\n",
      "[[-0.12540128]\n",
      " [ 0.12233563]\n",
      " [ 0.12907947]]\n"
     ]
    }
   ],
   "source": [
    "# rate of change of error w.r.t weight between hidden and output layer\n",
    "# dE/dWho \n",
    "Error_wrt_weights_hidden_output = np.dot(OutputLayer_LinearTransform_wrt_weights_hidden_output,\n",
    "    (Error_wrt_output * Output_wrt_outputLayer_LinearTransform).T,)\n",
    "\n",
    "print(Error_wrt_output)\n",
    "print(Output_wrt_outputLayer_LinearTransform)\n",
    "print(Error_wrt_output * Output_wrt_outputLayer_LinearTransform)\n",
    "# print(Error_wrt_weights_hidden_output)\n",
    "# print(Error_wrt_weights_hidden_output.shape)"
   ]
  },
  {
   "cell_type": "markdown",
   "id": "4dc3bbcf-23b6-45c3-bf53-b211a9ba12d2",
   "metadata": {},
   "source": [
    "![image](asset/back_Hidden_Input_pic.png)"
   ]
  },
  {
   "cell_type": "markdown",
   "id": "f7163ef7-aa6a-41d5-ab59-50b8520bc14a",
   "metadata": {},
   "source": [
    "![image](asset/back_Hidden_Input_equ.png)"
   ]
  },
  {
   "cell_type": "code",
   "execution_count": 56,
   "id": "d10f7e18-724d-403b-8de8-8d8235c5c8a4",
   "metadata": {},
   "outputs": [
    {
     "name": "stdout",
     "output_type": "stream",
     "text": [
      "[[-0.50161032]\n",
      " [ 0.48955611]\n",
      " [ 0.51690906]]\n",
      "(3, 1)\n"
     ]
    }
   ],
   "source": [
    "# rate of change of error w.r.t. output\n",
    "Error_wrt_output = -(Target[:,Train_seq[0]].reshape(NumOutput,1) - Output)\n",
    "print(Error_wrt_output)\n",
    "print(Error_wrt_output.shape)"
   ]
  },
  {
   "cell_type": "code",
   "execution_count": 57,
   "id": "e60407f1-9ded-4611-93d0-ad4c7757acfc",
   "metadata": {},
   "outputs": [
    {
     "name": "stdout",
     "output_type": "stream",
     "text": [
      "[[0.24999741]\n",
      " [0.24989093]\n",
      " [0.24971408]]\n",
      "(3, 1)\n"
     ]
    }
   ],
   "source": [
    "# rate of change of output w.r.t. Z2\n",
    "Output_wrt_outputLayer_LinearTransform = np.multiply(Output, (1 - Output))\n",
    "print(Output_wrt_outputLayer_LinearTransform)\n",
    "print(Output_wrt_outputLayer_LinearTransform.shape)"
   ]
  },
  {
   "cell_type": "code",
   "execution_count": 58,
   "id": "5b7384df-e3ec-47c2-bbd8-9e84599499d9",
   "metadata": {},
   "outputs": [
    {
     "name": "stdout",
     "output_type": "stream",
     "text": [
      "[[ 0.03458734 -0.04848151  0.04023026]\n",
      " [ 0.03140001 -0.06359845 -0.0355874 ]\n",
      " [ 0.07750749 -0.08333017  0.04931282]\n",
      " [-0.08752999  0.04629623  0.04850227]\n",
      " [-0.01841684  0.0982766  -0.00957254]\n",
      " [-0.06202429 -0.02967471  0.04296233]]\n",
      "(6, 3)\n"
     ]
    }
   ],
   "source": [
    "# rate of change of Z2 w.r.t. hidden layer activations\n",
    "OutputLayer_LinearTransform_wrt_hiddenLayer_activations = weights_hidden_output\n",
    "print(OutputLayer_LinearTransform_wrt_hiddenLayer_activations)\n",
    "print(OutputLayer_LinearTransform_wrt_hiddenLayer_activations.shape)"
   ]
  },
  {
   "cell_type": "code",
   "execution_count": 59,
   "id": "27c83041-0057-4386-a27f-52d932c9791a",
   "metadata": {},
   "outputs": [
    {
     "name": "stdout",
     "output_type": "stream",
     "text": [
      "[[0.24991903]\n",
      " [0.24971104]\n",
      " [0.24921322]\n",
      " [0.24774424]\n",
      " [0.24944845]\n",
      " [0.24999622]]\n",
      "(6, 1)\n"
     ]
    }
   ],
   "source": [
    "# rate of change of hidden layer activations w.r.t. Z1\n",
    "HiddenLayer_activations_wrt_hiddenLayer_linearTransform = np.multiply(Hidden, (1 - Hidden))\n",
    "print(HiddenLayer_activations_wrt_hiddenLayer_linearTransform)\n",
    "print(HiddenLayer_activations_wrt_hiddenLayer_linearTransform.shape)"
   ]
  },
  {
   "cell_type": "code",
   "execution_count": 60,
   "id": "0e5703da-a05c-4c11-ae56-01ea4bed85b0",
   "metadata": {},
   "outputs": [
    {
     "name": "stdout",
     "output_type": "stream",
     "text": [
      "[[0.5]\n",
      " [0.9]\n",
      " [0.9]\n",
      " [0.5]]\n",
      "(4, 1)\n"
     ]
    }
   ],
   "source": [
    "# rate of change of Z1 w.r.t. weights between input and hidden layer\n",
    "HiddenLayer_linearTransform_wrt_weights_input_hidden = Input[:,Train_seq[0]].reshape(NumInput,1)\n",
    "print(HiddenLayer_linearTransform_wrt_weights_input_hidden)\n",
    "print(HiddenLayer_linearTransform_wrt_weights_input_hidden.shape)"
   ]
  },
  {
   "cell_type": "code",
   "execution_count": 61,
   "id": "e87c800c-6e87-41b7-bf2e-f4431445b0f7",
   "metadata": {},
   "outputs": [
    {
     "name": "stdout",
     "output_type": "stream",
     "text": [
      "[[ 0.00278867  0.05463301  0.07408554 -0.09839061 -0.03805281  0.09152075]\n",
      " [ 0.00262334 -0.03634312  0.00783999 -0.05574901  0.06129627 -0.03154907]\n",
      " [ 0.00777777 -0.09882524  0.0346305  -0.05799515  0.08651152 -0.02515105]\n",
      " [ 0.05048378  0.0526278   0.07409989 -0.07797776 -0.0399816  -0.00501885]]\n",
      "(4, 6)\n"
     ]
    }
   ],
   "source": [
    "# shape of weights of hidden layer\n",
    "print(weights_input_hidden)\n",
    "print(weights_input_hidden.shape)"
   ]
  },
  {
   "cell_type": "code",
   "execution_count": 62,
   "id": "0d72bd11-5ea7-4629-bed5-ecea4b7b7f9c",
   "metadata": {},
   "outputs": [
    {
     "name": "stdout",
     "output_type": "stream",
     "text": [
      "[[-0.00063422 -0.00203659 -0.00168823  0.00283676  0.00163346  0.00121163]\n",
      " [-0.0011416  -0.00366586 -0.00303882  0.00510616  0.00294024  0.00218094]\n",
      " [-0.0011416  -0.00366586 -0.00303882  0.00510616  0.00294024  0.00218094]\n",
      " [-0.00063422 -0.00203659 -0.00168823  0.00283676  0.00163346  0.00121163]]\n",
      "(4, 6)\n"
     ]
    }
   ],
   "source": [
    "# rate of change of error w.r.t weights between input and hidden layer\n",
    "Error_wrt_weights_input_hidden = np.dot(\n",
    "    HiddenLayer_linearTransform_wrt_weights_input_hidden,\n",
    "    (\n",
    "        HiddenLayer_activations_wrt_hiddenLayer_linearTransform\n",
    "        * np.dot(OutputLayer_LinearTransform_wrt_hiddenLayer_activations,\n",
    "            (Output_wrt_outputLayer_LinearTransform * Error_wrt_output),\n",
    "        )\n",
    "    ).T,)\n",
    "print(Error_wrt_weights_input_hidden)\n",
    "print(Error_wrt_weights_input_hidden.shape)\n",
    "\n",
    "# ค่า Error"
   ]
  },
  {
   "cell_type": "code",
   "execution_count": 63,
   "id": "fa2d02d3-9c88-48fb-8dff-048baa3090b8",
   "metadata": {},
   "outputs": [],
   "source": [
    "# กำหนดค่า learning rate\n",
    "alpha = 0.01"
   ]
  },
  {
   "cell_type": "code",
   "execution_count": 64,
   "id": "0cf327df-4ee8-4e6a-9ce0-6c8e85eb12dd",
   "metadata": {},
   "outputs": [
    {
     "name": "stdout",
     "output_type": "stream",
     "text": [
      "weights_hidden_output: before update\n",
      "[[ 0.03458734 -0.04848151  0.04023026]\n",
      " [ 0.03140001 -0.06359845 -0.0355874 ]\n",
      " [ 0.07750749 -0.08333017  0.04931282]\n",
      " [-0.08752999  0.04629623  0.04850227]\n",
      " [-0.01841684  0.0982766  -0.00957254]\n",
      " [-0.06202429 -0.02967471  0.04296233]]\n",
      "\n",
      "weights_hidden_output: updated\n",
      "[[ 0.03522563 -0.0491042   0.03957325]\n",
      " [ 0.0320057  -0.06418933 -0.03621086]\n",
      " [ 0.07816967 -0.08397616  0.04863122]\n",
      " [-0.08696254  0.04574265  0.04791818]\n",
      " [-0.01776038  0.09763619 -0.01024825]\n",
      " [-0.06139972 -0.030284    0.04231945]]\n"
     ]
    }
   ],
   "source": [
    "# updating the weights of output layer\n",
    "print(\"weights_hidden_output: before update\")\n",
    "print(weights_hidden_output)\n",
    "weights_hidden_output = weights_hidden_output - alpha * Error_wrt_weights_hidden_output\n",
    "print(\"\\nweights_hidden_output: updated\")\n",
    "print(weights_hidden_output)"
   ]
  },
  {
   "cell_type": "code",
   "execution_count": 65,
   "id": "b52ffa20-7b12-493b-b4d8-b46961e80d34",
   "metadata": {},
   "outputs": [
    {
     "name": "stdout",
     "output_type": "stream",
     "text": [
      "weights_input_hidden: before update\n",
      "[[ 0.00278867  0.05463301  0.07408554 -0.09839061 -0.03805281  0.09152075]\n",
      " [ 0.00262334 -0.03634312  0.00783999 -0.05574901  0.06129627 -0.03154907]\n",
      " [ 0.00777777 -0.09882524  0.0346305  -0.05799515  0.08651152 -0.02515105]\n",
      " [ 0.05048378  0.0526278   0.07409989 -0.07797776 -0.0399816  -0.00501885]]\n",
      "\n",
      "weights_input_hidden: updated\n",
      "[[ 0.00279501  0.05465338  0.07410242 -0.09841898 -0.03806915  0.09150863]\n",
      " [ 0.00263476 -0.03630646  0.00787038 -0.05580007  0.06126687 -0.03157088]\n",
      " [ 0.00778919 -0.09878858  0.03466088 -0.05804621  0.08648212 -0.02517286]\n",
      " [ 0.05049013  0.05264817  0.07411677 -0.07800613 -0.03999794 -0.00503096]]\n"
     ]
    }
   ],
   "source": [
    "# updating the weights of hidden layer\n",
    "print(\"weights_input_hidden: before update\")\n",
    "print(weights_input_hidden)\n",
    "weights_input_hidden = weights_input_hidden - alpha * Error_wrt_weights_input_hidden\n",
    "print(\"\\nweights_input_hidden: updated\")\n",
    "print(weights_input_hidden)"
   ]
  },
  {
   "cell_type": "markdown",
   "id": "c4ea5f21-bb8c-4734-a65f-a0c4aac81af3",
   "metadata": {},
   "source": [
    "----\n",
    "ขั้นตอนที่ 5 (ต่อ) ทำกระบวนการ Train ต่อไป จนครบทุก pattern แล้วเริ่มทำอีกครั้ง (Random ลำดับการป้อน Input ใหม่) เรียกว่า จบ 1 Epoch หรือ 1 iteration   \n",
    "ทำซ้ำ ๆ อีกหลาย ๆ Epoch/iteration จนกระทั้ง Error (Mean square Error) มีค่าลดลงต่ำที่สุด จึงจบกระบวนการ Train  \n",
    "อาจจะต้องมีการปรับค่าบางอย่างเพื่อทำให้ Neural Network ทำกระบวนการ Train ได้ดีขึ้น เช่น \n",
    "hyperparameter ต่าง ๆ จำนวน Epoch หรือ อาจจะใช้เทคนิคอื่น ๆ เช่น weight decay , momentum (ต้องศึกษาเพิ่มเติม)"
   ]
  },
  {
   "cell_type": "code",
   "execution_count": 66,
   "id": "767dd4d0-3b64-450b-9a2f-d84e096768b1",
   "metadata": {},
   "outputs": [
    {
     "name": "stdout",
     "output_type": "stream",
     "text": [
      "Number of Train data:  120\n",
      "Number of Test data:  30\n"
     ]
    }
   ],
   "source": [
    "# กำหนด Train Set และ Test set\n",
    "NumTest = 0\n",
    "NumTrain = 0\n",
    "for i in range(NumData):\n",
    "    #round 1 fold 1,2,3,4 เป็น train set และ fold5 เป็น test set\n",
    "    if (i%5) == 4:\n",
    "        Input_Test[NumTest] = Input_array[i]\n",
    "        Target_Test[NumTest] = Target_array[i]\n",
    "        NumTest += 1\n",
    "    else:\n",
    "        Input_Train[NumTrain] = Input_array[i]\n",
    "        Target_Train[NumTrain] = Target_array[i]\n",
    "        NumTrain += 1\n",
    "print('Number of Train data: ',NumTrain)\n",
    "print('Number of Test data: ',NumTest)\n",
    "\n",
    "np.random.seed(14)\n",
    "Input = Input_Train.T\n",
    "Target = Target_Train.T"
   ]
  },
  {
   "cell_type": "code",
   "execution_count": 67,
   "id": "43872230-9b3f-4c9c-9931-db86ebce6cae",
   "metadata": {},
   "outputs": [],
   "source": [
    "# จากข้างต้นทั้งหมด สรุปรวมได้ดังนี้\n",
    "# กำหนดขนาดของ Network\n",
    "NumInput = 4\n",
    "#Number of Hidden Layer = 1\n",
    "NumHidden = 6\n",
    "NumOutput = 3\n",
    "# กำหนดค่าเริ่มต้นของ Weight\n",
    "weights_input_hidden = np.random.uniform(size=(NumInput,NumHidden))\n",
    "weights_hidden_output = np.random.uniform(size=(NumHidden, NumOutput))\n",
    "# กำหนดค่า learning rate\n",
    "alpha = 0.01\n",
    "\n",
    "\n",
    "# กำหนด Acitvate function ที่จะนำมาใช้\n",
    "def sigmoid(x):\n",
    "    return 1 / (1 + np.exp(-x))\n",
    "\n",
    "# กำหนดจำนวน Epoch\n",
    "epochs = 1000"
   ]
  },
  {
   "cell_type": "code",
   "execution_count": 68,
   "id": "246125a1-4756-49dc-8293-a3243e79571a",
   "metadata": {},
   "outputs": [
    {
     "name": "stdout",
     "output_type": "stream",
     "text": [
      "Error at epoch 0 is 0.26728\n",
      "Error at epoch 100 is 0.10885\n",
      "Error at epoch 200 is 0.06741\n",
      "Error at epoch 300 is 0.00998\n",
      "Error at epoch 400 is 0.09116\n",
      "Error at epoch 500 is 0.00742\n"
     ]
    },
    {
     "name": "stdout",
     "output_type": "stream",
     "text": [
      "Error at epoch 600 is 0.00493\n",
      "Error at epoch 700 is 0.05628\n",
      "Error at epoch 800 is 0.04169\n",
      "Error at epoch 900 is 0.00891\n"
     ]
    }
   ],
   "source": [
    "losses = []\n",
    "for epoch in range(epochs):\n",
    "    # random ลำดับของ input ที่จะถูกป้อนเข้า nerual net เพื่อใช้ในการ train\n",
    "    Train_seq = np.random.permutation(NumTrain)\n",
    "    \n",
    "    # Start Train\n",
    "    for i in range(NumTrain):\n",
    "    \n",
    "        #########################\n",
    "        ## Forward Propogation ##\n",
    "        #########################\n",
    "        # calculating hidden layer activations\n",
    "        Hidden = np.dot(weights_input_hidden.T,Input[:,Train_seq[i]].reshape(NumInput,1) )\n",
    "        Hidden = sigmoid(Hidden)\n",
    "\n",
    "        # calculating the output\n",
    "        Output = np.dot(weights_hidden_output.T, Hidden)\n",
    "        Output = sigmoid(Output)\n",
    "        \n",
    "        ##########################\n",
    "        ## Backward Propagation ##\n",
    "        ##########################\n",
    "        # calculating error\n",
    "        Error = np.square(Target[:,Train_seq[i]].reshape(NumOutput,1) - Output) / 2\n",
    "\n",
    "        # calculating rate of change of error w.r.t weight between hidden and output layer\n",
    "        Error_wrt_output = -(Target[:,Train_seq[i]].reshape(NumOutput,1) - Output)\n",
    "        Output_wrt_outputLayer_LinearTransform = np.multiply(Output, (1 - Output))\n",
    "        OutputLayer_LinearTransform_wrt_weights_hidden_output = Hidden\n",
    "\n",
    "        Error_wrt_weights_hidden_output = np.dot(OutputLayer_LinearTransform_wrt_weights_hidden_output,\n",
    "                                                 (Error_wrt_output * Output_wrt_outputLayer_LinearTransform).T,)\n",
    "\n",
    "        # calculating rate of change of error w.r.t weights between input and hidden layer\n",
    "        OutputLayer_LinearTransform_wrt_hiddenLayer_activations = weights_hidden_output\n",
    "        HiddenLayer_activations_wrt_hiddenLayer_linearTransform = np.multiply(Hidden, (1 - Hidden))\n",
    "        HiddenLayer_linearTransform_wrt_weights_input_hidden = Input[:,Train_seq[i]].reshape(NumInput,1)\n",
    "        Error_wrt_weights_input_hidden = np.dot(HiddenLayer_linearTransform_wrt_weights_input_hidden,\n",
    "            (HiddenLayer_activations_wrt_hiddenLayer_linearTransform\n",
    "                * np.dot(OutputLayer_LinearTransform_wrt_hiddenLayer_activations,\n",
    "                (Output_wrt_outputLayer_LinearTransform * Error_wrt_output),)).T,)\n",
    "\n",
    "        # updating the weights\n",
    "        weights_hidden_output = weights_hidden_output - alpha * Error_wrt_weights_hidden_output\n",
    "        weights_input_hidden = weights_input_hidden - alpha * Error_wrt_weights_input_hidden\n",
    "\n",
    "    # print error at every 100th epoch\n",
    "    epoch_loss = np.average(Error)\n",
    "    if epoch % 100 == 0:\n",
    "        print(f\"Error at epoch {epoch} is {epoch_loss:.5f}\")\n",
    "\n",
    "    # appending the error of each epoch\n",
    "    losses.append(epoch_loss)"
   ]
  },
  {
   "cell_type": "code",
   "execution_count": 69,
   "id": "117c85e0-fe4c-4745-a5af-e1301f639cd3",
   "metadata": {},
   "outputs": [
    {
     "data": {
      "text/plain": [
       "[<matplotlib.lines.Line2D at 0x1c56e77ab90>]"
      ]
     },
     "execution_count": 69,
     "metadata": {},
     "output_type": "execute_result"
    },
    {
     "data": {
      "image/png": "[encoded data removed]",
      "text/plain": [
       "<Figure size 640x480 with 1 Axes>"
      ]
     },
     "metadata": {},
     "output_type": "display_data"
    }
   ],
   "source": [
    "# visualizing the error after each epoch\n",
    "import matplotlib.pyplot as plt\n",
    "plt.plot(np.arange(1, epochs + 1), np.array(losses))"
   ]
  },
  {
   "attachments": {
    "image.png": {
     "image/png": "[encoded data removed]"
    }
   },
   "cell_type": "markdown",
   "metadata": {},
   "source": [
    "## 5000 รอบ\n",
    "มันเยอะเกินมันแกว่งขึ้นข้างบน\n",
    "![image.png](attachment:image.png)"
   ]
  },
  {
   "cell_type": "markdown",
   "id": "e12de4a8-bc03-4a42-b20a-18a986e8de43",
   "metadata": {},
   "source": [
    "----\n",
    "### ขั้นตอนที่ 6 ทดสอบ model \n",
    "เมื่อกระบวนการ Train (ปรับปรุง weight)เสร็จสิ้น จนเป็นที่พอใจแล้วขั้นตอนต่อไปคือการทดสอบ model  \n",
    "ให้ทำการโหลด Test set เข้ามาทดสอบ\n"
   ]
  },
  {
   "cell_type": "markdown",
   "metadata": {},
   "source": [
    "เอา Weight ที่เกิดจากการ Train แล้วคูณกับ Input Test นั่นเอง"
   ]
  },
  {
   "cell_type": "code",
   "execution_count": 70,
   "id": "0814a65c-ac00-4c3b-9c1b-f78e35fbdecf",
   "metadata": {},
   "outputs": [
    {
     "name": "stdout",
     "output_type": "stream",
     "text": [
      "[[1 1 1 1 1 1 1 1 1 1 0 0 0 0 0 0 0 0 0 0 0 0 0 0 0 0 0 0 0 0]\n",
      " [0 0 0 0 0 0 0 0 0 0 0 0 0 0 0 0 0 0 0 0 1 1 1 1 1 1 1 1 1 1]\n",
      " [0 0 0 0 0 0 0 0 0 0 1 1 1 1 1 1 1 1 1 1 0 0 0 0 0 0 0 0 0 0]]\n",
      "[[-4.58290105  0.20442645  0.37115991  2.0917537 ]\n",
      " [ 1.64387079  0.50116918 -0.5470677  -0.09147366]\n",
      " [-2.27155051  1.93268587  0.40421484  1.70007491]\n",
      " [ 2.51307972 -3.44170137  0.19976784 -0.62528452]\n",
      " [ 4.08038359  0.24905229 -0.34605502 -2.28010217]\n",
      " [ 2.92849293 -2.81527078 -0.62625306 -1.04424423]]\n",
      "[[0.4 0.3 0.6 0.5 0.4 0.4 0.5 0.4 0.6 0.5 0.2 0.2 0.1 0.2 0.1 0.3 0.2 0.3\n",
      "  0.2 0.9 0.8 0.6 0.6 1.  0.7 1.  0.7 0.8 1.  0.8]\n",
      " [0.9 0.8 0.7 0.9 0.8 0.9 0.7 0.7 0.7 0.7 0.9 0.7 0.8 0.7 0.8 0.8 0.9 0.9\n",
      "  0.7 0.9 0.6 0.1 0.1 0.4 0.1 0.5 0.5 0.6 0.2 0.2]\n",
      " [0.6 0.6 0.2 0.6 0.5 0.7 0.5 0.1 0.9 0.9 0.2 0.6 0.1 0.6 0.1 0.3 0.6 0.9\n",
      "  0.7 0.5 0.9 0.9 0.3 0.9 0.3 0.7 0.2 0.5 0.9 0.9]\n",
      " [0.5 0.5 0.4 0.4 0.5 0.2 0.5 0.5 0.5 0.4 0.3 0.9 0.6 1.  0.4 0.3 0.4 0.3\n",
      "  0.4 0.3 0.2 0.2 0.1 0.2 0.2 0.2 0.2 0.1 0.1 0.1]]\n",
      "[[0.40598127 0.51430699 0.15502656 0.25959602 0.3921789  0.27467844\n",
      "  0.28559094 0.35272807 0.22675576 0.27336694 0.49229103 0.79113698\n",
      "  0.73055088 0.82360539 0.64085305 0.38403532 0.58098081 0.44292078\n",
      "  0.58006293 0.04198621 0.05779774 0.12164932 0.08250602 0.02300577\n",
      "  0.06550442 0.02182729 0.0682915  0.04113426 0.01800748 0.0438468 ]\n",
      " [0.67581896 0.62717562 0.76694452 0.71262299 0.67682374 0.66981721\n",
      "  0.7012973  0.71257499 0.68976977 0.65561272 0.6554247  0.56685369\n",
      "  0.61200107 0.56460637 0.61633626 0.66874939 0.60228529 0.60453816\n",
      "  0.56464999 0.83610935 0.75122242 0.62849921 0.7033229  0.79144916\n",
      "  0.73466304 0.81656008 0.78135597 0.79135575 0.77601562 0.71378167]\n",
      " [0.87251303 0.87623502 0.67935793 0.82144978 0.8441812  0.81057679\n",
      "  0.78061428 0.79162011 0.76919663 0.77918584 0.86714784 0.93530364\n",
      "  0.91524757 0.94486065 0.88487675 0.81697272 0.90093581 0.87344497\n",
      "  0.86547755 0.60040472 0.51154281 0.38559815 0.29351156 0.31116728\n",
      "  0.28180267 0.33576105 0.44945216 0.42910248 0.20567221 0.28968747]\n",
      " [0.09236612 0.10045143 0.24759074 0.12225529 0.12337102 0.11130117\n",
      "  0.20336254 0.15490664 0.26227177 0.22741354 0.06050895 0.08710788\n",
      "  0.05430791 0.08226229 0.0611004  0.10649136 0.06150447 0.08695444\n",
      "  0.11744497 0.28425324 0.50004426 0.77178395 0.76152884 0.76694369\n",
      "  0.79410659 0.69147191 0.48830257 0.4956997  0.87457192 0.80835957]\n",
      " [0.62448207 0.51890919 0.83771379 0.7585351  0.62675407 0.76097667\n",
      "  0.71124735 0.65290508 0.76333769 0.7292929  0.57125714 0.21937512\n",
      "  0.31101322 0.1828253  0.41596345 0.65373773 0.48014791 0.61130047\n",
      "  0.45912491 0.95432416 0.93378062 0.84627324 0.89485381 0.96809398\n",
      "  0.91062879 0.97087641 0.92096732 0.95314461 0.97316207 0.94129091]\n",
      " [0.09447151 0.09350736 0.31939751 0.13435996 0.12830066 0.11820154\n",
      "  0.207232   0.20036098 0.21427552 0.1842569  0.08420263 0.06294017\n",
      "  0.0660791  0.05705528 0.08019575 0.13298523 0.0605688  0.07363849\n",
      "  0.09612291 0.37180061 0.47032373 0.66887299 0.76553496 0.73689806\n",
      "  0.79765357 0.70550079 0.57644832 0.55874762 0.8451931  0.75244368]]\n",
      "Confusion Matrix (row=Actual, col=Predicted)\n",
      "[[ 9  0  1]\n",
      " [ 0 10  0]\n",
      " [ 3  0  7]]\n",
      "accuracy = 0.87%\n"
     ]
    }
   ],
   "source": [
    "Input = Input_Test.T\n",
    "Target = Target_Test.T\n",
    "\n",
    "print(Target)\n",
    "    \n",
    "#########################\n",
    "## Forward Propogation ##\n",
    "#########################\n",
    "# calculating hidden layer activations\n",
    "print(weights_input_hidden.T)\n",
    "print(Input)\n",
    "Hidden = np.dot(weights_input_hidden.T,Input)\n",
    "Hidden = sigmoid(Hidden)\n",
    "print(Hidden)\n",
    "\n",
    "# calculating the output\n",
    "Output = np.dot(weights_hidden_output.T, Hidden)\n",
    "Output = sigmoid(Output)\n",
    "# print(Output[1])\n",
    "# print(Output.shape)\n",
    "\n",
    "#check ผล\n",
    "Class_Output = Output.argmax(axis=0)\n",
    "Class_Target = Target.argmax(axis=0)\n",
    "# print(Class_Output)\n",
    "# print(Class_Target)\n",
    "correct = 0\n",
    "miss = 0\n",
    "#confusion matrix (row=Actual, col=Predicted)\n",
    "conf_matrix = np.zeros((NumOutput,NumOutput),dtype='i')\n",
    "for i in range(NumTest):\n",
    "    if Class_Output[i] == Class_Target[i]:\n",
    "        correct += 1\n",
    "    else:\n",
    "        miss += 1\n",
    "    conf_matrix[Class_Target[i]][Class_Output[i]] += 1\n",
    "print('Confusion Matrix (row=Actual, col=Predicted)')\n",
    "print(conf_matrix)\n",
    "print('accuracy = {0:.2f}%'.format(correct/NumTest))"
   ]
  },
  {
   "cell_type": "markdown",
   "id": "911cc389-3c9a-4d60-a361-75ae4b288d77",
   "metadata": {},
   "source": [
    "### อย่าลืมว่าขณะนี้ทดสอบที่ fold 1 เท่านั้น จะต้องเรียก fold 2, 3, 4, 5 มา Train และ Test ให้ครบ   \n",
    "### จากนั้นจึงเอา ค่า accuracy ของทั้ง 5 รอบมาหาค่าเฉลี่ยกัน จึงจะได้ ค่า accuracy ของ model "
   ]
  },
  {
   "cell_type": "markdown",
   "metadata": {},
   "source": [
    "เรียกว่า เทคนิค Cross-Validation คือการสลับ Train และ Test ทุกตัว เพื่อให้มันทั่วถึงและครอบคลุม แต่เราทำแค่รอบเดียวก็พอ"
   ]
  }
 ],
 "metadata": {
  "kernelspec": {
   "display_name": "Python 3",
   "language": "python",
   "name": "python3"
  },
  "language_info": {
   "codemirror_mode": {
    "name": "ipython",
    "version": 3
   },
   "file_extension": ".py",
   "mimetype": "text/x-python",
   "name": "python",
   "nbconvert_exporter": "python",
   "pygments_lexer": "ipython3",
   "version": "3.11.4"
  }
 },
 "nbformat": 4,
 "nbformat_minor": 5
}
