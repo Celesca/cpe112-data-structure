{
 "cells": [
  {
   "cell_type": "markdown",
   "metadata": {},
   "source": [
    "![AlternativeLogo-eng.png](data:image/png;base64,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)"
   ]
  },
  {
   "cell_type": "markdown",
   "metadata": {},
   "source": [
    "## Artificial Neural Network with Scikit-Learn (Numpy and Pandas included)"
   ]
  },
  {
   "cell_type": "markdown",
   "metadata": {},
   "source": [
    "---"
   ]
  },
  {
   "cell_type": "code",
   "execution_count": 1,
   "id": "00ae30a8-4f65-474b-af0a-be584ed2dc72",
   "metadata": {},
   "outputs": [],
   "source": [
    "import numpy as np\n",
    "import pandas as pd\n",
    "from matplotlib import pyplot as plt"
   ]
  },
  {
   "cell_type": "code",
   "execution_count": 2,
   "id": "b5706c42-4bb9-436b-a17a-a1e12842e216",
   "metadata": {},
   "outputs": [],
   "source": [
    "from sklearn.neural_network import MLPClassifier\n",
    "from sklearn.model_selection import train_test_split"
   ]
  },
  {
   "cell_type": "code",
   "execution_count": 3,
   "id": "cc8b0f33-29bc-4ff3-bd21-a4d636fa1a91",
   "metadata": {},
   "outputs": [],
   "source": [
    "Rawdata = pd.read_csv('example_dataset.csv',header=None)"
   ]
  },
  {
   "cell_type": "code",
   "execution_count": 4,
   "id": "970113cd-12c7-4d8d-9e75-0631fc2e5e78",
   "metadata": {},
   "outputs": [
    {
     "data": {
      "text/plain": [
       "(150, 5)"
      ]
     },
     "execution_count": 4,
     "metadata": {},
     "output_type": "execute_result"
    }
   ],
   "source": [
    "Rawdata.shape # ขนาดตาราง แถว-หลัก"
   ]
  },
  {
   "cell_type": "code",
   "execution_count": 5,
   "id": "b296e909-ca6b-4eb5-8d11-9d13b3c3ac3a",
   "metadata": {},
   "outputs": [
    {
     "name": "stdout",
     "output_type": "stream",
     "text": [
      "<class 'pandas.core.frame.DataFrame'>\n",
      "RangeIndex: 150 entries, 0 to 149\n",
      "Data columns (total 5 columns):\n",
      " #   Column  Non-Null Count  Dtype  \n",
      "---  ------  --------------  -----  \n",
      " 0   0       150 non-null    float64\n",
      " 1   1       150 non-null    float64\n",
      " 2   2       150 non-null    float64\n",
      " 3   3       150 non-null    float64\n",
      " 4   4       150 non-null    object \n",
      "dtypes: float64(4), object(1)\n",
      "memory usage: 6.0+ KB\n"
     ]
    }
   ],
   "source": [
    "Rawdata.info()"
   ]
  },
  {
   "cell_type": "code",
   "execution_count": 7,
   "id": "cbe251ba-bc28-4360-abf0-8b9450bf4b56",
   "metadata": {},
   "outputs": [
    {
     "data": {
      "text/html": [
       "<div>\n",
       "<style scoped>\n",
       "    .dataframe tbody tr th:only-of-type {\n",
       "        vertical-align: middle;\n",
       "    }\n",
       "\n",
       "    .dataframe tbody tr th {\n",
       "        vertical-align: top;\n",
       "    }\n",
       "\n",
       "    .dataframe thead th {\n",
       "        text-align: right;\n",
       "    }\n",
       "</style>\n",
       "<table border=\"1\" class=\"dataframe\">\n",
       "  <thead>\n",
       "    <tr style=\"text-align: right;\">\n",
       "      <th></th>\n",
       "      <th>0</th>\n",
       "      <th>1</th>\n",
       "      <th>2</th>\n",
       "      <th>3</th>\n",
       "      <th>4</th>\n",
       "    </tr>\n",
       "  </thead>\n",
       "  <tbody>\n",
       "    <tr>\n",
       "      <th>0</th>\n",
       "      <td>0.5</td>\n",
       "      <td>0.8</td>\n",
       "      <td>0.5</td>\n",
       "      <td>0.2</td>\n",
       "      <td>Scissors</td>\n",
       "    </tr>\n",
       "    <tr>\n",
       "      <th>1</th>\n",
       "      <td>0.5</td>\n",
       "      <td>0.7</td>\n",
       "      <td>0.7</td>\n",
       "      <td>0.5</td>\n",
       "      <td>Scissors</td>\n",
       "    </tr>\n",
       "    <tr>\n",
       "      <th>2</th>\n",
       "      <td>0.6</td>\n",
       "      <td>0.9</td>\n",
       "      <td>0.3</td>\n",
       "      <td>0.2</td>\n",
       "      <td>Scissors</td>\n",
       "    </tr>\n",
       "    <tr>\n",
       "      <th>3</th>\n",
       "      <td>0.3</td>\n",
       "      <td>0.8</td>\n",
       "      <td>0.3</td>\n",
       "      <td>0.5</td>\n",
       "      <td>Scissors</td>\n",
       "    </tr>\n",
       "    <tr>\n",
       "      <th>4</th>\n",
       "      <td>0.4</td>\n",
       "      <td>0.9</td>\n",
       "      <td>0.6</td>\n",
       "      <td>0.5</td>\n",
       "      <td>Scissors</td>\n",
       "    </tr>\n",
       "    <tr>\n",
       "      <th>5</th>\n",
       "      <td>0.6</td>\n",
       "      <td>0.8</td>\n",
       "      <td>0.8</td>\n",
       "      <td>0.2</td>\n",
       "      <td>Scissors</td>\n",
       "    </tr>\n",
       "    <tr>\n",
       "      <th>6</th>\n",
       "      <td>0.3</td>\n",
       "      <td>0.8</td>\n",
       "      <td>0.2</td>\n",
       "      <td>0.2</td>\n",
       "      <td>Scissors</td>\n",
       "    </tr>\n",
       "    <tr>\n",
       "      <th>7</th>\n",
       "      <td>0.4</td>\n",
       "      <td>0.8</td>\n",
       "      <td>0.4</td>\n",
       "      <td>0.4</td>\n",
       "      <td>Scissors</td>\n",
       "    </tr>\n",
       "    <tr>\n",
       "      <th>8</th>\n",
       "      <td>0.5</td>\n",
       "      <td>0.7</td>\n",
       "      <td>0.8</td>\n",
       "      <td>0.5</td>\n",
       "      <td>Scissors</td>\n",
       "    </tr>\n",
       "    <tr>\n",
       "      <th>9</th>\n",
       "      <td>0.3</td>\n",
       "      <td>0.8</td>\n",
       "      <td>0.6</td>\n",
       "      <td>0.5</td>\n",
       "      <td>Scissors</td>\n",
       "    </tr>\n",
       "  </tbody>\n",
       "</table>\n",
       "</div>"
      ],
      "text/plain": [
       "     0    1    2    3         4\n",
       "0  0.5  0.8  0.5  0.2  Scissors\n",
       "1  0.5  0.7  0.7  0.5  Scissors\n",
       "2  0.6  0.9  0.3  0.2  Scissors\n",
       "3  0.3  0.8  0.3  0.5  Scissors\n",
       "4  0.4  0.9  0.6  0.5  Scissors\n",
       "5  0.6  0.8  0.8  0.2  Scissors\n",
       "6  0.3  0.8  0.2  0.2  Scissors\n",
       "7  0.4  0.8  0.4  0.4  Scissors\n",
       "8  0.5  0.7  0.8  0.5  Scissors\n",
       "9  0.3  0.8  0.6  0.5  Scissors"
      ]
     },
     "execution_count": 7,
     "metadata": {},
     "output_type": "execute_result"
    }
   ],
   "source": [
    "Rawdata.head(10) # ส่วนหัว 5 Columns แรก"
   ]
  },
  {
   "cell_type": "code",
   "execution_count": 8,
   "metadata": {},
   "outputs": [
    {
     "data": {
      "text/html": [
       "<div>\n",
       "<style scoped>\n",
       "    .dataframe tbody tr th:only-of-type {\n",
       "        vertical-align: middle;\n",
       "    }\n",
       "\n",
       "    .dataframe tbody tr th {\n",
       "        vertical-align: top;\n",
       "    }\n",
       "\n",
       "    .dataframe thead th {\n",
       "        text-align: right;\n",
       "    }\n",
       "</style>\n",
       "<table border=\"1\" class=\"dataframe\">\n",
       "  <thead>\n",
       "    <tr style=\"text-align: right;\">\n",
       "      <th></th>\n",
       "      <th>0</th>\n",
       "      <th>1</th>\n",
       "      <th>2</th>\n",
       "      <th>3</th>\n",
       "      <th>4</th>\n",
       "    </tr>\n",
       "  </thead>\n",
       "  <tbody>\n",
       "    <tr>\n",
       "      <th>140</th>\n",
       "      <td>0.9</td>\n",
       "      <td>0.4</td>\n",
       "      <td>0.2</td>\n",
       "      <td>0.2</td>\n",
       "      <td>Paper</td>\n",
       "    </tr>\n",
       "    <tr>\n",
       "      <th>141</th>\n",
       "      <td>0.6</td>\n",
       "      <td>0.5</td>\n",
       "      <td>0.2</td>\n",
       "      <td>0.1</td>\n",
       "      <td>Paper</td>\n",
       "    </tr>\n",
       "    <tr>\n",
       "      <th>142</th>\n",
       "      <td>1.0</td>\n",
       "      <td>0.1</td>\n",
       "      <td>0.5</td>\n",
       "      <td>0.2</td>\n",
       "      <td>Paper</td>\n",
       "    </tr>\n",
       "    <tr>\n",
       "      <th>143</th>\n",
       "      <td>0.6</td>\n",
       "      <td>0.5</td>\n",
       "      <td>0.9</td>\n",
       "      <td>0.1</td>\n",
       "      <td>Paper</td>\n",
       "    </tr>\n",
       "    <tr>\n",
       "      <th>144</th>\n",
       "      <td>1.0</td>\n",
       "      <td>0.2</td>\n",
       "      <td>0.9</td>\n",
       "      <td>0.1</td>\n",
       "      <td>Paper</td>\n",
       "    </tr>\n",
       "    <tr>\n",
       "      <th>145</th>\n",
       "      <td>0.8</td>\n",
       "      <td>0.4</td>\n",
       "      <td>0.3</td>\n",
       "      <td>0.1</td>\n",
       "      <td>Paper</td>\n",
       "    </tr>\n",
       "    <tr>\n",
       "      <th>146</th>\n",
       "      <td>1.0</td>\n",
       "      <td>0.5</td>\n",
       "      <td>0.3</td>\n",
       "      <td>0.2</td>\n",
       "      <td>Paper</td>\n",
       "    </tr>\n",
       "    <tr>\n",
       "      <th>147</th>\n",
       "      <td>0.8</td>\n",
       "      <td>0.4</td>\n",
       "      <td>0.5</td>\n",
       "      <td>0.2</td>\n",
       "      <td>Paper</td>\n",
       "    </tr>\n",
       "    <tr>\n",
       "      <th>148</th>\n",
       "      <td>0.7</td>\n",
       "      <td>0.2</td>\n",
       "      <td>0.7</td>\n",
       "      <td>0.2</td>\n",
       "      <td>Paper</td>\n",
       "    </tr>\n",
       "    <tr>\n",
       "      <th>149</th>\n",
       "      <td>0.8</td>\n",
       "      <td>0.2</td>\n",
       "      <td>0.9</td>\n",
       "      <td>0.1</td>\n",
       "      <td>Paper</td>\n",
       "    </tr>\n",
       "  </tbody>\n",
       "</table>\n",
       "</div>"
      ],
      "text/plain": [
       "       0    1    2    3      4\n",
       "140  0.9  0.4  0.2  0.2  Paper\n",
       "141  0.6  0.5  0.2  0.1  Paper\n",
       "142  1.0  0.1  0.5  0.2  Paper\n",
       "143  0.6  0.5  0.9  0.1  Paper\n",
       "144  1.0  0.2  0.9  0.1  Paper\n",
       "145  0.8  0.4  0.3  0.1  Paper\n",
       "146  1.0  0.5  0.3  0.2  Paper\n",
       "147  0.8  0.4  0.5  0.2  Paper\n",
       "148  0.7  0.2  0.7  0.2  Paper\n",
       "149  0.8  0.2  0.9  0.1  Paper"
      ]
     },
     "execution_count": 8,
     "metadata": {},
     "output_type": "execute_result"
    }
   ],
   "source": [
    "Rawdata.tail(10)"
   ]
  },
  {
   "cell_type": "code",
   "execution_count": 9,
   "metadata": {},
   "outputs": [
    {
     "data": {
      "text/html": [
       "<div>\n",
       "<style scoped>\n",
       "    .dataframe tbody tr th:only-of-type {\n",
       "        vertical-align: middle;\n",
       "    }\n",
       "\n",
       "    .dataframe tbody tr th {\n",
       "        vertical-align: top;\n",
       "    }\n",
       "\n",
       "    .dataframe thead th {\n",
       "        text-align: right;\n",
       "    }\n",
       "</style>\n",
       "<table border=\"1\" class=\"dataframe\">\n",
       "  <thead>\n",
       "    <tr style=\"text-align: right;\">\n",
       "      <th></th>\n",
       "      <th>0</th>\n",
       "      <th>1</th>\n",
       "      <th>2</th>\n",
       "      <th>3</th>\n",
       "      <th>4</th>\n",
       "    </tr>\n",
       "  </thead>\n",
       "  <tbody>\n",
       "    <tr>\n",
       "      <th>0</th>\n",
       "      <td>0.5</td>\n",
       "      <td>0.8</td>\n",
       "      <td>0.5</td>\n",
       "      <td>0.2</td>\n",
       "      <td>Scissors</td>\n",
       "    </tr>\n",
       "    <tr>\n",
       "      <th>1</th>\n",
       "      <td>0.5</td>\n",
       "      <td>0.7</td>\n",
       "      <td>0.7</td>\n",
       "      <td>0.5</td>\n",
       "      <td>Scissors</td>\n",
       "    </tr>\n",
       "    <tr>\n",
       "      <th>2</th>\n",
       "      <td>0.6</td>\n",
       "      <td>0.9</td>\n",
       "      <td>0.3</td>\n",
       "      <td>0.2</td>\n",
       "      <td>Scissors</td>\n",
       "    </tr>\n",
       "    <tr>\n",
       "      <th>3</th>\n",
       "      <td>0.3</td>\n",
       "      <td>0.8</td>\n",
       "      <td>0.3</td>\n",
       "      <td>0.5</td>\n",
       "      <td>Scissors</td>\n",
       "    </tr>\n",
       "    <tr>\n",
       "      <th>4</th>\n",
       "      <td>0.4</td>\n",
       "      <td>0.9</td>\n",
       "      <td>0.6</td>\n",
       "      <td>0.5</td>\n",
       "      <td>Scissors</td>\n",
       "    </tr>\n",
       "    <tr>\n",
       "      <th>...</th>\n",
       "      <td>...</td>\n",
       "      <td>...</td>\n",
       "      <td>...</td>\n",
       "      <td>...</td>\n",
       "      <td>...</td>\n",
       "    </tr>\n",
       "    <tr>\n",
       "      <th>145</th>\n",
       "      <td>0.8</td>\n",
       "      <td>0.4</td>\n",
       "      <td>0.3</td>\n",
       "      <td>0.1</td>\n",
       "      <td>Paper</td>\n",
       "    </tr>\n",
       "    <tr>\n",
       "      <th>146</th>\n",
       "      <td>1.0</td>\n",
       "      <td>0.5</td>\n",
       "      <td>0.3</td>\n",
       "      <td>0.2</td>\n",
       "      <td>Paper</td>\n",
       "    </tr>\n",
       "    <tr>\n",
       "      <th>147</th>\n",
       "      <td>0.8</td>\n",
       "      <td>0.4</td>\n",
       "      <td>0.5</td>\n",
       "      <td>0.2</td>\n",
       "      <td>Paper</td>\n",
       "    </tr>\n",
       "    <tr>\n",
       "      <th>148</th>\n",
       "      <td>0.7</td>\n",
       "      <td>0.2</td>\n",
       "      <td>0.7</td>\n",
       "      <td>0.2</td>\n",
       "      <td>Paper</td>\n",
       "    </tr>\n",
       "    <tr>\n",
       "      <th>149</th>\n",
       "      <td>0.8</td>\n",
       "      <td>0.2</td>\n",
       "      <td>0.9</td>\n",
       "      <td>0.1</td>\n",
       "      <td>Paper</td>\n",
       "    </tr>\n",
       "  </tbody>\n",
       "</table>\n",
       "<p>150 rows × 5 columns</p>\n",
       "</div>"
      ],
      "text/plain": [
       "       0    1    2    3         4\n",
       "0    0.5  0.8  0.5  0.2  Scissors\n",
       "1    0.5  0.7  0.7  0.5  Scissors\n",
       "2    0.6  0.9  0.3  0.2  Scissors\n",
       "3    0.3  0.8  0.3  0.5  Scissors\n",
       "4    0.4  0.9  0.6  0.5  Scissors\n",
       "..   ...  ...  ...  ...       ...\n",
       "145  0.8  0.4  0.3  0.1     Paper\n",
       "146  1.0  0.5  0.3  0.2     Paper\n",
       "147  0.8  0.4  0.5  0.2     Paper\n",
       "148  0.7  0.2  0.7  0.2     Paper\n",
       "149  0.8  0.2  0.9  0.1     Paper\n",
       "\n",
       "[150 rows x 5 columns]"
      ]
     },
     "execution_count": 9,
     "metadata": {},
     "output_type": "execute_result"
    }
   ],
   "source": [
    "Rawdata"
   ]
  },
  {
   "cell_type": "code",
   "execution_count": 15,
   "id": "4988c9b9-7f19-4ddb-bc86-76547c419244",
   "metadata": {},
   "outputs": [],
   "source": [
    "# Slicing เพื่อแบ่งข้อมูลระหว่าง Feature กับ Target \n",
    "df_Input = Rawdata.iloc[:,0:4] # เอาทุกแถวและเอา Column 0-3\n",
    "df_Output = Rawdata.iloc[:,4] # เอาทุกแถวและเอา Column ที่ 4"
   ]
  },
  {
   "cell_type": "code",
   "execution_count": 16,
   "id": "ec3d1e68-ffbb-4781-88ea-25aff3a43949",
   "metadata": {},
   "outputs": [
    {
     "data": {
      "text/html": [
       "<div>\n",
       "<style scoped>\n",
       "    .dataframe tbody tr th:only-of-type {\n",
       "        vertical-align: middle;\n",
       "    }\n",
       "\n",
       "    .dataframe tbody tr th {\n",
       "        vertical-align: top;\n",
       "    }\n",
       "\n",
       "    .dataframe thead th {\n",
       "        text-align: right;\n",
       "    }\n",
       "</style>\n",
       "<table border=\"1\" class=\"dataframe\">\n",
       "  <thead>\n",
       "    <tr style=\"text-align: right;\">\n",
       "      <th></th>\n",
       "      <th>0</th>\n",
       "      <th>1</th>\n",
       "      <th>2</th>\n",
       "      <th>3</th>\n",
       "    </tr>\n",
       "  </thead>\n",
       "  <tbody>\n",
       "    <tr>\n",
       "      <th>0</th>\n",
       "      <td>0.5</td>\n",
       "      <td>0.8</td>\n",
       "      <td>0.5</td>\n",
       "      <td>0.2</td>\n",
       "    </tr>\n",
       "    <tr>\n",
       "      <th>1</th>\n",
       "      <td>0.5</td>\n",
       "      <td>0.7</td>\n",
       "      <td>0.7</td>\n",
       "      <td>0.5</td>\n",
       "    </tr>\n",
       "    <tr>\n",
       "      <th>2</th>\n",
       "      <td>0.6</td>\n",
       "      <td>0.9</td>\n",
       "      <td>0.3</td>\n",
       "      <td>0.2</td>\n",
       "    </tr>\n",
       "    <tr>\n",
       "      <th>3</th>\n",
       "      <td>0.3</td>\n",
       "      <td>0.8</td>\n",
       "      <td>0.3</td>\n",
       "      <td>0.5</td>\n",
       "    </tr>\n",
       "    <tr>\n",
       "      <th>4</th>\n",
       "      <td>0.4</td>\n",
       "      <td>0.9</td>\n",
       "      <td>0.6</td>\n",
       "      <td>0.5</td>\n",
       "    </tr>\n",
       "  </tbody>\n",
       "</table>\n",
       "</div>"
      ],
      "text/plain": [
       "     0    1    2    3\n",
       "0  0.5  0.8  0.5  0.2\n",
       "1  0.5  0.7  0.7  0.5\n",
       "2  0.6  0.9  0.3  0.2\n",
       "3  0.3  0.8  0.3  0.5\n",
       "4  0.4  0.9  0.6  0.5"
      ]
     },
     "execution_count": 16,
     "metadata": {},
     "output_type": "execute_result"
    }
   ],
   "source": [
    "df_Input.head()"
   ]
  },
  {
   "cell_type": "code",
   "execution_count": 17,
   "id": "ce0bc938-a90d-40b6-a87c-49778c2f370a",
   "metadata": {},
   "outputs": [
    {
     "data": {
      "text/plain": [
       "(150, 4)"
      ]
     },
     "execution_count": 17,
     "metadata": {},
     "output_type": "execute_result"
    }
   ],
   "source": [
    "df_Input.shape"
   ]
  },
  {
   "cell_type": "code",
   "execution_count": 18,
   "id": "5ac1c61c-c3f7-4fb4-ba72-086d4c1b7ef1",
   "metadata": {},
   "outputs": [
    {
     "data": {
      "text/plain": [
       "0    Scissors\n",
       "1    Scissors\n",
       "2    Scissors\n",
       "3    Scissors\n",
       "4    Scissors\n",
       "Name: 4, dtype: object"
      ]
     },
     "execution_count": 18,
     "metadata": {},
     "output_type": "execute_result"
    }
   ],
   "source": [
    "df_Output.head()"
   ]
  },
  {
   "cell_type": "code",
   "execution_count": 19,
   "id": "32f40b1f-d8bd-4bfb-b6d7-0bc066e794f9",
   "metadata": {},
   "outputs": [
    {
     "data": {
      "text/plain": [
       "(150,)"
      ]
     },
     "execution_count": 19,
     "metadata": {},
     "output_type": "execute_result"
    }
   ],
   "source": [
    "df_Output.shape"
   ]
  },
  {
   "cell_type": "markdown",
   "metadata": {},
   "source": [
    "จริงๆ เราอาจจะต้อง Cleaning Data เช่น Duplicate , Error case โดยใช้ Pandas จัดการข้อมูล\n",
    "แต่จะใช้ Numpy เพื่อประมวลผลทางคณิตศาสตร์"
   ]
  },
  {
   "cell_type": "code",
   "execution_count": 20,
   "id": "cc2dec3a-a3b2-4f4e-b48b-8792038eea65",
   "metadata": {},
   "outputs": [],
   "source": [
    "Input_array = df_Input.to_numpy() "
   ]
  },
  {
   "cell_type": "code",
   "execution_count": 38,
   "metadata": {},
   "outputs": [
    {
     "data": {
      "text/plain": [
       "array([[0.5, 0.8, 0.5, 0.2],\n",
       "       [0.5, 0.7, 0.7, 0.5],\n",
       "       [0.6, 0.9, 0.3, 0.2],\n",
       "       [0.3, 0.8, 0.3, 0.5],\n",
       "       [0.4, 0.9, 0.6, 0.5],\n",
       "       [0.6, 0.8, 0.8, 0.2],\n",
       "       [0.3, 0.8, 0.2, 0.2],\n",
       "       [0.4, 0.8, 0.4, 0.4],\n",
       "       [0.5, 0.7, 0.8, 0.5],\n",
       "       [0.3, 0.8, 0.6, 0.5],\n",
       "       [0.4, 0.7, 0.6, 0.3],\n",
       "       [0.6, 0.9, 0.4, 0.2],\n",
       "       [0.4, 0.9, 0.5, 0.5],\n",
       "       [0.5, 0.8, 0.6, 0.2],\n",
       "       [0.6, 0.7, 0.2, 0.4],\n",
       "       [0.3, 0.8, 0.5, 0.3],\n",
       "       [0.4, 0.7, 0.3, 0.5],\n",
       "       [0.3, 0.9, 0.7, 0.3],\n",
       "       [0.5, 0.9, 0.9, 0.5],\n",
       "       [0.5, 0.9, 0.6, 0.4],\n",
       "       [0.3, 0.8, 0.8, 0.2],\n",
       "       [0.5, 0.9, 0.4, 0.5],\n",
       "       [0.4, 0.8, 0.5, 0.5],\n",
       "       [0.5, 0.7, 0.5, 0.3],\n",
       "       [0.4, 0.8, 0.5, 0.5],\n",
       "       [0.4, 0.8, 0.3, 0.5],\n",
       "       [0.4, 0.9, 0.3, 0.5],\n",
       "       [0.3, 0.9, 0.7, 0.2],\n",
       "       [0.4, 0.9, 0.8, 0.2],\n",
       "       [0.4, 0.9, 0.7, 0.2],\n",
       "       [0.3, 0.7, 0.2, 0.3],\n",
       "       [0.6, 0.9, 0.7, 0.5],\n",
       "       [0.6, 0.9, 0.8, 0.4],\n",
       "       [0.3, 0.8, 0.1, 0.3],\n",
       "       [0.5, 0.7, 0.5, 0.5],\n",
       "       [0.3, 0.8, 0.4, 0.3],\n",
       "       [0.6, 0.8, 0.8, 0.3],\n",
       "       [0.3, 0.9, 0.9, 0.2],\n",
       "       [0.3, 0.7, 0.2, 0.5],\n",
       "       [0.4, 0.7, 0.1, 0.5],\n",
       "       [0.4, 0.8, 0.5, 0.2],\n",
       "       [0.5, 0.7, 0.5, 0.4],\n",
       "       [0.3, 0.9, 0.7, 0.4],\n",
       "       [0.6, 0.9, 0.5, 0.2],\n",
       "       [0.6, 0.7, 0.9, 0.5],\n",
       "       [0.3, 0.9, 0.1, 0.5],\n",
       "       [0.6, 0.9, 0.5, 0.4],\n",
       "       [0.3, 0.8, 0.2, 0.5],\n",
       "       [0.5, 0.7, 0.9, 0.4],\n",
       "       [0.5, 0.7, 0.9, 0.4],\n",
       "       [0.2, 0.8, 0.6, 0.3],\n",
       "       [0.1, 0.8, 0.5, 0.6],\n",
       "       [0.1, 0.7, 0.7, 0.8],\n",
       "       [0.1, 0.9, 0.6, 0.8],\n",
       "       [0.2, 0.9, 0.2, 0.3],\n",
       "       [0.1, 0.8, 0.6, 0.7],\n",
       "       [0.3, 0.9, 0.8, 0.5],\n",
       "       [0.2, 0.7, 0.9, 0.4],\n",
       "       [0.2, 0.7, 0.9, 0.3],\n",
       "       [0.2, 0.7, 0.6, 0.9],\n",
       "       [0.1, 0.8, 0.5, 0.5],\n",
       "       [0.3, 0.7, 0.8, 0.2],\n",
       "       [0.2, 0.7, 0.5, 0.6],\n",
       "       [0.1, 0.7, 0.9, 0.3],\n",
       "       [0.1, 0.8, 0.1, 0.6],\n",
       "       [0.1, 0.8, 0.2, 0.8],\n",
       "       [0.2, 0.7, 0.5, 0.5],\n",
       "       [0.1, 0.7, 0.6, 0.6],\n",
       "       [0.2, 0.8, 0.8, 0.8],\n",
       "       [0.2, 0.7, 0.6, 1. ],\n",
       "       [0.3, 0.7, 0.3, 0.7],\n",
       "       [0.3, 0.7, 0.1, 0.7],\n",
       "       [0.2, 0.8, 0.9, 0.7],\n",
       "       [0.1, 0.8, 0.9, 0.9],\n",
       "       [0.1, 0.8, 0.1, 0.4],\n",
       "       [0.3, 0.7, 0.1, 0.7],\n",
       "       [0.2, 0.7, 0.8, 0.2],\n",
       "       [0.3, 0.7, 0.2, 0.5],\n",
       "       [0.2, 0.7, 0.2, 0.5],\n",
       "       [0.3, 0.8, 0.3, 0.3],\n",
       "       [0.2, 0.7, 0.5, 0.7],\n",
       "       [0.3, 0.9, 0.1, 0.5],\n",
       "       [0.3, 0.7, 0.8, 0.3],\n",
       "       [0.2, 0.9, 0.3, 0.5],\n",
       "       [0.2, 0.9, 0.6, 0.4],\n",
       "       [0.1, 0.7, 0.9, 0.4],\n",
       "       [0.2, 0.8, 0.1, 0.6],\n",
       "       [0.1, 0.9, 0.5, 0.2],\n",
       "       [0.2, 0.8, 0.7, 1. ],\n",
       "       [0.3, 0.9, 0.9, 0.3],\n",
       "       [0.3, 0.9, 0.7, 0.9],\n",
       "       [0.2, 0.7, 0.2, 0.2],\n",
       "       [0.3, 0.9, 0.2, 0.9],\n",
       "       [0.3, 0.9, 0.5, 1. ],\n",
       "       [0.2, 0.7, 0.7, 0.4],\n",
       "       [0.2, 0.9, 0.3, 0.7],\n",
       "       [0.2, 0.8, 0.6, 0.9],\n",
       "       [0.3, 0.7, 0.6, 0.8],\n",
       "       [0.2, 0.9, 0.6, 0.1],\n",
       "       [0.9, 0.9, 0.5, 0.3],\n",
       "       [0.8, 0.3, 0.8, 0.2],\n",
       "       [0.9, 0.3, 0.3, 0.1],\n",
       "       [0.9, 0.6, 0.9, 0.1],\n",
       "       [1. , 0.4, 0.7, 0.2],\n",
       "       [0.8, 0.6, 0.9, 0.2],\n",
       "       [0.7, 0.5, 0.8, 0.1],\n",
       "       [0.6, 0.5, 0.1, 0.1],\n",
       "       [0.7, 0.3, 0.3, 0.2],\n",
       "       [1. , 0.3, 0.5, 0.1],\n",
       "       [0.6, 0.1, 0.9, 0.2],\n",
       "       [0.9, 0.4, 0.5, 0.1],\n",
       "       [0.6, 0.6, 0.3, 0.2],\n",
       "       [0.7, 0.5, 0.9, 0.2],\n",
       "       [1. , 0.4, 0.8, 0.2],\n",
       "       [0.6, 0.1, 0.3, 0.1],\n",
       "       [0.7, 0.1, 0.5, 0.1],\n",
       "       [0.9, 0.1, 0.7, 0.2],\n",
       "       [0.8, 0.2, 0.3, 0.1],\n",
       "       [0.8, 0.6, 0.5, 0.1],\n",
       "       [1. , 0.4, 0.9, 0.2],\n",
       "       [0.8, 0.2, 0.1, 0.1],\n",
       "       [0.7, 0.2, 0.6, 0.1],\n",
       "       [0.7, 0.1, 0.3, 0.2],\n",
       "       [0.9, 0.2, 0.8, 0.2],\n",
       "       [0.7, 0.1, 0.3, 0.2],\n",
       "       [0.8, 0.6, 0.4, 0.1],\n",
       "       [0.6, 0.1, 0.9, 0.2],\n",
       "       [1. , 0.1, 0.6, 0.1],\n",
       "       [0.8, 0.1, 0.4, 0.1],\n",
       "       [1. , 0.5, 0.7, 0.2],\n",
       "       [0.6, 0.3, 0.4, 0.2],\n",
       "       [0.7, 0.3, 0.1, 0.1],\n",
       "       [0.7, 0.4, 0.4, 0.2],\n",
       "       [0.7, 0.4, 0.1, 0.1],\n",
       "       [0.7, 0.5, 0.2, 0.2],\n",
       "       [0.7, 0.1, 0.9, 0.2],\n",
       "       [0.6, 0.1, 0.1, 0.2],\n",
       "       [0.6, 0.5, 0.5, 0.1],\n",
       "       [1. , 0.4, 0.7, 0.2],\n",
       "       [0.8, 0.6, 0.5, 0.1],\n",
       "       [0.9, 0.4, 0.2, 0.2],\n",
       "       [0.6, 0.5, 0.2, 0.1],\n",
       "       [1. , 0.1, 0.5, 0.2],\n",
       "       [0.6, 0.5, 0.9, 0.1],\n",
       "       [1. , 0.2, 0.9, 0.1],\n",
       "       [0.8, 0.4, 0.3, 0.1],\n",
       "       [1. , 0.5, 0.3, 0.2],\n",
       "       [0.8, 0.4, 0.5, 0.2],\n",
       "       [0.7, 0.2, 0.7, 0.2],\n",
       "       [0.8, 0.2, 0.9, 0.1]])"
      ]
     },
     "execution_count": 38,
     "metadata": {},
     "output_type": "execute_result"
    }
   ],
   "source": [
    "Input_array"
   ]
  },
  {
   "cell_type": "code",
   "execution_count": 21,
   "id": "09a573f0-5e30-4044-8dbf-884a13bce435",
   "metadata": {},
   "outputs": [],
   "source": [
    "Output_array = df_Output.to_numpy()"
   ]
  },
  {
   "cell_type": "code",
   "execution_count": 22,
   "id": "c3173793-b616-4612-b221-4a663d19988a",
   "metadata": {},
   "outputs": [
    {
     "data": {
      "text/plain": [
       "array(['Scissors', 'Scissors', 'Scissors', 'Scissors', 'Scissors',\n",
       "       'Scissors', 'Scissors', 'Scissors', 'Scissors', 'Scissors',\n",
       "       'Scissors', 'Scissors', 'Scissors', 'Scissors', 'Scissors',\n",
       "       'Scissors', 'Scissors', 'Scissors', 'Scissors', 'Scissors',\n",
       "       'Scissors', 'Scissors', 'Scissors', 'Scissors', 'Scissors',\n",
       "       'Scissors', 'Scissors', 'Scissors', 'Scissors', 'Scissors',\n",
       "       'Scissors', 'Scissors', 'Scissors', 'Scissors', 'Scissors',\n",
       "       'Scissors', 'Scissors', 'Scissors', 'Scissors', 'Scissors',\n",
       "       'Scissors', 'Scissors', 'Scissors', 'Scissors', 'Scissors',\n",
       "       'Scissors', 'Scissors', 'Scissors', 'Scissors', 'Scissors',\n",
       "       'Hammer', 'Hammer', 'Hammer', 'Hammer', 'Hammer', 'Hammer',\n",
       "       'Hammer', 'Hammer', 'Hammer', 'Hammer', 'Hammer', 'Hammer',\n",
       "       'Hammer', 'Hammer', 'Hammer', 'Hammer', 'Hammer', 'Hammer',\n",
       "       'Hammer', 'Hammer', 'Hammer', 'Hammer', 'Hammer', 'Hammer',\n",
       "       'Hammer', 'Hammer', 'Hammer', 'Hammer', 'Hammer', 'Hammer',\n",
       "       'Hammer', 'Hammer', 'Hammer', 'Hammer', 'Hammer', 'Hammer',\n",
       "       'Hammer', 'Hammer', 'Hammer', 'Hammer', 'Hammer', 'Hammer',\n",
       "       'Hammer', 'Hammer', 'Hammer', 'Hammer', 'Hammer', 'Hammer',\n",
       "       'Hammer', 'Hammer', 'Paper', 'Paper', 'Paper', 'Paper', 'Paper',\n",
       "       'Paper', 'Paper', 'Paper', 'Paper', 'Paper', 'Paper', 'Paper',\n",
       "       'Paper', 'Paper', 'Paper', 'Paper', 'Paper', 'Paper', 'Paper',\n",
       "       'Paper', 'Paper', 'Paper', 'Paper', 'Paper', 'Paper', 'Paper',\n",
       "       'Paper', 'Paper', 'Paper', 'Paper', 'Paper', 'Paper', 'Paper',\n",
       "       'Paper', 'Paper', 'Paper', 'Paper', 'Paper', 'Paper', 'Paper',\n",
       "       'Paper', 'Paper', 'Paper', 'Paper', 'Paper', 'Paper', 'Paper',\n",
       "       'Paper', 'Paper', 'Paper'], dtype=object)"
      ]
     },
     "execution_count": 22,
     "metadata": {},
     "output_type": "execute_result"
    }
   ],
   "source": [
    "Output_array"
   ]
  },
  {
   "cell_type": "code",
   "execution_count": 23,
   "id": "1a474cc0-09fc-490b-8e67-28910ef6c10f",
   "metadata": {},
   "outputs": [],
   "source": [
    "Target_set = set(Output_array) # จะดู Unique Output ใน Dataset"
   ]
  },
  {
   "cell_type": "code",
   "execution_count": 24,
   "id": "80e114c4-8ce8-4bde-9caf-a81a82d6067d",
   "metadata": {},
   "outputs": [
    {
     "data": {
      "text/plain": [
       "{'Hammer', 'Paper', 'Scissors'}"
      ]
     },
     "execution_count": 24,
     "metadata": {},
     "output_type": "execute_result"
    }
   ],
   "source": [
    "Target_set "
   ]
  },
  {
   "cell_type": "markdown",
   "metadata": {},
   "source": [
    "แต่ Set ไม่มี Order ไม่สามารถอ้างอิง Index ได้ - เราจึงต้องทำเป็น List"
   ]
  },
  {
   "cell_type": "code",
   "execution_count": 25,
   "id": "d3c89462-0b48-434f-bc9c-1cb3e36c9571",
   "metadata": {},
   "outputs": [],
   "source": [
    "Class = list(Target_set) #เปลี่ยนกลับเป็น list"
   ]
  },
  {
   "cell_type": "code",
   "execution_count": 27,
   "metadata": {},
   "outputs": [
    {
     "data": {
      "text/plain": [
       "['Scissors', 'Hammer', 'Paper']"
      ]
     },
     "execution_count": 27,
     "metadata": {},
     "output_type": "execute_result"
    }
   ],
   "source": [
    "Class"
   ]
  },
  {
   "cell_type": "code",
   "execution_count": 28,
   "metadata": {},
   "outputs": [
    {
     "data": {
      "text/plain": [
       "'Scissors'"
      ]
     },
     "execution_count": 28,
     "metadata": {},
     "output_type": "execute_result"
    }
   ],
   "source": [
    "Class[0]"
   ]
  },
  {
   "cell_type": "code",
   "execution_count": 26,
   "id": "4fd57dd3-82b3-4db0-9afb-08eef09c8975",
   "metadata": {},
   "outputs": [
    {
     "name": "stdout",
     "output_type": "stream",
     "text": [
      "150\n"
     ]
    }
   ],
   "source": [
    "NumData = len(Input_array)\n",
    "print(NumData)"
   ]
  },
  {
   "cell_type": "markdown",
   "metadata": {},
   "source": [
    "เราจะใช้เทคนิค Lookup ในตาราง ให้ Output มันออกมาเป็นค่า 0-2\n",
    "กฎข้อความระวังในการทำ Classifier - คือ (จำนวน output = จำนวน class) \n",
    "(โดยเราจะใช้ตอน 2 คลาสขึ้นไป ใช้ output 3 ตัว)\n",
    "Output มี 0 , 1 , 2 \n",
    "แต่ถ้าเราแปลงเป็น Node โดยแต่ละค่าจะมี 001 , 010 , 100 เพื่อให้แยกข้อมูลได้ง่าย"
   ]
  },
  {
   "cell_type": "code",
   "execution_count": 29,
   "id": "51df881f-9548-4176-a881-6cf49a9a0af3",
   "metadata": {},
   "outputs": [],
   "source": [
    "Target_array = np.zeros((NumData), dtype='i') # ให้ทุก Target Array เป็น 0 ทั้งหมด\n",
    "for i in range(NumData):\n",
    "    Target_array[i] = Class.index(Output_array[i])"
   ]
  },
  {
   "cell_type": "code",
   "execution_count": 30,
   "id": "2344b2cd-b0a5-4e08-b7b1-289b7a843e0a",
   "metadata": {},
   "outputs": [
    {
     "data": {
      "text/plain": [
       "array([0, 0, 0, 0, 0, 0, 0, 0, 0, 0, 0, 0, 0, 0, 0, 0, 0, 0, 0, 0, 0, 0,\n",
       "       0, 0, 0, 0, 0, 0, 0, 0, 0, 0, 0, 0, 0, 0, 0, 0, 0, 0, 0, 0, 0, 0,\n",
       "       0, 0, 0, 0, 0, 0, 1, 1, 1, 1, 1, 1, 1, 1, 1, 1, 1, 1, 1, 1, 1, 1,\n",
       "       1, 1, 1, 1, 1, 1, 1, 1, 1, 1, 1, 1, 1, 1, 1, 1, 1, 1, 1, 1, 1, 1,\n",
       "       1, 1, 1, 1, 1, 1, 1, 1, 1, 1, 1, 1, 2, 2, 2, 2, 2, 2, 2, 2, 2, 2,\n",
       "       2, 2, 2, 2, 2, 2, 2, 2, 2, 2, 2, 2, 2, 2, 2, 2, 2, 2, 2, 2, 2, 2,\n",
       "       2, 2, 2, 2, 2, 2, 2, 2, 2, 2, 2, 2, 2, 2, 2, 2, 2, 2], dtype=int32)"
      ]
     },
     "execution_count": 30,
     "metadata": {},
     "output_type": "execute_result"
    }
   ],
   "source": [
    "Target_array"
   ]
  },
  {
   "cell_type": "code",
   "execution_count": 32,
   "id": "a176114f-0719-4010-81fa-57b5ae8f4e6f",
   "metadata": {},
   "outputs": [],
   "source": [
    "x_train, x_test, y_train, y_test = train_test_split(Input_array, Target_array, test_size = 0.2) # test_size = 20%\n",
    "# เราจะไม่เอาตัว Train ไป Test มันจะได้ Accuracy สูง แต่ไม่ได้การันตีว่า Model คุณจะดีพอ\n",
    "# มันถูกเทรนด์โดยมันรู้ข้อสอบไปแล้ว เราจึงจะต้องทำ Blinding Test"
   ]
  },
  {
   "cell_type": "code",
   "execution_count": 33,
   "id": "88c1c8b8-fe79-4e4f-a547-bb2b50ad51bf",
   "metadata": {},
   "outputs": [
    {
     "data": {
      "text/plain": [
       "numpy.ndarray"
      ]
     },
     "execution_count": 33,
     "metadata": {},
     "output_type": "execute_result"
    }
   ],
   "source": [
    "type(y_train)"
   ]
  },
  {
   "cell_type": "code",
   "execution_count": 37,
   "metadata": {},
   "outputs": [
    {
     "data": {
      "text/plain": [
       "array([[0.3, 0.9, 0.1, 0.5],\n",
       "       [0.3, 0.9, 0.2, 0.9],\n",
       "       [0.7, 0.2, 0.6, 0.1],\n",
       "       [0.6, 0.9, 0.4, 0.2],\n",
       "       [0.4, 0.8, 0.4, 0.4],\n",
       "       [0.9, 0.1, 0.7, 0.2],\n",
       "       [0.3, 0.7, 0.3, 0.7],\n",
       "       [0.4, 0.9, 0.8, 0.2],\n",
       "       [0.4, 0.9, 0.6, 0.5],\n",
       "       [0.4, 0.9, 0.5, 0.5],\n",
       "       [0.2, 0.7, 0.7, 0.4],\n",
       "       [0.3, 0.9, 0.9, 0.2],\n",
       "       [0.8, 0.3, 0.8, 0.2],\n",
       "       [1. , 0.4, 0.8, 0.2],\n",
       "       [0.3, 0.9, 0.7, 0.2],\n",
       "       [0.6, 0.1, 0.3, 0.1],\n",
       "       [0.9, 0.2, 0.8, 0.2],\n",
       "       [0.3, 0.9, 0.5, 1. ],\n",
       "       [0.1, 0.7, 0.9, 0.3],\n",
       "       [0.3, 0.8, 0.8, 0.2],\n",
       "       [0.7, 0.4, 0.4, 0.2],\n",
       "       [0.2, 0.7, 0.9, 0.3],\n",
       "       [0.2, 0.8, 0.6, 0.9],\n",
       "       [0.5, 0.7, 0.9, 0.4],\n",
       "       [0.6, 0.9, 0.5, 0.2],\n",
       "       [0.6, 0.7, 0.9, 0.5],\n",
       "       [0.2, 0.7, 0.2, 0.2],\n",
       "       [0.3, 0.7, 0.2, 0.3],\n",
       "       [0.3, 0.8, 0.1, 0.3],\n",
       "       [0.1, 0.8, 0.9, 0.9],\n",
       "       [0.3, 0.9, 0.7, 0.9],\n",
       "       [0.8, 0.6, 0.4, 0.1],\n",
       "       [0.2, 0.7, 0.5, 0.5],\n",
       "       [0.3, 0.9, 0.1, 0.5],\n",
       "       [0.2, 0.7, 0.6, 1. ],\n",
       "       [1. , 0.1, 0.6, 0.1],\n",
       "       [0.1, 0.8, 0.6, 0.7],\n",
       "       [0.4, 0.7, 0.3, 0.5],\n",
       "       [0.6, 0.1, 0.1, 0.2],\n",
       "       [0.5, 0.7, 0.9, 0.4],\n",
       "       [0.8, 0.4, 0.5, 0.2],\n",
       "       [0.3, 0.7, 0.6, 0.8],\n",
       "       [0.2, 0.9, 0.3, 0.7],\n",
       "       [0.8, 0.2, 0.9, 0.1],\n",
       "       [0.5, 0.7, 0.7, 0.5],\n",
       "       [0.1, 0.7, 0.7, 0.8],\n",
       "       [0.6, 0.9, 0.5, 0.4],\n",
       "       [0.6, 0.1, 0.9, 0.2],\n",
       "       [0.6, 0.9, 0.7, 0.5],\n",
       "       [0.3, 0.7, 0.2, 0.5],\n",
       "       [0.3, 0.8, 0.5, 0.3],\n",
       "       [0.4, 0.8, 0.5, 0.5],\n",
       "       [0.3, 0.9, 0.9, 0.3],\n",
       "       [0.4, 0.9, 0.3, 0.5],\n",
       "       [0.2, 0.7, 0.6, 0.9],\n",
       "       [1. , 0.2, 0.9, 0.1],\n",
       "       [0.1, 0.7, 0.9, 0.4],\n",
       "       [0.4, 0.7, 0.1, 0.5],\n",
       "       [0.3, 0.8, 0.4, 0.3],\n",
       "       [0.6, 0.5, 0.1, 0.1],\n",
       "       [0.3, 0.8, 0.6, 0.5],\n",
       "       [0.7, 0.5, 0.9, 0.2],\n",
       "       [0.4, 0.8, 0.5, 0.2],\n",
       "       [1. , 0.4, 0.7, 0.2],\n",
       "       [0.1, 0.9, 0.5, 0.2],\n",
       "       [1. , 0.1, 0.5, 0.2],\n",
       "       [0.5, 0.8, 0.6, 0.2],\n",
       "       [0.3, 0.7, 0.8, 0.2],\n",
       "       [0.1, 0.8, 0.5, 0.5],\n",
       "       [0.8, 0.4, 0.3, 0.1],\n",
       "       [0.8, 0.6, 0.5, 0.1],\n",
       "       [0.3, 0.9, 0.7, 0.3],\n",
       "       [0.7, 0.3, 0.1, 0.1],\n",
       "       [0.2, 0.7, 0.5, 0.7],\n",
       "       [0.8, 0.6, 0.5, 0.1],\n",
       "       [0.2, 0.7, 0.5, 0.6],\n",
       "       [0.3, 0.9, 0.8, 0.5],\n",
       "       [0.1, 0.8, 0.5, 0.6],\n",
       "       [0.8, 0.2, 0.1, 0.1],\n",
       "       [0.6, 0.5, 0.9, 0.1],\n",
       "       [0.1, 0.8, 0.2, 0.8],\n",
       "       [0.3, 0.8, 0.2, 0.5],\n",
       "       [0.1, 0.9, 0.6, 0.8],\n",
       "       [0.3, 0.7, 0.1, 0.7],\n",
       "       [0.7, 0.2, 0.7, 0.2],\n",
       "       [0.3, 0.8, 0.3, 0.3],\n",
       "       [1. , 0.5, 0.7, 0.2],\n",
       "       [0.6, 0.9, 0.3, 0.2],\n",
       "       [0.2, 0.8, 0.7, 1. ],\n",
       "       [0.5, 0.8, 0.5, 0.2],\n",
       "       [0.8, 0.6, 0.9, 0.2],\n",
       "       [0.6, 0.3, 0.4, 0.2],\n",
       "       [0.6, 0.5, 0.5, 0.1],\n",
       "       [0.3, 0.7, 0.1, 0.7],\n",
       "       [0.6, 0.1, 0.9, 0.2],\n",
       "       [0.2, 0.7, 0.8, 0.2],\n",
       "       [0.3, 0.7, 0.8, 0.3],\n",
       "       [0.7, 0.3, 0.3, 0.2],\n",
       "       [1. , 0.3, 0.5, 0.1],\n",
       "       [0.6, 0.8, 0.8, 0.3],\n",
       "       [0.4, 0.8, 0.3, 0.5],\n",
       "       [0.6, 0.5, 0.2, 0.1],\n",
       "       [0.2, 0.8, 0.8, 0.8],\n",
       "       [0.6, 0.9, 0.8, 0.4],\n",
       "       [1. , 0.4, 0.9, 0.2],\n",
       "       [0.7, 0.1, 0.5, 0.1],\n",
       "       [0.5, 0.7, 0.8, 0.5],\n",
       "       [0.4, 0.7, 0.6, 0.3],\n",
       "       [0.9, 0.6, 0.9, 0.1],\n",
       "       [1. , 0.5, 0.3, 0.2],\n",
       "       [0.3, 0.9, 0.7, 0.4],\n",
       "       [0.5, 0.7, 0.5, 0.4],\n",
       "       [0.2, 0.9, 0.6, 0.1],\n",
       "       [0.5, 0.9, 0.9, 0.5],\n",
       "       [0.2, 0.8, 0.1, 0.6],\n",
       "       [0.2, 0.8, 0.6, 0.3],\n",
       "       [0.5, 0.9, 0.6, 0.4],\n",
       "       [0.7, 0.5, 0.2, 0.2],\n",
       "       [1. , 0.4, 0.7, 0.2],\n",
       "       [0.9, 0.3, 0.3, 0.1]])"
      ]
     },
     "execution_count": 37,
     "metadata": {},
     "output_type": "execute_result"
    }
   ],
   "source": [
    "x_train"
   ]
  },
  {
   "cell_type": "code",
   "execution_count": 34,
   "id": "c339ca3b-8489-4123-ac64-dd16b00b9933",
   "metadata": {},
   "outputs": [
    {
     "data": {
      "text/plain": [
       "array([0, 1, 2, 0, 0, 2, 1, 0, 0, 0, 1, 0, 2, 2, 0, 2, 2, 1, 1, 0, 2, 1,\n",
       "       1, 0, 0, 0, 1, 0, 0, 1, 1, 2, 1, 1, 1, 2, 1, 0, 2, 0, 2, 1, 1, 2,\n",
       "       0, 1, 0, 2, 0, 1, 0, 0, 1, 0, 1, 2, 1, 0, 0, 2, 0, 2, 0, 2, 1, 2,\n",
       "       0, 1, 1, 2, 2, 0, 2, 1, 2, 1, 1, 1, 2, 2, 1, 0, 1, 1, 2, 1, 2, 0,\n",
       "       1, 0, 2, 2, 2, 1, 2, 1, 1, 2, 2, 0, 0, 2, 1, 0, 2, 2, 0, 0, 2, 2,\n",
       "       0, 0, 1, 0, 1, 1, 0, 2, 2, 2], dtype=int32)"
      ]
     },
     "execution_count": 34,
     "metadata": {},
     "output_type": "execute_result"
    }
   ],
   "source": [
    "y_train"
   ]
  },
  {
   "cell_type": "code",
   "execution_count": 35,
   "metadata": {},
   "outputs": [
    {
     "data": {
      "text/plain": [
       "120"
      ]
     },
     "execution_count": 35,
     "metadata": {},
     "output_type": "execute_result"
    }
   ],
   "source": [
    "len(y_train) # แบ่งเทรนไป 30 ตัว จาก 120 ตัว"
   ]
  },
  {
   "cell_type": "code",
   "execution_count": 36,
   "id": "5640307e-e6bb-40b3-8a57-da9175723e00",
   "metadata": {},
   "outputs": [],
   "source": [
    "nn = MLPClassifier(activation='logistic' # activation function\n",
    "                   ,solver='sgd' # Gradient\n",
    "                   ,hidden_layer_sizes=6 # 6 Node - 1 Layer\n",
    "                   ,max_iter = 500 # วน 500 รอบ\n",
    "                   ,learning_rate='constant' # แอลฟ่าค่าคงที่ 0.01\n",
    "                   ,learning_rate_init=0.01)"
   ]
  },
  {
   "cell_type": "code",
   "execution_count": 39,
   "id": "7756f366-2db4-46ef-a6bb-1a5932527f04",
   "metadata": {},
   "outputs": [
    {
     "data": {
      "text/html": [
       "<style>#sk-container-id-1 {color: black;}#sk-container-id-1 pre{padding: 0;}#sk-container-id-1 div.sk-toggleable {background-color: white;}#sk-container-id-1 label.sk-toggleable__label {cursor: pointer;display: block;width: 100%;margin-bottom: 0;padding: 0.3em;box-sizing: border-box;text-align: center;}#sk-container-id-1 label.sk-toggleable__label-arrow:before {content: \"▸\";float: left;margin-right: 0.25em;color: #696969;}#sk-container-id-1 label.sk-toggleable__label-arrow:hover:before {color: black;}#sk-container-id-1 div.sk-estimator:hover label.sk-toggleable__label-arrow:before {color: black;}#sk-container-id-1 div.sk-toggleable__content {max-height: 0;max-width: 0;overflow: hidden;text-align: left;background-color: #f0f8ff;}#sk-container-id-1 div.sk-toggleable__content pre {margin: 0.2em;color: black;border-radius: 0.25em;background-color: #f0f8ff;}#sk-container-id-1 input.sk-toggleable__control:checked~div.sk-toggleable__content {max-height: 200px;max-width: 100%;overflow: auto;}#sk-container-id-1 input.sk-toggleable__control:checked~label.sk-toggleable__label-arrow:before {content: \"▾\";}#sk-container-id-1 div.sk-estimator input.sk-toggleable__control:checked~label.sk-toggleable__label {background-color: #d4ebff;}#sk-container-id-1 div.sk-label input.sk-toggleable__control:checked~label.sk-toggleable__label {background-color: #d4ebff;}#sk-container-id-1 input.sk-hidden--visually {border: 0;clip: rect(1px 1px 1px 1px);clip: rect(1px, 1px, 1px, 1px);height: 1px;margin: -1px;overflow: hidden;padding: 0;position: absolute;width: 1px;}#sk-container-id-1 div.sk-estimator {font-family: monospace;background-color: #f0f8ff;border: 1px dotted black;border-radius: 0.25em;box-sizing: border-box;margin-bottom: 0.5em;}#sk-container-id-1 div.sk-estimator:hover {background-color: #d4ebff;}#sk-container-id-1 div.sk-parallel-item::after {content: \"\";width: 100%;border-bottom: 1px solid gray;flex-grow: 1;}#sk-container-id-1 div.sk-label:hover label.sk-toggleable__label {background-color: #d4ebff;}#sk-container-id-1 div.sk-serial::before {content: \"\";position: absolute;border-left: 1px solid gray;box-sizing: border-box;top: 0;bottom: 0;left: 50%;z-index: 0;}#sk-container-id-1 div.sk-serial {display: flex;flex-direction: column;align-items: center;background-color: white;padding-right: 0.2em;padding-left: 0.2em;position: relative;}#sk-container-id-1 div.sk-item {position: relative;z-index: 1;}#sk-container-id-1 div.sk-parallel {display: flex;align-items: stretch;justify-content: center;background-color: white;position: relative;}#sk-container-id-1 div.sk-item::before, #sk-container-id-1 div.sk-parallel-item::before {content: \"\";position: absolute;border-left: 1px solid gray;box-sizing: border-box;top: 0;bottom: 0;left: 50%;z-index: -1;}#sk-container-id-1 div.sk-parallel-item {display: flex;flex-direction: column;z-index: 1;position: relative;background-color: white;}#sk-container-id-1 div.sk-parallel-item:first-child::after {align-self: flex-end;width: 50%;}#sk-container-id-1 div.sk-parallel-item:last-child::after {align-self: flex-start;width: 50%;}#sk-container-id-1 div.sk-parallel-item:only-child::after {width: 0;}#sk-container-id-1 div.sk-dashed-wrapped {border: 1px dashed gray;margin: 0 0.4em 0.5em 0.4em;box-sizing: border-box;padding-bottom: 0.4em;background-color: white;}#sk-container-id-1 div.sk-label label {font-family: monospace;font-weight: bold;display: inline-block;line-height: 1.2em;}#sk-container-id-1 div.sk-label-container {text-align: center;}#sk-container-id-1 div.sk-container {/* jupyter's `normalize.less` sets `[hidden] { display: none; }` but bootstrap.min.css set `[hidden] { display: none !important; }` so we also need the `!important` here to be able to override the default hidden behavior on the sphinx rendered scikit-learn.org. See: https://github.com/scikit-learn/scikit-learn/issues/21755 */display: inline-block !important;position: relative;}#sk-container-id-1 div.sk-text-repr-fallback {display: none;}</style><div id=\"sk-container-id-1\" class=\"sk-top-container\"><div class=\"sk-text-repr-fallback\"><pre>MLPClassifier(activation=&#x27;logistic&#x27;, hidden_layer_sizes=6,\n",
       "              learning_rate_init=0.01, max_iter=500, solver=&#x27;sgd&#x27;)</pre><b>In a Jupyter environment, please rerun this cell to show the HTML representation or trust the notebook. <br />On GitHub, the HTML representation is unable to render, please try loading this page with nbviewer.org.</b></div><div class=\"sk-container\" hidden><div class=\"sk-item\"><div class=\"sk-estimator sk-toggleable\"><input class=\"sk-toggleable__control sk-hidden--visually\" id=\"sk-estimator-id-1\" type=\"checkbox\" checked><label for=\"sk-estimator-id-1\" class=\"sk-toggleable__label sk-toggleable__label-arrow\">MLPClassifier</label><div class=\"sk-toggleable__content\"><pre>MLPClassifier(activation=&#x27;logistic&#x27;, hidden_layer_sizes=6,\n",
       "              learning_rate_init=0.01, max_iter=500, solver=&#x27;sgd&#x27;)</pre></div></div></div></div></div>"
      ],
      "text/plain": [
       "MLPClassifier(activation='logistic', hidden_layer_sizes=6,\n",
       "              learning_rate_init=0.01, max_iter=500, solver='sgd')"
      ]
     },
     "execution_count": 39,
     "metadata": {},
     "output_type": "execute_result"
    }
   ],
   "source": [
    "nn.fit(x_train,y_train)"
   ]
  },
  {
   "cell_type": "code",
   "execution_count": 40,
   "id": "60ef13e2-cefa-443d-b7be-5d66aa843691",
   "metadata": {},
   "outputs": [],
   "source": [
    "y_pred = nn.predict(x_test) # test - แล้วดูว่า output ได้อะไรออกมา เมื่อ input เป็น x_test"
   ]
  },
  {
   "cell_type": "code",
   "execution_count": 41,
   "metadata": {},
   "outputs": [
    {
     "data": {
      "text/plain": [
       "array([0, 1, 0, 0, 0, 0, 0, 0, 0, 0, 0, 0, 1, 0, 0, 0, 0, 0, 0, 0, 0, 0,\n",
       "       0, 0, 0, 0, 0, 0, 1, 0], dtype=int32)"
      ]
     },
     "execution_count": 41,
     "metadata": {},
     "output_type": "execute_result"
    }
   ],
   "source": [
    "y_pred"
   ]
  },
  {
   "cell_type": "code",
   "execution_count": 42,
   "id": "30815e86-3608-4d7b-b97a-ba5138ba55e2",
   "metadata": {},
   "outputs": [],
   "source": [
    "def accuracy(confusion_matrix):\n",
    "    diagonal_sum = confusion_matrix.trace()\n",
    "    sum_of_all_elements = confusion_matrix.sum()\n",
    "    return diagonal_sum/ sum_of_all_elements"
   ]
  },
  {
   "cell_type": "code",
   "execution_count": 43,
   "id": "35b8ed58-c9b5-441e-93f9-e8f65e65def3",
   "metadata": {},
   "outputs": [],
   "source": [
    "from sklearn.metrics import confusion_matrix"
   ]
  },
  {
   "cell_type": "code",
   "execution_count": 44,
   "id": "2dfcc5bc-4164-428b-9fb2-14acd9e982a8",
   "metadata": {},
   "outputs": [],
   "source": [
    "conf_matrix = confusion_matrix(y_pred,y_test)"
   ]
  },
  {
   "cell_type": "code",
   "execution_count": 46,
   "id": "f4d29756-dbf8-4ba0-9257-8f56504463cc",
   "metadata": {},
   "outputs": [
    {
     "data": {
      "text/plain": [
       "array([2, 2, 2, 1, 1, 1, 2, 0, 1, 1, 0, 0, 1, 1, 0, 2, 0, 1, 2, 2, 0, 2,\n",
       "       1, 0, 0, 2, 2, 0, 1, 0], dtype=int32)"
      ]
     },
     "execution_count": 46,
     "metadata": {},
     "output_type": "execute_result"
    }
   ],
   "source": [
    "y_test"
   ]
  },
  {
   "cell_type": "code",
   "execution_count": 47,
   "id": "dabf171f-9dd1-4bee-b146-df90728e07a0",
   "metadata": {},
   "outputs": [
    {
     "data": {
      "text/plain": [
       "array([0, 1, 0, 0, 0, 0, 0, 0, 0, 0, 0, 0, 1, 0, 0, 0, 0, 0, 0, 0, 0, 0,\n",
       "       0, 0, 0, 0, 0, 0, 1, 0], dtype=int32)"
      ]
     },
     "execution_count": 47,
     "metadata": {},
     "output_type": "execute_result"
    }
   ],
   "source": [
    "y_pred"
   ]
  },
  {
   "cell_type": "code",
   "execution_count": 48,
   "id": "b740b548-fc2c-4523-95d7-4d86490c377d",
   "metadata": {},
   "outputs": [
    {
     "data": {
      "text/plain": [
       "array([[10,  8,  9],\n",
       "       [ 0,  2,  1],\n",
       "       [ 0,  0,  0]], dtype=int64)"
      ]
     },
     "execution_count": 48,
     "metadata": {},
     "output_type": "execute_result"
    }
   ],
   "source": [
    "conf_matrix"
   ]
  },
  {
   "cell_type": "code",
   "execution_count": 49,
   "id": "76fa2462-4c76-4bf7-a511-b374bb8ab162",
   "metadata": {},
   "outputs": [],
   "source": [
    "acc = accuracy(conf_matrix)"
   ]
  },
  {
   "cell_type": "code",
   "execution_count": 50,
   "id": "f50bba26-b91d-47e1-9fcd-fe44af00276f",
   "metadata": {},
   "outputs": [
    {
     "name": "stdout",
     "output_type": "stream",
     "text": [
      "0.4\n"
     ]
    }
   ],
   "source": [
    "print(acc)"
   ]
  },
  {
   "cell_type": "code",
   "execution_count": null,
   "id": "c7597fe3-c076-419d-9637-c23941b686db",
   "metadata": {},
   "outputs": [],
   "source": []
  }
 ],
 "metadata": {
  "kernelspec": {
   "display_name": "Python 3",
   "language": "python",
   "name": "python3"
  },
  "language_info": {
   "codemirror_mode": {
    "name": "ipython",
    "version": 3
   },
   "file_extension": ".py",
   "mimetype": "text/x-python",
   "name": "python",
   "nbconvert_exporter": "python",
   "pygments_lexer": "ipython3",
   "version": "3.11.4"
  }
 },
 "nbformat": 4,
 "nbformat_minor": 5
}
