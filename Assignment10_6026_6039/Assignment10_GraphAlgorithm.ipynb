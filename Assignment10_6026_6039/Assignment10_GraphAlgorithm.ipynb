{
 "cells": [
  {
   "cell_type": "markdown",
   "metadata": {
    "tags": []
   },
   "source": [
    "![AlternativeLogo-eng.png](data:image/png;base64,iVBORw0KGgoAAAANSUhEUgAAAMwAAACHCAIAAADV3yEKAAAACXBIWXMAAAsSAAALEgHS3X78AAAe0ElEQVR4nO2dC1wTV77HByGQx4TwToKACon4Qg3VqlXS3l4fBfva3Ra77e6nFfb2c+8VH7d7P1er3v308ymge+8+Cuqne3cL6t7b7op376qtYW1tq6C1Ws3gGwggIJCEJEDI5B2S+0kOjCGEMDOZCaw7308ryWTmnP+c+c05//M/Z85EeTweiIGBTmYxpctAN4zIGGiHERkD7TAiY6AdRmQMtMOIjIF2GJEx0A4jMgbaYUTGQDuMyBhohxEZA+3EzJwi1jd/C/kGUkdHU31/BHMWx8KCabftgcYMPnj8/oiT2ZzY6Ok0y4dW2+/9EzX6P/iTlpY6zWb5MW0D5A7L8GDbNWfXjRiDijfYHONEITfkNcbtk5fvX4/bdzndkFmQY0+ZP2vuCsHC1bAoi27bbA53c49JPWhXD9g6+y0eryWj8ve4x24DX8F53J55Il4iPzZHzMtOh5P4sXTbhqKoRts/MDA4MDjY36+LivKJawywD/Y1LS01IUGQKEhITUvhcbl02zYZkRaZwzKsU55mdTXE62+MasgrIw8Q1mQiG93i28HGFZqzn07e8BYsnkOtbUNmZ3OvuemBUTto9wrLA4QEhRbZ6D6+D+JkjiQdLliWRrnaUBTt6n7Y1t4xMDAIBISJKYTI/LckJCTMm5OVni7iRlxtkRPZUO99s/KPyd2feS+RJwpye8iJDHyA3JBRvNST/1LGhtfCt61TZ/22dbClzwzUE+WTFwmReUCBeqDsdFi+LC0vOyF829RqzZ2797of9kymLZwiwzaIxWJpTnZKSnL4tuEkEiIb6mt2XP5AYLj+SENUiAxstMKpnuLyNFkBOds6ddaL9wY6+63Az6JKZL7/oQSY9T15Zl5OIjnb1GrNDWWTWqMJEE2YIgPfUlNSFuRKIyM1ekXmsJr0F3+d3POpV0b+GqJOZGCL8cWfZTz3Q0K22Zzuczf1N7tM0JhOKBeZb5MnZzb/jY3zkuLj8NtmMqEXGho1Gi34SofIwKfUlGTZ8mVcLodQ0RGFRpH1N3/Nu1Ye4zT51ECvyLxV2j/8Nu0JvPVZs9p86rrO4RiBRkVEo8jAzs+tnl24ZjYe227dvntDiTidzslEQ6HIoqKiYlkxubnzs+fNJXON8UGXyPou/jrlwYnRqxIRkdnglNRfNE5pmLcCu2W42W3yeLwnD0VKZBAEZc/mv/3SfE7cpFEPu8Px9YWGzs6u0KKhVmRRUVAUFCUSCZcvW8pi0RLSoj4Y67CZBv7vzZSuE5SnHBr2sG6g5WbofWxO9/HGvpvdpgjbBmjrGX7vd0hPvznor3qD4fSZzzo7uyJvGARBGm3/lavXhodpKRmKRWbUtpjry2BzK7XJ4sR07fMQO2qMjurPH2qNjmmxDWC1j1SfuDdRZ3q94fSZswbDwHQZBkHQ8LDpytXv6NAZlSIzaltYF3bAlulRWGg0RsfvL6vtTve0W2K1j1T98a6/zvR6w6kznzkc06l+gMvlokNnlInMYTNFXd7PGpmelig0Wq/CNDNBYQCvzv4wqjO93vDn05/OBIUBXC7Xt9co1hk1InPYTObzOzn2XkpSI02cMGPioTan+wyinzkKA1jtIx/84U5X79D5r76eOQoDuFyuq9euO10uqhKkRmSGq4f4lhZKkgqHtHz5xKNPXuvXDs+sqwiw2kfOfnFdrzfMBGMCcLlc167doCo1CkSmvlmX2n+WCmPCwrCyeFZKYCDqYstQl8E27bZNxh0tl82Z/jkmQTGZTM3N1LjX4cZFzEZ1QsfR8O2wcsRWgdSdLPUGI+atcPQ2u63DHivK6m+J1yJTHo6mZItfeydgo3bY0dBqjArbNlEiW5QQlwCzII9HnMRWG2weCBo0OfoM1j69NczEmw1iqcA6MkKybUpMTEhKTIRhHgRFCYVp/f3eaT9ms2XIaDQah8O0rav7YZowNSmR5LAYRrgis333c0EYzr6VLbYuLhYs/vuklPHu1KI12EcHatRdP+e5fyGxsyFoIsOzl6Xs+E0cP3A0+kxTWC2RKDFudW7iPCE3gccaZ1pW/CP7HSN3O43XWwbbe0kWgtnFMrnE3KiHhI4SCtMkOdlZmRmxseOmewj9ppE5nc7eXvWDri6dTk/ONm9de+feU2tWxcSEpZOwIv66jobEpr1jQXzIM+KBPFikHovaB4/4o7AUWvsvKfNX4c8O1XQbPjskeHAxxmoG6aBJOa41r2dsDDJqefOh+dObeiysPxrTHwvigy2TRfznpnKeWZI8N43AlJhBk+PU5Z47D4whIv7uR2MJHswW8OvK9B67zQRC8KEj+CKhULZ8qUgkxG9bv05/736zXm8IEfGHovw3PvoORUGSnOyc7Hn4s5tIWCIznd3i7VESFJlrFt+YVzp73Y/DsTs0Nqf70Jd9dtcIUZHFxcx6ZnHS6vkkG4j2PvSoot1qHyEqshS2NZ3bGVpkcXGx8nVrs7IyydnW16e+rmxyuZxERcZiseTrngqnMiPv+Gtb6jmOPqJHofxc1wsf0qowCIKuPTDZXYRjFsKEuH/cmEVaYRAE5aTD+368JCcdJnqg3sqOY4fKNykpsfiV75NWGARB6eniwk3rBYJ4HPuOw+VydXUTa80DIC8ybsdxooegcG78K79JyFhIOlOc3OwJPj4YAmFC3FvPZAS4XyTgxEX/8/fmr1xAeJ5Wu2HSbqZUmrO5cFOA+0UCX520dg5xpXZ1P3SFETYjKbKBPoRLsBoDCovlEr6TiHKrx2y0EisRoDA2i7Lxjx+un7tyITGd6a1xrNgg87rEItHTBevCVxiAxWI9kb+c6FxFl8vVH0bvgWSxOrtCDUUH2T86nl30H7Ec2hUGQVCLllhYIY41661nZlOoMMDLBZnpKcRm05tdgY8YJSclbdzwLLWGQRC0+skVgnhi16I7jBaTZMkKBqaeueWPec1+XhKuKXthYnO6WwmKbMtTYsoVBtrN0udz2JPPHptI90BgY/20nLI6zB8Wi5UvW0boEBOKWm0kw9pkClfX2cgaIRDoG0h9RriI+tsxKEQVtmwOf24qXZOPk+LjClcRuLXMzpg4Dh/7mi9bnpycRI9pkEAQvyBXSugQ0vE2MiIb0d8mtH98wS4SuZCDUFsZx5q1aVkKrfY8LRMmxROoimwjo+5/bGxs3pJFtNnlJSd7HqGpsKRFRib4wTE24d/ZMPv59Ig0lADtsBP/zsvn8OloKAN4bvXsT8514Ny51zArw1eX5S1ZhL+hRM1e/J8gH/szcQsIhI2SnJys1Wpx5jI4OIRzzwDIiAy2EZhwEZdbSM4yEhitLkL9ylVSCp6LnJKlOYl/jou22kfw7KyzssdEthjP/lpt/81bd/p1unDm+OPHhKJ8mHAUkPB9PNA39XA1hjUuPXneSqJZkGbIgutCAoSC2ARuJJYC4cRFE3r0ks2NnzsnC0811t7e8fn5r7S+QfHIgJpQEvkQFpnTrMG/szlJRjT9cOgaIND9WZDOi5hhkgwi8YIoVnq6eMq92to7Ll+5GpZZxCHXwSQsMrcFbxPuTV28nGj6EUMkoH1xFAxpJh/nnt7Ip5s3ZafS4XB89x1lkwrxY4uMyAjBip/6jqQQQl6/KIHAI91hQujxce84o3iKcmtr73A4CZwsVdisdhIpERbZLCsBDwDOWkE0/XCwEZnIHxmHDIOozkLT/bCHLkNpgLDIYmwEfLK46PDnpT4mCHAPvTtcj1uhMct5RgirHW9spakncs5iZCAsMhdbhH9nh3UmPoY5LTidBMIrjxnEe5ecNPw7mzTNkSwu/I4/C/Jo9RaazRmHnVKRZWUGecJ0xkJvc+kcVkfsxG1ON/7ZsLPc7o5ukoMkJNDqLU4bgc5gS+cUtklysmNZ4c6vJAGbQ6b7Qrx3ySXwCINbTWCUM0y6Bwj0rl12161mXcRsu9WsGyFSkz3UTjGzNzY2duXKJ8K2izBsNpvEUYRFxuIR8Ml4AwTGoMKE0PwL67D1dgRFdrtZpzMQaJ2nrMlAZbZ2DYFnvSiBExmRJaUTGCni2PsMD74jmgU5CM0ke9Ch73hojIxbZrY4ryj7TMMEYuVNLQb90NT75+Rkb1z/rDCNgJccJjCf8Og4yVkYKDsXNuP16O0t9RD9Y+S3es2EHk8ym7yX8ONT9975Ce3h4m+UfWYr4ej8N02aF5+ZeolNoTBt44ZnHQ7n4NAgiak+YEvU2A9+f4NvITEFg6TIrILl+EWW3PuZeaCU7rnXDW0EZuqyII/D54ZfUfaZLU4el14P+uNT98AHHivK4sD7lOsX3/auX53BZeO6QLGxrEjWZ0Qh07uMTskjtP9w4wd0mI5xq9dstBJwqx3Dow2r2er8r0+mWAE0TD4+da9/zBsz9BOYJ2O1u85/+9c0dhQCMiJLnVvgjCYwdyVJd0F776vwbQ2KzeX+vNk4x3R//tD1Z9tqcoe+S7NO8VxN691HD/Odv9xFXzdTq7ec+rwN+9qvJbYCypkLnd0aMvO3ZhoklynQXvl5Sv/ZsSUIpl6mwBnFj/ref9PRaF45VZd95QjX2A9WQgC568RLvsl7u4u/YOIyBbMgz+XT4/q8PA7r2C8KKW80zRbn7oMXOx4a/TcuXp5pc7onLlMA+dbXjhorv7HVNDxJCez3/nEFzkaTEHda9Z+eb7/TajD7mvDUJO6S+cmvv7gwjeBjfHiIfu+990gc5ojmsfv+MvrONEylAR/8/o122y2dSIx0QzSLyskIXR/+dM7V37Hs5tGl2sdy5A33L2ithxITevi5AaPNpr7B/r5xAQKny33jtubpVZmxLCpf+Xb4OHLjTuDcO8+Ih80LXgKeR072Iyw2122V4e9WUnxzHjqO1P7v3R4N6hrrLZktzgcPjafPt0MeKG8BxW+YIykyDl9sfnCO5fINTeIQGeSBYu0GU9sVCnXW9ZufJt+rH81ivMjAfxmdV+2pGVreuBVpbn/TNjKhHzo4bKdWZ7/66Pr5y0EWS7fZXanCeLc7SOsRVGTeBxdQR7cazZMms2IoGJ4xW52/qlFevtELspyY4+0WHWpxPpFHIOQ+JSRF5p1Q7+ZxdY0QbpF5debQW5vP21KXs+PDulccqLH3w53Jqi8DVDXxa9pAs1L6g0cHDqI97cE9MKCzBTlJiQIy8UYMs8X577+8/C0SfA0Hj8fDiYuJjg3S/E0mMu/S3XrLrVZD3vzkMNvNfoOl/PDVu6qxZduCicwbCm4fyMtNEaZQNj2dvMjgFKm545x3uWvcIvOGTJwmSPWFzh4dn0XsCWYM3a3L9t+9Ha+9H5h4MJGxrBZPYkJvfC44uuliy8RqDGNw2H7xak8sK3pBDslHaq8o+3YfbOjRhJp7gppsvsoscHsIkYH67BKiFqdyxakkr/21W5ryI1d1A34h60lE5vW5dZb16yh70yN5kXljEzFCjuZLQiLzut5uO1d91XTz02FWGizMxp8dqunW/X43fOHIqBOGQ2SQB3JxeC1i7zuXHAOTVmMYXv/sjvZWs16YwiV0K3d0Dx388NpJRYtzqpiwxwP5KrPAfkZokflWPXFfvaW93zGUmsBOSSTw1PtdleHI/9w8/UW7M2Dm8OQi69ebX9oopcp5CPfdSobzuwRD10mstAjerWSNG13OE06ZdO4KWM5zVtOn8WokxLuV/HuX/lv6Mxb/seDXUZDn209vjrgIhNOyMwXr181dk58unLzDZbY4v1H2nb/UdbuFWBxkYd5sm8s9Ze9y9B1O/m958m3KFPE3rc1cmJ0YQm26AetdlUFx8UFnz/BYIpBfot73QUWNLQH4aKNn1IjK3fKlFPUAwhWZ2aie9VUJyzVMTmTYC7ysbBG2MPHosZAHGlLH6Vt5Ayo8L/AKLbKeOz3dKgLPWfmTlszNzkrIyRq3fphWb+noHgqIUOCHzYkVz00mLTLs5WKZIv4cMZyayMZeju7xysvS2TPc2TvsjeBgKU2fyMINwPAEYnX21tTWqjDT4VjVHLPa03sxyFviwsPCS3MaLaQVBvzlfoNlMl+eHDarw+NwQmHPCetWm7r7hiF/oYzG4MK1EKYucEhBr1i8rFiXtpkKY2ihO321smEmvu6ps13PjaUyMkchPA4rO4uyNRyomRmbvGq7iZtLSVLUMiSce/xOGiFXLGLwOKySF6QhXn85jazOT6cwc2pEFsvm89ZXobwZp7OPuT8Cs3pmGjwO6+d75IskSe+8vmSm6YzHYb39OskAU1Aom+Mfy+bPWrXHGU3geXy6OZNZ0qiO3IIX+AEKA+1RhpD3zht5nLiIPmkcAh6HdWC3nNqRXCofJBEIcz2bjqLc+RSmSQ4Xm3smo+QTLbGVBCODv8IAXp39aEbozKuwf5NnZ1H8uifq30HusJlQRRmMthAKYYT/DnIshOFk8X4Z+0+Iia6FMMMhLZn7sx1rgvrUD7Xm42daHmrNhEIYWARkYu8S7Iw/hDEvI35nyRPZmdS/UOzxedE9yGIwad5/oq+1W8nMEqabvNzUn+1YE6Ilsthcx860NrXoIy+yJ5eJd23Np2mSMF0i84aXmr/mXSv3DlZGSmRN2cUHWvB6rDwOi8TUe3LwOKw3Xl708kYJnqPPX+09c6HLYnNGRmQcdsxrLyx4cX0Ofacf1thlaHgp86D53zeYHNyhO+MGFiHfcwkev0Br0LHOyUc/A1PzQMbZS2N+Ul3bPLsf95Nnn1Q9P2i0kQ7Z4ycvN/X9n65bgXvyTHZG/JNLUvVDdg0VD1OFGg/1QKuWifZuW5W/hMqJPUFsoK8mwzAP9Jq/fF9guE5HTWaFU63P/WvW0y9AELT7YAP+MUTF0R+Ax24/PnWf6MgjTrIzBW+/voz04ExL59DpC53NDwbpqMkWSZNfez53yXx6F/8GREJkAPNA79Dl3yZ3f0aVyIzipZ78lzI2vIZlQUJkgFvNuvOXuoJOMyRHXm7qGy8vpGTsr7lz6ItvHirv66gS2co80fPPzouMvACRExnAYRk23PsK6mhIVF8gJzI0Icee8UTyhrdgceCEJ9IiA5gtzi8udZ2/1Em6DcUzcYMc+iGb8p6uUdnXrUbJiWxuevzTqzOfXCpMS6Z+Fn9oIi0yDIdleLDtmrPrRoxBxRtsjnGiIUQ2nLrcFS+eNXeFYOFqWJQ1WZphigzDbHHeatbdatZ1dBs7uodC9w/yclOzswTZWQlLF6RSrq2JWGyuG/f6u/vQzr7h5o7BECLjxEXPmR0/b3b8nNnxK5cKeZxpWKAFMG0im0h/x51ZdtPYk0WjfwRzFsfCeCM3VIlsIkEfm6NqJkyY3G8fAAl4/P4sksygMOFMGc3wBiqzl8wAK4IzQ/QUlIVkJ4tHDGY5TwbaYUTGQDuMyBhohxEZA+0wImOgHUZkDLTDiIyBdhiRMdDO36jIpnGM5W+Qx0pkSxfgnVlA+RJcDCF4rES2ft3Uy0UD1lD6XCFDaB4rkQlTuC9tmHqKc3amYAN16yIxTMnj5pP96OVFoZ+34XFYEVi7n8GfGTTVhyrMFucvP7oedH2U7EzBOz9ZQeEqDwx4eAxFBgAzqsECT9lZCTwua01+OtNKTguPrcgYZg5MMJaBdhiRMdAOIzIG2mFExkA7jMgYaIcRGQPtMCJjoB1GZAy0w4iMgXYYkTHQDiOyaUat1igU9ZG3AfERmbyIrYWhUNQrFArwWSQSy+UFcnkBPYbNIKqqqlUqVYA9Uql0584d4RtZ5+WkWCySyWSRPOXy8koUNZ0795cI5EVAZOXllfX19RKJJD9fBsOwSqV69929BQXrDh48QKeFZKiqqoYgiBIRQBAEFBYgArFYTEnixcXFUqk0wgqDIGj//r0RywuXyFAU3bZte1tb2759e4uKCrHtKpVqWqr6KZlY8YSJTCYrLS2hw1SxWCQWF+LYkWIiKWtcIjt7VjFRYWNNxugLGVQqVVVVNYI0QRAkkUjk8gLsqtTU1CIIUlRUVFNTq9FoYJhXUCDfv3+vQlF/4kRdW1ubr/EVHTxYKZWOprZ2bcGBA5UKhQJBEBQ1i0QiubwAq5lqampra49evtzob8zatQWHD3srsLKyHdgW7wvnD1fLZDIURT/4oBpBEI1GMzE1f/MCkp2SsrLtoCgaGho1Go3v+i0/ePAADMNYyYAssBOBYRhBkMOHDwWcC4IgZWU7jh2rxUoShnk7d+70L/aamtqGhsa2tjYY5slksv379/ln5H8Jtmwpxg4sK9sOCkGhUBQXF5eWlgCzMRtACUx2OVAULS+vUKnawOWTyWRFRUXvvrsXZ1nhElljY6NIJApQmD8qlaqsbLtIJD5woJLPh5VKpLb2qFqtwepk3/lXFRUVyeUFDQ2NCoWirEyNIE2FhYWlpSUqlaqurm7Pnr1/+tNJLNWKigqRSLxz506xWAQSNJnQKSt5qVR6+HD1Bx941bZr1w6wBdTEKIoWFRXm58uAAf6pqVSqiorKwsJCci4mgjSp1RrgoYLE9+x5F1w/rGTAiajVmqqqKmDVZKkBQezbt9fnBCsqKioxj628vLKxsaGgQL5r147WVlVd3clt27YfOXIIeC9lZdulUum+fXthGG5oaKyoqIQgCLtqdXV1MMwv8hH0ClZVVRUUyEtLS9RqdV3dybKy7cBjA6Wn0ajBKZhMaE1NbUVFBf7yweuTha5da2pqRSIxOFuwMwzD1dWHSktLxGKRz1AzVhHKZDK1Wt3YeKmwsBBcZnBzV1cfQhAEywiG+f4JisXiiorKzZsLQ1sCw7BMJuPzYX+bwa0PqjSwXSqVVlRUbtnyKrjYKGresWP7li3FkyVbW3u0tvao/xYsNcD+/XuxxE0mtL5+1ItQKOrHnwgklUpALRKiqDE3VyaTvfLKq0olAuqh+vr6kpKtoImQyWRyufyVV149e1axZUvxiRPe+xOrQeXyAhQ11dTUYiJDUfOxY8fA5ZhIQAnw+fyKikpwOZRKpK2t7dixWuzGyM+XvfnmVhQ1hzgLf/CKTKNRh/gVQZCSkhKs3oYgaPPmIiAazOHwryTkcnlj46WALdXVh/zTBMrDvhYVFVZVVYHixmmzv3kQBCmViFI5rtOuVCJYwcnl8hApFBYWbt4c6Cpgn0WicX1Dubygvr5epVJJpVJgsP+JADcfRdHJ8vK3RCwWSSQSzFoQ8qipqfXPGkGQLVuKEQQRicQnTtT5J6XRaFAUBblLJJLJFDYxX7m8AKuqfCmL/M8XhuGiosKAuy4EuEQmEomxWzMoKGrm88e9Hw6cmMlkAl9lsuX+BQ3O1l9kE8/ff/+xLZO+gi60p28yoZjUMGSy5f42h74AoUMMAceCejSEjEL8NFlq2FEqlcr/hvf1G8S+X01Bz1GtVgN9TOkJ+Oc7sfDDAZfINm8urK+vLy+vnMwlkkgkSiXi77Q1NDSCepW0bQ0Njf4dOrVao9Fo/O8nUFWAz6E7ufn5svr6+tLSkshHCoALiFUnwGwEaZLJlhNNChjv36MK+FWlagOOILXIZLK6upP+pe3rQBCIKuCK+AM/FOgMqzNQFK2qqn7zza1YA4HV1T4/ukIikYRwb6ekra2tvLwSy2vPnndhmAdUC27KmppatVoD5Ag0jSGVSsFP4Fhfg8UDfSiwsaGhEcTS6AbceNu2bVco6hEEOXGirqxsOwyTeQsnaDp98fB6rJx9MVXUl1GRRqOpqqoGJw6uDiUBpvx8mUTi9SNPnKhDEEShqPf1okz4U8Drk4HCqqjwxmNhmCcSiUEvet++fRAElZaWAM+9trYWhvkajUYikRw5EtZdVVCwrrGxYe1ab/gX5HX48Kj7LJVKCwu9lWtj4yUY5qGoGXz1t7au7uSmTc/BMN/Xz997+PChsrLtZWU7RCIRippQ1FxSshW/MUAiARvxVBtSqfT48aPl5RVVVVUghFFcXDyxXcPJkSOHtm3bXlFRWVVVBcq5oGAdOFQuL9i3b29FRWVd3UmsxMDVCRMYho8cOVRTU1tXdxKLQBUVFQb40CEgEPEvKioEXXS1Wg3D8Pz54+LUW7YUb95cpFQiarU6P1/mX4fl58sC4uMikXjiNS4p2SoSPdpNKpXu379PqURUKtWuXTsCWrr9+/du2fJqQ0MjDMMgO7FYhB0ulUrPnasH1Ruo9nxb/qJSqZRKhM/nS6US/77SVCdepFZP2u+ZGBEAZ4cZA8NwwKDIm29uxRwg/9wDDsTSx3aGYfj4cW9sCEEQk8kUcAnABQLnuGvXDqlUirXR/olMNDtoCQScws6dO/xHUKqqqgnUx54ZyVNPrfvoo5qZaRsh+vrUu3fvUSqV2EFnzyqeemrd2bOKvwr7Abt37/E3uLW1dePGTe+/X4Hz8Bn0sojHEl/TjJaV7YBhHvAUNRpNYWFhiMj2TMPXa/GGzSoqKmWy5SYT2tbWJpFIQKwbDzP0CfKamtr8fFnkO4M0ofLSBtpcubwgnP7QdKFWa3xnoQK+B6GhEWaZAgbaYSYtMtAOIzIG2mFExkA7jMgYaIcRGQPtMCJjoB1GZAy0w4iMgXYYkTHQDiMyBtphRMZALxAE/T9FuYII7145uQAAAABJRU5ErkJggg==)"
   ]
  },
  {
   "cell_type": "markdown",
   "metadata": {},
   "source": [
    "# Assignment9 Graph Algorithm"
   ]
  },
  {
   "cell_type": "markdown",
   "metadata": {},
   "source": [
    "## สิ่งที่ได้เรียนรู้ภายในวันนี้\n",
    "* Weighted Graph คือ กราฟที่มีค่าถ่วงน้ำหนักใน Edge และ Shortest Path หมายถึงเส้นทางที่มีน้ำหนักในการเดินน้อยที่สุด\n",
    "- Algorithm ที่ใช้ในการ Shortest Path ของวันนี้ได้แก่\n",
    "1. Floyd-Warshall's Algorithm คือ การหา Shortest Path ของ Vertex ทุกคู่ ใช้ได้ทั้งกราฟที่มีและไม่มีทิศทาง <br>\n",
    "หลักการคือเราจะสร้าง Distance matrix D ขึ้นมา (ซึ่งคล้ายกับ Adjacency Matrix) โดยในเมทริกซ์จะ Represent ค่า weight ของ edge ที่ไป <br>\n",
    "และถ้าหาก Vertex คู่ใดไม่มี edge ที่เชื่อมต่อกันจะแทนด้วย Infinity <br>\n",
    "จากนั้นทำการเทียบว่ามีทางที่สามารถไปได้ผ่าน vertex อื่นหรือถ้าเส้นทางนั้นมีน้ำหนักที่น้อยกว่า ก็จะกำหนดค่าให้กับ matrix ใหม่ <br>\n",
    "โดยในการ Implement เราจะใช้ for loop 3 ชั้น โดยเรียงจาก k , i , j และแต่ละค่าจะไล่ตั้งแต่ค่า 0 - ขนาดของ matrix <br>\n",
    "เราจะเทียบด้วยสมการ D[i,j] เทียบกับ D[i,k] + D[k,j] ถ้าอันไหนน้อยกว่าให้กำหนดค่าลง D[i,j] <br>\n",
    "สุดท้ายผลลัพธ์ที่ได้คือ Distance matrix ที่แสดงถึงระยะทางที่สั้นที่สุดจาก vertex ไปอีก vertex ทุกคู่ <br>\n",
    "\n",
    "2. Dijkstra's Algorithm คือ การหา Shortest Path ของ vertex กำเนิด 1 ตัว ไปหาจุดอื่นทั้งหมดใน Graph <br>\n",
    "โดยอัลกอริทึมนี้จะเป็นประเภท Greedy ALgorithm ก็คือจะเลือกค่าที่น้อยที่สุดในแต่ละ Case <br>\n",
    "และจะใช้หลักการ Edge Relaxation ซึ่งจะทำการดูที่ตำแหน่ง Vertex ต่าง ๆ ถ้าหากมีเส้นทางที่ไปแล้วน้อยกว่าก็จะเลือกค่านั้น <br>\n",
    "\n",
    "* Minimum spanning tree (MST) คือ Tree ที่จะเชื่อมต่อกับทุกจุดของ Graph และต้องมี Weight ของ edge รวมน้อยที่สุดจากทุกกรณี <br>\n",
    "Key ที่สำคัญของ MST คือ จะต้องไม่มี Cyclic หรือวงปิดภายใน MST <br>\n",
    "- Algorithm ที่ใช้ในการทำ Minimum spanning tree (MST) ได้แก่\n",
    "1. Prim-Jarnik's Algorithm <br>\n",
    "หลักการของ Prim คือเลือก Vertex เริ่มต้น และดู Edge ที่เชื่อมต่อกับตัวมัน แล้วให้พิจารณาค่า Edge ที่น้อยที่สุดในแต่ละรอบ <br>\n",
    "Keyword : พิจารณา edge ที่น้อยที่สุดสำหรับทุก Case แล้วเลือกให้ครบทุก Vertex <br>\n",
    "2. Kruskal's Algorithm <br>\n",
    "หลักการเริ่มต้นด้วยการ Sorting ค่า Edge ก่อน จากนั้นจึงค่อย ๆ เลือกทีละ Edge จากน้อยไปมาก <br>\n",
    "แต่ถ้าหากเลือก Edge นั้นมาแล้วทำให้เกิด Cycle หรือวงปิด ก็จะไม่เลือก Edge นั้นเข้ามา <br>\n",
    "ในการเขียนโปรแกรมนั้น การที่จะเช็คว่าเกิด Cycle ใน Tree ของเราแล้วหรือไม่จะใช้ Data struture ที่ชื่อว่า Union-find set<br>\n",
    "* Union-find set คือ Data structure ที่เอาไว้เก็บกลุ่ม หลักการคือ กำหนดให้กลุ่มนั้นมีตัวแทน (Representative) 1 คนต่อกลุ่ม"
   ]
  },
  {
   "cell_type": "markdown",
   "metadata": {},
   "source": [
    "### ------------------------------------------------------------------------------------\n",
    "## <span style=\"color:red\"> Practice1 </span>: All pair shortest path \n",
    "### ------------------------------------------------------------------------------------\n",
    "**Mission I**: Try to implement Floyd's algorithm and create a graph **g** and then use Floyd's algorithm to find distance matrix D <br>\n",
    "\n",
    "![alt text](graph_ex1.jpg \"Title\")"
   ]
  },
  {
   "cell_type": "code",
   "execution_count": 13,
   "metadata": {},
   "outputs": [],
   "source": [
    "from CPE112.Graph import Graph\n",
    "from CPE112.Array import Matrix\n",
    "import math\n",
    "\n",
    "def Floyd(G,s):\n",
    "    n = G.vertex_count()\n",
    "    assert n > 0 , \"There are no vertex in the graph.\"\n",
    "    \n",
    "    \n",
    "    # สร้าง Matrix ใหม่ที่เอา Adjacency Matrix มาจาก Graph จากนั้นแปลงให้ 0 เป็น inf\n",
    "    newMatrix = Matrix(n , n)\n",
    "    newMatrix = G._MATRIX\n",
    "    for i in range(n):\n",
    "        for j in range(n):\n",
    "            if newMatrix[i,j] == None and i != j:\n",
    "                newMatrix[i,j] = math.inf # Assign ค่าที่สูงมาก ๆ เข้าไป\n",
    "            elif i == j: # กรณีที่มันเป็นตัว Edge ของมันเอง\n",
    "                newMatrix[i,j] = 0\n",
    "            else: # เปลี่ยนจาก edge ให้เป็น ค่า weight ของ edge\n",
    "                newMatrix[i,j] = newMatrix[i,j]._element \n",
    "    \n",
    "    # เริ่มทำ Floyd's Algorithm\n",
    "    for k in range(n):\n",
    "        for i in range(n):\n",
    "            for j in range(n):\n",
    "                newMatrix[i,j] = min(newMatrix[i,j] , newMatrix[i,k] + newMatrix[k,j])\n",
    "\n",
    "    print(\"The Floyd's Graph is : \\n\")\n",
    "    print(newMatrix , \"\\n\")\n",
    "    # พอได้ตาราง Floyd's มาแล้ว ให้ทำการเลือก Distance จากช่องที่เราเลือก\n",
    "    ndx = G.findindex(s)\n",
    "    for i in range(n):\n",
    "        if i != ndx:\n",
    "            distance = newMatrix[ndx , i]\n",
    "            print(\"Distance from \" + str(s) + \" to \" + str(G._Vertices[i]) + \" is \" + str(distance))"
   ]
  },
  {
   "cell_type": "code",
   "execution_count": 14,
   "metadata": {},
   "outputs": [],
   "source": [
    "g = Graph(10)\n",
    "A = g.insert_vertex('A')\n",
    "B = g.insert_vertex('B')\n",
    "C = g.insert_vertex('C')\n",
    "D = g.insert_vertex('D')\n",
    "E = g.insert_vertex('E')\n",
    "F = g.insert_vertex('F')\n",
    "G = g.insert_vertex('G')\n",
    "H = g.insert_vertex('H')\n",
    "I = g.insert_vertex('I')\n",
    "J = g.insert_vertex('J')\n",
    "\n",
    "ab = g.insert_edge(A,B,2)\n",
    "ae = g.insert_edge(A,E,1)\n",
    "ag = g.insert_edge(A,G,5)\n",
    "bc = g.insert_edge(B,C,2)\n",
    "bj = g.insert_edge(B,J,5)\n",
    "ce = g.insert_edge(C,E,1)\n",
    "cf = g.insert_edge(C,F,6)\n",
    "ci = g.insert_edge(C,I,5)\n",
    "ed = g.insert_edge(E,D,2)\n",
    "df = g.insert_edge(D,F,3)\n",
    "dg = g.insert_edge(D,G,2)\n",
    "gf = g.insert_edge(G,F,3)\n",
    "fi = g.insert_edge(F,I,4)\n",
    "hi = g.insert_edge(H,I,1)\n",
    "hj = g.insert_edge(H,J,2)\n",
    "ij = g.insert_edge(I,J,3)"
   ]
  },
  {
   "cell_type": "code",
   "execution_count": 15,
   "metadata": {},
   "outputs": [
    {
     "name": "stdout",
     "output_type": "stream",
     "text": [
      "The Floyd's Graph is : \n",
      "\n",
      "[ 0, 2, 2, 3, 1, 6, 5, 8, 7, 7 ]\n",
      "[ 2, 0, 2, 5, 3, 8, 7, 7, 7, 5 ]\n",
      "[ 2, 2, 0, 3, 1, 6, 5, 6, 5, 7 ]\n",
      "[ 3, 5, 3, 0, 2, 3, 2, 8, 7, 10 ]\n",
      "[ 1, 3, 1, 2, 0, 5, 4, 7, 6, 8 ]\n",
      "[ 6, 8, 6, 3, 5, 0, 3, 5, 4, 7 ]\n",
      "[ 5, 7, 5, 2, 4, 3, 0, 8, 7, 10 ]\n",
      "[ 8, 7, 6, 8, 7, 5, 8, 0, 1, 2 ]\n",
      "[ 7, 7, 5, 7, 6, 4, 7, 1, 0, 3 ]\n",
      "[ 7, 5, 7, 10, 8, 7, 10, 2, 3, 0 ] \n",
      "\n",
      "Distance from D to A is 3\n",
      "Distance from D to B is 5\n",
      "Distance from D to C is 3\n",
      "Distance from D to E is 2\n",
      "Distance from D to F is 3\n",
      "Distance from D to G is 2\n",
      "Distance from D to H is 8\n",
      "Distance from D to I is 7\n",
      "Distance from D to J is 10\n"
     ]
    }
   ],
   "source": [
    "Floyd(g,D)"
   ]
  },
  {
   "cell_type": "markdown",
   "metadata": {},
   "source": [
    "### ------------------------------------------------------------------------------------\n",
    "## <span style=\"color:red\"> Practice2 </span>: Single source shortest path \n",
    "### ------------------------------------------------------------------------------------"
   ]
  },
  {
   "cell_type": "markdown",
   "metadata": {},
   "source": [
    "**ALGORITHM** Dijkstra(G, s):  \n",
    "Input: A weighted graph G with nonnegative edge weights, and a distinguished vertex s of G.  \n",
    "Output: The length of a shortest path from s to v for each vertex v of G.  \n",
    "\n",
    "Initialize D[s] = 0 and D[v] = ∞ for each vertex v $\\neq$ s.  \n",
    "Let a priority queue Q contain all the vertices of G using the D labels as keys.  \n",
    "**while** Q is not empty **do**  \n",
    "&nbsp;&nbsp;&nbsp;&nbsp;u = value returned by Q.remove_min()  \n",
    "&nbsp;&nbsp;&nbsp;&nbsp;**for** each vertex v adjacent to u such that v is in Q **do**  \n",
    "&nbsp;&nbsp;&nbsp;&nbsp;&nbsp;&nbsp;&nbsp;&nbsp;{perform the relaxation procedure on edge (u,v)}  \n",
    "&nbsp;&nbsp;&nbsp;&nbsp;&nbsp;&nbsp;&nbsp;&nbsp;**if** D[u]+w(u,v) < D[v] **then**  \n",
    "&nbsp;&nbsp;&nbsp;&nbsp;&nbsp;&nbsp;&nbsp;&nbsp;&nbsp;&nbsp;&nbsp;&nbsp;D[v] = D[u]+w(u,v)  \n",
    "&nbsp;&nbsp;&nbsp;&nbsp;&nbsp;&nbsp;&nbsp;&nbsp;&nbsp;&nbsp;&nbsp;&nbsp;Change to D[v] the key of vertex v in Q  \n",
    "**return** the label D[v] of each vertex v"
   ]
  },
  {
   "cell_type": "code",
   "execution_count": 18,
   "metadata": {},
   "outputs": [],
   "source": [
    "from CPE112.Graph import Graph\n",
    "from CPE112.HeapbasedPriorityQueue import AdaptableHeapPriorityQueue\n",
    "def Dijkstra(G, s):\n",
    "    d = { } # d[v] is upper bound from s to v\n",
    "    cloud = { } # map reachable v to its d[v] value\n",
    "    PQ = AdaptableHeapPriorityQueue( ) # vertex v will have key d[v]\n",
    "    pqlocator = { } # map from vertex to its pq locator\n",
    "    \n",
    "    # for each vertex v of the graph, add an entry to the priority queue, with\n",
    "    # the source having distance 0 and all others having infinite distance\n",
    "    for v in G.vertices( ):\n",
    "        if v is s:\n",
    "            d[v] = 0\n",
    "        else:\n",
    "            d[v] = float('inf') # syntax for positive infinity\n",
    "        pqlocator[v] = PQ.add(d[v], v) # save locator for future updates\n",
    "\n",
    "    while not PQ.is_empty( ):\n",
    "        key, u = PQ.remove_min() # key is Priority(weight), u is vertex\n",
    "        cloud[u] = key\n",
    "        #cloud[u] = key # its correct d[u] value\n",
    "        del pqlocator[u] # u is no longer in pq\n",
    "        for e in G.incident_edges(u): # outgoing edges (u,v)\n",
    "            v = e.opposite(u)\n",
    "            if v not in cloud:\n",
    "                # perform relaxation step on edge (u,v)\n",
    "                wgt = e.element( )\n",
    "                if d[u] + wgt < d[v]: # better path to v?\n",
    "                    d[v] = d[u] + wgt # update the distance\n",
    "                    PQ.update(pqlocator[v], d[v], v) # update the pq entry\n",
    "    return cloud # only includes reachable vertices"
   ]
  },
  {
   "cell_type": "markdown",
   "metadata": {},
   "source": [
    "\n",
    "**Mission II**: Try to create a graph **g** and use Dijkstra's algorithm to find the single source shortest path<br>\n",
    "\n",
    "![alt text](graph_ex1.jpg \"Title\")"
   ]
  },
  {
   "cell_type": "code",
   "execution_count": 19,
   "metadata": {},
   "outputs": [],
   "source": [
    "g = Graph(10)\n",
    "A = g.insert_vertex('A')\n",
    "B = g.insert_vertex('B')\n",
    "C = g.insert_vertex('C')\n",
    "D = g.insert_vertex('D')\n",
    "E = g.insert_vertex('E')\n",
    "F = g.insert_vertex('F')\n",
    "G = g.insert_vertex('G')\n",
    "H = g.insert_vertex('H')\n",
    "I = g.insert_vertex('I')\n",
    "J = g.insert_vertex('J')\n",
    "\n",
    "ab = g.insert_edge(A,B,2)\n",
    "ae = g.insert_edge(A,E,1)\n",
    "ag = g.insert_edge(A,G,5)\n",
    "bc = g.insert_edge(B,C,2)\n",
    "bj = g.insert_edge(B,J,5)\n",
    "ce = g.insert_edge(C,E,1)\n",
    "cf = g.insert_edge(C,F,6)\n",
    "ci = g.insert_edge(C,I,5)\n",
    "ed = g.insert_edge(E,D,2)\n",
    "df = g.insert_edge(D,F,3)\n",
    "dg = g.insert_edge(D,G,2)\n",
    "gf = g.insert_edge(G,F,3)\n",
    "fi = g.insert_edge(F,I,4)\n",
    "hi = g.insert_edge(H,I,1)\n",
    "hj = g.insert_edge(H,J,2)\n",
    "ij = g.insert_edge(I,J,3)"
   ]
  },
  {
   "cell_type": "code",
   "execution_count": 23,
   "metadata": {},
   "outputs": [
    {
     "name": "stdout",
     "output_type": "stream",
     "text": [
      "The single source shortest path of A is : \n",
      "{A: 0, E: 1, B: 2, C: 2, D: 3, G: 5, F: 6, I: 7, J: 7, H: 8}\n",
      "The single source shortest path of B is : \n",
      "{B: 0, A: 2, C: 2, E: 3, J: 5, D: 5, H: 7, I: 7, G: 7, F: 8}\n",
      "The single source shortest path of C is : \n",
      "{C: 0, E: 1, B: 2, A: 2, D: 3, I: 5, G: 5, H: 6, F: 6, J: 7}\n",
      "The single source shortest path of D is : \n",
      "{D: 0, E: 2, G: 2, A: 3, F: 3, C: 3, B: 5, I: 7, H: 8, J: 10}\n",
      "The single source shortest path of E is : \n",
      "{E: 0, A: 1, C: 1, D: 2, B: 3, G: 4, F: 5, I: 6, H: 7, J: 8}\n",
      "The single source shortest path of F is : \n",
      "{F: 0, D: 3, G: 3, I: 4, E: 5, H: 5, C: 6, A: 6, J: 7, B: 8}\n",
      "The single source shortest path of G is : \n",
      "{G: 0, D: 2, F: 3, E: 4, A: 5, C: 5, B: 7, I: 7, H: 8, J: 10}\n",
      "The single source shortest path of H is : \n",
      "{H: 0, I: 1, J: 2, F: 5, C: 6, B: 7, E: 7, G: 8, D: 8, A: 8}\n",
      "The single source shortest path of I is : \n",
      "{I: 0, H: 1, J: 3, F: 4, C: 5, E: 6, B: 7, A: 7, D: 7, G: 7}\n",
      "The single source shortest path of J is : \n",
      "{J: 0, H: 2, I: 3, B: 5, F: 7, A: 7, C: 7, E: 8, G: 10, D: 10}\n"
     ]
    }
   ],
   "source": [
    "source = [A,B,C,D,E,F,G,H,I,J]\n",
    "for s in source:\n",
    "    print(\"The single source shortest path of\" , s , \"is : \")\n",
    "    print(Dijkstra(g,s))"
   ]
  },
  {
   "cell_type": "markdown",
   "metadata": {},
   "source": [
    "### ------------------------------------------------------------------------------------\n",
    "## <span style=\"color:red\"> Practice3 </span>: The minimum spanning tree \n",
    "### ------------------------------------------------------------------------------------\n",
    "**Mission III**: Use a graph in **Mission II** and compute the total weight of the minimun spanning tree of **g** from Prim-Janik's algorithm"
   ]
  },
  {
   "cell_type": "markdown",
   "metadata": {},
   "source": [
    "**ALGORITHM** PrimJarnik(G):  \n",
    "Input: An undirected, weighted, connected graph G with n vertices and m edges  \n",
    "Output: A minimum spanning tree T for G  \n",
    "\n",
    "Pick any vertex s of G D[s] = 0  \n",
    "**for** each vertex v $\\neq$ s **do**  \n",
    "&nbsp;&nbsp;&nbsp;&nbsp;D[v] = ∞  \n",
    "Initialize T = ∅  \n",
    "Initialize a priority queue Q with an entry (D[v], (v,None)) for each vertex v,  \n",
    "where D[v] is the key in the priority queue, and (v,None) is the associated value.  \n",
    "**while** Q is not empty **do**  \n",
    "&nbsp;&nbsp;&nbsp;&nbsp;(u,e) = value returned by Q.remove min()   \n",
    "&nbsp;&nbsp;&nbsp;&nbsp;Connect vertex u to T using edge e  \n",
    "&nbsp;&nbsp;&nbsp;&nbsp;**for** each edge e’= (u,v) such that v is in Q **do**  \n",
    "&nbsp;&nbsp;&nbsp;&nbsp;&nbsp;&nbsp;&nbsp;&nbsp;if w(u,v) < D[v] then  \n",
    "&nbsp;&nbsp;&nbsp;&nbsp;&nbsp;&nbsp;&nbsp;&nbsp;&nbsp;&nbsp;&nbsp;&nbsp;D[v] = w(u,v)  \n",
    "&nbsp;&nbsp;&nbsp;&nbsp;&nbsp;&nbsp;&nbsp;&nbsp;&nbsp;&nbsp;&nbsp;&nbsp;Change the key of vertex v in Q to D[v].  \n",
    "&nbsp;&nbsp;&nbsp;&nbsp;&nbsp;&nbsp;&nbsp;&nbsp;&nbsp;&nbsp;&nbsp;&nbsp;Change the value of vertex v in Q to (v,e’)  \n",
    "**return** the tree T\n"
   ]
  },
  {
   "cell_type": "code",
   "execution_count": 26,
   "metadata": {},
   "outputs": [],
   "source": [
    "def PrimJarnik(g):\n",
    "#Compute a minimum spanning tree of weighted graph g.\n",
    "#Return a list of edges that comprise the MST (in arbitrary order).\n",
    "    d = { } # d[v] is bound on distance to tree\n",
    "    tree = {  } # edges in spanning tree\n",
    "    pq = AdaptableHeapPriorityQueue( ) # d[v] maps to value (v, e=(u,v))\n",
    "    pqlocator = { } # map from vertex to its pq locator\n",
    "    # for each vertex v of the graph, add an entry to the priority queue, with\n",
    "    # the source having distance 0 and all others having infinite distance\n",
    "    for v in g.vertices( ):\n",
    "        if len(d) == 0: # this is the first node\n",
    "            d[v] = 0 # make it the root\n",
    "        else:\n",
    "            d[v] = float('inf') # positive infinity\n",
    "        pqlocator[v] = pq.add(d[v], (v,None))\n",
    "    while not pq.is_empty( ):\n",
    "        key,value = pq.remove_min()\n",
    "        u,edge = value # unpack tuple from pq\n",
    "        tree[u] = edge\n",
    "        del pqlocator[u] # u is no longer in pq\n",
    "        for link in g.incident_edges(u):\n",
    "            v = link.opposite(u)\n",
    "            if v in pqlocator: # thus v not yet in tree\n",
    "                # see if edge (u,v) better connects v to the growing tree\n",
    "                wgt = link.element( )\n",
    "                if wgt < d[v]: # better edge to v?\n",
    "                    d[v] = wgt # update the distance\n",
    "                    pq.update(pqlocator[v], d[v], (v, link)) # update the pq entry\n",
    "    return tree"
   ]
  },
  {
   "cell_type": "code",
   "execution_count": 24,
   "metadata": {},
   "outputs": [],
   "source": [
    "g = Graph(10)\n",
    "A = g.insert_vertex('A')\n",
    "B = g.insert_vertex('B')\n",
    "C = g.insert_vertex('C')\n",
    "D = g.insert_vertex('D')\n",
    "E = g.insert_vertex('E')\n",
    "F = g.insert_vertex('F')\n",
    "G = g.insert_vertex('G')\n",
    "H = g.insert_vertex('H')\n",
    "I = g.insert_vertex('I')\n",
    "J = g.insert_vertex('J')\n",
    "\n",
    "ab = g.insert_edge(A,B,2)\n",
    "ae = g.insert_edge(A,E,1)\n",
    "ag = g.insert_edge(A,G,5)\n",
    "bc = g.insert_edge(B,C,2)\n",
    "bj = g.insert_edge(B,J,5)\n",
    "ce = g.insert_edge(C,E,1)\n",
    "cf = g.insert_edge(C,F,6)\n",
    "ci = g.insert_edge(C,I,5)\n",
    "ed = g.insert_edge(E,D,2)\n",
    "df = g.insert_edge(D,F,3)\n",
    "dg = g.insert_edge(D,G,2)\n",
    "gf = g.insert_edge(G,F,3)\n",
    "fi = g.insert_edge(F,I,4)\n",
    "hi = g.insert_edge(H,I,1)\n",
    "hj = g.insert_edge(H,J,2)\n",
    "ij = g.insert_edge(I,J,3)"
   ]
  },
  {
   "cell_type": "code",
   "execution_count": 39,
   "metadata": {},
   "outputs": [
    {
     "name": "stdout",
     "output_type": "stream",
     "text": [
      "Prim-Jarnik MST of graph is : {A: None, E: 1, C: 1, D: 2, B: 2, G: 2, F: 3, I: 4, H: 1, J: 2}\n",
      "Total weight : 18\n"
     ]
    }
   ],
   "source": [
    "# Prim-Jarnik MST\n",
    "T = PrimJarnik(g)\n",
    "print(\"Prim-Jarnik MST of graph is :\" , T)\n",
    "weight = 0\n",
    "for value in T.values():\n",
    "    if value != None:\n",
    "        weight += value._element\n",
    "print(\"Total weight :\" , weight)\n"
   ]
  },
  {
   "cell_type": "markdown",
   "metadata": {},
   "source": [
    "**Mission IV**: Compare the total weight of minimun spanning tree of Kruskul's alogithm with the result from Prim-Jarnik's algorithm"
   ]
  },
  {
   "cell_type": "code",
   "execution_count": 40,
   "metadata": {},
   "outputs": [],
   "source": [
    "class UnionFind:\n",
    "# Python Implementation of Union_find class using union-by-size and path compression\n",
    "    class Position:\n",
    "        __slots__ = '_container' , '_element' , '_size' , '_parent'\n",
    "        def __init__(self, container, e):\n",
    "            self._container = container # reference to UnionFind instance\n",
    "            self._element = e\n",
    "            self._size = 1\n",
    "            self._parent = self # convention for a group leader\n",
    "        def element(self):\n",
    "            return self._element\n",
    "#------------------------- Union-find -------------------------\n",
    "    def make_group(self, e):\n",
    "        return self.Position(self, e)\n",
    "    \n",
    "    def find(self, p):\n",
    "        # Enter code here\n",
    "        if p._parent != p:\n",
    "            p._parent = self.find(p._parent)\n",
    "        return p._parent\n",
    "        \n",
    "    def union(self, p, q):\n",
    "        # Enter code here\n",
    "        a = self.find(p)\n",
    "        b = self.find(q)\n",
    "        if a is not b:\n",
    "            if a._size >= b._size:\n",
    "                b._parent = a\n",
    "                a._size += b._size\n",
    "            else:\n",
    "                a._parent = b\n",
    "                b._size += a._size\n",
    "                "
   ]
  },
  {
   "cell_type": "code",
   "execution_count": 41,
   "metadata": {},
   "outputs": [],
   "source": [
    "from CPE112.HeapbasedPriorityQueue import HeapPriorityQueue\n",
    "def Kruskal(g):\n",
    "#Compute a minimum spanning tree of a graph using Kruskal s algorithm.\n",
    "#Return a list of edges that comprise the MST.\n",
    "#The elements of the graph s edges are assumed to be weights.\n",
    "    tree = { } # Dictionary of edges in spanning tree\n",
    "    pq = HeapPriorityQueue( ) # entries are edges in G, with weights as key\n",
    "    forest = UnionFind( ) # keeps track of forest clusters\n",
    "    position = { } # map each node to its Partition entry\n",
    "    for v in g.vertices( ):\n",
    "        position[v] = forest.make_group(v)\n",
    "    for e in g.edges( ):\n",
    "        pq.add(e.element( ), e) # edge’s element is assumed to be its weight\n",
    "    size = g.vertex_count( )\n",
    "    while len(tree) != size - 1 and not pq.is_empty():\n",
    "        # tree not spanning and unprocessed edges remain\n",
    "        weight,edge = pq.remove_min()\n",
    "        u,v = edge.endpoints( )\n",
    "        a = forest.find(position[u])\n",
    "        b = forest.find(position[v])\n",
    "        if a != b:\n",
    "            tree[edge.endpoints()] = edge\n",
    "            forest.union(a,b)\n",
    "    return tree"
   ]
  },
  {
   "cell_type": "code",
   "execution_count": 42,
   "metadata": {},
   "outputs": [
    {
     "name": "stdout",
     "output_type": "stream",
     "text": [
      "Kruskal MST of graph is : {(A, E): 1, (C, E): 1, (H, I): 1, (A, B): 2, (E, D): 2, (D, G): 2, (H, J): 2, (D, F): 3, (F, I): 4}\n",
      "Total weight : 18\n"
     ]
    }
   ],
   "source": [
    "# Kruskal MST\n",
    "K = Kruskal(g)\n",
    "print(\"Kruskal MST of graph is :\" , K)\n",
    "weight = 0\n",
    "for value in K.values():\n",
    "    if value != None:\n",
    "        weight += value._element\n",
    "print(\"Total weight :\" , weight)"
   ]
  },
  {
   "cell_type": "markdown",
   "metadata": {},
   "source": [
    "### In conclusion, the total weight of minimum spanning tree of Kruskal's algorithm and Prim-Jarnik's algorithm is equal."
   ]
  },
  {
   "cell_type": "markdown",
   "metadata": {},
   "source": [
    "สรุปก็คือ Kruskal's Algorithm และ Prim-Jarnik's Algorithm จะได้ MST ที่มีค่า Total weight เท่ากัน แต่จะไม่ได้การันตีว่า MST ที่ออกมาจะมีหน้าตาหรือเส้นทางที่เหมือนกันนั้นเอง"
   ]
  },
  {
   "cell_type": "markdown",
   "metadata": {},
   "source": [
    "---"
   ]
  },
  {
   "cell_type": "markdown",
   "metadata": {},
   "source": [
    "<div style=\"color:greenyellow;\">นายศวิษฐ์ โกสียอัมพร 65070506026</div>\n",
    "<div style=\"color:hotpink;\">นางสาวปุญชญา จันทร์เจริญ 65070506039</div>"
   ]
  }
 ],
 "metadata": {
  "kernelspec": {
   "display_name": "Python 3.10.2 64-bit",
   "language": "python",
   "name": "python3"
  },
  "language_info": {
   "codemirror_mode": {
    "name": "ipython",
    "version": 3
   },
   "file_extension": ".py",
   "mimetype": "text/x-python",
   "name": "python",
   "nbconvert_exporter": "python",
   "pygments_lexer": "ipython3",
   "version": "3.11.4"
  },
  "vscode": {
   "interpreter": {
    "hash": "aee8b7b246df8f9039afb4144a1f6fd8d2ca17a180786b69acc140d282b71a49"
   }
  }
 },
 "nbformat": 4,
 "nbformat_minor": 4
}
