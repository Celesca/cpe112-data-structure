{
 "cells": [
  {
   "cell_type": "markdown",
   "metadata": {
    "tags": []
   },
   "source": [
    "![AlternativeLogo-eng.png](data:image/png;base64,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)"
   ]
  },
  {
   "cell_type": "markdown",
   "metadata": {},
   "source": [
    "# Assignment9 Graph"
   ]
  },
  {
   "cell_type": "markdown",
   "metadata": {},
   "source": [
    "## The Graph ADT ###"
   ]
  },
  {
   "cell_type": "markdown",
   "metadata": {},
   "source": [
    "**A graph** is a collection of **vertices** and **edges** by a combination of 2 data types:  \n",
    "* **A Vertex** is a lightweight object that stores an arbitrary element provided by the user  \n",
    "* **An Edge** stores an associated object with addition with the following methods:\n",
    "  * **endpoints( )**: Return a tuple __(u,v)__ such that *vertex __u__* is the origin of the edge and *vertex __v__* is the destination; for an undirected graph, the orientation is arbitrary.\n",
    "  * **opposite(v)**: Assuming *vertex __v__* is one endpoint of the edge (either origin or destination), return the other endpoint.\n",
    " \n",
    "* **vertex_count()**: Return the number of vertices of the graph.\n",
    "* **vertices( )**: Return an iteration of all the vertices of the graph.\n",
    "* **edge_count()**: Return the number of edges of the graph.\n",
    "* **edges( )**: Return an iteration of all the edges of the graph.\n",
    "* **get_edge(u,v)**: Return the edge from *vertex __u__* to *vertex __v__*, if one exists; otherwise return **None**. For an undirected graph, there is no difference between get **edge(u,v)** and get **edge(v,u)**.\n",
    "* **degree(v, out=True)**: For an undirected graph, return the number of edges incident to *vertex __v__*. For a directed graph, return the number of outgoing(resp. incoming) edges incident to *vertex __v__*, as designated by the optional parameter.\n",
    "* **incident_edges(v, out=True)**: Return an iteration of all edges incident to *vertex __v__*. In the case of a directed graph, report outgoing edges by default; report incoming edges if the optional parameter is set to False.\n",
    "* **insert_vertex(x=None)**: Create and return a new Vertex storing *element __x__*.\n",
    "* **insert_edge(u, v, x=None)**: Create and return a new Edge from *vertex __u__* to *vertex __v__*, storing *element __x__* *(None by default)*.\n",
    "* **remove_vertex(v)**: Remove *vertex __v__* and all its incident edges from the graph.\n",
    "* **remove_edge(e)**: Remove *edge __e__* from the graph."
   ]
  },
  {
   "cell_type": "markdown",
   "metadata": {},
   "source": [
    "### สิ่งที่ได้จากการเรียนในวันนี้\n",
    "\n",
    "### Graph Implementation\n",
    "* ตามทฤษฏี กราฟ ประกอบไปด้วย Vertex กับ Edge\n",
    "* กราฟ มีสองประเภท คือ Directed Graph ก็คือมีเส้นทางไปกลับ และ Undirected Graph ไม่มีลูกศรไปกลับ\n",
    "\n",
    "* มีวิธีในการ Implement Graph ADT ทั้งหมด 4 วิธี\n",
    "1. Edge List - เก็บข้อมูล Edge เป็นหลัก ดูว่า Connected ระหว่างตัวอะไร\n",
    "2. Adjacency List - จะมอง Vertex เป็นหลัก รู้ว่ามี edge ใดเชื่อมอยู่ (แต่ไม่บอกจุดปลาย) ข้อเสียคือ ต้อง search หาจุดปลายเอง\n",
    "3. Adjacency Map - ใช้ Hash-map เพื่อเก็บ Vertex เป็นหลัก และจะรู้ edge กับจุดปลาย\n",
    "4. Adjacency Matrix - ใช้ Matrix มา Access ข้อมูลต่างๆ แต่ข้อเสียคือ เปลือง Memory\n",
    "\n",
    "* Graph Traversal แบ่งได้เป็นสองประเภท\n",
    "1. Depth-First Search Algorithm (DFS) - เขียน forward edge และ back edge ถ้าหากเดินไปตามเส้นแล้วทางเดิมจะเดินย้อนกลับจากเส้นทางที่เคยมา\n",
    "2. Breadth-First Search Algorithm (BFS) - เป็นการไล่ลำดับชั้นไปเรื่อยๆ ข้อดีคือ Shortest-Path เป็นเลขจำนวนชั้น (แต่ในกรณีที่กราฟเรามี weight เป็น 1 เท่ากันทุกเส้น)\n",
    "\n",
    "* Transitive Closure คือ การดูว่า Vertex นึงสามารถเดินทางไปอีก Vertext ได้หรือไม่ (ไม่ว่าจะใช้เส้นทางใดก็ตาม)\n",
    "* การหา Transitive Closure จะอาศัย Warshall's Algorithm โดยใช้ Matrix\n"
   ]
  },
  {
   "cell_type": "markdown",
   "metadata": {},
   "source": [
    "# Implement of Graphs by adjacency matrix "
   ]
  },
  {
   "cell_type": "code",
   "execution_count": 109,
   "metadata": {},
   "outputs": [],
   "source": [
    "from CPE112.Array import Matrix\n",
    "class Graph:\n",
    "    def __init__(self,maxVertices,directed=False):\n",
    "        self._Vertices = list()\n",
    "        self._MATRIX = Matrix(maxVertices,maxVertices) # Adjacency Matrix\n",
    "        self._MATRIX.clear(None)\n",
    "        self._directed = directed\n",
    "#------------------------- Vertex class -----------------------\n",
    "    class Vertex:\n",
    "        __slots__ = '_element'\n",
    "\n",
    "        def __init__(self, x):\n",
    "            self._element = x\n",
    "\n",
    "        def element(self):\n",
    "            return self._element\n",
    "        \n",
    "        def __repr__(self):\n",
    "            return str(self._element)\n",
    "#------------------------- Edge class -------------------------\n",
    "    class Edge:\n",
    "        __slots__ = '_origin' , '_destination', '_element'\n",
    "\n",
    "        def __init__(self, u, v, w):\n",
    "            self._origin = u\n",
    "            self._destination = v\n",
    "            self._element = w\n",
    "\n",
    "        def endpoints(self):\n",
    "            return (self._origin, self._destination)\n",
    "\n",
    "        def opposite(self, v):\n",
    "            return self._destination if v is self._origin else self._origin\n",
    "\n",
    "        def element(self):\n",
    "            return self._element\n",
    "        \n",
    "        def __repr__(self):\n",
    "            return str(self._element)\n",
    "#-----------------------------------------------------------\n",
    "    def is_directed(self):\n",
    "        return self._directed\n",
    "\n",
    "    def findindex(self,v):\n",
    "        if v in self._Vertices:\n",
    "            return self._Vertices.index(v)\n",
    "#-------------------------------------------------------------------------        \n",
    "    def vertex_count(self):\n",
    "        return len(self._Vertices)\n",
    "    \n",
    "    def vertices(self):\n",
    "        return self._Vertices\n",
    "    \n",
    "    def edge_count(self):\n",
    "        total = 0\n",
    "        for row in range(self.vertex_count()):\n",
    "            for col in range(self.vertex_count()):\n",
    "                if self._MATRIX[row,col] != None:\n",
    "                    total += 1\n",
    "        return total if self.is_directed() else total // 2\n",
    "\n",
    "    def edges(self):\n",
    "        edges_list = list()\n",
    "        for row in range(self.vertex_count()):\n",
    "            for col in range(self.vertex_count()):\n",
    "                # วนลูปเข้าไปใน Adjacency Matrix เพื่อเช็คว่ามีค่า edge ระหว่างสอง Vertex\n",
    "                if (self._MATRIX[row,col] not in edges_list) and (self._MATRIX[row,col] is not None):\n",
    "                    edges_list.append(self._MATRIX[row,col])\n",
    "        return edges_list\n",
    "    \n",
    "    def get_edge(self, u, v): # เช็คว่ามี Edge ไหม Return true / false\n",
    "        return self._MATRIX[self.findindex(u),self.findindex(v)]\n",
    "    \n",
    "    def degree(self, v, outgoing=True):\n",
    "        total = 0\n",
    "        if outgoing: # Edge ที่พุ่งออก\n",
    "            for col in range(self.vertex_count()):\n",
    "                if self._MATRIX[self.findindex(v),col] != None:\n",
    "                    total += 1\n",
    "        #incoming\n",
    "        else:\n",
    "            for row in range(self.vertex_count()):\n",
    "                if self._MATRIX[row,self.findindex(v)] != None:\n",
    "                    total += 1\n",
    "                    \n",
    "        return total\n",
    "\n",
    "    def incident_edges(self, v, outgoing=True):\n",
    "        adj = list()\n",
    "        if outgoing:\n",
    "            # พุ่งออกคือ กำหนดให้มันเป็นฝั่งแถว แล้ววนตาม col\n",
    "            for col in range(self.vertex_count()):\n",
    "                if self._MATRIX[self.findindex(v),col] != None:\n",
    "                    adj.append(self._MATRIX[self.findindex(v),col])\n",
    "        #incoming\n",
    "        else:\n",
    "            for row in range(self.vertex_count()):\n",
    "                if self._MATRIX[row,self.findindex(v)] != None:\n",
    "                    adj.append(self._MATRIX[row,self.findindex(v)])\n",
    "        return adj\n",
    "    \n",
    "    def insert_vertex(self, x):\n",
    "        v = self.Vertex(x)\n",
    "        self._Vertices.append(v) # ถ้าใช้ Array จะนั่นและ assign index ลงไปก็ได้เช่นกัน\n",
    "        return v\n",
    "\n",
    "    def insert_edge(self, u, v, x):\n",
    "        # u is origin\n",
    "        # v is destination\n",
    "        e = self.Edge(u, v, x)\n",
    "        if self.is_directed():\n",
    "            self._MATRIX[self.findindex(u),self.findindex(v)] = e\n",
    "        else:\n",
    "            self._MATRIX[self.findindex(u),self.findindex(v)] = e\n",
    "            self._MATRIX[self.findindex(v),self.findindex(u)] = e\n",
    "        return e\n",
    "\n",
    "    def remove_vertex(self,v):\n",
    "        # Keyword : Remove ทุกๆ Edge ที่มา Incident อยู่ด้วย \n",
    "        # สุดท้ายลบ Vertex ให้ออกไปจาก Vertrices List\n",
    "        # 1. หาตำแหน่งของ Vertex ก่อน\n",
    "        # 2. ทำการเช็คก่อนว่าตำแหน่งอยู่ที่ขอบไหม ถ้าอยู่ขอบก็ไม่จำเป็นต้อง Shift ค่า   \n",
    "#           [ None, ab, ac, ad ]\n",
    "#           [ ab, None, bc, bd ]\n",
    "#           [ ac, bc, None, cd ]\n",
    "#           [ ad, bd, cd, None ]\n",
    "\n",
    "        ndx = self.findindex(v)\n",
    "        # กรณีที่อยู่ขอบอยู่แล้ว \n",
    "        if (ndx == self.vertex_count() or ndx == self._MATRIX.numRows()):\n",
    "            for i in range(self.vertex_count()):\n",
    "                self._MATRIX[ndx,i] = None\n",
    "                self._MATRIX[i,ndx] = None\n",
    "        \n",
    "        # กรณีไม่อยู่ที่ขอบ จะต้อง Shift ค่าด้วย\n",
    "        else:  \n",
    "            \n",
    "            # Shift ค่าและเคลียร์ค่าในแนวตั้ง\n",
    "            for i in range(self.vertex_count()):\n",
    "                if (i < ndx):\n",
    "                    self._MATRIX[ndx,i] = self._MATRIX[ndx+1,i] \n",
    "                    self._MATRIX[ndx+1,i] = None\n",
    "                else:\n",
    "                    self._MATRIX[ndx,i] = None\n",
    "\n",
    "            # Shift ค่าและเคลียร์ค่าในแนวนอน \n",
    "            for j in range(self.vertex_count()):\n",
    "                if (j < ndx):\n",
    "                    self._MATRIX[j,ndx] = self._MATRIX[j,ndx+1]\n",
    "                    self._MATRIX[j,ndx+1] = None\n",
    "                else:\n",
    "                    self._MATRIX[j,ndx] = None\n",
    "\n",
    "            # สลับจุดที่เป็นขอบ เช่น Shift ค่าที่จุด (2,2) กับ (3,3)\n",
    "            self._MATRIX[ndx,ndx] = self._MATRIX[ndx+1,ndx+1]\n",
    "            self._MATRIX[ndx+1,ndx+1] = None        \n",
    "\n",
    "        # ลบ Vertex ที่อยู่ใน List\n",
    "        del self._Vertices[ndx]\n",
    "\n",
    "        \n",
    "    def remove_edge(self,e):\n",
    "        # Keyword : เซ็ตค่าของ Edge ใน Matrix ให้เป็น None\n",
    "        u , v = e.endpoints() # เอาตำแหน่ง Vertex ที่เชื่อมมา\n",
    "        self._MATRIX[self.findindex(u),self.findindex(v)] = None\n",
    "        self._MATRIX[self.findindex(v),self.findindex(u)] = None\n",
    "\n",
    "    def DFS(self,u,discovered):\n",
    "        print(u)\n",
    "        for e in self.incident_edges(u):\n",
    "            v = e.opposite(u)\n",
    "            if v not in discovered:\n",
    "                discovered[v] = e\n",
    "                self.DFS(v,discovered)\n",
    "\n",
    "    def BFS(self,s, discovered):\n",
    "        level = [s]\n",
    "        while len(level) > 0:\n",
    "            next_level = []\n",
    "            for u in level:\n",
    "                print(u)\n",
    "                for e in self.incident_edges(u):\n",
    "                    v = e.opposite(u)\n",
    "                    if v not in discovered:\n",
    "                        discovered[v] = e\n",
    "                        next_level.append(v)\n",
    "                    level = next_level\n",
    "\n",
    "    def warshall(self):\n",
    "        n = self.vertex_count()\n",
    "        newMatrix = Matrix(n,n)\n",
    "        \n",
    "        # คัดลอกใน _Matrix มาใส่ใน transitive_closure ก่อน 1 รอบ\n",
    "\n",
    "        for i in range(n):\n",
    "            for j in range(n):\n",
    "                if self._MATRIX[i,j] == None:\n",
    "                    newMatrix[i,j] = 0\n",
    "                else:\n",
    "                    newMatrix[i,j] = 1\n",
    "\n",
    "        print(\"Before Applying Warshall's Algorithm : \")\n",
    "        print(newMatrix)\n",
    "\n",
    "        for k in range(n):\n",
    "            for i in range(n):\n",
    "                for j in range(n):\n",
    "                    newMatrix[i,j] = newMatrix[i,j] or (newMatrix[i,k] and newMatrix[k,j])\n",
    "\n",
    "        #Return ค่า Transitive Closure\n",
    "        return newMatrix \n",
    "                    \n",
    "        \n",
    "    def __repr__(self):\n",
    "        s = '['\n",
    "        for r in range(self._MATRIX.numRows()):\n",
    "            for c in self._MATRIX._theRows[r]:\n",
    "                if c is None:\n",
    "                    c = 0\n",
    "                s = s + str(c) + ', '\n",
    "            s = s[:-2] + ' \\n '\n",
    "        s = s[:-3] + ' ]'\n",
    "        return s"
   ]
  },
  {
   "cell_type": "markdown",
   "metadata": {
    "tags": []
   },
   "source": [
    "### ------------------------------------------------------------------------------------\n",
    "## <span style=\"color:red\"> Practice 1 </span>: Graph Implementation \n",
    "### ------------------------------------------------------------------------------------\n",
    "\n",
    "Mission I: Complete __remove_vertex()__ and __remove_edge()__ method and implement the class's representation  \n",
    "test the class's operation"
   ]
  },
  {
   "cell_type": "code",
   "execution_count": 92,
   "metadata": {},
   "outputs": [],
   "source": [
    "g = Graph(4)\n",
    "A = g.insert_vertex('A')\n",
    "B = g.insert_vertex('B')\n",
    "C = g.insert_vertex('C')\n",
    "D = g.insert_vertex('D')\n",
    "\n",
    "ab = g.insert_edge(A,B,'ab')\n",
    "ac = g.insert_edge(A,C,'ac')\n",
    "ad = g.insert_edge(A,D,'ad')\n",
    "bc = g.insert_edge(B,C,'bc')\n",
    "bd = g.insert_edge(D,B,'bd')\n",
    "cd = g.insert_edge(C,D,'cd')"
   ]
  },
  {
   "cell_type": "code",
   "execution_count": 93,
   "metadata": {},
   "outputs": [
    {
     "data": {
      "text/plain": [
       "[ None, ab, ac, ad ]\n",
       "[ ab, None, bc, bd ]\n",
       "[ ac, bc, None, cd ]\n",
       "[ ad, bd, cd, None ]"
      ]
     },
     "execution_count": 93,
     "metadata": {},
     "output_type": "execute_result"
    }
   ],
   "source": [
    "g._MATRIX"
   ]
  },
  {
   "cell_type": "code",
   "execution_count": 94,
   "metadata": {},
   "outputs": [
    {
     "data": {
      "text/plain": [
       "4"
      ]
     },
     "execution_count": 94,
     "metadata": {},
     "output_type": "execute_result"
    }
   ],
   "source": [
    "g.vertex_count()"
   ]
  },
  {
   "cell_type": "code",
   "execution_count": 95,
   "metadata": {},
   "outputs": [
    {
     "data": {
      "text/plain": [
       "[A, B, C, D]"
      ]
     },
     "execution_count": 95,
     "metadata": {},
     "output_type": "execute_result"
    }
   ],
   "source": [
    "g.vertices()"
   ]
  },
  {
   "cell_type": "code",
   "execution_count": 96,
   "metadata": {},
   "outputs": [
    {
     "data": {
      "text/plain": [
       "[0, ab, ac, ad \n",
       " ab, 0, bc, bd \n",
       " ac, bc, 0, cd \n",
       " ad, bd, cd, 0 ]"
      ]
     },
     "execution_count": 96,
     "metadata": {},
     "output_type": "execute_result"
    }
   ],
   "source": [
    "g"
   ]
  },
  {
   "cell_type": "code",
   "execution_count": 97,
   "metadata": {},
   "outputs": [],
   "source": [
    "g.remove_vertex(C)"
   ]
  },
  {
   "cell_type": "code",
   "execution_count": 98,
   "metadata": {},
   "outputs": [
    {
     "data": {
      "text/plain": [
       "[0, ab, ad, 0 \n",
       " ab, 0, bd, 0 \n",
       " ad, bd, 0, 0 \n",
       " 0, 0, 0, 0 ]"
      ]
     },
     "execution_count": 98,
     "metadata": {},
     "output_type": "execute_result"
    }
   ],
   "source": [
    "g"
   ]
  },
  {
   "cell_type": "code",
   "execution_count": 99,
   "metadata": {},
   "outputs": [
    {
     "data": {
      "text/plain": [
       "[A, B, D]"
      ]
     },
     "execution_count": 99,
     "metadata": {},
     "output_type": "execute_result"
    }
   ],
   "source": [
    "g.vertices()"
   ]
  },
  {
   "cell_type": "code",
   "execution_count": 100,
   "metadata": {},
   "outputs": [
    {
     "data": {
      "text/plain": [
       "[0, ab, ad, 0 \n",
       " ab, 0, 0, 0 \n",
       " ad, 0, 0, 0 \n",
       " 0, 0, 0, 0 ]"
      ]
     },
     "execution_count": 100,
     "metadata": {},
     "output_type": "execute_result"
    }
   ],
   "source": [
    "g.remove_edge(bd)\n",
    "g"
   ]
  },
  {
   "cell_type": "code",
   "execution_count": 101,
   "metadata": {},
   "outputs": [],
   "source": [
    "g.remove_vertex(D)"
   ]
  },
  {
   "cell_type": "code",
   "execution_count": 102,
   "metadata": {},
   "outputs": [
    {
     "data": {
      "text/plain": [
       "[0, ab, 0, 0 \n",
       " ab, 0, 0, 0 \n",
       " 0, 0, 0, 0 \n",
       " 0, 0, 0, 0 ]"
      ]
     },
     "execution_count": 102,
     "metadata": {},
     "output_type": "execute_result"
    }
   ],
   "source": [
    "g"
   ]
  },
  {
   "cell_type": "markdown",
   "metadata": {},
   "source": [
    "---"
   ]
  },
  {
   "cell_type": "markdown",
   "metadata": {},
   "source": [
    "### ------------------------------------------------------------------------------------\n",
    "## <span style=\"color:red\"> Practice2 </span>: Graph's Traversal \n",
    "### ------------------------------------------------------------------------------------\n"
   ]
  },
  {
   "cell_type": "markdown",
   "metadata": {},
   "source": [
    "\n",
    "Practice II: include the __DFS()__ and __BFS()__ as the methods in Graph Class   \n",
    "and test with this graph\n",
    "\n",
    "![Graph](graph_ex1.jpg)"
   ]
  },
  {
   "cell_type": "code",
   "execution_count": 103,
   "metadata": {},
   "outputs": [],
   "source": [
    "g = Graph(16) \n",
    "A = g.insert_vertex('A')\n",
    "B = g.insert_vertex('B')\n",
    "C = g.insert_vertex('C')\n",
    "D = g.insert_vertex('D')\n",
    "E = g.insert_vertex('E')\n",
    "F = g.insert_vertex('F')\n",
    "G = g.insert_vertex('G')\n",
    "H = g.insert_vertex('H')\n",
    "I = g.insert_vertex('I')\n",
    "J = g.insert_vertex('J')\n",
    "K = g.insert_vertex('K')\n",
    "L = g.insert_vertex('L')\n",
    "M = g.insert_vertex('M')\n",
    "N = g.insert_vertex('N')\n",
    "O = g.insert_vertex('O')\n",
    "P = g.insert_vertex('P')\n",
    "\n",
    "# ab,af,bc,bg,ch,dh,hl,kp,ol,no,mj,in,ej,fj,gj,fg,gk\n",
    "ab = g.insert_edge(A,B,'ab')\n",
    "af = g.insert_edge(A,F,'af')\n",
    "bc = g.insert_edge(B,C,'bc')\n",
    "bg = g.insert_edge(B,G,'bg')\n",
    "ch = g.insert_edge(C,H,'ch')\n",
    "dh = g.insert_edge(D,H,'dh')\n",
    "hl = g.insert_edge(H,L,'hl')\n",
    "kp = g.insert_edge(K,P,'kp')\n",
    "ol = g.insert_edge(O,L,'ol')\n",
    "no = g.insert_edge(N,O,'no')\n",
    "mj = g.insert_edge(M,J,'mj')\n",
    "In = g.insert_edge(I,N,'in')\n",
    "ej = g.insert_edge(E,J,'ej')\n",
    "fj = g.insert_edge(F,J,'fj')\n",
    "gj = g.insert_edge(G,J,'gj')\n",
    "fg = g.insert_edge(F,G,'fg')\n",
    "gk = g.insert_edge(G,K,'gk')"
   ]
  },
  {
   "cell_type": "code",
   "execution_count": 104,
   "metadata": {},
   "outputs": [
    {
     "name": "stdout",
     "output_type": "stream",
     "text": [
      "A\n",
      "B\n",
      "C\n",
      "H\n",
      "D\n",
      "L\n",
      "O\n",
      "N\n",
      "I\n",
      "G\n",
      "F\n",
      "J\n",
      "E\n",
      "M\n",
      "K\n",
      "P\n"
     ]
    }
   ],
   "source": [
    "g.DFS(A,{A:None}) # กำหนดค่า A เป็นค่าเริ่มต้น"
   ]
  },
  {
   "cell_type": "code",
   "execution_count": 105,
   "metadata": {},
   "outputs": [
    {
     "name": "stdout",
     "output_type": "stream",
     "text": [
      "A\n",
      "B\n",
      "F\n",
      "C\n",
      "G\n",
      "J\n",
      "H\n",
      "K\n",
      "E\n",
      "M\n",
      "D\n",
      "L\n",
      "P\n",
      "O\n",
      "N\n",
      "I\n"
     ]
    }
   ],
   "source": [
    "g.BFS(A,{A:None}) # กำหนดค่า A เป็นค่าเริ่มต้น"
   ]
  },
  {
   "cell_type": "markdown",
   "metadata": {},
   "source": [
    "### ------------------------------------------------------------------------------------\n",
    "## <span style=\"color:red\"> Practice3 </span>: Transitive Closure\n",
    "### ------------------------------------------------------------------------------------\n",
    "\n",
    "Mission III: Create a belowed graph and code a warshall algorithm with matrix to find the transitive closure\n",
    "\n",
    "![Graph](graph_ex2.jpg)"
   ]
  },
  {
   "cell_type": "markdown",
   "metadata": {},
   "source": [
    "เขียน Warshall Algorithm ลงไว้ใน Method ของ Class Graph เรียบร้อยแล้วครับ"
   ]
  },
  {
   "cell_type": "code",
   "execution_count": 110,
   "metadata": {},
   "outputs": [],
   "source": [
    "g = Graph(6,directed=True)\n",
    "A = g.insert_vertex('A')\n",
    "B = g.insert_vertex('B')\n",
    "C = g.insert_vertex('C')\n",
    "D = g.insert_vertex('D')\n",
    "E = g.insert_vertex('E')\n",
    "F = g.insert_vertex('F')\n",
    "\n",
    "ab = g.insert_edge(A,B,'ab')\n",
    "ad = g.insert_edge(A,D,'ad')\n",
    "bc = g.insert_edge(B,C,'bc')\n",
    "bd = g.insert_edge(B,D,'bd')\n",
    "bf = g.insert_edge(B,F,'bf')\n",
    "ca = g.insert_edge(C,A,'ca')\n",
    "df = g.insert_edge(D,F,'df')\n",
    "fe = g.insert_edge(F,E,'fe')"
   ]
  },
  {
   "cell_type": "code",
   "execution_count": 111,
   "metadata": {},
   "outputs": [
    {
     "data": {
      "text/plain": [
       "[ None, ab, None, ad, None, None ]\n",
       "[ None, None, bc, bd, None, bf ]\n",
       "[ ca, None, None, None, None, None ]\n",
       "[ None, None, None, None, None, df ]\n",
       "[ None, None, None, None, None, None ]\n",
       "[ None, None, None, None, fe, None ]"
      ]
     },
     "execution_count": 111,
     "metadata": {},
     "output_type": "execute_result"
    }
   ],
   "source": [
    "g._MATRIX"
   ]
  },
  {
   "cell_type": "code",
   "execution_count": 112,
   "metadata": {},
   "outputs": [
    {
     "name": "stdout",
     "output_type": "stream",
     "text": [
      "Before Applying Warshall's Algorithm : \n",
      "[ 0, 1, 0, 1, 0, 0 ]\n",
      "[ 0, 0, 1, 1, 0, 1 ]\n",
      "[ 1, 0, 0, 0, 0, 0 ]\n",
      "[ 0, 0, 0, 0, 0, 1 ]\n",
      "[ 0, 0, 0, 0, 0, 0 ]\n",
      "[ 0, 0, 0, 0, 1, 0 ]\n",
      "Transitive Closure : \n",
      "[ 1, 1, 1, 1, 1, 1 ]\n",
      "[ 1, 1, 1, 1, 1, 1 ]\n",
      "[ 1, 1, 1, 1, 1, 1 ]\n",
      "[ 0, 0, 0, 0, 1, 1 ]\n",
      "[ 0, 0, 0, 0, 0, 0 ]\n",
      "[ 0, 0, 0, 0, 1, 0 ]\n"
     ]
    }
   ],
   "source": [
    "transitive_closure = g.warshall()\n",
    "\n",
    "print(\"Transitive Closure : \")\n",
    "print(transitive_closure)"
   ]
  },
  {
   "cell_type": "markdown",
   "metadata": {},
   "source": [
    "---"
   ]
  },
  {
   "cell_type": "markdown",
   "metadata": {},
   "source": [
    "<div style=\"color:yellowgreen;\">นายศวิษฐ์ โกสียอัมพร 65070506026</div>\n",
    "<div style=\"color:hotpink;\">นางสาวปุญชญา จันทร์เจริญ 65070506039</div>"
   ]
  }
 ],
 "metadata": {
  "kernelspec": {
   "display_name": "Python 3.10.2 64-bit",
   "language": "python",
   "name": "python3"
  },
  "language_info": {
   "codemirror_mode": {
    "name": "ipython",
    "version": 3
   },
   "file_extension": ".py",
   "mimetype": "text/x-python",
   "name": "python",
   "nbconvert_exporter": "python",
   "pygments_lexer": "ipython3",
   "version": "3.11.4"
  },
  "vscode": {
   "interpreter": {
    "hash": "aee8b7b246df8f9039afb4144a1f6fd8d2ca17a180786b69acc140d282b71a49"
   }
  }
 },
 "nbformat": 4,
 "nbformat_minor": 4
}
