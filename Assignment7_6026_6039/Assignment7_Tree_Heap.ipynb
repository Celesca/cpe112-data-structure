{
 "cells": [
  {
   "cell_type": "markdown",
   "metadata": {
    "tags": []
   },
   "source": [
    "![AlternativeLogo-eng.png](data:image/png;base64,iVBORw0KGgoAAAANSUhEUgAAAMwAAACHCAIAAADV3yEKAAAACXBIWXMAAAsSAAALEgHS3X78AAAe0ElEQVR4nO2dC1wTV77HByGQx4TwToKACon4Qg3VqlXS3l4fBfva3Ra77e6nFfb2c+8VH7d7P1er3v308ymge+8+Cuqne3cL6t7b7op376qtYW1tq6C1Ws3gGwggIJCEJEDI5B2S+0kOjCGEMDOZCaw7308ryWTmnP+c+c05//M/Z85EeTweiIGBTmYxpctAN4zIGGiHERkD7TAiY6AdRmQMtMOIjIF2GJEx0A4jMgbaYUTGQDuMyBhohxEZA+3EzJwi1jd/C/kGUkdHU31/BHMWx8KCabftgcYMPnj8/oiT2ZzY6Ok0y4dW2+/9EzX6P/iTlpY6zWb5MW0D5A7L8GDbNWfXjRiDijfYHONEITfkNcbtk5fvX4/bdzndkFmQY0+ZP2vuCsHC1bAoi27bbA53c49JPWhXD9g6+y0eryWj8ve4x24DX8F53J55Il4iPzZHzMtOh5P4sXTbhqKoRts/MDA4MDjY36+LivKJawywD/Y1LS01IUGQKEhITUvhcbl02zYZkRaZwzKsU55mdTXE62+MasgrIw8Q1mQiG93i28HGFZqzn07e8BYsnkOtbUNmZ3OvuemBUTto9wrLA4QEhRbZ6D6+D+JkjiQdLliWRrnaUBTt6n7Y1t4xMDAIBISJKYTI/LckJCTMm5OVni7iRlxtkRPZUO99s/KPyd2feS+RJwpye8iJDHyA3JBRvNST/1LGhtfCt61TZ/22dbClzwzUE+WTFwmReUCBeqDsdFi+LC0vOyF829RqzZ2797of9kymLZwiwzaIxWJpTnZKSnL4tuEkEiIb6mt2XP5AYLj+SENUiAxstMKpnuLyNFkBOds6ddaL9wY6+63Az6JKZL7/oQSY9T15Zl5OIjnb1GrNDWWTWqMJEE2YIgPfUlNSFuRKIyM1ekXmsJr0F3+d3POpV0b+GqJOZGCL8cWfZTz3Q0K22Zzuczf1N7tM0JhOKBeZb5MnZzb/jY3zkuLj8NtmMqEXGho1Gi34SofIwKfUlGTZ8mVcLodQ0RGFRpH1N3/Nu1Ye4zT51ECvyLxV2j/8Nu0JvPVZs9p86rrO4RiBRkVEo8jAzs+tnl24ZjYe227dvntDiTidzslEQ6HIoqKiYlkxubnzs+fNJXON8UGXyPou/jrlwYnRqxIRkdnglNRfNE5pmLcCu2W42W3yeLwnD0VKZBAEZc/mv/3SfE7cpFEPu8Px9YWGzs6u0KKhVmRRUVAUFCUSCZcvW8pi0RLSoj4Y67CZBv7vzZSuE5SnHBr2sG6g5WbofWxO9/HGvpvdpgjbBmjrGX7vd0hPvznor3qD4fSZzzo7uyJvGARBGm3/lavXhodpKRmKRWbUtpjry2BzK7XJ4sR07fMQO2qMjurPH2qNjmmxDWC1j1SfuDdRZ3q94fSZswbDwHQZBkHQ8LDpytXv6NAZlSIzaltYF3bAlulRWGg0RsfvL6vtTve0W2K1j1T98a6/zvR6w6kznzkc06l+gMvlokNnlInMYTNFXd7PGpmelig0Wq/CNDNBYQCvzv4wqjO93vDn05/OBIUBXC7Xt9co1hk1InPYTObzOzn2XkpSI02cMGPioTan+wyinzkKA1jtIx/84U5X79D5r76eOQoDuFyuq9euO10uqhKkRmSGq4f4lhZKkgqHtHz5xKNPXuvXDs+sqwiw2kfOfnFdrzfMBGMCcLlc167doCo1CkSmvlmX2n+WCmPCwrCyeFZKYCDqYstQl8E27bZNxh0tl82Z/jkmQTGZTM3N1LjX4cZFzEZ1QsfR8O2wcsRWgdSdLPUGI+atcPQ2u63DHivK6m+J1yJTHo6mZItfeydgo3bY0dBqjArbNlEiW5QQlwCzII9HnMRWG2weCBo0OfoM1j69NczEmw1iqcA6MkKybUpMTEhKTIRhHgRFCYVp/f3eaT9ms2XIaDQah8O0rav7YZowNSmR5LAYRrgis333c0EYzr6VLbYuLhYs/vuklPHu1KI12EcHatRdP+e5fyGxsyFoIsOzl6Xs+E0cP3A0+kxTWC2RKDFudW7iPCE3gccaZ1pW/CP7HSN3O43XWwbbe0kWgtnFMrnE3KiHhI4SCtMkOdlZmRmxseOmewj9ppE5nc7eXvWDri6dTk/ONm9de+feU2tWxcSEpZOwIv66jobEpr1jQXzIM+KBPFikHovaB4/4o7AUWvsvKfNX4c8O1XQbPjskeHAxxmoG6aBJOa41r2dsDDJqefOh+dObeiysPxrTHwvigy2TRfznpnKeWZI8N43AlJhBk+PU5Z47D4whIv7uR2MJHswW8OvK9B67zQRC8KEj+CKhULZ8qUgkxG9bv05/736zXm8IEfGHovw3PvoORUGSnOyc7Hn4s5tIWCIznd3i7VESFJlrFt+YVzp73Y/DsTs0Nqf70Jd9dtcIUZHFxcx6ZnHS6vkkG4j2PvSoot1qHyEqshS2NZ3bGVpkcXGx8nVrs7IyydnW16e+rmxyuZxERcZiseTrngqnMiPv+Gtb6jmOPqJHofxc1wsf0qowCIKuPTDZXYRjFsKEuH/cmEVaYRAE5aTD+368JCcdJnqg3sqOY4fKNykpsfiV75NWGARB6eniwk3rBYJ4HPuOw+VydXUTa80DIC8ybsdxooegcG78K79JyFhIOlOc3OwJPj4YAmFC3FvPZAS4XyTgxEX/8/fmr1xAeJ5Wu2HSbqZUmrO5cFOA+0UCX520dg5xpXZ1P3SFETYjKbKBPoRLsBoDCovlEr6TiHKrx2y0EisRoDA2i7Lxjx+un7tyITGd6a1xrNgg87rEItHTBevCVxiAxWI9kb+c6FxFl8vVH0bvgWSxOrtCDUUH2T86nl30H7Ec2hUGQVCLllhYIY41661nZlOoMMDLBZnpKcRm05tdgY8YJSclbdzwLLWGQRC0+skVgnhi16I7jBaTZMkKBqaeueWPec1+XhKuKXthYnO6WwmKbMtTYsoVBtrN0udz2JPPHptI90BgY/20nLI6zB8Wi5UvW0boEBOKWm0kw9pkClfX2cgaIRDoG0h9RriI+tsxKEQVtmwOf24qXZOPk+LjClcRuLXMzpg4Dh/7mi9bnpycRI9pkEAQvyBXSugQ0vE2MiIb0d8mtH98wS4SuZCDUFsZx5q1aVkKrfY8LRMmxROoimwjo+5/bGxs3pJFtNnlJSd7HqGpsKRFRib4wTE24d/ZMPv59Ig0lADtsBP/zsvn8OloKAN4bvXsT8514Ny51zArw1eX5S1ZhL+hRM1e/J8gH/szcQsIhI2SnJys1Wpx5jI4OIRzzwDIiAy2EZhwEZdbSM4yEhitLkL9ylVSCp6LnJKlOYl/jou22kfw7KyzssdEthjP/lpt/81bd/p1unDm+OPHhKJ8mHAUkPB9PNA39XA1hjUuPXneSqJZkGbIgutCAoSC2ARuJJYC4cRFE3r0ks2NnzsnC0811t7e8fn5r7S+QfHIgJpQEvkQFpnTrMG/szlJRjT9cOgaIND9WZDOi5hhkgwi8YIoVnq6eMq92to7Ll+5GpZZxCHXwSQsMrcFbxPuTV28nGj6EUMkoH1xFAxpJh/nnt7Ip5s3ZafS4XB89x1lkwrxY4uMyAjBip/6jqQQQl6/KIHAI91hQujxce84o3iKcmtr73A4CZwsVdisdhIpERbZLCsBDwDOWkE0/XCwEZnIHxmHDIOozkLT/bCHLkNpgLDIYmwEfLK46PDnpT4mCHAPvTtcj1uhMct5RgirHW9spakncs5iZCAsMhdbhH9nh3UmPoY5LTidBMIrjxnEe5ecNPw7mzTNkSwu/I4/C/Jo9RaazRmHnVKRZWUGecJ0xkJvc+kcVkfsxG1ON/7ZsLPc7o5ukoMkJNDqLU4bgc5gS+cUtklysmNZ4c6vJAGbQ6b7Qrx3ySXwCINbTWCUM0y6Bwj0rl12161mXcRsu9WsGyFSkz3UTjGzNzY2duXKJ8K2izBsNpvEUYRFxuIR8Ml4AwTGoMKE0PwL67D1dgRFdrtZpzMQaJ2nrMlAZbZ2DYFnvSiBExmRJaUTGCni2PsMD74jmgU5CM0ke9Ch73hojIxbZrY4ryj7TMMEYuVNLQb90NT75+Rkb1z/rDCNgJccJjCf8Og4yVkYKDsXNuP16O0t9RD9Y+S3es2EHk8ym7yX8ONT9975Ce3h4m+UfWYr4ej8N02aF5+ZeolNoTBt44ZnHQ7n4NAgiak+YEvU2A9+f4NvITEFg6TIrILl+EWW3PuZeaCU7rnXDW0EZuqyII/D54ZfUfaZLU4el14P+uNT98AHHivK4sD7lOsX3/auX53BZeO6QLGxrEjWZ0Qh07uMTskjtP9w4wd0mI5xq9dstBJwqx3Dow2r2er8r0+mWAE0TD4+da9/zBsz9BOYJ2O1u85/+9c0dhQCMiJLnVvgjCYwdyVJd0F776vwbQ2KzeX+vNk4x3R//tD1Z9tqcoe+S7NO8VxN691HD/Odv9xFXzdTq7ec+rwN+9qvJbYCypkLnd0aMvO3ZhoklynQXvl5Sv/ZsSUIpl6mwBnFj/ref9PRaF45VZd95QjX2A9WQgC568RLvsl7u4u/YOIyBbMgz+XT4/q8PA7r2C8KKW80zRbn7oMXOx4a/TcuXp5pc7onLlMA+dbXjhorv7HVNDxJCez3/nEFzkaTEHda9Z+eb7/TajD7mvDUJO6S+cmvv7gwjeBjfHiIfu+990gc5ojmsfv+MvrONEylAR/8/o122y2dSIx0QzSLyskIXR/+dM7V37Hs5tGl2sdy5A33L2ithxITevi5AaPNpr7B/r5xAQKny33jtubpVZmxLCpf+Xb4OHLjTuDcO8+Ih80LXgKeR072Iyw2122V4e9WUnxzHjqO1P7v3R4N6hrrLZktzgcPjafPt0MeKG8BxW+YIykyDl9sfnCO5fINTeIQGeSBYu0GU9sVCnXW9ZufJt+rH81ivMjAfxmdV+2pGVreuBVpbn/TNjKhHzo4bKdWZ7/66Pr5y0EWS7fZXanCeLc7SOsRVGTeBxdQR7cazZMms2IoGJ4xW52/qlFevtELspyY4+0WHWpxPpFHIOQ+JSRF5p1Q7+ZxdY0QbpF5debQW5vP21KXs+PDulccqLH3w53Jqi8DVDXxa9pAs1L6g0cHDqI97cE9MKCzBTlJiQIy8UYMs8X577+8/C0SfA0Hj8fDiYuJjg3S/E0mMu/S3XrLrVZD3vzkMNvNfoOl/PDVu6qxZduCicwbCm4fyMtNEaZQNj2dvMjgFKm545x3uWvcIvOGTJwmSPWFzh4dn0XsCWYM3a3L9t+9Ha+9H5h4MJGxrBZPYkJvfC44uuliy8RqDGNw2H7xak8sK3pBDslHaq8o+3YfbOjRhJp7gppsvsoscHsIkYH67BKiFqdyxakkr/21W5ryI1d1A34h60lE5vW5dZb16yh70yN5kXljEzFCjuZLQiLzut5uO1d91XTz02FWGizMxp8dqunW/X43fOHIqBOGQ2SQB3JxeC1i7zuXHAOTVmMYXv/sjvZWs16YwiV0K3d0Dx388NpJRYtzqpiwxwP5KrPAfkZokflWPXFfvaW93zGUmsBOSSTw1PtdleHI/9w8/UW7M2Dm8OQi69ebX9oopcp5CPfdSobzuwRD10mstAjerWSNG13OE06ZdO4KWM5zVtOn8WokxLuV/HuX/lv6Mxb/seDXUZDn209vjrgIhNOyMwXr181dk58unLzDZbY4v1H2nb/UdbuFWBxkYd5sm8s9Ze9y9B1O/m958m3KFPE3rc1cmJ0YQm26AetdlUFx8UFnz/BYIpBfot73QUWNLQH4aKNn1IjK3fKlFPUAwhWZ2aie9VUJyzVMTmTYC7ysbBG2MPHosZAHGlLH6Vt5Ayo8L/AKLbKeOz3dKgLPWfmTlszNzkrIyRq3fphWb+noHgqIUOCHzYkVz00mLTLs5WKZIv4cMZyayMZeju7xysvS2TPc2TvsjeBgKU2fyMINwPAEYnX21tTWqjDT4VjVHLPa03sxyFviwsPCS3MaLaQVBvzlfoNlMl+eHDarw+NwQmHPCetWm7r7hiF/oYzG4MK1EKYucEhBr1i8rFiXtpkKY2ihO321smEmvu6ps13PjaUyMkchPA4rO4uyNRyomRmbvGq7iZtLSVLUMiSce/xOGiFXLGLwOKySF6QhXn85jazOT6cwc2pEFsvm89ZXobwZp7OPuT8Cs3pmGjwO6+d75IskSe+8vmSm6YzHYb39OskAU1Aom+Mfy+bPWrXHGU3geXy6OZNZ0qiO3IIX+AEKA+1RhpD3zht5nLiIPmkcAh6HdWC3nNqRXCofJBEIcz2bjqLc+RSmSQ4Xm3smo+QTLbGVBCODv8IAXp39aEbozKuwf5NnZ1H8uifq30HusJlQRRmMthAKYYT/DnIshOFk8X4Z+0+Iia6FMMMhLZn7sx1rgvrUD7Xm42daHmrNhEIYWARkYu8S7Iw/hDEvI35nyRPZmdS/UOzxedE9yGIwad5/oq+1W8nMEqabvNzUn+1YE6Ilsthcx860NrXoIy+yJ5eJd23Np2mSMF0i84aXmr/mXSv3DlZGSmRN2cUHWvB6rDwOi8TUe3LwOKw3Xl708kYJnqPPX+09c6HLYnNGRmQcdsxrLyx4cX0Ofacf1thlaHgp86D53zeYHNyhO+MGFiHfcwkev0Br0LHOyUc/A1PzQMbZS2N+Ul3bPLsf95Nnn1Q9P2i0kQ7Z4ycvN/X9n65bgXvyTHZG/JNLUvVDdg0VD1OFGg/1QKuWifZuW5W/hMqJPUFsoK8mwzAP9Jq/fF9guE5HTWaFU63P/WvW0y9AELT7YAP+MUTF0R+Ax24/PnWf6MgjTrIzBW+/voz04ExL59DpC53NDwbpqMkWSZNfez53yXx6F/8GREJkAPNA79Dl3yZ3f0aVyIzipZ78lzI2vIZlQUJkgFvNuvOXuoJOMyRHXm7qGy8vpGTsr7lz6ItvHirv66gS2co80fPPzouMvACRExnAYRk23PsK6mhIVF8gJzI0Icee8UTyhrdgceCEJ9IiA5gtzi8udZ2/1Em6DcUzcYMc+iGb8p6uUdnXrUbJiWxuevzTqzOfXCpMS6Z+Fn9oIi0yDIdleLDtmrPrRoxBxRtsjnGiIUQ2nLrcFS+eNXeFYOFqWJQ1WZphigzDbHHeatbdatZ1dBs7uodC9w/yclOzswTZWQlLF6RSrq2JWGyuG/f6u/vQzr7h5o7BECLjxEXPmR0/b3b8nNnxK5cKeZxpWKAFMG0im0h/x51ZdtPYk0WjfwRzFsfCeCM3VIlsIkEfm6NqJkyY3G8fAAl4/P4sksygMOFMGc3wBiqzl8wAK4IzQ/QUlIVkJ4tHDGY5TwbaYUTGQDuMyBhohxEZA+0wImOgHUZkDLTDiIyBdhiRMdDO36jIpnGM5W+Qx0pkSxfgnVlA+RJcDCF4rES2ft3Uy0UD1lD6XCFDaB4rkQlTuC9tmHqKc3amYAN16yIxTMnj5pP96OVFoZ+34XFYEVi7n8GfGTTVhyrMFucvP7oedH2U7EzBOz9ZQeEqDwx4eAxFBgAzqsECT9lZCTwua01+OtNKTguPrcgYZg5MMJaBdhiRMdAOIzIG2mFExkA7jMgYaIcRGQPtMCJjoB1GZAy0w4iMgXYYkTHQDiOyaUat1igU9ZG3AfERmbyIrYWhUNQrFArwWSQSy+UFcnkBPYbNIKqqqlUqVYA9Uql0584d4RtZ5+WkWCySyWSRPOXy8koUNZ0795cI5EVAZOXllfX19RKJJD9fBsOwSqV69929BQXrDh48QKeFZKiqqoYgiBIRQBAEFBYgArFYTEnixcXFUqk0wgqDIGj//r0RywuXyFAU3bZte1tb2759e4uKCrHtKpVqWqr6KZlY8YSJTCYrLS2hw1SxWCQWF+LYkWIiKWtcIjt7VjFRYWNNxugLGVQqVVVVNYI0QRAkkUjk8gLsqtTU1CIIUlRUVFNTq9FoYJhXUCDfv3+vQlF/4kRdW1ubr/EVHTxYKZWOprZ2bcGBA5UKhQJBEBQ1i0QiubwAq5lqampra49evtzob8zatQWHD3srsLKyHdgW7wvnD1fLZDIURT/4oBpBEI1GMzE1f/MCkp2SsrLtoCgaGho1Go3v+i0/ePAADMNYyYAssBOBYRhBkMOHDwWcC4IgZWU7jh2rxUoShnk7d+70L/aamtqGhsa2tjYY5slksv379/ln5H8Jtmwpxg4sK9sOCkGhUBQXF5eWlgCzMRtACUx2OVAULS+vUKnawOWTyWRFRUXvvrsXZ1nhElljY6NIJApQmD8qlaqsbLtIJD5woJLPh5VKpLb2qFqtwepk3/lXFRUVyeUFDQ2NCoWirEyNIE2FhYWlpSUqlaqurm7Pnr1/+tNJLNWKigqRSLxz506xWAQSNJnQKSt5qVR6+HD1Bx941bZr1w6wBdTEKIoWFRXm58uAAf6pqVSqiorKwsJCci4mgjSp1RrgoYLE9+x5F1w/rGTAiajVmqqqKmDVZKkBQezbt9fnBCsqKioxj628vLKxsaGgQL5r147WVlVd3clt27YfOXIIeC9lZdulUum+fXthGG5oaKyoqIQgCLtqdXV1MMwv8hH0ClZVVRUUyEtLS9RqdV3dybKy7cBjA6Wn0ajBKZhMaE1NbUVFBf7yweuTha5da2pqRSIxOFuwMwzD1dWHSktLxGKRz1AzVhHKZDK1Wt3YeKmwsBBcZnBzV1cfQhAEywiG+f4JisXiiorKzZsLQ1sCw7BMJuPzYX+bwa0PqjSwXSqVVlRUbtnyKrjYKGresWP7li3FkyVbW3u0tvao/xYsNcD+/XuxxE0mtL5+1ItQKOrHnwgklUpALRKiqDE3VyaTvfLKq0olAuqh+vr6kpKtoImQyWRyufyVV149e1axZUvxiRPe+xOrQeXyAhQ11dTUYiJDUfOxY8fA5ZhIQAnw+fyKikpwOZRKpK2t7dixWuzGyM+XvfnmVhQ1hzgLf/CKTKNRh/gVQZCSkhKs3oYgaPPmIiAazOHwryTkcnlj46WALdXVh/zTBMrDvhYVFVZVVYHixmmzv3kQBCmViFI5rtOuVCJYwcnl8hApFBYWbt4c6Cpgn0WicX1Dubygvr5epVJJpVJgsP+JADcfRdHJ8vK3RCwWSSQSzFoQ8qipqfXPGkGQLVuKEQQRicQnTtT5J6XRaFAUBblLJJLJFDYxX7m8AKuqfCmL/M8XhuGiosKAuy4EuEQmEomxWzMoKGrm88e9Hw6cmMlkAl9lsuX+BQ3O1l9kE8/ff/+xLZO+gi60p28yoZjUMGSy5f42h74AoUMMAceCejSEjEL8NFlq2FEqlcr/hvf1G8S+X01Bz1GtVgN9TOkJ+Oc7sfDDAZfINm8urK+vLy+vnMwlkkgkSiXi77Q1NDSCepW0bQ0Njf4dOrVao9Fo/O8nUFWAz6E7ufn5svr6+tLSkshHCoALiFUnwGwEaZLJlhNNChjv36MK+FWlagOOILXIZLK6upP+pe3rQBCIKuCK+AM/FOgMqzNQFK2qqn7zza1YA4HV1T4/ukIikYRwb6ekra2tvLwSy2vPnndhmAdUC27KmppatVoD5Ag0jSGVSsFP4Fhfg8UDfSiwsaGhEcTS6AbceNu2bVco6hEEOXGirqxsOwyTeQsnaDp98fB6rJx9MVXUl1GRRqOpqqoGJw6uDiUBpvx8mUTi9SNPnKhDEEShqPf1okz4U8Drk4HCqqjwxmNhmCcSiUEvet++fRAElZaWAM+9trYWhvkajUYikRw5EtZdVVCwrrGxYe1ab/gX5HX48Kj7LJVKCwu9lWtj4yUY5qGoGXz1t7au7uSmTc/BMN/Xz997+PChsrLtZWU7RCIRippQ1FxSshW/MUAiARvxVBtSqfT48aPl5RVVVVUghFFcXDyxXcPJkSOHtm3bXlFRWVVVBcq5oGAdOFQuL9i3b29FRWVd3UmsxMDVCRMYho8cOVRTU1tXdxKLQBUVFQb40CEgEPEvKioEXXS1Wg3D8Pz54+LUW7YUb95cpFQiarU6P1/mX4fl58sC4uMikXjiNS4p2SoSPdpNKpXu379PqURUKtWuXTsCWrr9+/du2fJqQ0MjDMMgO7FYhB0ulUrPnasH1Ruo9nxb/qJSqZRKhM/nS6US/77SVCdepFZP2u+ZGBEAZ4cZA8NwwKDIm29uxRwg/9wDDsTSx3aGYfj4cW9sCEEQk8kUcAnABQLnuGvXDqlUirXR/olMNDtoCQScws6dO/xHUKqqqgnUx54ZyVNPrfvoo5qZaRsh+vrUu3fvUSqV2EFnzyqeemrd2bOKvwr7Abt37/E3uLW1dePGTe+/X4Hz8Bn0sojHEl/TjJaV7YBhHvAUNRpNYWFhiMj2TMPXa/GGzSoqKmWy5SYT2tbWJpFIQKwbDzP0CfKamtr8fFnkO4M0ofLSBtpcubwgnP7QdKFWa3xnoQK+B6GhEWaZAgbaYSYtMtAOIzIG2mFExkA7jMgYaIcRGQPtMCJjoB1GZAy0w4iMgXYYkTHQDiMyBtphRMZALxAE/T9FuYII7145uQAAAABJRU5ErkJggg==)"
   ]
  },
  {
   "attachments": {},
   "cell_type": "markdown",
   "metadata": {},
   "source": [
    "# Assignment7 Tree"
   ]
  },
  {
   "cell_type": "markdown",
   "metadata": {},
   "source": [
    "## สรุปเนื้อหาที่ได้เรียนในวันนี้"
   ]
  },
  {
   "cell_type": "markdown",
   "metadata": {},
   "source": [
    "* Trees คือ Data Structure แบบ Non-linear data structure ซึ่งในต้นไม้จะมีโหนด มีความสัมพันธ์กันเป็นโหนดพ่อแม่ และ โหนดลูก\n",
    "* โหนดที่อยู่สูงที่สุดจะเรียกว่า Root Node และแต่ละโหนดจะมีเส้นเชื่อมต่อกันเรียกว่า Edge\n",
    "* Leaf คือ โหนดที่อยู่ปลายของต้นไม้ สังเกตจากการที่โหนดนั้นจะไม่มีลูกต่อ (หรืออีกชื่อคือ External Node)\n",
    "* Internal Node คือ ตัวใดก็ตามที่ไม่ใช่ Leaf หรือตัวท้ายสุด"
   ]
  },
  {
   "cell_type": "markdown",
   "metadata": {},
   "source": [
    "- ความสูงของต้นไม้ คือจำนวน levels ของต้นไม้นั้นๆ และ ความกว้างของต้นไม้ นับจาก level ที่มี Node พี่น้องมากที่สุด\n",
    "- ความลึกของโหนด คือระยะห่างจาก level จากโหนดราก\n",
    "- Binary Tree คือ Tree ที่แต่ละโหนดมีลูกได้ไม่เกิน 2 โหนด แบ่งเป็น โหนดซ้ายกับโหนดขวา\n",
    "## ประเภทของ Binary Tree\n",
    "1. Full Binary Tree คือ ต้นไม้ที่แต่ละ Internal node มีลูก 2 โหนดเสมอ\n",
    "2. Perfect Binary Tree คือ Full Binary Tree ที่ทุกๆ Leaf Node อยู่ใน Level เดียวกัน\n",
    "3. Complete Binary Tree คือ ต้นไม้ที่เป็น Perfect Binary Tree ในความสูงลงมาถึง h-1 และ Level ล่างสุด จะต้องเรียงโหนดจากซ้ายไปขวาเสมอ"
   ]
  },
  {
   "cell_type": "markdown",
   "metadata": {},
   "source": [
    "## การเข้าถึงสมาชิกในต้นไม้ (Tree Traversals)\n",
    "3 วิธีแรก จะเรียกว่า Depth-First Traversal คือลงไปหาข้อมูลลึกสุดก่อน และอัลกอริทึมแบบ Recursive\n",
    "1. Preorder Traversal เริ่มที่ root -> left -> right\n",
    "2. Postorder Traversal เริ่มที่ left -> right -> root\n",
    "3. Inorder Traversal เริ่มที่ left -> root -> right\n",
    "4. Breadth - First Traversal จะเป็นค้นหาไล่ทีละ level และจากซ้ายไปขวา"
   ]
  },
  {
   "cell_type": "markdown",
   "metadata": {},
   "source": [
    "## Heap\n",
    "คือ Complete binary tree และมีการเรียงกันข้อมูลตามที่กำหนดดังต่อไปนี้\n",
    "* Max-heap คือ Tree ที่มี Root Node เป็นค่าที่มากที่สุด และมีหลักการว่า โหนดพ่อแม่จะต้องมีค่ามากกว่าโหนดลูก (ซ้าย-ขวา) เสมอ\n",
    "* Min-heap คือ Tree ที่ตรงกันข้ามกับ Max-Heap โดย Root Node เป็นค่าที่น้อยที่สุด และ โหนดพ่อแม่จะต้องมีค่าน้อยกว่าโหนดลูก (ซ้าย-ขวา) เสมอ\n",
    "<br>\n",
    "ซึ่งสิ่งเหล่านี้เอง ที่สามารถนำมาเป็น Heap sort ได้ เพราะเนื่องจากการนำข้อมูลทีละตัวมาเข้า Data Structure แบบ Heap จะทำให้มันจัดเรียงข้อมูลอัตโนมัติ"
   ]
  },
  {
   "cell_type": "markdown",
   "metadata": {},
   "source": [
    "## Function ใน Heap ที่น่าสนใจ"
   ]
  },
  {
   "cell_type": "markdown",
   "metadata": {},
   "source": [
    "* <span style=\"text-decoration: underline;\">Extract</span> - การนำ Root node ของ Heap นั้นออกมา\n",
    "* <span style=\"text-decoration: underline;\">Sift Up</span> - การทำให้โหนดล่าสุด (Leaf Node ที่พึ่งเพิ่มเข้ามา) เปรียบเทียบข้อมูลกับโหนดพ่อแม่ของมันเพื่อสลับที่ให้อยู่ลำดับที่ถูกต้อง\n",
    "* <span style=\"text-decoration: underline;\">Sift Down</span> - การทำให้โหนดราก เปรียบเทียบข้อมูลกับโหนดลูกของมันเพื่อสลับที่ให้อยู่ลำดับที่ถูกต้อง"
   ]
  },
  {
   "cell_type": "markdown",
   "metadata": {},
   "source": [
    "## Binary Tree Implementation\n",
    "A binary tree is defined as a tree in which each nodes can have no more than two children. So, the highest degree of any node is two. This indicates that the degree of a binary tree is either zero or one or two.\n"
   ]
  },
  {
   "cell_type": "code",
   "execution_count": 29,
   "metadata": {},
   "outputs": [],
   "source": [
    "class BinaryTree:\n",
    "    def __init__(self,key):\n",
    "        self.key = key\n",
    "        self.leftChild = None\n",
    "        self.rightChild = None\n",
    "\n",
    "    def insertLeft(self,newNode):\n",
    "        if self.leftChild is None:\n",
    "            self.leftChild = BinaryTree(newNode)\n",
    "        else:\n",
    "            t = BinaryTree(newNode)\n",
    "            t.leftChild = self.leftChild\n",
    "            self.leftChild = t\n",
    "\n",
    "    def insertRight(self,newNode):\n",
    "        if self.rightChild is None:\n",
    "            self.rightChild = BinaryTree(newNode)\n",
    "        else:\n",
    "            t = BinaryTree(newNode)\n",
    "            t.rightChild = self.rightChild\n",
    "            self.rightChild = t\n",
    "\n",
    "    def getRightChild(self):\n",
    "        return self.rightChild\n",
    "\n",
    "    def getLeftChild(self):\n",
    "        return self.leftChild\n",
    "\n",
    "    def setNodeValue(self,obj):\n",
    "        self.key = obj\n",
    "\n",
    "    def getNodeValue(self):\n",
    "        return self.key\n",
    "\n",
    "    def preorder(self):\n",
    "        print(self.key ,end=\" \")\n",
    "        if self.leftChild:\n",
    "            self.leftChild.preorder()\n",
    "        if self.rightChild:\n",
    "            self.rightChild.preorder()\n",
    "\n",
    "    def postorder(self):\n",
    "        # หลักการคือการเข้าไป Recursive แล้ว print ออกมาก่อน ค่อย print root node ทีหลัง\n",
    "        if self.leftChild:\n",
    "            self.leftChild.postorder()\n",
    "        if self.rightChild:\n",
    "            self.rightChild.postorder()\n",
    "        print(self.key , end=\" \")\n",
    "    \n",
    "    def inorder(self):\n",
    "        # หลักการเดียวกันกับ post order แต่ลำดับในการ print จะนำ print(self.key) มาไว้ตรงกลาง\n",
    "        if self.leftChild:\n",
    "            self.leftChild.inorder()\n",
    "        print(self.key , end=\" \")\n",
    "        if self.rightChild:\n",
    "            self.rightChild.inorder()\n",
    "    \n",
    "    def breadthorder(self):\n",
    "        q = list()\n",
    "        q.append(self)\n",
    "        while q:\n",
    "            node = q.pop(0)\n",
    "            print(node.key , end=\" \")\n",
    "            if node.leftChild:\n",
    "                q.append(node.leftChild)\n",
    "            if node.rightChild:\n",
    "                q.append(node.rightChild)\n"
   ]
  },
  {
   "attachments": {},
   "cell_type": "markdown",
   "metadata": {},
   "source": [
    "### ------------------------------------------------------------------------------------\n",
    "## <span style=\"color:red\"> Practice1 </span>: Tree's Traversal and Searching \n",
    "### ------------------------------------------------------------------------------------\n",
    "\n",
    "## __Mission1:__ Create this binary tree  \n",
    "\n",
    "![Tree](Tree_Example.png)  \n",
    "\n",
    "## __Mission2:__ Complete **postorder()** method and **inorder()** method then test the function "
   ]
  },
  {
   "cell_type": "code",
   "execution_count": 30,
   "metadata": {},
   "outputs": [],
   "source": [
    "# Building a binary tree.\n",
    "myTree = BinaryTree(\"A\")"
   ]
  },
  {
   "cell_type": "code",
   "execution_count": 31,
   "metadata": {},
   "outputs": [],
   "source": [
    "myTree.insertLeft(\"B\")\n",
    "myTree.insertRight(\"C\")\n",
    "\n",
    "myTree.getLeftChild().insertLeft(\"D\")\n",
    "myTree.getLeftChild().insertRight(\"E\")\n",
    "myTree.getLeftChild().getRightChild().insertLeft(\"H\")\n",
    "\n",
    "myTree.getRightChild().insertLeft(\"F\")\n",
    "myTree.getRightChild().insertRight(\"G\")\n",
    "myTree.getRightChild().getRightChild().insertRight(\"J\")\n",
    "myTree.getRightChild().getRightChild().insertLeft(\"I\")"
   ]
  },
  {
   "cell_type": "code",
   "execution_count": 32,
   "metadata": {},
   "outputs": [
    {
     "name": "stdout",
     "output_type": "stream",
     "text": [
      "A B D E H C F G I J "
     ]
    }
   ],
   "source": [
    "myTree.preorder()"
   ]
  },
  {
   "cell_type": "code",
   "execution_count": 33,
   "metadata": {},
   "outputs": [
    {
     "name": "stdout",
     "output_type": "stream",
     "text": [
      "D H E B F I J G C A "
     ]
    }
   ],
   "source": [
    "# Testing the postorder function\n",
    "myTree.postorder()"
   ]
  },
  {
   "cell_type": "code",
   "execution_count": 34,
   "metadata": {},
   "outputs": [
    {
     "name": "stdout",
     "output_type": "stream",
     "text": [
      "D B H E A F C I G J "
     ]
    }
   ],
   "source": [
    "# Testing the inorder function\n",
    "myTree.inorder()"
   ]
  },
  {
   "cell_type": "code",
   "execution_count": 35,
   "metadata": {},
   "outputs": [
    {
     "name": "stdout",
     "output_type": "stream",
     "text": [
      "A B C D E F G H I J "
     ]
    }
   ],
   "source": [
    "\n",
    "myTree.breadthorder()"
   ]
  },
  {
   "cell_type": "markdown",
   "metadata": {},
   "source": [
    "---"
   ]
  },
  {
   "cell_type": "markdown",
   "metadata": {},
   "source": [
    "## Heap Implementation"
   ]
  },
  {
   "cell_type": "markdown",
   "metadata": {},
   "source": [
    "A Heap is a complete binary tree in which the nodes are organized based on their data entry values.\n",
    "* A max-heap has the property, known as the heap order property, that for each non-leaf node __V__ , the value in __V__ is greater than the value of its two children\n",
    "* The lowest value in a max-heap will always be stored in the root while the smallest values will be stored in the leaf nodes.\n",
    "* A min-heap has the opposite property. For each non-leaf node __V__, the value in __V__ is smaller than the value of its two children."
   ]
  },
  {
   "cell_type": "code",
   "execution_count": 36,
   "metadata": {},
   "outputs": [],
   "source": [
    "from CPE112 import Array\n",
    "class MaxHeap :\n",
    "    # Create a max-heap with maximum capacity of maxSize.\n",
    "    def __init__( self,maxSize):\n",
    "        self._elements = Array( maxSize )\n",
    "        self._count = 0\n",
    "\n",
    "    # Return the number of items in the heap.\n",
    "    def __len__( self ):\n",
    "        return self._count\n",
    "\n",
    "    # Return the maximum capacity of the heap.\n",
    "    def capacity( self ):\n",
    "        return len( self._elements )\n",
    "\n",
    "    # Add a new value to the heap.\n",
    "    def add( self, value ):\n",
    "        assert self._count < self.capacity(), \"Cannot add to a full heap.\"\n",
    "        # Add the new value to the end of the list.\n",
    "        self._elements[ self._count ] = value\n",
    "        self._count += 1\n",
    "        # Sift the new value up the tree.\n",
    "        self._siftUp( self._count - 1)\n",
    "\n",
    "    # Extract the maximum value from the heap.\n",
    "    def extract( self ):\n",
    "        assert self._count > 0, \"Cannot extract from an empty heap.\"\n",
    "        # Save the root value and copy the last heap value to the root.\n",
    "        value = self._elements[0]\n",
    "        self._count -= 1\n",
    "        self._elements[0] = self._elements[ self._count ]\n",
    "        # Sift the root value down the tree.\n",
    "        self._siftDown( 0 )\n",
    "        return value\n",
    "\n",
    "    # Sift the value at the ndx element up the tree.\n",
    "    def _siftUp( self, ndx ):\n",
    "        if ndx > 0 :\n",
    "            parent = (ndx - 1) // 2\n",
    "            if self._elements[ndx] > self._elements[parent] :\n",
    "                self._elements[ndx],self._elements[parent] = self._elements[parent],self._elements[ndx]\n",
    "                self._siftUp( parent )\n",
    "\n",
    "    # Sift the value at the ndx element down the tree.\n",
    "    def _siftDown( self, ndx ):\n",
    "        left = 2 * ndx + 1\n",
    "        right = 2 * ndx + 2\n",
    "        # Determine which node contains the larger value.\n",
    "        largest = ndx\n",
    "        if left < self._count and self._elements[left] >= self._elements[largest] :\n",
    "            largest = left\n",
    "        if right < self._count and self._elements[right] >= self._elements[largest]:\n",
    "            largest = right\n",
    "        # If the largest value is not in the current node (ndx), swap it with\n",
    "        # the largest value and repeat the process.\n",
    "        if largest != ndx :\n",
    "            self._elements[ndx],self._elements[largest] = self._elements[largest],self._elements[ndx]\n",
    "            self._siftDown( largest )\n",
    "            \n",
    "    # Display the value in the heap\n",
    "    def __str__(self):\n",
    "        import math\n",
    "        depth = int(math.log(self._count,2))\n",
    "        print(\"depth: \",depth, \" element: \",self._count)\n",
    "        s = \"\"\n",
    "        for i in range(depth + 1):\n",
    "            for j in range(2**i):\n",
    "                if (2 ** i ) - 1 + j < self._count:\n",
    "                    s = s +str(self._elements[(2 ** i) - 1 + j])+ \"\\t\"\n",
    "            s = s + \"\\n\"\n",
    "        return s       \n",
    "\n",
    "    def __repr__(self):\n",
    "        import math\n",
    "        depth = int(math.log(self._count,2))\n",
    "        print(\"depth: \",depth, \" element: \",self._count)\n",
    "        s = \"\"\n",
    "        for i in range(depth + 1):\n",
    "            for j in range(2**i):\n",
    "                if (2 ** i ) - 1 + j < self._count:\n",
    "                    s = s +str(self._elements[(2 ** i) - 1 + j])+ \"\\t\"\n",
    "            s = s + \"\\n\"\n",
    "        return s"
   ]
  },
  {
   "attachments": {},
   "cell_type": "markdown",
   "metadata": {},
   "source": [
    "### ------------------------------------------------------------------------------------\n",
    "## <span style=\"color:red\"> Practice2 </span>: Heap Implementation\n",
    "### ------------------------------------------------------------------------------------\n"
   ]
  },
  {
   "cell_type": "markdown",
   "metadata": {},
   "source": [
    "## __Mission1:__ Create this heap \n",
    "\n",
    "![Heap](Heap_Example.png)\n",
    "\n",
    "* then add the node key = 90 and add the node key = 41 and check the result"
   ]
  },
  {
   "cell_type": "code",
   "execution_count": 37,
   "metadata": {},
   "outputs": [
    {
     "name": "stdout",
     "output_type": "stream",
     "text": [
      "depth:  3  element:  10\n",
      "100\t\n",
      "84\t71\t\n",
      "60\t23\t12\t29\t\n",
      "1\t37\t4\t\n",
      "\n"
     ]
    }
   ],
   "source": [
    "data = [100,84,71,60,23,12,29,1,37,4]\n",
    "myMaxHeap = MaxHeap(16)\n",
    "\n",
    "# Adding item from data to MaxHeap\n",
    "for element in data:\n",
    "    myMaxHeap.add(element)\n",
    "\n",
    "print(myMaxHeap)"
   ]
  },
  {
   "cell_type": "code",
   "execution_count": 38,
   "metadata": {},
   "outputs": [
    {
     "name": "stdout",
     "output_type": "stream",
     "text": [
      "depth:  3  element:  11\n",
      "100\t\n",
      "90\t71\t\n",
      "60\t84\t12\t29\t\n",
      "1\t37\t4\t23\t\n",
      "\n"
     ]
    }
   ],
   "source": [
    "myMaxHeap.add(90)\n",
    "print(myMaxHeap)"
   ]
  },
  {
   "cell_type": "code",
   "execution_count": 39,
   "metadata": {},
   "outputs": [
    {
     "name": "stdout",
     "output_type": "stream",
     "text": [
      "depth:  3  element:  12\n",
      "100\t\n",
      "90\t71\t\n",
      "60\t84\t41\t29\t\n",
      "1\t37\t4\t23\t12\t\n",
      "\n"
     ]
    }
   ],
   "source": [
    "myMaxHeap.add(41)\n",
    "print(myMaxHeap)"
   ]
  },
  {
   "cell_type": "markdown",
   "metadata": {},
   "source": [
    "#### -- Testing other functions --"
   ]
  },
  {
   "cell_type": "code",
   "execution_count": 43,
   "metadata": {},
   "outputs": [
    {
     "data": {
      "text/plain": [
       "100"
      ]
     },
     "execution_count": 43,
     "metadata": {},
     "output_type": "execute_result"
    }
   ],
   "source": [
    "myMaxHeap.extract()"
   ]
  },
  {
   "cell_type": "code",
   "execution_count": 44,
   "metadata": {},
   "outputs": [
    {
     "name": "stdout",
     "output_type": "stream",
     "text": [
      "depth:  3  element:  11\n"
     ]
    },
    {
     "data": {
      "text/plain": [
       "90\t\n",
       "84\t71\t\n",
       "60\t23\t41\t29\t\n",
       "1\t37\t4\t12\t"
      ]
     },
     "execution_count": 44,
     "metadata": {},
     "output_type": "execute_result"
    }
   ],
   "source": [
    "myMaxHeap"
   ]
  },
  {
   "cell_type": "code",
   "execution_count": 45,
   "metadata": {},
   "outputs": [
    {
     "data": {
      "text/plain": [
       "16"
      ]
     },
     "execution_count": 45,
     "metadata": {},
     "output_type": "execute_result"
    }
   ],
   "source": [
    "myMaxHeap.capacity()"
   ]
  },
  {
   "cell_type": "code",
   "execution_count": 46,
   "metadata": {},
   "outputs": [
    {
     "data": {
      "text/plain": [
       "11"
      ]
     },
     "execution_count": 46,
     "metadata": {},
     "output_type": "execute_result"
    }
   ],
   "source": [
    "len(myMaxHeap)"
   ]
  },
  {
   "cell_type": "markdown",
   "metadata": {},
   "source": [
    "## __Mission2:__ Implement **MinHeap()** class and also run test the MinHeap"
   ]
  },
  {
   "cell_type": "code",
   "execution_count": 41,
   "metadata": {},
   "outputs": [],
   "source": [
    "''' \n",
    "Keyword : Inheritance from Max Heap and then overriding the siftup and siftdown function\n",
    "คือการทำงานเหมือนเดิมแค่เปลี่ยนกระบวนการเรียงเลข ให้เลขน้อยอยู่ด้านบนแทน\n",
    "'''\n",
    "class MinHeap(MaxHeap):\n",
    "    # Overriding and change from > to <\n",
    "    def _siftUp( self, ndx ):\n",
    "        if ndx > 0 :\n",
    "            parent = (ndx - 1) // 2\n",
    "            if self._elements[ndx] < self._elements[parent] :\n",
    "                self._elements[ndx],self._elements[parent] = self._elements[parent],self._elements[ndx]\n",
    "                self._siftUp( parent )\n",
    "\n",
    "    def _siftDown( self, ndx ):\n",
    "        left = 2 * ndx + 1\n",
    "        right = 2 * ndx + 2\n",
    "        # Determine the lowest value instead of largest value.\n",
    "        lowest = ndx\n",
    "        # Change from > to <\n",
    "        if left < self._count and self._elements[left] <= self._elements[lowest] :\n",
    "            lowest = left\n",
    "        if right < self._count and self._elements[right] <= self._elements[lowest]:\n",
    "            lowest = right\n",
    "        # If the lowest value is not in the current node (ndx), swap it with\n",
    "        # the lowest value and repeat the process.\n",
    "        if lowest != ndx :\n",
    "            self._elements[ndx],self._elements[lowest] = self._elements[lowest],self._elements[ndx]\n",
    "            self._siftDown( lowest )"
   ]
  },
  {
   "cell_type": "code",
   "execution_count": 42,
   "metadata": {},
   "outputs": [
    {
     "name": "stdout",
     "output_type": "stream",
     "text": [
      "depth:  3  element:  10\n",
      "1\t\n",
      "4\t23\t\n",
      "37\t12\t84\t29\t\n",
      "100\t60\t71\t\n",
      "\n"
     ]
    }
   ],
   "source": [
    "data = [100,84,71,60,23,12,29,1,37,4]\n",
    "myMinHeap = MinHeap(16)\n",
    "\n",
    "# Adding item from data to MinHeap\n",
    "for element in data:\n",
    "    myMinHeap.add(element)\n",
    "\n",
    "print(myMinHeap)"
   ]
  },
  {
   "cell_type": "code",
   "execution_count": 47,
   "metadata": {},
   "outputs": [
    {
     "name": "stdout",
     "output_type": "stream",
     "text": [
      "depth:  3  element:  11\n",
      "1\t\n",
      "4\t23\t\n",
      "37\t12\t84\t29\t\n",
      "100\t60\t71\t90\t\n",
      "\n"
     ]
    }
   ],
   "source": [
    "myMinHeap.add(90)\n",
    "print(myMinHeap)"
   ]
  },
  {
   "cell_type": "code",
   "execution_count": 48,
   "metadata": {},
   "outputs": [
    {
     "name": "stdout",
     "output_type": "stream",
     "text": [
      "depth:  3  element:  12\n",
      "1\t\n",
      "4\t23\t\n",
      "37\t12\t41\t29\t\n",
      "100\t60\t71\t90\t84\t\n",
      "\n"
     ]
    }
   ],
   "source": [
    "myMinHeap.add(41)\n",
    "print(myMinHeap)"
   ]
  },
  {
   "cell_type": "markdown",
   "metadata": {},
   "source": [
    "---"
   ]
  },
  {
   "attachments": {},
   "cell_type": "markdown",
   "metadata": {},
   "source": [
    "### ------------------------------------------------------------------------------------\n",
    "## <span style=\"color:red\"> Practice3 </span>: Heap Sort algorithm\n",
    "### ------------------------------------------------------------------------------------\n"
   ]
  },
  {
   "cell_type": "markdown",
   "metadata": {},
   "source": [
    "## __Mission1:__ Use heap structure (choose between __max-heap or min-heap__) to design __heap sort algorithm__ then test by sort a random sequence with 1000 elements:"
   ]
  },
  {
   "cell_type": "code",
   "execution_count": 49,
   "metadata": {},
   "outputs": [
    {
     "name": "stdout",
     "output_type": "stream",
     "text": [
      "[11, 106, 829, 157, 413, 220, 95, 236, 584, 214, 812, 461, 282, 529, 102, 384, 590, 244, 333, 738, 286, 285, 532, 762, 198, 931, 936, 326, 801, 685, 923, 701, 402, 518, 7, 933, 522, 876, 203, 901, 323, 854, 839, 59, 95, 738, 923, 734, 306, 789, 165, 51, 742, 124, 662, 441, 142, 701, 219, 244, 679, 145, 858, 789, 818, 299, 425, 626, 2, 34, 547, 259, 782, 456, 773, 751, 372, 541, 847, 448, 410, 929, 916, 971, 593, 318, 318, 855, 461, 251, 483, 797, 342, 977, 843, 584, 197, 788, 126, 195, 442, 928, 607, 913, 535, 1, 14, 731, 237, 429, 606, 921, 273, 426, 338, 330, 518, 57, 89, 128, 479, 57, 432, 817, 276, 274, 825, 103, 551, 924, 394, 475, 906, 805, 142, 974, 909, 414, 345, 566, 31, 851, 246, 103, 572, 747, 80, 669, 455, 957, 846, 83, 89, 296, 205, 357, 280, 790, 998, 436, 107, 615, 358, 950, 876, 290, 623, 859, 189, 924, 243, 932, 804, 963, 335, 574, 417, 791, 779, 759, 143, 332, 690, 61, 737, 923, 584, 637, 489, 594, 814, 847, 899, 806, 447, 474, 814, 205, 344, 658, 736, 729, 977, 783, 909, 860, 30, 613, 944, 688, 532, 698, 907, 289, 855, 723, 596, 183, 320, 223, 389, 370, 577, 893, 572, 745, 687, 280, 937, 110, 333, 322, 44, 536, 6, 542, 330, 475, 780, 252, 927, 267, 950, 33, 691, 52, 745, 147, 781, 159, 966, 70, 185, 411, 699, 957, 5, 513, 86, 431, 899, 548, 561, 315, 298, 776, 131, 452, 184, 647, 74, 708, 535, 45, 863, 307, 913, 956, 692, 854, 251, 841, 780, 764, 865, 785, 247, 375, 731, 42, 435, 329, 997, 916, 503, 562, 124, 651, 884, 428, 864, 850, 732, 438, 859, 610, 701, 529, 877, 459, 19, 515, 737, 309, 416, 252, 551, 68, 940, 487, 49, 676, 963, 687, 738, 290, 836, 506, 135, 163, 236, 837, 860, 546, 905, 678, 411, 424, 389, 805, 809, 884, 752, 976, 683, 550, 615, 908, 840, 953, 254, 929, 469, 478, 608, 867, 643, 613, 789, 995, 862, 809, 161, 547, 696, 448, 967, 8, 696, 324, 347, 519, 459, 803, 662, 205, 986, 144, 932, 30, 128, 461, 931, 966, 358, 273, 934, 962, 952, 715, 517, 275, 267, 866, 198, 881, 621, 287, 958, 526, 933, 728, 305, 12, 854, 432, 557, 586, 701, 18, 604, 319, 657, 861, 754, 299, 639, 625, 530, 728, 85, 432, 741, 557, 427, 834, 754, 657, 219, 872, 840, 215, 671, 655, 105, 451, 261, 773, 6, 685, 282, 689, 118, 13, 567, 60, 532, 752, 226, 482, 192, 3, 209, 140, 995, 396, 863, 324, 397, 739, 128, 194, 376, 671, 836, 961, 328, 852, 957, 117, 349, 84, 329, 320, 197, 909, 505, 466, 140, 606, 438, 31, 72, 72, 286, 401, 315, 29, 390, 477, 964, 776, 585, 76, 472, 322, 613, 740, 903, 24, 275, 354, 965, 150, 942, 880, 805, 570, 460, 456, 101, 114, 811, 224, 718, 103, 950, 966, 521, 959, 953, 107, 4, 777, 265, 223, 959, 392, 404, 996, 916, 208, 640, 966, 160, 686, 553, 857, 306, 291, 559, 969, 572, 163, 473, 706, 47, 975, 804, 670, 191, 382, 899, 518, 761, 961, 994, 271, 117, 553, 128, 966, 543, 86, 911, 43, 51, 435, 975, 501, 539, 91, 71, 562, 561, 76, 325, 70, 675, 565, 91, 535, 565, 278, 29, 849, 392, 239, 588, 71, 115, 263, 220, 225, 441, 968, 419, 770, 671, 603, 828, 215, 25, 502, 555, 274, 414, 4, 315, 197, 129, 766, 199, 858, 661, 129, 61, 196, 65, 535, 401, 76, 719, 751, 105, 616, 257, 884, 116, 630, 368, 658, 343, 787, 952, 301, 99, 210, 632, 866, 947, 890, 593, 461, 994, 498, 596, 319, 733, 888, 653, 995, 568, 648, 583, 797, 856, 634, 578, 202, 73, 191, 855, 4, 426, 86, 322, 966, 715, 352, 761, 113, 27, 489, 312, 42, 628, 92, 652, 753, 612, 732, 403, 132, 113, 179, 6, 420, 490, 695, 837, 742, 688, 232, 796, 943, 810, 864, 880, 116, 188, 160, 414, 63, 863, 370, 665, 238, 167, 919, 509, 744, 324, 253, 329, 314, 630, 472, 17, 434, 626, 732, 582, 845, 902, 501, 35, 374, 152, 10, 846, 521, 790, 335, 49, 977, 515, 902, 84, 459, 655, 971, 900, 428, 763, 604, 976, 218, 735, 476, 209, 245, 492, 733, 967, 769, 426, 188, 235, 645, 895, 364, 459, 965, 674, 742, 131, 690, 590, 967, 705, 292, 365, 48, 930, 942, 433, 824, 308, 610, 881, 398, 400, 791, 810, 231, 293, 74, 579, 574, 482, 131, 404, 566, 193, 728, 582, 324, 788, 152, 469, 839, 268, 943, 801, 113, 158, 449, 588, 938, 644, 48, 68, 458, 150, 943, 561, 34, 837, 210, 758, 93, 92, 387, 563, 26, 455, 479, 202, 486, 627, 405, 762, 334, 188, 4, 77, 781, 597, 774, 830, 547, 431, 266, 431, 16, 949, 629, 273, 790, 321, 749, 796, 96, 657, 750, 300, 71, 441, 910, 313, 581, 481, 775, 831, 610, 84, 345, 275, 17, 111, 564, 361, 172, 898, 115, 689, 848, 824, 816, 774, 561, 611, 622, 140, 241, 749, 195, 346, 240, 616, 840, 507, 207, 482, 785, 175, 528, 965, 410, 759, 258, 82, 659, 161, 84, 856, 358, 511, 240, 936, 578, 135, 191, 528, 295, 804, 859, 160, 629, 226, 377, 17, 325, 354, 821, 612, 186, 706, 635, 411, 624, 286, 607, 773, 501, 590, 375, 736, 97, 84, 74, 384, 263, 508, 94, 582, 802, 73, 787, 750, 600, 289, 39, 723, 771, 518, 436, 726, 450, 157, 797, 843, 468, 157, 305, 496, 516, 812, 934, 720, 635, 562, 874, 964, 652, 79, 853, 448, 275, 606, 797, 246, 899, 895, 814, 285, 782, 602, 560, 367, 32, 955, 431, 610, 965, 191, 283, 57, 100]\n"
     ]
    }
   ],
   "source": [
    "# Create a random list of number from 1 - 1000, n numbers\n",
    "import random\n",
    "from time import time\n",
    "\n",
    "n = 1000 \n",
    "seq_A = [random.randint(1,1000) for x in range(n)]\n",
    "print(seq_A)"
   ]
  },
  {
   "cell_type": "code",
   "execution_count": 50,
   "metadata": {},
   "outputs": [
    {
     "name": "stdout",
     "output_type": "stream",
     "text": [
      "Used time : 0.002585172653198242\n",
      "depth:  9  element:  1000\n",
      "1\t\n",
      "4\t2\t\n",
      "4\t4\t4\t3\t\n",
      "7\t5\t6\t10\t14\t6\t6\t24\t\n",
      "11\t34\t25\t19\t59\t8\t17\t49\t48\t18\t12\t13\t17\t39\t31\t29\t\n",
      "31\t74\t45\t43\t70\t29\t42\t68\t286\t73\t27\t116\t63\t30\t84\t61\t197\t74\t48\t26\t16\t71\t17\t51\t82\t44\t74\t57\t52\t33\t32\t101\t\n",
      "103\t86\t142\t131\t47\t117\t51\t71\t80\t71\t220\t124\t83\t61\t105\t99\t323\t290\t135\t86\t92\t42\t254\t160\t167\t143\t161\t35\t95\t209\t188\t128\t273\t308\t198\t131\t126\t68\t34\t30\t85\t77\t124\t96\t84\t115\t140\t60\t110\t84\t135\t128\t186\t84\t84\t73\t72\t72\t57\t76\t57\t100\t150\t147\t\n",
      "114\t103\t107\t223\t315\t160\t306\t184\t163\t191\t345\t271\t157\t86\t435\t91\t103\t91\t259\t76\t225\t419\t215\t274\t129\t199\t65\t76\t257\t116\t343\t210\t410\t436\t319\t358\t506\t163\t107\t352\t243\t113\t403\t113\t490\t420\t810\t188\t417\t238\t324\t253\t434\t214\t152\t49\t324\t342\t459\t218\t245\t205\t144\t131\t590\t292\t433\t398\t231\t198\t193\t287\t268\t152\t442\t113\t195\t92\t319\t202\t334\t95\t431\t266\t321\t273\t219\t313\t183\t105\t172\t165\t389\t223\t195\t118\t226\t175\t140\t192\t191\t160\t194\t273\t322\t286\t375\t89\t142\t94\t140\t219\t157\t157\t267\t315\t79\t246\t285\t128\t276\t70\t159\t354\t185\t274\t460\t411\t\n",
      "551\t224\t299\t513\t924\t394\t548\t265\t392\t402\t298\t208\t553\t384\t291\t425\t473\t236\t804\t535\t382\t518\t956\t307\t251\t543\t518\t106\t764\t501\t246\t547\t325\t203\t375\t435\t278\t392\t503\t115\t455\t263\t584\t671\t773\t428\t555\t414\t315\t197\t372\t661\t129\t89\t401\t205\t515\t309\t333\t368\t551\t787\t280\t252\t866\t487\t461\t498\t615\t653\t448\t583\t797\t578\t202\t191\t546\t322\t715\t623\t389\t312\t411\t189\t753\t612\t318\t132\t550\t695\t688\t615\t840\t864\t318\t232\t469\t461\t370\t509\t744\t329\t630\t314\t626\t582\t809\t251\t374\t332\t521\t335\t532\t515\t459\t347\t519\t584\t662\t428\t492\t733\t489\t235\t645\t364\t674\t461\t690\t705\t358\t306\t806\t447\t610\t400\t788\t275\t267\t482\t404\t205\t344\t324\t469\t305\t736\t158\t449\t644\t282\t150\t701\t561\t586\t93\t563\t387\t479\t486\t613\t405\t188\t597\t774\t535\t431\t299\t557\t427\t754\t657\t300\t289\t840\t481\t775\t596\t275\t111\t361\t261\t237\t320\t685\t561\t282\t241\t346\t240\t507\t207\t572\t528\t410\t258\t209\t161\t358\t240\t396\t324\t338\t295\t280\t226\t325\t376\t671\t411\t328\t330\t536\t501\t102\t97\t329\t263\t197\t320\t475\t289\t518\t436\t438\t606\t244\t252\t479\t286\t562\t401\t145\t390\t477\t275\t776\t432\t602\t367\t322\t431\t740\t191\t220\t275\t966\t965\t858\t942\t880\t805\t825\t570\t699\t456\t\n",
      "957\t811\t789\t718\t701\t950\t966\t521\t959\t953\t899\t431\t818\t777\t561\t959\t475\t404\t996\t916\t906\t640\t966\t776\t805\t686\t857\t452\t647\t559\t969\t572\t974\t626\t708\t706\t975\t909\t863\t670\t590\t899\t913\t761\t961\t994\t692\t414\t854\t553\t966\t566\t841\t911\t780\t128\t851\t975\t865\t539\t785\t247\t562\t561\t933\t522\t731\t675\t572\t565\t535\t565\t782\t329\t997\t849\t916\t588\t747\t239\t669\t456\t562\t441\t968\t651\t884\t770\t957\t828\t864\t603\t850\t732\t846\t502\t876\t438\t859\t244\t766\t610\t858\t701\t751\t529\t877\t196\t535\t459\t296\t719\t751\t541\t737\t616\t884\t357\t630\t416\t847\t658\t790\t952\t998\t301\t940\t632\t901\t947\t890\t593\t676\t994\t963\t596\t687\t733\t888\t738\t995\t568\t836\t648\t950\t856\t876\t634\t929\t236\t290\t855\t916\t837\t860\t426\t966\t738\t905\t761\t971\t593\t678\t489\t859\t628\t424\t652\t924\t805\t809\t732\t884\t752\t854\t179\t976\t804\t932\t837\t839\t742\t683\t796\t963\t943\t908\t880\t953\t335\t413\t414\t929\t863\t855\t665\t574\t478\t919\t608\t867\t779\t812\t613\t791\t643\t789\t472\t995\t759\t862\t732\t845\t902\t501\t285\t547\t483\t696\t846\t690\t790\t967\t448\t977\t797\t902\t696\t737\t655\t971\t900\t923\t763\t604\t976\t803\t735\t738\t476\t977\t637\t986\t967\t843\t769\t932\t426\t923\t895\t594\t459\t965\t814\t931\t742\t966\t829\t967\t847\t899\t365\t934\t930\t962\t942\t952\t824\t715\t881\t584\t517\t791\t810\t474\t293\t866\t579\t814\t574\t881\t621\t734\t566\t728\t582\t958\t788\t789\t658\t933\t839\t943\t801\t728\t526\t729\t588\t938\t854\t977\t432\t557\t458\t943\t928\t783\t837\t909\t758\t604\t210\t860\t607\t657\t455\t861\t754\t762\t627\t931\t762\t639\t530\t944\t532\t781\t625\t913\t830\t728\t547\t688\t432\t741\t949\t742\t629\t790\t698\t907\t796\t834\t749\t750\t657\t461\t441\t910\t872\t855\t581\t936\t831\t671\t610\t723\t345\t655\t215\t731\t564\t451\t898\t773\t689\t848\t824\t816\t774\t662\t611\t689\t622\t429\t749\t606\t370\t567\t616\t840\t577\t532\t482\t921\t785\t752\t965\t893\t759\t482\t326\t745\t659\t529\t856\t687\t511\t995\t936\t578\t441\t863\t528\t937\t804\t859\t397\t739\t629\t426\t377\t333\t354\t821\t612\t801\t706\t836\t635\t961\t624\t607\t773\t852\t590\t957\t736\t518\t117\t349\t384\t701\t508\t330\t582\t802\t542\t787\t750\t909\t600\t505\t723\t780\t771\t466\t726\t685\t450\t797\t843\t927\t468\t305\t496\t516\t812\t934\t720\t950\t635\t874\t964\t679\t652\t853\t448\t691\t606\t964\t797\t899\t895\t814\t585\t782\t745\t560\t472\t923\t955\t613\t610\t965\t781\t903\t283\t817\t\n",
      "\n"
     ]
    }
   ],
   "source": [
    "# Create new Min Heap to Sort the array\n",
    "myHeapsort = MinHeap(1000)\n",
    "\n",
    "# Start counting time\n",
    "start_time = time()\n",
    "for item in seq_A:\n",
    "    myHeapsort.add(item)\n",
    "end_time = time()\n",
    "\n",
    "elapsed_time = end_time - start_time\n",
    "print(\"Used time :\" , elapsed_time)\n",
    "print(myHeapsort)"
   ]
  },
  {
   "cell_type": "markdown",
   "metadata": {},
   "source": [
    "---"
   ]
  },
  {
   "cell_type": "markdown",
   "metadata": {},
   "source": [
    "<div style=\"color:greenyellow;\">นายศวิษฐ์ โกสียอัมพร 65070506026</div>\n",
    "<div style=\"color:hotpink;\">นางสาวปุญชญา จันทร์เจริญ 65070506039</div>"
   ]
  }
 ],
 "metadata": {
  "kernelspec": {
   "display_name": "Python 3.10.2 64-bit",
   "language": "python",
   "name": "python3"
  },
  "language_info": {
   "codemirror_mode": {
    "name": "ipython",
    "version": 3
   },
   "file_extension": ".py",
   "mimetype": "text/x-python",
   "name": "python",
   "nbconvert_exporter": "python",
   "pygments_lexer": "ipython3",
   "version": "3.11.4"
  },
  "vscode": {
   "interpreter": {
    "hash": "aee8b7b246df8f9039afb4144a1f6fd8d2ca17a180786b69acc140d282b71a49"
   }
  }
 },
 "nbformat": 4,
 "nbformat_minor": 4
}
