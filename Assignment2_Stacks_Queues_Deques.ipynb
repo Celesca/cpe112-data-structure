{
 "cells": [
  {
   "cell_type": "markdown",
   "metadata": {},
   "source": [
    "![AlternativeLogo-eng.png](data:image/png;base64,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)"
   ]
  },
  {
   "attachments": {},
   "cell_type": "markdown",
   "metadata": {
    "tags": []
   },
   "source": [
    "# CPE112: Programming with Data Structures\n",
    "# Assignment2: Stacks Queues and Deques"
   ]
  },
  {
   "cell_type": "markdown",
   "metadata": {},
   "source": [
    "### Implementation of the Stack ADT."
   ]
  },
  {
   "cell_type": "markdown",
   "metadata": {},
   "source": [
    "<h1 style=\"color: yellow;\"> สิ่งที่ได้เรียนจากในคาบ </h1>"
   ]
  },
  {
   "cell_type": "markdown",
   "metadata": {},
   "source": [
    "* Stack คือ Data Structure ที่เป็นแบบ Linear ก็คือเก็บข้อมูลเป็นเส้นตรง และใช้หลักการเข้าถึงข้อมูลแบบ LIFO หรือที่เรียกว่า \"เข้าก่อน ออกทีหลัง\" โดยตัวที่เราสนใจในข้อมูล คือตำแหน่งที่อยู่บนสุดของข้อมูลที่เรียกว่า Top\n",
    "* Queue คือ Data Structure ที่เป็น Linear แบบต่อคิว ในชีวิตจริง สิ่งสนใจคือ FIFO เป็นแบบ เข้าคนแรก ออกคนแรก\n",
    "โดยปกติ ถ้า เขียน Queue ด้วย Python List จะเปลืองเนื้อที่ บางครั้งจึงเขียนแบบ Circular Array แทน\n",
    "* Deque คือ Data structure ที่เป็น queue แต่เข้าได้สองทาง"
   ]
  },
  {
   "cell_type": "markdown",
   "metadata": {},
   "source": [
    "**Stack ADT**  \n",
    "A stack is a data structure that stores a linear collection of items with access limited to a last-in first-out (LIFO) order. Adding and removing items is restricted to one end known as the top of the stack. An empty stack is one containing no items.\n",
    "| properties/methods    | description    |\n",
    "| --- | --- |  \n",
    "| __Stack()__: | Creates a new empty stack.|\n",
    "| __isEmpty()__: |Returns a Boolean value indicating if the stack is empty.|\n",
    "| __length()__: |Returns the number of items in the stack.|\n",
    "| __pop()__: |Removes and returns the top item of the stack, if the stack is not empty. Items cannot be popped from an empty stack. The next item on the stack becomes the new top item.|\n",
    "| __peek()__: |Returns a reference to the item on top of a non-empty stack without removing it. Peeking, which cannot be done on an empty stack, does not modify the stack contents.|\n",
    "| __push(item)__: | Adds the given item to the top of the stack.|\n",
    "| __\\_\\_repr()\\_\\___:| Represent the values of elements keep in stack |"
   ]
  },
  {
   "cell_type": "markdown",
   "metadata": {},
   "source": [
    "## <span style=\"color:red\"> Practice1: Implement the Stack class </span>"
   ]
  },
  {
   "cell_type": "code",
   "execution_count": 2,
   "metadata": {},
   "outputs": [],
   "source": [
    "class Stack:\n",
    "    def __init__(self):\n",
    "        self._theItems = list()\n",
    "    # Check if the stack is empty.\n",
    "    def isEmpty(self):\n",
    "        return len(self) == 0\n",
    "    # return the number of items in the stack.\n",
    "    def __len__(self):\n",
    "        return len(self._theItems)\n",
    "    # return peeking element on top of a stack\n",
    "    def peek(self):\n",
    "        assert not self.isEmpty() , \"Cannot peek at an empty stack\"\n",
    "        return self._theItems[-1]\n",
    "    # Remove and return the top item of the stack\n",
    "    def pop(self):\n",
    "        assert not self.isEmpty() , \"Cannot pop at an empty stack\"\n",
    "        return self._theItems.pop()\n",
    "    # Add the given item to the top of the stack\n",
    "    def push(self,item):\n",
    "        self._theItems.append(item)\n",
    "    # Represent values\n",
    "    def __repr__(self):\n",
    "        s =\"\"\n",
    "        for item in reversed(self._theItems):\n",
    "            s =  s + \"| \"+str(item) +\"\\t|\" + \"\\n\"\n",
    "        s = s + \"---------\"\n",
    "        return s"
   ]
  },
  {
   "cell_type": "markdown",
   "metadata": {},
   "source": [
    "---"
   ]
  },
  {
   "cell_type": "markdown",
   "metadata": {},
   "source": [
    "> Then try to test the stacks and run all methods"
   ]
  },
  {
   "cell_type": "code",
   "execution_count": 3,
   "metadata": {},
   "outputs": [],
   "source": [
    "MyStack = Stack()"
   ]
  },
  {
   "cell_type": "code",
   "execution_count": 4,
   "metadata": {},
   "outputs": [
    {
     "data": {
      "text/plain": [
       "True"
      ]
     },
     "execution_count": 4,
     "metadata": {},
     "output_type": "execute_result"
    }
   ],
   "source": [
    "#Check isEmpty method.\n",
    "MyStack.isEmpty()"
   ]
  },
  {
   "cell_type": "code",
   "execution_count": 5,
   "metadata": {},
   "outputs": [],
   "source": [
    "# Push method\n",
    "MyStack.push(20)\n",
    "MyStack.push(150)"
   ]
  },
  {
   "cell_type": "code",
   "execution_count": 6,
   "metadata": {},
   "outputs": [
    {
     "data": {
      "text/plain": [
       "2"
      ]
     },
     "execution_count": 6,
     "metadata": {},
     "output_type": "execute_result"
    }
   ],
   "source": [
    "# Length\n",
    "len(MyStack)"
   ]
  },
  {
   "cell_type": "code",
   "execution_count": 7,
   "metadata": {},
   "outputs": [
    {
     "data": {
      "text/plain": [
       "150"
      ]
     },
     "execution_count": 7,
     "metadata": {},
     "output_type": "execute_result"
    }
   ],
   "source": [
    "# Peek method\n",
    "MyStack.peek()"
   ]
  },
  {
   "cell_type": "code",
   "execution_count": 8,
   "metadata": {},
   "outputs": [
    {
     "data": {
      "text/plain": [
       "15"
      ]
     },
     "execution_count": 8,
     "metadata": {},
     "output_type": "execute_result"
    }
   ],
   "source": [
    "# Pop method\n",
    "MyStack.push(47)\n",
    "MyStack.push(15)\n",
    "MyStack.pop()"
   ]
  },
  {
   "cell_type": "code",
   "execution_count": 9,
   "metadata": {},
   "outputs": [
    {
     "data": {
      "text/plain": [
       "| 47\t|\n",
       "| 150\t|\n",
       "| 20\t|\n",
       "---------"
      ]
     },
     "execution_count": 9,
     "metadata": {},
     "output_type": "execute_result"
    }
   ],
   "source": [
    "# Represent value\n",
    "MyStack"
   ]
  },
  {
   "cell_type": "markdown",
   "metadata": {},
   "source": [
    "***"
   ]
  },
  {
   "cell_type": "markdown",
   "metadata": {},
   "source": [
    "### Implementation of the Queue ADT"
   ]
  },
  {
   "cell_type": "markdown",
   "metadata": {
    "tags": []
   },
   "source": [
    "**QUEUE ADT**  \n",
    "A queue is a data structure that a linear collection of items in which access is restricted to a first-in first-out (FIFO) basis. New items are inserted at the back and existing items are removed from the front. The items are maintained in the order in which they are added to the structure.\n",
    "| properties/methods    | description    |\n",
    "| --- | --- | \n",
    "| __Queue()__: | Creates a new empty queue, which is a queue containing no items.\n",
    "| __isEmpty()__: | Returns a Boolean value indicating whether the queue is empty.\n",
    "| __length()__: | Returns the number of items currently in the queue.\n",
    "| __enqueue(item)__: | Adds the given item to the back of the queue.\n",
    "| __dequeue()__: | Removes and returns the front item from the queue. An item cannot be dequeued from an empty queue.\n",
    "| __\\_\\_repr()\\_\\___:| Represent the values of elements keep in queue |"
   ]
  },
  {
   "cell_type": "markdown",
   "metadata": {},
   "source": [
    "## <span style=\"color:red\"> Practice2: Implement the Queue class </span>"
   ]
  },
  {
   "cell_type": "code",
   "execution_count": 14,
   "metadata": {},
   "outputs": [],
   "source": [
    "class Queue :\n",
    "    def __init__(self):\n",
    "        self._qList = list()\n",
    "    # Check whether the Queue empty.\n",
    "    def isEmpty(self): \n",
    "        return len(self) == 0\n",
    "    # Length of queue\n",
    "    def __len__(self): \n",
    "        return len(self._qList)\n",
    "    # Put the new item to wait in queue. (Last index)\n",
    "    def enqueue(self,item): \n",
    "        self._qList.append(item)\n",
    "    # Pop the first item or in the first index.\n",
    "    def dequeue(self):\n",
    "        assert not self.isEmpty(), \"Cannot dequeue from an empty queue\"\n",
    "        return self._qList.pop(0)\n",
    "    # Represent Queue\n",
    "    def __repr__(self):\n",
    "        s = \"\"\n",
    "        # Header\n",
    "        for item in self._qList:\n",
    "            s = s + \"-\" * (len(str(item)) + 1 )\n",
    "        s += \"\\n\"\n",
    "        # Content \n",
    "        for item in self._qList:\n",
    "            s = s + str(item) + \" \"\n",
    "        # Footer\n",
    "        s += \"\\n\"\n",
    "        for item in self._qList:\n",
    "            s = s + \"-\" * (len(str(item))+1)\n",
    "        return s"
   ]
  },
  {
   "cell_type": "markdown",
   "metadata": {},
   "source": [
    "> Try to test and run the queues"
   ]
  },
  {
   "cell_type": "code",
   "execution_count": 22,
   "metadata": {
    "tags": []
   },
   "outputs": [],
   "source": [
    "MyQ = Queue()\n",
    "# Enqueue of queue\n",
    "MyQ.enqueue(743)\n",
    "MyQ.enqueue(49)\n",
    "MyQ.enqueue(5)"
   ]
  },
  {
   "cell_type": "code",
   "execution_count": 23,
   "metadata": {
    "tags": []
   },
   "outputs": [
    {
     "data": {
      "text/plain": [
       "---------\n",
       "743 49 5 \n",
       "---------"
      ]
     },
     "execution_count": 23,
     "metadata": {},
     "output_type": "execute_result"
    }
   ],
   "source": [
    "# Represent value\n",
    "MyQ"
   ]
  },
  {
   "cell_type": "code",
   "execution_count": 24,
   "metadata": {},
   "outputs": [
    {
     "data": {
      "text/plain": [
       "-----\n",
       "49 5 \n",
       "-----"
      ]
     },
     "execution_count": 24,
     "metadata": {},
     "output_type": "execute_result"
    }
   ],
   "source": [
    "# Dequeue of queue\n",
    "MyQ.dequeue()\n",
    "MyQ"
   ]
  },
  {
   "cell_type": "code",
   "execution_count": 25,
   "metadata": {},
   "outputs": [
    {
     "data": {
      "text/plain": [
       "False"
      ]
     },
     "execution_count": 25,
     "metadata": {},
     "output_type": "execute_result"
    }
   ],
   "source": [
    "# Check isEmpty method\n",
    "MyQ.isEmpty()"
   ]
  },
  {
   "cell_type": "markdown",
   "metadata": {},
   "source": [
    "---"
   ]
  },
  {
   "cell_type": "markdown",
   "metadata": {},
   "source": [
    "### Implementation of the Circular Queue with an array"
   ]
  },
  {
   "cell_type": "markdown",
   "metadata": {},
   "source": [
    "__CQueue ADT__ <br>\n",
    "A Circular queue is a data structure that a linear collection of items in which access is restricted to a first-in first-out (FIFO) basis. However a circular queue is the extended version of a regular queue where the last element is connected to the first element. Thus forming a circle-like structure. New items are inserted at the back-index position and front items are removed from the front-index position.\n",
    "| properties/methods    | description    |\n",
    "| --- | --- | \n",
    "| __CQueue()__: | Creates a new empty circular queue, which a circular array is used to contain the items.\n",
    "| __isEmpty()__: | Returns a Boolean value indicating whether the circular queue is empty.\n",
    "| __isFull()__: | Returns a Boolean value indicating whether the circular queue is full.\n",
    "| __length()__: | Returns the number of items currently collected in the circular queue.\n",
    "| __enqueue(item)__: | Adds the given item to the back-index position of the circular queue.\n",
    "| __dequeue()__: | Removes and returns the front item from the circular queue. An item cannot be dequeued from an empty circular queue.\n",
    "| __\\_\\_repr()\\_\\___:| Represent the values of elements keep in circular queue |"
   ]
  },
  {
   "cell_type": "markdown",
   "metadata": {},
   "source": [
    "## <span style=\"color:red\"> Practice3: Implement the CQueue class with Circular Array</span>"
   ]
  },
  {
   "cell_type": "code",
   "execution_count": 10,
   "metadata": {},
   "outputs": [],
   "source": [
    "from CPE112_Module.Array import Array\n",
    "\n",
    "class CQueue():\n",
    "    def __init__(self, maxSize):\n",
    "        self._count = 0 # ตัวที่จะบอกขนาด Queue\n",
    "        self._front = 0\n",
    "        self._back = maxSize - 1\n",
    "        self._qArray = Array( maxSize )\n",
    "\n",
    "    def isEmpty(self):\n",
    "        return self._count == 0\n",
    "\n",
    "    def isFull(self):\n",
    "        return len(self) == len(self._qArray)\n",
    "\n",
    "    def __len__(self):\n",
    "        return self._count\n",
    "\n",
    "    def enqueue(self,item):\n",
    "        assert not self.isFull() , \"Cannot enqueue to a full queue.\"\n",
    "        maxSize = len(self._qArray)\n",
    "        self._back = (self._back + 1) % maxSize\n",
    "        self._qArray[self._back] = item\n",
    "        self._count += 1\n",
    "\n",
    "    def dequeue(self):\n",
    "        assert not self.isEmpty() , \"Cannot dequeue from an empty queue.\"\n",
    "        item = self._qArray[self._front] # เอาตัว front ออกมาเก็บใน item\n",
    "        maxSize = len(self._qArray)\n",
    "        self._qArray[self._front] = None # กำหนดให้ front เป็น None\n",
    "        self._front = (self._front + 1) % maxSize\n",
    "        self._count -= 1\n",
    "        return item\n",
    "\n",
    "    def __repr__(self):\n",
    "        s = str(self._qArray) + \"\\n\"\n",
    "        s = s + \"Front index : \" + str(self._front) + \"\\n\"\n",
    "        s = s + \"Back index : \" + str(self._back) + \"\\n\"\n",
    "        return s\n",
    "# __repr()__ ให้บอกค่า front back ด้วย"
   ]
  },
  {
   "cell_type": "markdown",
   "metadata": {},
   "source": [
    "> Try to test and run the Cqueues"
   ]
  },
  {
   "cell_type": "code",
   "execution_count": 11,
   "metadata": {},
   "outputs": [],
   "source": [
    "MyCQ = CQueue(5)\n",
    "MyCQ.enqueue(9)\n",
    "MyCQ.enqueue(6)"
   ]
  },
  {
   "cell_type": "code",
   "execution_count": 12,
   "metadata": {},
   "outputs": [
    {
     "data": {
      "text/plain": [
       "False"
      ]
     },
     "execution_count": 12,
     "metadata": {},
     "output_type": "execute_result"
    }
   ],
   "source": [
    "# Test isEmpty\n",
    "MyCQ.isEmpty()"
   ]
  },
  {
   "cell_type": "code",
   "execution_count": 13,
   "metadata": {},
   "outputs": [
    {
     "data": {
      "text/plain": [
       "2"
      ]
     },
     "execution_count": 13,
     "metadata": {},
     "output_type": "execute_result"
    }
   ],
   "source": [
    "# Length\n",
    "len(MyCQ)"
   ]
  },
  {
   "cell_type": "code",
   "execution_count": 14,
   "metadata": {},
   "outputs": [
    {
     "ename": "AssertionError",
     "evalue": "Cannot enqueue to a full queue.",
     "output_type": "error",
     "traceback": [
      "\u001b[1;31m---------------------------------------------------------------------------\u001b[0m",
      "\u001b[1;31mAssertionError\u001b[0m                            Traceback (most recent call last)",
      "Cell \u001b[1;32mIn[14], line 5\u001b[0m\n\u001b[0;32m      3\u001b[0m MyCQ\u001b[39m.\u001b[39menqueue(\u001b[39m3\u001b[39m)\n\u001b[0;32m      4\u001b[0m MyCQ\u001b[39m.\u001b[39menqueue(\u001b[39m7\u001b[39m)\n\u001b[1;32m----> 5\u001b[0m MyCQ\u001b[39m.\u001b[39;49menqueue(\u001b[39m1\u001b[39;49m)\n",
      "Cell \u001b[1;32mIn[10], line 20\u001b[0m, in \u001b[0;36mCQueue.enqueue\u001b[1;34m(self, item)\u001b[0m\n\u001b[0;32m     19\u001b[0m \u001b[39mdef\u001b[39;00m \u001b[39menqueue\u001b[39m(\u001b[39mself\u001b[39m,item):\n\u001b[1;32m---> 20\u001b[0m     \u001b[39massert\u001b[39;00m \u001b[39mnot\u001b[39;00m \u001b[39mself\u001b[39m\u001b[39m.\u001b[39misFull() , \u001b[39m\"\u001b[39m\u001b[39mCannot enqueue to a full queue.\u001b[39m\u001b[39m\"\u001b[39m\n\u001b[0;32m     21\u001b[0m     maxSize \u001b[39m=\u001b[39m \u001b[39mlen\u001b[39m(\u001b[39mself\u001b[39m\u001b[39m.\u001b[39m_qArray)\n\u001b[0;32m     22\u001b[0m     \u001b[39mself\u001b[39m\u001b[39m.\u001b[39m_back \u001b[39m=\u001b[39m (\u001b[39mself\u001b[39m\u001b[39m.\u001b[39m_back \u001b[39m+\u001b[39m \u001b[39m1\u001b[39m) \u001b[39m%\u001b[39m maxSize\n",
      "\u001b[1;31mAssertionError\u001b[0m: Cannot enqueue to a full queue."
     ]
    }
   ],
   "source": [
    "# Test Overflow Error\n",
    "MyCQ.enqueue(3)\n",
    "MyCQ.enqueue(3)\n",
    "MyCQ.enqueue(7)\n",
    "MyCQ.enqueue(1)"
   ]
  },
  {
   "cell_type": "code",
   "execution_count": 15,
   "metadata": {},
   "outputs": [
    {
     "data": {
      "text/plain": [
       "True"
      ]
     },
     "execution_count": 15,
     "metadata": {},
     "output_type": "execute_result"
    }
   ],
   "source": [
    "# isFull Method\n",
    "MyCQ.isFull()"
   ]
  },
  {
   "cell_type": "code",
   "execution_count": 16,
   "metadata": {},
   "outputs": [
    {
     "data": {
      "text/plain": [
       "[ 9, 6, 3, 3, 7 ]\n",
       "Front index : 0\n",
       "Back index : 4"
      ]
     },
     "execution_count": 16,
     "metadata": {},
     "output_type": "execute_result"
    }
   ],
   "source": [
    "MyCQ"
   ]
  },
  {
   "cell_type": "code",
   "execution_count": 18,
   "metadata": {},
   "outputs": [
    {
     "data": {
      "text/plain": [
       "[ None, 6, 3, 3, 7 ]\n",
       "Front index : 1\n",
       "Back index : 4"
      ]
     },
     "execution_count": 18,
     "metadata": {},
     "output_type": "execute_result"
    }
   ],
   "source": [
    "MyCQ.dequeue()\n",
    "MyCQ"
   ]
  },
  {
   "cell_type": "markdown",
   "metadata": {},
   "source": [
    "---"
   ]
  },
  {
   "cell_type": "markdown",
   "metadata": {},
   "source": [
    "### Implementation of the Double-Ended Queue"
   ]
  },
  {
   "cell_type": "markdown",
   "metadata": {
    "tags": []
   },
   "source": [
    "**Deque ADT**  \n",
    "A doubled-ended queue is a queue-like data structure that supports insertion and deletion at both the front and the back of the queue.\n",
    "| properties/methods    | description    |\n",
    "| --- | --- | \n",
    "| __Deque()__: | Create a new empty deque, which no item with in.\n",
    "| __AddFirst(item)__: | Add an item to the front of deque.\n",
    "| __AddRear(item)__: | Add an item to the back of deque.\n",
    "| __DeleteFirst()__: | Remove and return the first item from deque; an error occurs if the deque is empty.\n",
    "| __DeleteRear()__: | Remove and return the last item from deque; an error occurs if the deque is empty.\n",
    "| __First()__: | Return (but do not remove) the first item of deque; an error occurs if the deque is empty.\n",
    "| __Rear()__: | Return (but do not remove) the last item of deque; an error occurs if the deque is empty.\n",
    "| __isEmpty()__: | Return True if deque does not contain any items.\n",
    "| __length()__: | Return the number of items in deque.\n",
    "| __\\_\\_repr()\\_\\___:| Represent the values of elements keep in deque |\n",
    "\n"
   ]
  },
  {
   "cell_type": "markdown",
   "metadata": {},
   "source": [
    "### <span style=\"color:red\"> Practice4 </span>: Implement Deque class with Python list"
   ]
  },
  {
   "cell_type": "code",
   "execution_count": null,
   "metadata": {},
   "outputs": [],
   "source": []
  },
  {
   "attachments": {},
   "cell_type": "markdown",
   "metadata": {
    "tags": []
   },
   "source": [
    "> Try to write code for implement a deque"
   ]
  },
  {
   "cell_type": "code",
   "execution_count": 53,
   "metadata": {},
   "outputs": [],
   "source": [
    "class Deque():\n",
    "    def __init__(self):\n",
    "        self._dList = []\n",
    "    def AddFirst(self,item):\n",
    "        self._dList.insert(0,item)\n",
    "    def AddRear(self,item):\n",
    "        self._dList.append(item)\n",
    "    def DeleteFirst(self):\n",
    "        assert not self.isEmpty() , \"Cannot delete first because the deque is empty.\"\n",
    "        return self._dList.pop(0)\n",
    "    def DeleteRear(self):\n",
    "        assert not self.isEmpty() , \"Cannot delete rear because the deque is empty.\"\n",
    "        return self._dList.pop()\n",
    "    def First(self):\n",
    "        assert not self.isEmpty() , \"The deque is empty. There's no data in the deque.\"\n",
    "        return self._dList[0]\n",
    "    def Rear(self):\n",
    "        assert not self.isEmpty() , \"The deque is empty. There's no data in the deque.\"\n",
    "        return self._dList[-1]\n",
    "    def isEmpty(self):\n",
    "        return len(self._dList) == 0\n",
    "    def __len__(self):\n",
    "        return len(self._dList)\n",
    "    def __repr__(self):\n",
    "        s = \"\"\n",
    "        # Header\n",
    "        for item in self._dList:\n",
    "            s = s + \"-\" * (len(str(item)) + 1 )\n",
    "        s += \"\\n\"\n",
    "        # Content \n",
    "        for item in self._dList:\n",
    "            s = s + str(item) + \" \"\n",
    "        # Footer\n",
    "        s += \"\\n\"\n",
    "        for item in self._dList:\n",
    "            s = s + \"-\" * (len(str(item))+1)\n",
    "        return s"
   ]
  },
  {
   "cell_type": "code",
   "execution_count": 54,
   "metadata": {},
   "outputs": [],
   "source": [
    "MyDQ = Deque()\n",
    "MyDQ.AddFirst(20)\n",
    "MyDQ.AddFirst(15)\n",
    "MyDQ.AddRear(39)"
   ]
  },
  {
   "cell_type": "code",
   "execution_count": 55,
   "metadata": {},
   "outputs": [
    {
     "data": {
      "text/plain": [
       "---------\n",
       "15 20 39 \n",
       "---------"
      ]
     },
     "execution_count": 55,
     "metadata": {},
     "output_type": "execute_result"
    }
   ],
   "source": [
    "MyDQ"
   ]
  },
  {
   "cell_type": "code",
   "execution_count": 56,
   "metadata": {},
   "outputs": [
    {
     "data": {
      "text/plain": [
       "3"
      ]
     },
     "execution_count": 56,
     "metadata": {},
     "output_type": "execute_result"
    }
   ],
   "source": [
    "# Length of Deque\n",
    "len(MyDQ)"
   ]
  },
  {
   "cell_type": "code",
   "execution_count": 57,
   "metadata": {},
   "outputs": [
    {
     "data": {
      "text/plain": [
       "False"
      ]
     },
     "execution_count": 57,
     "metadata": {},
     "output_type": "execute_result"
    }
   ],
   "source": [
    "# isEmpty Method\n",
    "MyDQ.isEmpty()"
   ]
  },
  {
   "cell_type": "code",
   "execution_count": 58,
   "metadata": {},
   "outputs": [
    {
     "data": {
      "text/plain": [
       "15"
      ]
     },
     "execution_count": 58,
     "metadata": {},
     "output_type": "execute_result"
    }
   ],
   "source": [
    "# First Method\n",
    "MyDQ.First()"
   ]
  },
  {
   "cell_type": "code",
   "execution_count": 59,
   "metadata": {},
   "outputs": [
    {
     "data": {
      "text/plain": [
       "39"
      ]
     },
     "execution_count": 59,
     "metadata": {},
     "output_type": "execute_result"
    }
   ],
   "source": [
    "# Rear Method\n",
    "MyDQ.Rear()"
   ]
  },
  {
   "cell_type": "code",
   "execution_count": 60,
   "metadata": {},
   "outputs": [
    {
     "data": {
      "text/plain": [
       "--------------------\n",
       "Youtube 15 20 39 47 \n",
       "--------------------"
      ]
     },
     "execution_count": 60,
     "metadata": {},
     "output_type": "execute_result"
    }
   ],
   "source": [
    "MyDQ.AddRear(47)\n",
    "MyDQ.AddFirst(\"Youtube\")\n",
    "MyDQ"
   ]
  },
  {
   "cell_type": "code",
   "execution_count": 61,
   "metadata": {},
   "outputs": [
    {
     "data": {
      "text/plain": [
       "'Youtube'"
      ]
     },
     "execution_count": 61,
     "metadata": {},
     "output_type": "execute_result"
    }
   ],
   "source": [
    "# Delete First Method\n",
    "MyDQ.DeleteFirst()"
   ]
  },
  {
   "cell_type": "code",
   "execution_count": 62,
   "metadata": {},
   "outputs": [
    {
     "data": {
      "text/plain": [
       "47"
      ]
     },
     "execution_count": 62,
     "metadata": {},
     "output_type": "execute_result"
    }
   ],
   "source": [
    "# Delete Rear Method\n",
    "MyDQ.DeleteRear()"
   ]
  },
  {
   "cell_type": "code",
   "execution_count": 63,
   "metadata": {},
   "outputs": [
    {
     "ename": "AssertionError",
     "evalue": "The deque is empty. There's no data in the deque.",
     "output_type": "error",
     "traceback": [
      "\u001b[1;31m---------------------------------------------------------------------------\u001b[0m",
      "\u001b[1;31mAssertionError\u001b[0m                            Traceback (most recent call last)",
      "Cell \u001b[1;32mIn[63], line 5\u001b[0m\n\u001b[0;32m      1\u001b[0m \u001b[39m# Test Empty Deque Error\u001b[39;00m\n\u001b[0;32m      3\u001b[0m NewDQ \u001b[39m=\u001b[39m Deque()\n\u001b[1;32m----> 5\u001b[0m NewDQ\u001b[39m.\u001b[39;49mFirst()\n",
      "Cell \u001b[1;32mIn[53], line 15\u001b[0m, in \u001b[0;36mDeque.First\u001b[1;34m(self)\u001b[0m\n\u001b[0;32m     14\u001b[0m \u001b[39mdef\u001b[39;00m \u001b[39mFirst\u001b[39m(\u001b[39mself\u001b[39m):\n\u001b[1;32m---> 15\u001b[0m     \u001b[39massert\u001b[39;00m \u001b[39mnot\u001b[39;00m \u001b[39mself\u001b[39m\u001b[39m.\u001b[39misEmpty() , \u001b[39m\"\u001b[39m\u001b[39mThe deque is empty. There\u001b[39m\u001b[39m'\u001b[39m\u001b[39ms no data in the deque.\u001b[39m\u001b[39m\"\u001b[39m\n\u001b[0;32m     16\u001b[0m     \u001b[39mreturn\u001b[39;00m \u001b[39mself\u001b[39m\u001b[39m.\u001b[39m_dList[\u001b[39m0\u001b[39m]\n",
      "\u001b[1;31mAssertionError\u001b[0m: The deque is empty. There's no data in the deque."
     ]
    }
   ],
   "source": [
    "# Test Empty Deque Error\n",
    "\n",
    "NewDQ = Deque()\n",
    "\n",
    "NewDQ.First()"
   ]
  },
  {
   "cell_type": "code",
   "execution_count": 64,
   "metadata": {},
   "outputs": [
    {
     "ename": "AssertionError",
     "evalue": "Cannot delete rear because the deque is empty.",
     "output_type": "error",
     "traceback": [
      "\u001b[1;31m---------------------------------------------------------------------------\u001b[0m",
      "\u001b[1;31mAssertionError\u001b[0m                            Traceback (most recent call last)",
      "Cell \u001b[1;32mIn[64], line 1\u001b[0m\n\u001b[1;32m----> 1\u001b[0m NewDQ\u001b[39m.\u001b[39;49mDeleteRear()\n",
      "Cell \u001b[1;32mIn[53], line 12\u001b[0m, in \u001b[0;36mDeque.DeleteRear\u001b[1;34m(self)\u001b[0m\n\u001b[0;32m     11\u001b[0m \u001b[39mdef\u001b[39;00m \u001b[39mDeleteRear\u001b[39m(\u001b[39mself\u001b[39m):\n\u001b[1;32m---> 12\u001b[0m     \u001b[39massert\u001b[39;00m \u001b[39mnot\u001b[39;00m \u001b[39mself\u001b[39m\u001b[39m.\u001b[39misEmpty() , \u001b[39m\"\u001b[39m\u001b[39mCannot delete rear because the deque is empty.\u001b[39m\u001b[39m\"\u001b[39m\n\u001b[0;32m     13\u001b[0m     \u001b[39mreturn\u001b[39;00m \u001b[39mself\u001b[39m\u001b[39m.\u001b[39m_dList\u001b[39m.\u001b[39mpop()\n",
      "\u001b[1;31mAssertionError\u001b[0m: Cannot delete rear because the deque is empty."
     ]
    }
   ],
   "source": [
    "NewDQ.DeleteRear()"
   ]
  },
  {
   "cell_type": "markdown",
   "metadata": {},
   "source": [
    "---"
   ]
  },
  {
   "cell_type": "markdown",
   "metadata": {},
   "source": []
  }
 ],
 "metadata": {
  "kernelspec": {
   "display_name": "Python 3.10.2 64-bit",
   "language": "python",
   "name": "python3"
  },
  "language_info": {
   "codemirror_mode": {
    "name": "ipython",
    "version": 3
   },
   "file_extension": ".py",
   "mimetype": "text/x-python",
   "name": "python",
   "nbconvert_exporter": "python",
   "pygments_lexer": "ipython3",
   "version": "3.11.4"
  },
  "vscode": {
   "interpreter": {
    "hash": "aee8b7b246df8f9039afb4144a1f6fd8d2ca17a180786b69acc140d282b71a49"
   }
  }
 },
 "nbformat": 4,
 "nbformat_minor": 4
}
