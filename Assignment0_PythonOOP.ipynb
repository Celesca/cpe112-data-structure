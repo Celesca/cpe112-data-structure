{
 "cells": [
  {
   "cell_type": "markdown",
   "metadata": {},
   "source": [
    "![AlternativeLogo-eng.png](data:image/png;base64,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)"
   ]
  },
  {
   "cell_type": "markdown",
   "metadata": {},
   "source": [
    "---"
   ]
  },
  {
   "attachments": {},
   "cell_type": "markdown",
   "metadata": {},
   "source": [
    "# CPE112: Programming with Data Structures\n",
    "## Assignment: Python OOP"
   ]
  },
  {
   "cell_type": "markdown",
   "metadata": {},
   "source": [
    "# What is Python OOP?"
   ]
  },
  {
   "cell_type": "markdown",
   "metadata": {},
   "source": [
    "<span style=\"font-size: 22px; font-weight: bold;\">Python OOP คือ การเขียนโปรแกรมเชิงวัตถุ หรือมองโปรแกรมให้เปรียบเสมือนเป็นวัตถุก้อนหนึ่ง ซึ่งมีแนวหลักการออกแบบดังนี้</span>\n",
    "- Modularity คือ การมองภาพรวมของวัตถุแล้วแบ่งย่อยเป็นยูนิตการทำงานต่างๆ\n",
    "- Module คือ การเขียนคำสั่งของ Function หรือ class ต่างๆ หรือมองว่าเรามีวัตถุนึงแล้วดึงออกมาเป็นส่วนๆ แล้วจำแนกชิ้นส่วนที่ซ้ำๆกัน \n",
    "- Abstraction คือ การมองชิ้นส่วนต่างๆ ให้เป็นชิ้นส่วนพื้นฐานหรือโครงสร้างของมัน\n",
    "- Encapsulation คือ การป้องกันหรือจำกัดการเข้าถึงข้อมูล โดยการห่อหุ้มด้วย Class"
   ]
  },
  {
   "cell_type": "markdown",
   "metadata": {},
   "source": [
    "<span style=\"font-weight: bold;\">ส่วนประกอบต่างๆของ OOP</span>\n",
    "* Class คือ ต้นแบบของวัตถุเหมือนกับเป็น Template หนึ่ง และ การจะสร้างวัตถุขึ้นมาได้จะต้องสร้างคลาสขึ้นมาเป็นต้นแบบของวัตถุก่อนเสมอ \n",
    "* Object คือ Instance หรือ ตัวแทนของคลาสนั้นๆ ภายในคลาสประกอบด้วยสองอย่าง คือ\n",
    "\n",
    "วัตถุหรืออ็อบเจ็ค คือ สิ่งที่ถูกสร้างจากคลาสประกอบด้วยคุณสมบัติ 2 ประการ คือ \n",
    "- Properties คือ คุณลักษณะที่สามารถกำหนด Value ลงไปได้ของ Object นั้นๆ\n",
    "- Methods คือ Operation , ฟังก์ชันหรือสิ่งที่ Object จะสามารถทำได้ \n"
   ]
  },
  {
   "cell_type": "markdown",
   "metadata": {},
   "source": [
    "<span style=\"font-weight: bold;\">ข้อดีของ OOP </span>\n",
    "- Robustness คือ สามารถจัดการ Error ที่เกิดขึ้นได้โดยง่าย มีการ Handle error ที่ Object และไม่กระทบกับโปรแกรมของเราโดยตรง\n",
    "- Adaptability คือ ความยืดหยุ่นในการเปลี่ยนแปลง เพื่อนำไปเขียนบน OS อื่นได้\n",
    "- Reusability คือ โค้ดที่ซ้ำๆกันสามารถนำมาใช้ใหม่ได้ โดยไม่ต้องเสียเวลาเขียนใหม่"
   ]
  },
  {
   "cell_type": "markdown",
   "metadata": {},
   "source": [
    "<span style=\"font-weight: bold;\">คุณสมบัติของ OOP</span>\n",
    "- Inheritance (การสืบทอด) คือ การสร้าง class ลูกใหม่ขึ้นมา แต่สืบทอดคุณสมบัติทั้ง Property และ Method จาก class แม่ โดยใน Class ลูกสามารถเขียน Method ทับของแม่ได้ซึ่งเรียกว่า \n",
    "    1.1 Overriding (ชื่อ Method เดิม Parameter เดิม แต่เขียนกระบวนการภายในใหม่) \n",
    "    1.2 Overloading (ชื่อ Method เดิม รับ Parameter ต่างจากเดิม เขียนกระบวนการภายในใหม่)\n",
    "- Access Modifier คือ ระดับการเข้าถึง Class, Property, Method และอื่นๆ ในภาษาเชิงวัตถุ ซึ่งมีประโยชน์อย่างมากในเรื่องของการกำหนดสิทธิ์ในการเข้าใช้งาน การซ่อนข้อมูล แบ่งเป็น Public (สาธารณะ) คือเข้าถึงได้ทุกคน , Protected (เครื่องหมาย _) คือสามารถเรียกใช้งานเฉพาะคลาสลูกและตัวมันเอง , Private มีแค่คลาสของตัวมันเองที่มีสิทธิ์ใช้งานได้ (เครื่องหมาย __)"
   ]
  },
  {
   "cell_type": "markdown",
   "metadata": {},
   "source": [
    "### I) Create your new class with at least 4 data attributes and at least 4 methods "
   ]
  },
  {
   "attachments": {},
   "cell_type": "markdown",
   "metadata": {},
   "source": [
    "<span style=color:red> Write the code below: </span>"
   ]
  },
  {
   "cell_type": "code",
   "execution_count": 11,
   "metadata": {},
   "outputs": [],
   "source": [
    "class Cat:\n",
    "    # Default Parameter (Create to assign variable type) It's\n",
    "    _species = \"\"\n",
    "    _color = [\"white\",\"orange\"]\n",
    "    _ribcage = 30\n",
    "    _lower_back_leg = 4\n",
    "    _name = \"Default_name\"\n",
    "    # Init\n",
    "    def __init__(self,species,color,ribcage,lower_back_leg,name):\n",
    "        self._species = species\n",
    "        self._color = color\n",
    "        self._ribcage = ribcage\n",
    "        self._lower_back_leg = lower_back_leg\n",
    "        self._name = name\n",
    "    # Change cat's name method\n",
    "    def changename(self,newname):\n",
    "        self._name = newname;\n",
    "    # Show cat information\n",
    "    def showdata(self):\n",
    "        print('Your cat\\'s name is' , self._name)\n",
    "        print('Your cat is', self._species ,'species')\n",
    "        print('Your cat\\'s color is' , *self._color)\n",
    "        print('Your cat\\'s ribcage circumference is' , self._ribcage ,'centimeter')\n",
    "        print('Your cat\\'s length of the lower back leg is' , self._lower_back_leg , 'centimeter')\n",
    "        \n",
    "    # Calculate Cat FBMI\n",
    "    '''\n",
    "    หมายเหตุ : Formula : BMI ของแมว เรียกว่า FBMI (Feline Body Mass Index)\n",
    "    มีสูตรคือ FBMI = (((R/0.7062) - L )/0.9156) - L\n",
    "    < 15        Underweight\n",
    "    15 - 29.9   Normal weight\n",
    "    30 - 42     Overweight\n",
    "    42          Obese\n",
    "    \n",
    "    '''\n",
    "    def calculateFBMI(self):\n",
    "        R = self._ribcage\n",
    "        L = self._lower_back_leg\n",
    "        FBMI = (((R/0.7062) - L )/0.9156) - L\n",
    "        print(\"Your cat\\'s FBMI is %.2f\" %FBMI)\n",
    "        if (FBMI < 15):\n",
    "            result = \"Underweight\"\n",
    "        elif (FBMI >= 15 and FBMI <= 29.9):\n",
    "            result = \"Normal weight\"\n",
    "        elif (FBMI >= 30 and FBMI < 42):\n",
    "            result = \"Overweight\"\n",
    "        elif (FBMI >= 42):\n",
    "            result = \"Obese\"\n",
    "        print(\"Your cat is\" , result)\n",
    "        "
   ]
  },
  {
   "cell_type": "markdown",
   "metadata": {},
   "source": [
    "<span style=color:red> Test your class below: </span>"
   ]
  },
  {
   "cell_type": "code",
   "execution_count": 12,
   "metadata": {},
   "outputs": [
    {
     "name": "stdout",
     "output_type": "stream",
     "text": [
      "Your cat's name is Saran\n",
      "Your cat is Scottish species\n",
      "Your cat's color is Orange White\n",
      "Your cat's ribcage circumference is 30 centimeter\n",
      "Your cat's length of the lower back leg is 4 centimeter\n"
     ]
    }
   ],
   "source": [
    "test_cat1 = Cat(\"Scottish\",[\"Orange\",\"White\"],30,4,\"Saran\")\n",
    "test_cat1.showdata();"
   ]
  },
  {
   "cell_type": "code",
   "execution_count": 13,
   "metadata": {},
   "outputs": [
    {
     "name": "stdout",
     "output_type": "stream",
     "text": [
      "Your cat's name is Folk\n",
      "Your cat is Scottish species\n",
      "Your cat's color is Orange White\n",
      "Your cat's ribcage circumference is 30 centimeter\n",
      "Your cat's length of the lower back leg is 4 centimeter\n"
     ]
    }
   ],
   "source": [
    "test_cat1.changename('Folk')\n",
    "test_cat1.showdata();"
   ]
  },
  {
   "cell_type": "code",
   "execution_count": 14,
   "metadata": {},
   "outputs": [
    {
     "name": "stdout",
     "output_type": "stream",
     "text": [
      "Your cat's FBMI is 38.03\n",
      "Your cat is Overweight\n"
     ]
    }
   ],
   "source": [
    "test_cat1.calculateFBMI();"
   ]
  },
  {
   "cell_type": "markdown",
   "metadata": {},
   "source": [
    "---"
   ]
  },
  {
   "attachments": {},
   "cell_type": "markdown",
   "metadata": {},
   "source": [
    "### II) From your created new class in Practice I, override one method from your base class and use \\_\\_init\\_\\_( ) method in your derived class  and then create more methods"
   ]
  },
  {
   "attachments": {},
   "cell_type": "markdown",
   "metadata": {},
   "source": [
    "<span style=color:red> Write the code below: </span>"
   ]
  },
  {
   "cell_type": "code",
   "execution_count": 15,
   "metadata": {},
   "outputs": [],
   "source": [
    "class Catonsale(Cat):\n",
    "    def __init__(self,name,species,price):\n",
    "        self.name = name\n",
    "        self.species = species\n",
    "        self.price = price\n",
    "        print(f\"There is a new cat name {self.name} on sale! Please check the detail.\")\n",
    "\n",
    "    # This is overriding showdata method from Parent class.\n",
    "    def showdata(self):\n",
    "        print(f\"Name : {self.name}\\nSpecies :{self.species} \\nPrice : {self.price}\")\n",
    "        \n",
    "    # This is the new method\n",
    "    def showdiscount(self):\n",
    "        print(\"Special offer! if you buy in 2 minutes right now. You get 20% discount!\")\n",
    "        print(\"So the price will be\" , (self.price - (self.price * 0.2)))"
   ]
  },
  {
   "cell_type": "markdown",
   "metadata": {},
   "source": [
    "<span style=color:red> Test your class below: </span>"
   ]
  },
  {
   "cell_type": "code",
   "execution_count": 16,
   "metadata": {},
   "outputs": [
    {
     "name": "stdout",
     "output_type": "stream",
     "text": [
      "There is a new cat name Ryan on sale! Please check the detail.\n"
     ]
    }
   ],
   "source": [
    "Ryan = Catonsale(\"Ryan\",\"Persia\",2500) # Create new class object."
   ]
  },
  {
   "cell_type": "code",
   "execution_count": 17,
   "metadata": {},
   "outputs": [
    {
     "name": "stdout",
     "output_type": "stream",
     "text": [
      "Name : Ryan\n",
      "Species :Persia \n",
      "Price : 2500\n"
     ]
    }
   ],
   "source": [
    "Ryan.showdata() # Check Overriding method"
   ]
  },
  {
   "cell_type": "code",
   "execution_count": 18,
   "metadata": {},
   "outputs": [
    {
     "name": "stdout",
     "output_type": "stream",
     "text": [
      "Special offer! if you buy in 2 minutes right now. You get 20% discount!\n",
      "So the price will be 2000.0\n"
     ]
    }
   ],
   "source": [
    "Ryan.showdiscount() # Check new method."
   ]
  },
  {
   "cell_type": "markdown",
   "metadata": {},
   "source": [
    "---"
   ]
  },
  {
   "cell_type": "markdown",
   "metadata": {},
   "source": [
    "### Answer the question  \n",
    "* What is the \\_\\_init\\_\\_ function used for?\n",
    "* What 's happen when derive the classes from 2 or more classes\n",
    "* What is SOLID"
   ]
  },
  {
   "cell_type": "markdown",
   "metadata": {},
   "source": [
    "<span style=\"color:purple; font-size: 20px; background-color: white; padding: 10px; border-radius: 5px; \"> คำตอบ </span>"
   ]
  },
  {
   "cell_type": "markdown",
   "metadata": {},
   "source": [
    "1. __init__ คือ ฟังก์ชันพิเศษที่จะถูกเรียกใช้งาน เมื่อสร้างวัตถุ (Object) ขึ้นมาและจะทำงานอัตโนมัติในตอนเริ่มต้นเพียงครั้งเดียว"
   ]
  },
  {
   "cell_type": "markdown",
   "metadata": {},
   "source": [
    "2. เมื่อเราสืบทอด class มามากกว่า 2 คลาสขึ้นไป เราจะเรียกว่า Multiple Inheritance โดยที่เหตุการณ์ที่จะเกิดขึ้นมีดังนี้\n",
    "ในการค้นหา Attributes ที่สืบทอดมาจากคลาสพ่อแม่ เราจะมีคุณสมบัติดังนี้\n",
    "- depth-first - หมายถึงถ้ามี method หรือ instant variable ที่ overriding มันจะเรียกใช้ของคลาสลูกที่สืบทอด\n",
    "- left-to-right - การสืบทอด ถ้าหากมี method ที่มีชื่อเหมือนกันจากคลาสที่เป็นพ่อแม่ มันจะเรียงจากซ้ายไปขวา เช่น class ...(A,B,C): มันจะเรียงความสำคัญคือจาก คลาส A B C ก่อน\n",
    "- not searching twice in the same class - หมายถึง ถ้าหากมันเจอ Method ในคลาสเดียวกัน มันจะไม่ค้นหาในตัวซ้ำ\n"
   ]
  },
  {
   "cell_type": "markdown",
   "metadata": {},
   "source": [
    "3. SOLID Principles เป็นตัวย่อของหลักการของการออกแบบโปรแกรมเชิงวัตถุ โดยมีวัตถุประสงค์เพื่อ ทำให้สร้างโปรแกรมที่ง่ายต่อการบำรุงรักษา และสามารถพัฒนาเพิ่มเติมได้ในอนาคต\n",
    "- S — Single-Responsibility principle (SRP) กล่าวว่า \"Class ใด Class หนึ่งควรจะมีหน้าที่เพียงหนึ่งอย่าง ดังนั้นควรจะมีเพียงสาเหตุเดียวที่จะแก้ไขมัน\" หรือสรุปได้ว่า การทำงานของ Class ควรจะมีแค่จุดประสงค์เดียวและควรแยก Class ตามจุดประสงค์ของการทำงานภายในนั้น\n",
    "- O — Open/Closed principle (OCP) กล่าวว่า \"class ควรจะจะง่ายต่อการขยายความสามารถโดยจะต้องไม่แก้ไข class นั้น ซึ่งจะต้องไม่แก้ไข source code หรือ binary ของ class เดิม\"\n",
    "หรือสรุปได้ว่า เราควรจะสามารถที่จะเพิ่ม function ใหม่ได้โดยไม่แตะต้องโค้ด ใน Class นั้นๆ เพื่อลดการเกิด Bug ตอนแก้ไขโปรแกรม\n",
    "- L — Liskov Substitution principle (LSP) กล่าวว่า \"คลาสย่อยจะต้องสามารถทำหน้าที่แทนที่คลาสหลักของตัวเองได้\" ยกตัวอย่างเช่น การเขียนคลาสแม่เป็นโปรแกรมคำนวณ สี่เหลี่ยมผืนผ้า (กว้างกับสูงไม่เท่ากันก็ได้) แต่คลาสลูกสืบทอดเป็น สี่เหลี่ยมจัตุรัส (กว้างกับสูงต้องเท่ากัน)ซึ่งหมายความว่า ตัวแปรความกว้างและความสูงไม่ได้มีพฤติกรรมที่เหมือนกัน ดังนั้นเราจึงไม่ควรใช้ Inheritance ในกรณีนี้นั่นเอง\n",
    "- I — Interface Segregation (ISP)\" กล่าวว่า \"class ที่ implement interface จะต้องไม่โดนบังคับให้ implement method ที่ class นั้นไม่ได้ใช้งาน\" หรือก็คือควรจะแยก Interface ออกตามการใช้งานนั้นดีกว่าการสร้าง general interface เพื่อใช้งานร่วมกันหลายๆ class ยกตัวอย่างเช่น ถ้าเราเขียน Class ที่มี 2 method คือ หาปริมาตรและพื้นที่ แล้วถ้าเราเขียน Class สืบทอด โดยเป็น Class ของสี่เหลี่ยมจัตุรัส มันจะไม่สามารถเรียกใช้งาน Method หาปริมาตรได้ เพราะตัวมันไม่มีปริมาตร\n",
    "- D — Dependency Inversion (DIP) กล่าวว่า \"class ของเราควรจะ ใช้ instance ที่ประกาศเป็น interface หรือ abstract class มากกว่าการระบุ class ไปเลย\" ยกตัวอย่างเช่น เรามี Class ที่มี method คำนวณพื้นที่ของรูปทรง ถ้าหากเราเขียนให้รับค่าได้แค่วงกลม มันจะทำงานได้แค่วงกลม แต่ถ้าเราสร้าง abstract class \"Shape\" ขึ้นมาเพื่อให้เวลาเรียกใช้ method ไม่ขึ้นอยู่กับรูปทรงวงกลมอย่างเดียว"
   ]
  },
  {
   "cell_type": "markdown",
   "metadata": {},
   "source": [
    "<div style=\"color: pink\">65070506026 - ศวิษฐ์ โกสียอัมพร </div>\n",
    "<span style=\"color: rgb(109, 221, 4);\">65070506039 - ปุญชญา จันทร์เจริญ </span>"
   ]
  }
 ],
 "metadata": {
  "kernelspec": {
   "display_name": "Python 3.10.2 64-bit",
   "language": "python",
   "name": "python3"
  },
  "language_info": {
   "codemirror_mode": {
    "name": "ipython",
    "version": 3
   },
   "file_extension": ".py",
   "mimetype": "text/x-python",
   "name": "python",
   "nbconvert_exporter": "python",
   "pygments_lexer": "ipython3",
   "version": "3.11.4"
  },
  "vscode": {
   "interpreter": {
    "hash": "aee8b7b246df8f9039afb4144a1f6fd8d2ca17a180786b69acc140d282b71a49"
   }
  }
 },
 "nbformat": 4,
 "nbformat_minor": 4
}
